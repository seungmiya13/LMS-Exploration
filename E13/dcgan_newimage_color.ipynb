{
 "cells": [
  {
   "cell_type": "markdown",
   "id": "adapted-resource",
   "metadata": {},
   "source": [
    "CIFAR-10 이미지 생성하기\n",
    "=======\n",
    "\n",
    "데이터 생성용 DCGAN(Deep Convolutional Generative Adversarial Network) 모델구조를 이용해서 CIFAR-10 데이터를 생성하는 모델을 직접 만들어 보기\n",
    "\n",
    "- 이미지 데이터의 shape가 (32, 32, 3) 입니다. 생성자, 판별자 모델의 입출력 shape 및 모델 구조에 영향이 있습니다.\n",
    "- 이미지가 RGB 3채널의 컬러이미지로 변경됩니다. 시각화 과정에서 고려할 점이 있습니다.\n",
    "- 입력데이터 전체 차원이 3~4배 증가하면서, 학습이 진행되는 양상이 다소 달라집니다.\n",
    "    \n",
    "    \n",
    "모델의 구현은 Keras Sequential API를 활용합니다.      \n",
    "https://www.tensorflow.org/tutorials/generative/dcgan?hl=ko\n",
    "     \n",
    "-21.11.16-"
   ]
  },
  {
   "cell_type": "code",
   "execution_count": 58,
   "id": "labeled-northern",
   "metadata": {},
   "outputs": [
    {
     "name": "stdout",
     "output_type": "stream",
     "text": [
      "tensorflow 2.4.1\n"
     ]
    }
   ],
   "source": [
    "import os\n",
    "import glob\n",
    "import time\n",
    "\n",
    "import PIL\n",
    "import imageio\n",
    "import numpy as np\n",
    "import tensorflow as tf\n",
    "from tensorflow.keras import layers\n",
    "from IPython import display\n",
    "import matplotlib.pyplot as plt\n",
    "%matplotlib inline\n",
    "\n",
    "print(\"tensorflow\", tf.__version__)"
   ]
  },
  {
   "cell_type": "markdown",
   "id": "norman-chester",
   "metadata": {},
   "source": [
    "# 1. 데이터셋 구성하기\n",
    "\n",
    "tf.keras 안에 있는 CIFAR-10 datasets을 사용합니다. "
   ]
  },
  {
   "cell_type": "code",
   "execution_count": 2,
   "id": "conventional-resort",
   "metadata": {},
   "outputs": [
    {
     "name": "stdout",
     "output_type": "stream",
     "text": [
      "Downloading data from https://www.cs.toronto.edu/~kriz/cifar-10-python.tar.gz\n",
      "170500096/170498071 [==============================] - 2s 0us/step\n"
     ]
    },
    {
     "data": {
      "text/plain": [
       "(50000, 32, 32, 3)"
      ]
     },
     "execution_count": 2,
     "metadata": {},
     "output_type": "execute_result"
    }
   ],
   "source": [
    "# # 분류 문제에서와 달리, 각 이미지가 어떤 카테고리인지 나타내주는 라벨이 필요 없습니다.\n",
    "cifar10 = tf.keras.datasets.cifar10\n",
    "\n",
    "(train_x, _), (test_x, _) = cifar10.load_data()\n",
    "\n",
    "train_x.shape"
   ]
  },
  {
   "cell_type": "code",
   "execution_count": 3,
   "id": "tropical-thing",
   "metadata": {},
   "outputs": [
    {
     "name": "stdout",
     "output_type": "stream",
     "text": [
      "max pixel: 255\n",
      "min pixel: 0\n"
     ]
    }
   ],
   "source": [
    "print(\"max pixel:\", train_x.max())\n",
    "print(\"min pixel:\", train_x.min())"
   ]
  },
  {
   "cell_type": "markdown",
   "id": "informative-temperature",
   "metadata": {},
   "source": [
    " cifar10은 32x32 픽셀의 이미지로, 각 픽셀은 0~255 사이의 정숫값을 가집니다."
   ]
  },
  {
   "cell_type": "markdown",
   "id": "hollywood-franklin",
   "metadata": {},
   "source": [
    "## 이미지 정규화\n",
    "\n",
    "학습에 사용할 train_x의 이미지를 -1, 1로 정규화합니다."
   ]
  },
  {
   "cell_type": "code",
   "execution_count": 4,
   "id": "alternate-introduction",
   "metadata": {},
   "outputs": [
    {
     "name": "stdout",
     "output_type": "stream",
     "text": [
      "max pixel: 1.0\n",
      "min pixel: -1.0\n"
     ]
    }
   ],
   "source": [
    "train_x = (train_x - 127.5) / 127.5 # 이미지를 [-1, 1]로 정규화합니다.\n",
    "\n",
    "print(\"max pixel:\", train_x.max())\n",
    "print(\"min pixel:\", train_x.min())"
   ]
  },
  {
   "cell_type": "code",
   "execution_count": 5,
   "id": "radio-choir",
   "metadata": {},
   "outputs": [
    {
     "data": {
      "text/plain": [
       "(50000, 32, 32, 3)"
      ]
     },
     "execution_count": 5,
     "metadata": {},
     "output_type": "execute_result"
    }
   ],
   "source": [
    "train_x.shape"
   ]
  },
  {
   "cell_type": "markdown",
   "id": "breeding-booth",
   "metadata": {},
   "source": [
    "## 데이터 시각화\n",
    "\n",
    "로드한 학습 데이터를 시각화를 통해 확인해 봅시다."
   ]
  },
  {
   "cell_type": "code",
   "execution_count": 16,
   "id": "rapid-heaven",
   "metadata": {},
   "outputs": [
    {
     "name": "stderr",
     "output_type": "stream",
     "text": [
      "Clipping input data to the valid range for imshow with RGB data ([0..1] for floats or [0..255] for integers).\n"
     ]
    },
    {
     "data": {
      "image/png": "[encoded data removed]",
      "text/plain": [
       "<Figure size 432x288 with 2 Axes>"
      ]
     },
     "metadata": {
      "needs_background": "light"
     },
     "output_type": "display_data"
    }
   ],
   "source": [
    "# 데이터 확인\n",
    "plt.imshow(train_x[0])\n",
    "plt.colorbar()\n",
    "plt.show()"
   ]
  },
  {
   "cell_type": "markdown",
   "id": "fitting-belgium",
   "metadata": {},
   "source": [
    "- plt.imshow()     \n",
    "    https://matplotlib.org/stable/api/_as_gen/matplotlib.pyplot.imshow.html"
   ]
  },
  {
   "cell_type": "code",
   "execution_count": 17,
   "id": "initial-strengthening",
   "metadata": {},
   "outputs": [
    {
     "name": "stderr",
     "output_type": "stream",
     "text": [
      "Clipping input data to the valid range for imshow with RGB data ([0..1] for floats or [0..255] for integers).\n",
      "Clipping input data to the valid range for imshow with RGB data ([0..1] for floats or [0..255] for integers).\n",
      "Clipping input data to the valid range for imshow with RGB data ([0..1] for floats or [0..255] for integers).\n",
      "Clipping input data to the valid range for imshow with RGB data ([0..1] for floats or [0..255] for integers).\n",
      "Clipping input data to the valid range for imshow with RGB data ([0..1] for floats or [0..255] for integers).\n",
      "Clipping input data to the valid range for imshow with RGB data ([0..1] for floats or [0..255] for integers).\n",
      "Clipping input data to the valid range for imshow with RGB data ([0..1] for floats or [0..255] for integers).\n",
      "Clipping input data to the valid range for imshow with RGB data ([0..1] for floats or [0..255] for integers).\n",
      "Clipping input data to the valid range for imshow with RGB data ([0..1] for floats or [0..255] for integers).\n",
      "Clipping input data to the valid range for imshow with RGB data ([0..1] for floats or [0..255] for integers).\n"
     ]
    },
    {
     "data": {
      "image/png": "[encoded data removed]",
      "text/plain": [
       "<Figure size 720x360 with 10 Axes>"
      ]
     },
     "metadata": {
      "needs_background": "light"
     },
     "output_type": "display_data"
    }
   ],
   "source": [
    "plt.figure(figsize=(10, 5))\n",
    "\n",
    "for i in range(10):\n",
    "    plt.subplot(2, 5, i+1)\n",
    "    plt.imshow(train_x[i])\n",
    "    plt.title(f'index: {i}')\n",
    "    plt.axis('off')\n",
    "plt.show()"
   ]
  },
  {
   "cell_type": "markdown",
   "id": "spanish-debate",
   "metadata": {},
   "source": [
    "## 미니배치 구성\n",
    "\n",
    "tf.data.Dataset 모듈의 from_tensor_slices() 함수를 사용하여 미니배치 데이터셋을 구성해 봅시다."
   ]
  },
  {
   "cell_type": "code",
   "execution_count": 54,
   "id": "tough-aberdeen",
   "metadata": {},
   "outputs": [],
   "source": [
    "BUFFER_SIZE = 50000 # 전체 데이터를 섞기 위해 50,000으로 설정\n",
    "BATCH_SIZE = 128  # 모델이 한 번에 학습할 데이터의 양 - 64,128로 나누어 진행"
   ]
  },
  {
   "cell_type": "code",
   "execution_count": 55,
   "id": "critical-graphic",
   "metadata": {},
   "outputs": [],
   "source": [
    "train_dataset = tf.data.Dataset.from_tensor_slices(train_x).shuffle(BUFFER_SIZE).batch(BATCH_SIZE)"
   ]
  },
  {
   "cell_type": "markdown",
   "id": "norwegian-interaction",
   "metadata": {},
   "source": [
    "- train_x라는 넘파이 배열(numpy ndarray)형 자료를 섞고, 이를 배치 사이즈에 따라 나눕니다. "
   ]
  },
  {
   "cell_type": "markdown",
   "id": "fluid-struggle",
   "metadata": {},
   "source": [
    "# 2. DCGAN(Deep Convolutional GAN) 모델링\n",
    "\n",
    "- (1) 생성자(Generator)는 아무 의미 없는 랜덤 노이즈로부터 신경망에서의 연산을 통해 이미지 형상의 벡터를 생성해 냅니다. 즉, 무에서 유를 창조하는 것과 같은 역할을 합니다.\n",
    "- (2) 판별자(Discriminator)는 기존에 있던 진짜 이미지와 생성자가 만들어낸 이미지를 입력받아 각 이미지가 Real 인지, Fake 인지에 대한 판단 정도를 실숫값으로 출력합니다."
   ]
  },
  {
   "cell_type": "markdown",
   "id": "formed-british",
   "metadata": {},
   "source": [
    "## (1) 생성자 모델 구현하기\n",
    "\n",
    "- (32, 32, 3)의 shape를 가진 이미지를 생성하는 생성자 모델 구현 함수를 작성해 봅시다.\n",
    "- noise = tf.random.normal([1, 100])로 생성된 랜덤 노이즈를 입력으로 하여 방금 구현한 생성자로 랜덤 이미지를 생성해 봅시다.\n",
    "- 생성된 랜덤 이미지가 생성자 출력 규격에 잘 맞는지 확인해 봅시다."
   ]
  },
  {
   "cell_type": "code",
   "execution_count": 20,
   "id": "clear-clearance",
   "metadata": {},
   "outputs": [],
   "source": [
    "def make_generator_model():\n",
    "\n",
    "    # Start\n",
    "    model = tf.keras.Sequential()\n",
    "\n",
    "    # First: Dense layer\n",
    "    model.add(layers.Dense(8*8*256, use_bias=False, input_shape=(100,)))\n",
    "    model.add(layers.BatchNormalization())\n",
    "    model.add(layers.LeakyReLU())\n",
    "\n",
    "    # Second: Reshape layer\n",
    "    model.add(layers.Reshape((8, 8, 256)))\n",
    "\n",
    "    # Third: Conv2DTranspose layer\n",
    "    model.add(layers.Conv2DTranspose(128, kernel_size=(5, 5), strides=(1, 1), padding='same', use_bias=False))\n",
    "    model.add(layers.BatchNormalization())\n",
    "    model.add(layers.LeakyReLU())\n",
    "\n",
    "    # Fourth: Conv2DTranspose layer\n",
    "    model.add(layers.Conv2DTranspose(64, kernel_size=(5, 5), strides=(2, 2), padding='same', use_bias=False))\n",
    "    model.add(layers.BatchNormalization())\n",
    "    model.add(layers.LeakyReLU())\n",
    "\n",
    "    # Fifth: Conv2DTranspose layer\n",
    "    model.add(layers.Conv2DTranspose(3, kernel_size=(5, 5), strides=(2, 2), padding='same', use_bias=False, \\\n",
    "                                     activation='tanh'))\n",
    "\n",
    "    return model"
   ]
  },
  {
   "cell_type": "markdown",
   "id": "guilty-force",
   "metadata": {},
   "source": [
    "make_generator_model이라는 함수를 만들어서 언제든 생성자를 생성할 수 있도록 했습니다.    \n",
    "함수 내부에서는 먼저 tf.keras.Sequential()로 모델을 시작한 후 레이어를 차곡차곡 쌓아줍니다.    \n",
    "\n",
    "- 여기에서 가장 중요한 레이어는 바로 Conv2DTranspose 레이어입니다.    \n",
    "    Conv2DTranspose 층은 일반적인 Conv2D와 반대로 이미지 사이즈를 넓혀주는 층입니다.\n",
    "    - 이 모델에서는 세 번의 Conv2DTranspose 층을 이용해 (8, 8, 256) → (16, 16, 64) → (32, 32, 3) 순으로 이미지를 키워나갑니다.\n",
    "    - 여기서 최종 사이즈인 (32, 32, 3)은 우리가 준비했던 데이터셋과 형상이 동일합니다.\n",
    "\n",
    "- 레이어의 사이사이에 특정 층들이 반복되는 것을 확인할 수 있는데,\n",
    "    - BatchNormalization 레이어는 신경망의 가중치가 폭발하지 않도록 가중치 값을 정규화시켜줍니다.\n",
    "    - 또한 중간층들의 활성화 함수는 모두 LeakyReLU를 사용하였습니다.    \n",
    "        다만 마지막 층에는 활성화 함수로 tanh를 사용하는데, 이는 우리가 -1 ~ 1 이내의 값으로 픽셀 값을 정규화시켰던 데이터셋과 동일하게 하기 위함입니다."
   ]
  },
  {
   "cell_type": "code",
   "execution_count": 21,
   "id": "processed-permit",
   "metadata": {},
   "outputs": [
    {
     "name": "stdout",
     "output_type": "stream",
     "text": [
      "Model: \"sequential\"\n",
      "_________________________________________________________________\n",
      "Layer (type)                 Output Shape              Param #   \n",
      "=================================================================\n",
      "dense (Dense)                (None, 16384)             1638400   \n",
      "_________________________________________________________________\n",
      "batch_normalization (BatchNo (None, 16384)             65536     \n",
      "_________________________________________________________________\n",
      "leaky_re_lu (LeakyReLU)      (None, 16384)             0         \n",
      "_________________________________________________________________\n",
      "reshape (Reshape)            (None, 8, 8, 256)         0         \n",
      "_________________________________________________________________\n",
      "conv2d_transpose (Conv2DTran (None, 8, 8, 128)         819200    \n",
      "_________________________________________________________________\n",
      "batch_normalization_1 (Batch (None, 8, 8, 128)         512       \n",
      "_________________________________________________________________\n",
      "leaky_re_lu_1 (LeakyReLU)    (None, 8, 8, 128)         0         \n",
      "_________________________________________________________________\n",
      "conv2d_transpose_1 (Conv2DTr (None, 16, 16, 64)        204800    \n",
      "_________________________________________________________________\n",
      "batch_normalization_2 (Batch (None, 16, 16, 64)        256       \n",
      "_________________________________________________________________\n",
      "leaky_re_lu_2 (LeakyReLU)    (None, 16, 16, 64)        0         \n",
      "_________________________________________________________________\n",
      "conv2d_transpose_2 (Conv2DTr (None, 32, 32, 3)         4800      \n",
      "=================================================================\n",
      "Total params: 2,733,504\n",
      "Trainable params: 2,700,352\n",
      "Non-trainable params: 33,152\n",
      "_________________________________________________________________\n"
     ]
    }
   ],
   "source": [
    "generator = make_generator_model()\n",
    "\n",
    "generator.summary()"
   ]
  },
  {
   "cell_type": "code",
   "execution_count": 22,
   "id": "working-easter",
   "metadata": {},
   "outputs": [],
   "source": [
    "# 랜덤 노이즈 생성\n",
    "noise = tf.random.normal([1, 100])"
   ]
  },
  {
   "cell_type": "markdown",
   "id": "successful-surprise",
   "metadata": {},
   "source": [
    "- tf.random.normal을 이용하면 가우시안 분포에서 뽑아낸 랜덤 벡터로 이루어진 노이즈 벡터를 만들 수 있습니다.\n",
    "    https://www.tensorflow.org/api_docs/python/tf/random/normal"
   ]
  },
  {
   "cell_type": "code",
   "execution_count": 23,
   "id": "false-mother",
   "metadata": {},
   "outputs": [
    {
     "data": {
      "text/plain": [
       "TensorShape([1, 32, 32, 3])"
      ]
     },
     "execution_count": 23,
     "metadata": {},
     "output_type": "execute_result"
    }
   ],
   "source": [
    "# 생성된 랜덤 이미지가 생성자 출력 규격에 잘 맞는지 확인\n",
    "generated_image = generator(noise, training=False) # 학습하는 중이 아니니 training=False를 설정\n",
    "generated_image.shape"
   ]
  },
  {
   "cell_type": "code",
   "execution_count": 25,
   "id": "ecological-habitat",
   "metadata": {},
   "outputs": [
    {
     "data": {
      "text/plain": [
       "<tf.Tensor: shape=(1, 32, 32, 3), dtype=float32, numpy=\n",
       "array([[[[ 0.00336473,  0.00122819, -0.00134821],\n",
       "         [ 0.00286442, -0.00236225,  0.00076833],\n",
       "         [-0.00138358, -0.00244223,  0.00624334],\n",
       "         ...,\n",
       "         [-0.0077912 , -0.00286087, -0.00183092],\n",
       "         [-0.00749122,  0.00169172, -0.00066895],\n",
       "         [ 0.00874996,  0.003319  ,  0.0006717 ]],\n",
       "\n",
       "        [[-0.00126735,  0.0003802 , -0.00096876],\n",
       "         [ 0.00131052, -0.00296079, -0.00279191],\n",
       "         [-0.00093401, -0.00388333,  0.00974375],\n",
       "         ...,\n",
       "         [-0.00413861,  0.00078867, -0.01206955],\n",
       "         [ 0.00136269,  0.00653054, -0.00368439],\n",
       "         [-0.01012188, -0.00484199, -0.00261577]],\n",
       "\n",
       "        [[-0.00056664, -0.00119163, -0.00762754],\n",
       "         [-0.00673614,  0.01286439,  0.00324353],\n",
       "         [ 0.00111094, -0.01062993, -0.00584967],\n",
       "         ...,\n",
       "         [-0.01533664,  0.00280356,  0.01438947],\n",
       "         [-0.0005937 ,  0.00488017,  0.0038873 ],\n",
       "         [-0.00379491, -0.00761378,  0.00333395]],\n",
       "\n",
       "        ...,\n",
       "\n",
       "        [[ 0.00547056,  0.00071166,  0.0038489 ],\n",
       "         [ 0.0060304 , -0.01605062, -0.01084754],\n",
       "         [-0.00508264, -0.0093909 ,  0.00086508],\n",
       "         ...,\n",
       "         [-0.0003457 ,  0.01786704, -0.00247019],\n",
       "         [ 0.00813656, -0.00735027, -0.01121433],\n",
       "         [-0.01199432, -0.01657818,  0.02096883]],\n",
       "\n",
       "        [[ 0.00065828,  0.00188188,  0.00688717],\n",
       "         [ 0.0076192 , -0.00546232, -0.01029118],\n",
       "         [ 0.01578964,  0.00918125, -0.00175185],\n",
       "         ...,\n",
       "         [ 0.01058365,  0.00122819, -0.00738247],\n",
       "         [ 0.01898896, -0.01227508, -0.0173717 ],\n",
       "         [ 0.00901105,  0.00211683,  0.03033749]],\n",
       "\n",
       "        [[-0.00136716,  0.00461509, -0.00085033],\n",
       "         [-0.00692618,  0.01012463, -0.00712456],\n",
       "         [-0.0005703 ,  0.00234319, -0.00392584],\n",
       "         ...,\n",
       "         [ 0.00558653,  0.01768059,  0.00143489],\n",
       "         [ 0.00262273,  0.00299928,  0.00065009],\n",
       "         [-0.0087288 ,  0.0007404 , -0.00804166]]]], dtype=float32)>"
      ]
     },
     "execution_count": 25,
     "metadata": {},
     "output_type": "execute_result"
    }
   ],
   "source": [
    "generated_image"
   ]
  },
  {
   "cell_type": "markdown",
   "id": "cubic-fight",
   "metadata": {},
   "source": [
    "- 첫 번째 1은 1개(batch_size=1)라는 뜻을, 그 뒤로는 (32, 32, 3) 사이즈 이미지가 생성되었다는 뜻을 가집니다."
   ]
  },
  {
   "cell_type": "code",
   "execution_count": 49,
   "id": "spanish-flashing",
   "metadata": {},
   "outputs": [
    {
     "name": "stderr",
     "output_type": "stream",
     "text": [
      "Clipping input data to the valid range for imshow with RGB data ([0..1] for floats or [0..255] for integers).\n"
     ]
    },
    {
     "data": {
      "image/png": "[encoded data removed]",
      "text/plain": [
       "<Figure size 1080x432 with 2 Axes>"
      ]
     },
     "metadata": {
      "needs_background": "light"
     },
     "output_type": "display_data"
    }
   ],
   "source": [
    "# 이미지 시각화 \n",
    "plt.imshow(generated_image[0, :, :, :])\n",
    "plt.colorbar()\n",
    "plt.show()"
   ]
  },
  {
   "cell_type": "markdown",
   "id": "ordinary-vinyl",
   "metadata": {},
   "source": [
    "## (2) 판별자 구현하기\n",
    "\n",
    "판별자는 가짜 이미지와 진짜 이미지를 입력받으면 각 이미지 별로 '진짜라고 판단하는 정도'값을 출력해야 합니다.\n",
    "- (32, 32, 3)의 이미지를 입력으로 받아 1dim을 판별결과를 출력하는 판별자 모델 구현 함수를 작성해 봅시다.\n",
    "- 위에서 생성한 랜덤 이미지를 판별자 모델이 판별한 결과값을 확인해 봅시다."
   ]
  },
  {
   "cell_type": "code",
   "execution_count": 33,
   "id": "derived-restoration",
   "metadata": {},
   "outputs": [],
   "source": [
    "def make_discriminator_model():\n",
    "\n",
    "    # Start\n",
    "    model = tf.keras.Sequential()\n",
    "\n",
    "    # First: Conv2D Layer\n",
    "    model.add(layers.Conv2D(64, (5, 5), strides=(2, 2), padding='same', input_shape=[32, 32, 3]))\n",
    "    model.add(layers.LeakyReLU())\n",
    "    model.add(layers.Dropout(0.3))\n",
    "\n",
    "    # Second: Conv2D Layer\n",
    "    model.add(layers.Conv2D(128, (5, 5), strides=(2, 2), padding='same'))\n",
    "    model.add(layers.LeakyReLU())\n",
    "    model.add(layers.Dropout(0.3))\n",
    "\n",
    "    # Third: Flatten Layer\n",
    "    model.add(layers.Flatten())\n",
    "\n",
    "    # Fourth: Dense Layer\n",
    "    model.add(layers.Dense(1))\n",
    "\n",
    "    return model"
   ]
  },
  {
   "cell_type": "markdown",
   "id": "german-banana",
   "metadata": {},
   "source": [
    "- Conv2DTranspose 층을 사용해서 이미지를 키워나갔던 생성자와 반대로, 판별자는 Conv2D 층으로 이미지의 크기를 점점 줄여나갑니다.     \n",
    "    첫 번째 Conv2D 층에서 입력된 [32, 32, 3] 사이즈의 이미지는 다음 층을 거치며 (32, 32, 3) → (16, 16, 64) → (8, 8, 128)까지 줄어들게 됩니다.\n",
    "\n",
    "- 마지막에는 Flatten 층을 사용해 3차원 이미지를 1차원으로 쭉 펴서 8x8x128=8192, 즉 (1, 8192) 형상의 벡터로 변환합니다.    \n",
    "    이는 생성자의 Reshape 층에서 1차원 벡터를 3차원으로 변환했던 것과 정확히 반대 역할을 합니다.\n",
    "\n",
    "- 1차원 벡터로 변환한 후에는 마지막 Dense Layer를 거쳐 단 하나의 값을 출력하게 됩니다."
   ]
  },
  {
   "cell_type": "code",
   "execution_count": 34,
   "id": "individual-knitting",
   "metadata": {},
   "outputs": [
    {
     "name": "stdout",
     "output_type": "stream",
     "text": [
      "Model: \"sequential_1\"\n",
      "_________________________________________________________________\n",
      "Layer (type)                 Output Shape              Param #   \n",
      "=================================================================\n",
      "conv2d (Conv2D)              (None, 16, 16, 64)        4864      \n",
      "_________________________________________________________________\n",
      "leaky_re_lu_3 (LeakyReLU)    (None, 16, 16, 64)        0         \n",
      "_________________________________________________________________\n",
      "dropout (Dropout)            (None, 16, 16, 64)        0         \n",
      "_________________________________________________________________\n",
      "conv2d_1 (Conv2D)            (None, 8, 8, 128)         204928    \n",
      "_________________________________________________________________\n",
      "leaky_re_lu_4 (LeakyReLU)    (None, 8, 8, 128)         0         \n",
      "_________________________________________________________________\n",
      "dropout_1 (Dropout)          (None, 8, 8, 128)         0         \n",
      "_________________________________________________________________\n",
      "flatten (Flatten)            (None, 8192)              0         \n",
      "_________________________________________________________________\n",
      "dense_1 (Dense)              (None, 1)                 8193      \n",
      "=================================================================\n",
      "Total params: 217,985\n",
      "Trainable params: 217,985\n",
      "Non-trainable params: 0\n",
      "_________________________________________________________________\n"
     ]
    }
   ],
   "source": [
    "discriminator = make_discriminator_model()\n",
    "\n",
    "discriminator.summary()"
   ]
  },
  {
   "cell_type": "code",
   "execution_count": 35,
   "id": "becoming-brooks",
   "metadata": {},
   "outputs": [
    {
     "data": {
      "text/plain": [
       "<tf.Tensor: shape=(1, 1), dtype=float32, numpy=array([[0.00302958]], dtype=float32)>"
      ]
     },
     "execution_count": 35,
     "metadata": {},
     "output_type": "execute_result"
    }
   ],
   "source": [
    "# 아까 만들었던 랜덤 노이즈 이미지 넣어보기\n",
    "decision = discriminator(generated_image, training=False)\n",
    "decision"
   ]
  },
  {
   "cell_type": "markdown",
   "id": "boolean-yahoo",
   "metadata": {},
   "source": [
    "- 텐서플로우의 텐서 형태로 출력이 되었습니다. 이 값 또한 아직은 아무런 의미가 없는 값일 것입니다."
   ]
  },
  {
   "cell_type": "markdown",
   "id": "regular-yukon",
   "metadata": {},
   "source": [
    "# 3. 손실함수와 최적화 함수 구현\n",
    "\n",
    "- 생성자와 판별자의 손실함수(loss)를 구현해 봅시다.\n",
    "- 판별자의 출력값을 가지고 실제/생성(real/fake) 이미지 판별 정확도(accuracy)를 계산하는 함수를 구현해 봅시다.\n",
    "- 생성자와 판별자를 최적화하는 optimizer를 정의합니다."
   ]
  },
  {
   "cell_type": "markdown",
   "id": "forward-receiver",
   "metadata": {},
   "source": [
    "## (1) 손실함수(loss function)\n",
    "\n",
    "GAN은 손실함수로 교차 엔트로피(Cross Entropy)를 사용합니다.\n",
    "\n",
    "교차 엔트로피는 점점 가까워지기 원하는 두 값이 얼마나 큰 차이가 나는지를 정량적으로 계산할 때 많이 쓰입니다. 특히 판별자는 한 개의 이미지가 가짜인지 진짜인지 나타내는 2개 클래스 간 분류 문제를 풀어야 하므로, 이진 교차 엔트로피(binary cross entropy)를 사용할 것입니다.\n",
    "    \n",
    "- 생성자 : 판별자가 Fake Image에 대해 판별한 값, 즉 D(fake_image) 값이 1에 가까워지는 것\n",
    "- 판별자 : Real Image 판별값, 즉 D(real_image)는 1에, Fake Image 판별값, 즉 D(fake_image)는 0에 가까워지는 것\n",
    "    \n",
    "결국 생성자든 구분자든, 결국 손실함수에 들어가는 값은 모두 판별자의 판별값이 됩니다. "
   ]
  },
  {
   "cell_type": "code",
   "execution_count": 36,
   "id": "classified-upset",
   "metadata": {},
   "outputs": [],
   "source": [
    "cross_entropy = tf.keras.losses.BinaryCrossentropy(from_logits=True)"
   ]
  },
  {
   "cell_type": "markdown",
   "id": "unable-collector",
   "metadata": {},
   "source": [
    "cross_entropy를 활용해 계산할 loss들은 fake_output와 real_output, 두 가지를 활용합니다.\n",
    "\n",
    "- fake_output : 생성자가 생성한 Fake Image를 구분자에 입력시켜서 판별된 값, 즉 D(fake_image)\n",
    "- real_output : 기존에 있던 Real Image를 구분자에 입력시켜서 판별된 값, 즉 D(real_image)\n",
    "    \n",
    "fake_output과 real_output을 각각 1 또는 0에 비교할 때에는 tf.ones_like()와 tf.zeros_like() 함수를 활용하면 됩니다."
   ]
  },
  {
   "cell_type": "markdown",
   "id": "compressed-heading",
   "metadata": {},
   "source": [
    "### generator_loss\n",
    "\n",
    "generator_loss는 fake_output가 1에 가까워지기를 바라므로,     \n",
    "cross_entropy(tf.ones_like(fake_output), fake_output) 값은 fake_output이 (Real Image를 의미하는) 1에 가까울수록 작은 값을 가집니다."
   ]
  },
  {
   "cell_type": "code",
   "execution_count": 37,
   "id": "romance-battery",
   "metadata": {},
   "outputs": [],
   "source": [
    "def generator_loss(fake_output):\n",
    "    return cross_entropy(tf.ones_like(fake_output), fake_output)"
   ]
  },
  {
   "cell_type": "markdown",
   "id": "medical-sunday",
   "metadata": {},
   "source": [
    "### discriminator_loss\n",
    "\n",
    "반면, discriminator_loss는 real_output 값은 1에 가까워지기를, fake_output 값은 0에 가까워지기를 바라므로, 두 가지 loss값을 모두 계산합니다. real_output은 1로 채워진 벡터와, fake_output은 0으로 채워진 벡터와 비교합니다. \n",
    "    \n",
    "최종 discriminator_loss 값은 이 둘을 더한 값입니다."
   ]
  },
  {
   "cell_type": "code",
   "execution_count": 38,
   "id": "informational-genre",
   "metadata": {},
   "outputs": [],
   "source": [
    "def discriminator_loss(real_output, fake_output):\n",
    "    real_loss = cross_entropy(tf.ones_like(real_output), real_output)\n",
    "    fake_loss = cross_entropy(tf.zeros_like(fake_output), fake_output)\n",
    "    total_loss = real_loss + fake_loss\n",
    "    return total_loss"
   ]
  },
  {
   "cell_type": "markdown",
   "id": "sublime-healing",
   "metadata": {},
   "source": [
    "### discriminator accuracy\n",
    "\n",
    "판별자가 real output, fake output을 얼마나 정확히 판별하는지의 accuracy를 계산해 보는 것도 GAN의 학습에서 매우 중요합니다. 특히 두 accuracy를 따로 계산해서 비교해 보는 것이 매우 유용합니다.\n",
    "    \n",
    "- real accuracy와 fake accuracy는 초반에는 1.0에 가깝게 나오다가, 서서히 낮아져서 둘 다 0.5에 가까워지는 것이 이상적입니다. fake accuracy가 1.0에 더 가깝다면 아직은 생성자가 판별자를 충분히 잘 속이지 못하고 있다는 뜻입니다."
   ]
  },
  {
   "cell_type": "code",
   "execution_count": 39,
   "id": "applicable-implement",
   "metadata": {},
   "outputs": [],
   "source": [
    "def discriminator_accuracy(real_output, fake_output):\n",
    "    real_accuracy = tf.reduce_mean(tf.cast(tf.math.greater_equal(real_output, tf.constant([0.5])), tf.float32))\n",
    "    fake_accuracy = tf.reduce_mean(tf.cast(tf.math.less(fake_output, tf.constant([0.5])), tf.float32))\n",
    "    return real_accuracy, fake_accuracy"
   ]
  },
  {
   "cell_type": "markdown",
   "id": "international-roman",
   "metadata": {},
   "source": [
    "- tf.math.greater_equal(real_output, tf.constant([0.5]) : real_output의 각 원소가 0.5 이상인지 True, False로 판별 - >> tf.Tensor([False, False, True, True])\n",
    "- tf.cast( (1), tf.float32) : (1)의 결과가 True이면 1.0, False이면 0.0으로 변환 - >> tf.Tensor([0.0, 0.0, 1.0, 1.0])\n",
    "- tf.reduce_mean( (2)) : (2)의 결과를 평균내어 이번 배치의 정확도(accuracy)를 계산 - >> 0.5"
   ]
  },
  {
   "cell_type": "markdown",
   "id": "spiritual-airfare",
   "metadata": {},
   "source": [
    "## (2) 최적화 함수(optimizer)\n",
    "\n",
    "tf.keras.optimizers 안에 있는 Adam 최적화 기법 을 활용해 보겠습니다.\n",
    "\n",
    "- 중요한 하이퍼 파라미터인 \"learning rate\"는 0.0001로 설정합니다. \n",
    "- 생성자와 구분자는 따로따로 학습을 진행하는 개별 네트워크이기 때문에 optimizer를 따로 만들어주어야 합니다."
   ]
  },
  {
   "cell_type": "code",
   "execution_count": 40,
   "id": "classical-delta",
   "metadata": {},
   "outputs": [],
   "source": [
    "lr = 1e-4 #learning rate = 0.0001\n",
    "\n",
    "generator_optimizer = tf.keras.optimizers.Adam(lr)\n",
    "discriminator_optimizer = tf.keras.optimizers.Adam(lr)"
   ]
  },
  {
   "cell_type": "markdown",
   "id": "express-joshua",
   "metadata": {},
   "source": [
    "매번 학습이 어떻게 진행되어가고 있는지를 확인하기 위해 생성자가 생성한 샘플을 확인할 것입니다.\n",
    "\n",
    "- 샘플은 한 번에 16장을 생성하도록 하겠습니다.\n",
    "- 생성할 샘플은 매번 같은 노이즈로 생성해야 그에 대한 진전 과정을 확인할 수 있으므로, 고정된 seed 노이즈를 만들어두어야 합니다.    \n",
    "- 즉, 100차원의 노이즈를 총 16개, (16, 100) 형상의 벡터를 만들어 두도록 하겠습니다."
   ]
  },
  {
   "cell_type": "code",
   "execution_count": 41,
   "id": "heard-glass",
   "metadata": {},
   "outputs": [
    {
     "data": {
      "text/plain": [
       "TensorShape([16, 100])"
      ]
     },
     "execution_count": 41,
     "metadata": {},
     "output_type": "execute_result"
    }
   ],
   "source": [
    "noise_dim = 100\n",
    "num_examples_to_generate = 16\n",
    "\n",
    "seed = tf.random.normal([num_examples_to_generate, noise_dim])\n",
    "seed.shape"
   ]
  },
  {
   "cell_type": "markdown",
   "id": "worst-protocol",
   "metadata": {},
   "source": [
    "# 4. 훈련과정 상세 기능 구현하기\n",
    "\n",
    "- 1개 미니배치의 훈련 과정을 처리하는 train_step() 함수를 구현해 봅시다.\n",
    "- 16개의 고정된 seed를 입력으로 하여 훈련 과정 동안 생성한 이미지를 시각화하는 generate_and_save_images() 함수를 구현해 봅시다.\n",
    "- 훈련 epoch마다 생성자/판별자의 loss 및 판별자의 실제/생성(real/fake) 이미지 판별 accuracy 히스토리(history)를 그래프로 시각화하는 draw_train_history() 함수를 구현해 봅시다.\n",
    "- training_checkpoints 디렉토리에 몇 epoch마다 모델을 저장하는 checkpoint 모듈을 설정해 봅시다."
   ]
  },
  {
   "cell_type": "markdown",
   "id": "decimal-retreat",
   "metadata": {},
   "source": [
    "##  train_step() \n",
    "\n",
    "1개 미니배치의 훈련 과정을 처리하는 train_step() 함수를 구현해 봅니다.\n",
    "- 학습시킬 훈련 함수 위에 @tf.function 이라는 데코레이터를 붙여서 사용합니다.    \n",
    "    @tf.function 데코레이터가 사용된 함수에 입력된 입력은 Tensorflow의 graph 노드가 될 수 있는 타입으로 자동 변환됩니다."
   ]
  },
  {
   "cell_type": "code",
   "execution_count": 56,
   "id": "invalid-interaction",
   "metadata": {},
   "outputs": [],
   "source": [
    "@tf.function\n",
    "def train_step(images):  #(1) 입력데이터\n",
    "    noise = tf.random.normal([BATCH_SIZE, noise_dim])  #(2) 생성자 입력 노이즈\n",
    "\n",
    "    with tf.GradientTape() as gen_tape, tf.GradientTape() as disc_tape:  #(3) tf.GradientTape() 오픈\n",
    "        generated_images = generator(noise, training=True)  #(4) generated_images 생성\n",
    "\n",
    "        #(5) discriminator 판별\n",
    "        real_output = discriminator(images, training=True)\n",
    "        fake_output = discriminator(generated_images, training=True)\n",
    "\n",
    "        #(6) loss 계산\n",
    "        gen_loss = generator_loss(fake_output)\n",
    "        disc_loss = discriminator_loss(real_output, fake_output)\n",
    "\n",
    "        #(7) accuracy 계산\n",
    "        real_accuracy, fake_accuracy = discriminator_accuracy(real_output, fake_output) \n",
    "    \n",
    "    #(8) gradient 계산\n",
    "    gradients_of_generator = gen_tape.gradient(gen_loss, generator.trainable_variables)\n",
    "    gradients_of_discriminator = disc_tape.gradient(disc_loss, discriminator.trainable_variables)\n",
    "\n",
    "    #(9) 모델 학습\n",
    "    generator_optimizer.apply_gradients(zip(gradients_of_generator, generator.trainable_variables))\n",
    "    discriminator_optimizer.apply_gradients(zip(gradients_of_discriminator, discriminator.trainable_variables))\n",
    "\n",
    "    return gen_loss, disc_loss, real_accuracy, fake_accuracy  #(10) 리턴값"
   ]
  },
  {
   "cell_type": "markdown",
   "id": "general-ceiling",
   "metadata": {},
   "source": [
    "train_step 함수를 하나하나 뜯어보면 다음과 같습니다.\n",
    "\n",
    "- (1) 입력 데이터: Real Image 역할을 할 images 한 세트를 입력으로 받음\n",
    "- (2) 생성자 입력 노이즈 : generator가 FAKE IMAGE를 생성하기 위한 noise를 images 한 세트와 같은 크기인 BATCH_SIZE 만큼 생성함\n",
    "- (3) tf.GradientTape()는 가중치 갱신을 위한 Gradient를 자동 미분으로 계산하기 위해 with 구문 열기\n",
    "- (4) generated_images 생성 : generator가 noise를 입력받은 후 generated_images 생성\n",
    "- (5) discriminator 판별 : discriminator가 Real Image인 images와 Fake Image인 generated_images를 각각 입력받은 후 real_output, fake_output 출력\n",
    "- (6) loss 계산 : fake_output, real_output으로 generator와 discriminator 각각의 loss 계산\n",
    "- (7) accuracy 계산 : fake_output, real_output으로 discriminator의 정확도 계산\n",
    "- (8) gradient 계산 : gen_tape와 disc_tape를 활용해 gradient를 자동으로 계산\n",
    "- (9) 모델 학습 : 계산된 gradient를 optimizer에 입력해 가중치 갱신\n",
    "- (10) 리턴값 : 이번 스텝에 계산된 loss와 accuracy를 리턴"
   ]
  },
  {
   "cell_type": "markdown",
   "id": "mediterranean-first",
   "metadata": {},
   "source": [
    "## generate_and_save_images()\n",
    "\n",
    "16개의 고정된 seed를 입력으로 하여 훈련 과정 동안 생성한 이미지를 시각화하는 generate_and_save_images() 함수를 구현해 봅니다.\n",
    "- model이 16개의 seed가 들어있는 sample_seeds를 입력받아서 만들어낸 prediction을 matplotlib으로 시각화해주는 과정이 담겨 있습니다.\n",
    "- plt에 저장되어 보이는 이미지를 plt.savefig로 간단히 파일로 저장합니다."
   ]
  },
  {
   "cell_type": "code",
   "execution_count": 50,
   "id": "multiple-boxing",
   "metadata": {},
   "outputs": [],
   "source": [
    "def generate_and_save_images(model, epoch, it, sample_seeds):\n",
    "\n",
    "    predictions = model(sample_seeds, training=False)\n",
    "\n",
    "    fig = plt.figure(figsize=(4, 4))\n",
    "    for i in range(predictions.shape[0]):\n",
    "        plt.subplot(4, 4, i+1)\n",
    "        plt.imshow(predictions[i, :, :, :])\n",
    "        plt.axis('off')\n",
    "   \n",
    "    plt.savefig('{}/aiffel/Exploration/E13/cifar10/generated_samples/sample_epoch_{:04d}_iter_{:03d}.png'\n",
    "                    .format(os.getenv('HOME'), epoch, it))\n",
    "\n",
    "    plt.show()"
   ]
  },
  {
   "cell_type": "markdown",
   "id": "compact-daisy",
   "metadata": {},
   "source": [
    "## draw_train_history()\n",
    "\n",
    "훈련 epoch마다 생성자/판별자의 loss 및 판별자의 실제/생성(real/fake) 이미지 판별 accuracy 히스토리(history)를 그래프로 시각화하는 draw_train_history() 함수를 구현해 봅니다.\n",
    "\n",
    "- train_step() 함수가 리턴하는 gen_loss, disc_loss, real_accuracy, fake_accuracy 이상 4가지 값을 history라는 dict 구조에 리스트로 저장하고 있다가 매 epoch마다 시각화하는 함수를 입니다. "
   ]
  },
  {
   "cell_type": "code",
   "execution_count": 44,
   "id": "global-machinery",
   "metadata": {},
   "outputs": [],
   "source": [
    "from matplotlib.pylab import rcParams\n",
    "rcParams['figure.figsize'] = 15, 6    # matlab 차트의 기본 크기를 15,6으로 지정해 줍니다.\n",
    "\n",
    "def draw_train_history(history, epoch):\n",
    "    # summarize history for loss  \n",
    "    plt.subplot(211)  \n",
    "    plt.plot(history['gen_loss'])  \n",
    "    plt.plot(history['disc_loss'])  \n",
    "    plt.title('model loss')  \n",
    "    plt.ylabel('loss')  \n",
    "    plt.xlabel('batch iters')  \n",
    "    plt.legend(['gen_loss', 'disc_loss'], loc='upper left')  \n",
    "\n",
    "    # summarize history for accuracy  \n",
    "    plt.subplot(212)  \n",
    "    plt.plot(history['fake_accuracy'])  \n",
    "    plt.plot(history['real_accuracy'])  \n",
    "    plt.title('discriminator accuracy')  \n",
    "    plt.ylabel('accuracy')  \n",
    "    plt.xlabel('batch iters')  \n",
    "    plt.legend(['fake_accuracy', 'real_accuracy'], loc='upper left')  \n",
    "    \n",
    "    # training_history 디렉토리에 epoch별로 그래프를 이미지 파일로 저장합니다.\n",
    "    plt.savefig('{}/aiffel/Exploration/E13/cifar10/training_history/train_history_{:04d}.png'\n",
    "                    .format(os.getenv('HOME'), epoch))\n",
    "    plt.show()"
   ]
  },
  {
   "cell_type": "markdown",
   "id": "northern-calendar",
   "metadata": {},
   "source": [
    "## checkpoint 모듈\n",
    "\n",
    "training_checkpoints 디렉토리에 몇 epoch마다 모델을 저장하는 checkpoint 모듈을 설정해 봅니다.\n",
    "- tf.train.Checkpoint를 활용하면 매번 모델을 직접 저장해 주지 않아도, 코드 한 줄로 빠르고 편하게 버전 관리를 할 수 있습니다.\n",
    "- checkpoint에는 optimizer와 생성자, 판별자를 모두 넣어 저장합니다. 정확히는 생성자와 판별자가 학습한 모델 가중치를 저장합니다. 우리의 학습 환경과 학습한 내용을 저장해 둡니다."
   ]
  },
  {
   "cell_type": "code",
   "execution_count": 45,
   "id": "identified-montana",
   "metadata": {},
   "outputs": [],
   "source": [
    "checkpoint_dir = os.getenv('HOME')+'/aiffel/Exploration/E13/cifar10/training_checkpoints'\n",
    "\n",
    "checkpoint_prefix = os.path.join(checkpoint_dir, \"ckpt\")\n",
    "checkpoint = tf.train.Checkpoint(generator_optimizer=generator_optimizer,\n",
    "                                 discriminator_optimizer=discriminator_optimizer,\n",
    "                                 generator=generator,\n",
    "                                 discriminator=discriminator)"
   ]
  },
  {
   "cell_type": "markdown",
   "id": "breeding-repeat",
   "metadata": {},
   "source": [
    "# 5. 학습 과정 진행하기\n",
    "\n",
    "- 위에서 구현한 기능들을 활용하여 최소 50 epoch만큼의 모델 학습을 진행해 봅시다.\n",
    "- 학습 과정에서 생성된 샘플 이미지로 만든 gif 파일을 통해 학습 진행 과정을 시각적으로 표현해 봅시다.\n",
    "- 학습 과정을 담은 샘플 이미지, gif 파일, 학습 진행 그래프 이미지를 함께 제출합니다."
   ]
  },
  {
   "cell_type": "code",
   "execution_count": 46,
   "id": "bacterial-service",
   "metadata": {},
   "outputs": [],
   "source": [
    "def train(dataset, epochs, save_every):\n",
    "    start = time.time()\n",
    "    history = {'gen_loss':[], 'disc_loss':[], 'real_accuracy':[], 'fake_accuracy':[]}\n",
    "\n",
    "    for epoch in range(epochs):\n",
    "        epoch_start = time.time()\n",
    "        for it, image_batch in enumerate(dataset):\n",
    "            gen_loss, disc_loss, real_accuracy, fake_accuracy = train_step(image_batch)\n",
    "            history['gen_loss'].append(gen_loss)\n",
    "            history['disc_loss'].append(disc_loss)\n",
    "            history['real_accuracy'].append(real_accuracy)\n",
    "            history['fake_accuracy'].append(fake_accuracy)\n",
    "\n",
    "            if it % 50 == 0:\n",
    "                display.clear_output(wait=True)\n",
    "                generate_and_save_images(generator, epoch+1, it+1, seed)\n",
    "                print('Epoch {} | iter {}'.format(epoch+1, it+1))\n",
    "                print('Time for epoch {} : {} sec'.format(epoch+1, int(time.time()-epoch_start)))\n",
    "\n",
    "        if (epoch + 1) % save_every == 0:\n",
    "            checkpoint.save(file_prefix=checkpoint_prefix)\n",
    "\n",
    "        display.clear_output(wait=True)\n",
    "        generate_and_save_images(generator, epochs, it, seed)\n",
    "        print('Time for training : {} sec'.format(int(time.time()-start)))\n",
    "\n",
    "        draw_train_history(history, epoch)"
   ]
  },
  {
   "cell_type": "code",
   "execution_count": 47,
   "id": "lonely-ethernet",
   "metadata": {},
   "outputs": [
    {
     "data": {
      "text/plain": [
       "[PhysicalDevice(name='/physical_device:GPU:0', device_type='GPU')]"
      ]
     },
     "execution_count": 47,
     "metadata": {},
     "output_type": "execute_result"
    }
   ],
   "source": [
    "# 모델을 저장하는 간격을 담당하는 save_every\n",
    "# 전체 학습 에포크를 결정하는 EPOCHS 파라미터도 설정\n",
    "save_every = 5\n",
    "EPOCHS = 50\n",
    "\n",
    "# 사용가능한 GPU 디바이스 확인\n",
    "tf.config.list_physical_devices(\"GPU\")"
   ]
  },
  {
   "cell_type": "code",
   "execution_count": 51,
   "id": "three-contributor",
   "metadata": {},
   "outputs": [
    {
     "name": "stderr",
     "output_type": "stream",
     "text": [
      "Clipping input data to the valid range for imshow with RGB data ([0..1] for floats or [0..255] for integers).\n",
      "Clipping input data to the valid range for imshow with RGB data ([0..1] for floats or [0..255] for integers).\n",
      "Clipping input data to the valid range for imshow with RGB data ([0..1] for floats or [0..255] for integers).\n",
      "Clipping input data to the valid range for imshow with RGB data ([0..1] for floats or [0..255] for integers).\n",
      "Clipping input data to the valid range for imshow with RGB data ([0..1] for floats or [0..255] for integers).\n",
      "Clipping input data to the valid range for imshow with RGB data ([0..1] for floats or [0..255] for integers).\n",
      "Clipping input data to the valid range for imshow with RGB data ([0..1] for floats or [0..255] for integers).\n",
      "Clipping input data to the valid range for imshow with RGB data ([0..1] for floats or [0..255] for integers).\n",
      "Clipping input data to the valid range for imshow with RGB data ([0..1] for floats or [0..255] for integers).\n",
      "Clipping input data to the valid range for imshow with RGB data ([0..1] for floats or [0..255] for integers).\n",
      "Clipping input data to the valid range for imshow with RGB data ([0..1] for floats or [0..255] for integers).\n",
      "Clipping input data to the valid range for imshow with RGB data ([0..1] for floats or [0..255] for integers).\n",
      "Clipping input data to the valid range for imshow with RGB data ([0..1] for floats or [0..255] for integers).\n",
      "Clipping input data to the valid range for imshow with RGB data ([0..1] for floats or [0..255] for integers).\n",
      "Clipping input data to the valid range for imshow with RGB data ([0..1] for floats or [0..255] for integers).\n",
      "Clipping input data to the valid range for imshow with RGB data ([0..1] for floats or [0..255] for integers).\n"
     ]
    },
    {
     "data": {
      "image/png": "[encoded data removed]",
      "text/plain": [
       "<Figure size 288x288 with 16 Axes>"
      ]
     },
     "metadata": {
      "needs_background": "light"
     },
     "output_type": "display_data"
    },
    {
     "name": "stdout",
     "output_type": "stream",
     "text": [
      "Time for training : 2468 sec\n"
     ]
    },
    {
     "data": {
      "image/png": "[encoded data removed]",
      "text/plain": [
       "<Figure size 1080x432 with 2 Axes>"
      ]
     },
     "metadata": {
      "needs_background": "light"
     },
     "output_type": "display_data"
    },
    {
     "name": "stdout",
     "output_type": "stream",
     "text": [
      "CPU times: user 23min 43s, sys: 1min 22s, total: 25min 6s\n",
      "Wall time: 41min 11s\n"
     ]
    }
   ],
   "source": [
    "# BATCH_SIZE = 64 \n",
    "%%time\n",
    "train(train_dataset, EPOCHS, save_every)\n",
    "\n",
    "# 학습과정의 loss, accuracy 그래프 이미지 파일이 ~/aiffel/Exploration/E13/cifar10/training_history 경로에 생성되고 있어\n",
    "# 진행 과정을 수시로 확인해 봅니다."
   ]
  },
  {
   "cell_type": "code",
   "execution_count": 59,
   "id": "extensive-circulation",
   "metadata": {},
   "outputs": [
    {
     "name": "stderr",
     "output_type": "stream",
     "text": [
      "UsageError: Line magic function `%%time` not found.\n"
     ]
    }
   ],
   "source": [
    "# BATCH_SIZE = 128\n",
    "%%time\n",
    "train(train_dataset, EPOCHS, save_every)"
   ]
  },
  {
   "cell_type": "markdown",
   "id": "allied-subject",
   "metadata": {},
   "source": [
    "## 학습과정 시각화하기\n",
    "\n",
    "학습이 끝난 후 우리가 생성했던 샘플 이미지들을 합쳐 GIF 파일로 만들어 봅니다. \n",
    "\n",
    "- GIF 파일은 우리가 오래전에 import 해놓았던 imageio 라이브러리를 활용해 만들 수 있습니다.\n",
    "- imageio.get_writer를 활용해서 파일을 열고, 거기에 append_data로 이미지를 하나씩 붙여나가는 방식입니다.\n",
    "    \n",
    "아래 코드가 무사히 실행되면, cfar10_dcgan.gif 파일이 저장되어 있는 것을 확인할 수 있을 겁니다!"
   ]
  },
  {
   "cell_type": "code",
   "execution_count": 53,
   "id": "democratic-companion",
   "metadata": {},
   "outputs": [
    {
     "name": "stdout",
     "output_type": "stream",
     "text": [
      "-rw-r--r-- 1 root root 2146677 Nov 16 18:15 /aiffel/aiffel/Exploration/E13/cifar10/cifar10_dcgan.gif\r\n"
     ]
    }
   ],
   "source": [
    "anim_file = os.getenv('HOME')+'/aiffel/Exploration/E13/cifar10/cifar10_dcgan.gif'\n",
    "\n",
    "with imageio.get_writer(anim_file, mode='I') as writer:\n",
    "    filenames = glob.glob('{}/aiffel/Exploration/E13/cifar10/generated_samples/sample*.png'.format(os.getenv('HOME')))\n",
    "    filenames = sorted(filenames)\n",
    "    last = -1\n",
    "    for i, filename in enumerate(filenames):\n",
    "        frame = 2*(i**0.5)\n",
    "        if round(frame) > round(last):\n",
    "            last = frame\n",
    "        else:\n",
    "            continue\n",
    "        image = imageio.imread(filename)\n",
    "        writer.append_data(image)\n",
    "    image = imageio.imread(filename)\n",
    "    writer.append_data(image)\n",
    "\n",
    "!ls -l ~/aiffel/Exploration/E13/cifar10/cifar10_dcgan.gif"
   ]
  },
  {
   "cell_type": "markdown",
   "id": "gross-principal",
   "metadata": {},
   "source": [
    "# 회고\n",
    "\n",
    "1. GAN의 두 모델 구조를 통해 이미지를 성공적으로 생성하였다.\n",
    "    - 오브젝트 종류를 육안으로 구별할 수 있을 만한 이미지를 생성하였다.\n",
    "    - plt.imshow를 통해 만든 RGB 이미지를 출력하여 확인하는 것을 좀 더 공부해야 할 것이다. \n",
    "\n",
    "2. 생성 이미지 시각화 및 학습 그래프를 통해 GAN 학습이 바르게 진행되었음을 입증하였다.\n",
    "    - gif를 통해 생성이미지 품질이 서서히 향상되는 것과, fake accuracy가 추세적으로 0.5를 향해 하향하고 있음을 확인하였다.\n",
    "    \n",
    "3. 추가적인 GAN 모델구조 혹은 학습과정 개선 아이디어를 제안하고 이를 적용하였다.\n",
    "    - BATCH_SIZE = 64 로 너무 작게 설정하여 배치사이즈를 좀 더 키우면 학습이 더 잘 될 것이다.     \n",
    "        BATCH_SIZE = 128 로 다시 학습시켜 보았다. \n",
    "    제출 아이디어를 제출 프로젝트에 반영하고, 그 결과가 아이디어 적용 이전보다 향상되었음을 시각적으로 입증하였다."
   ]
  },
  {
   "cell_type": "code",
   "execution_count": null,
   "id": "infrared-acceptance",
   "metadata": {},
   "outputs": [],
   "source": []
  }
 ],
 "metadata": {
  "kernelspec": {
   "display_name": "Python 3",
   "language": "python",
   "name": "python3"
  },
  "language_info": {
   "codemirror_mode": {
    "name": "ipython",
    "version": 3
   },
   "file_extension": ".py",
   "mimetype": "text/x-python",
   "name": "python",
   "nbconvert_exporter": "python",
   "pygments_lexer": "ipython3",
   "version": "3.7.9"
  }
 },
 "nbformat": 4,
 "nbformat_minor": 5
}
