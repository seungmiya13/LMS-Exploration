{
 "cells": [
  {
   "cell_type": "markdown",
   "id": "quarterly-brake",
   "metadata": {},
   "source": [
    "인공지능과 가위바위보 하기\n",
    "=============\n",
    "\n",
    " 이미지를 가위, 바위, 보 3가지로 분류하는 간단한 인공지능을 만들어 보기\n",
    " \n",
    " 1. 데이터 준비 \n",
    " 2. 딥러닝 네트워크 설계 \n",
    " 3. 학습\n",
    " 4. 테스트(평가)\n",
    "\n",
    "순서대로 만들어 봅니다. "
   ]
  },
  {
   "cell_type": "markdown",
   "id": "greater-particle",
   "metadata": {},
   "source": [
    "## 1. 데이터 준비"
   ]
  },
  {
   "cell_type": "markdown",
   "id": "african-walker",
   "metadata": {},
   "source": [
    "### 데이터 만들기\n",
    "\n",
    "구글의 teachable machine 사이트에서 쉽게 데이터를 만들 수 있었습니다.    \n",
    "https://teachablemachine.withgoogle.com/"
   ]
  },
  {
   "cell_type": "markdown",
   "id": "available-beatles",
   "metadata": {},
   "source": [
    "### 데이터 불러오기 + Resize 하기"
   ]
  },
  {
   "cell_type": "code",
   "execution_count": 1,
   "id": "psychological-ideal",
   "metadata": {},
   "outputs": [],
   "source": [
    "# resize 하기 위한 라이브러리를 불러오기\n",
    "from PIL import Image\n",
    "import os, glob"
   ]
  },
  {
   "cell_type": "code",
   "execution_count": 2,
   "id": "starting-syndicate",
   "metadata": {},
   "outputs": [],
   "source": [
    "# 만든 이미지를 불러와서 28x28 사이즈로 변경하는 함수\n",
    "def resize_images(img_path):\n",
    "    images=glob.glob(img_path + \"/*.jpg\")  \n",
    "    \n",
    "    print(len(images), \" images to be resized.\")\n",
    "\n",
    "    # 파일마다 모두 28x28 사이즈로 바꾸어 저장\n",
    "    target_size=(28,28)\n",
    "    for img in images:\n",
    "        old_img=Image.open(img)\n",
    "        new_img=old_img.resize(target_size,Image.ANTIALIAS)\n",
    "        new_img.save(img, \"JPEG\")\n",
    "    \n",
    "    print(len(images), \" images resized.\")"
   ]
  },
  {
   "cell_type": "code",
   "execution_count": null,
   "id": "valuable-great",
   "metadata": {},
   "outputs": [],
   "source": [
    "# 가위 이미지가 저장된 디렉토리 아래의 모든 jpg 파일을 읽어들여서 resize\n",
    "image_dir_path = os.getenv(\"HOME\") + \"/aiffel/Exploration/E1/rock_scissor_paper_test/scissor\"\n",
    "resize_images(image_dir_path)"
   ]
  },
  {
   "cell_type": "code",
   "execution_count": null,
   "id": "acoustic-albany",
   "metadata": {},
   "outputs": [],
   "source": [
    "# 바위 이미지가 저장된 디렉토리 아래의 모든 jpg 파일을 읽어들여서 resize\n",
    "image_dir_path = os.getenv(\"HOME\") + \"/aiffel/Exploration/E1/rock_scissor_paper_test/rock\"\n",
    "resize_images(image_dir_path)"
   ]
  },
  {
   "cell_type": "code",
   "execution_count": null,
   "id": "prescribed-example",
   "metadata": {},
   "outputs": [],
   "source": [
    "# 보 이미지가 저장된 디렉토리 아래의 모든 jpg 파일을 읽어들여서 resize\n",
    "image_dir_path = os.getenv(\"HOME\") + \"/aiffel/Exploration/E1/rock_scissor_paper_test/paper\"\n",
    "resize_images(image_dir_path)"
   ]
  },
  {
   "cell_type": "markdown",
   "id": "bridal-annotation",
   "metadata": {},
   "source": [
    "### 가위, 바위, 보 데이터를 읽기"
   ]
  },
  {
   "cell_type": "code",
   "execution_count": 3,
   "id": "sustainable-eugene",
   "metadata": {},
   "outputs": [],
   "source": [
    "import numpy as np\n",
    "\n",
    "# 가위, 바위, 보 데이터를 읽을 수 있는 load_data() 함수\n",
    "def load_data(img_path, number_of_data=300):  \n",
    "    # 가위바위보 이미지 개수 총합에 주의\n",
    "    # 가위: 0, 바위: 1, 보: 2\n",
    "    img_size=28\n",
    "    color=3\n",
    "    # 이미지 데이터와 라벨(가위:0, 바위:1, 보:2) 데이터를 담을 행렬(matrix) 영역을 생성\n",
    "    imgs=np.zeros(number_of_data*img_size*img_size*color,dtype=np.int32).reshape(number_of_data,img_size,img_size,color)\n",
    "    labels=np.zeros(number_of_data,dtype=np.int32)\n",
    "\n",
    "    idx=0\n",
    "    for file in glob.iglob(img_path+'/scissor/*.jpg'):\n",
    "        img = np.array(Image.open(file),dtype=np.int32)\n",
    "        imgs[idx,:,:,:]=img    # 데이터 영역에 이미지 행렬을 복사\n",
    "        labels[idx]=0   # 가위 : 0\n",
    "        idx=idx+1\n",
    "\n",
    "    for file in glob.iglob(img_path+'/rock/*.jpg'):\n",
    "        img = np.array(Image.open(file),dtype=np.int32)\n",
    "        imgs[idx,:,:,:]=img    # 데이터 영역에 이미지 행렬을 복사\n",
    "        labels[idx]=1   # 바위 : 1\n",
    "        idx=idx+1  \n",
    "    \n",
    "    for file in glob.iglob(img_path+'/paper/*.jpg'):\n",
    "        img = np.array(Image.open(file),dtype=np.int32)\n",
    "        imgs[idx,:,:,:]=img    # 데이터 영역에 이미지 행렬을 복사\n",
    "        labels[idx]=2   # 보 : 2\n",
    "        idx=idx+1\n",
    "        \n",
    "    print(\"데이터의 이미지 개수는\", idx,\"입니다.\")\n",
    "    return imgs, labels"
   ]
  },
  {
   "cell_type": "markdown",
   "id": "blank-floating",
   "metadata": {},
   "source": [
    "- load_data() 함수는 입력으로 이미지가 있는 폴더 위치(rock_scissor_paper 폴더 위치)를 적어주면 됩니다. \n",
    "- 가위바위보의 경우 3개의 클래스(가위: 0, 바위: 1, 보: 2) 로 라벨링"
   ]
  },
  {
   "cell_type": "code",
   "execution_count": 4,
   "id": "bizarre-announcement",
   "metadata": {},
   "outputs": [
    {
     "name": "stdout",
     "output_type": "stream",
     "text": [
      "데이터의 이미지 개수는 9300 입니다.\n",
      "x_train shape: (9300, 28, 28, 3)\n",
      "y_train shape: (9300,)\n"
     ]
    }
   ],
   "source": [
    "# train 데이터 읽기 \n",
    "# train data directory : /aiffel/Exploration/E1/rock_scissor_paper\n",
    "image_dir_path = os.getenv(\"HOME\") + \"/aiffel/Exploration/E1/rock_scissor_paper\"\n",
    "(x_train, y_train)=load_data(image_dir_path, 9300) # 이미지 개수에 맞게 넣어주기\n",
    "x_train_norm = x_train/255.0   # 입력은 0~1 사이의 값으로 정규화\n",
    "\n",
    "print(\"x_train shape: {}\".format(x_train_norm.shape))\n",
    "print(\"y_train shape: {}\".format(y_train.shape))"
   ]
  },
  {
   "cell_type": "code",
   "execution_count": 5,
   "id": "seven-combination",
   "metadata": {},
   "outputs": [
    {
     "name": "stdout",
     "output_type": "stream",
     "text": [
      "라벨:  0\n"
     ]
    },
    {
     "data": {
      "image/png": "[encoded data removed]",
      "text/plain": [
       "<Figure size 432x288 with 1 Axes>"
      ]
     },
     "metadata": {
      "needs_background": "light"
     },
     "output_type": "display_data"
    }
   ],
   "source": [
    "# 이미지 미리보기\n",
    "import matplotlib.pyplot as plt\n",
    "\n",
    "plt.imshow(x_train[300])\n",
    "print('라벨: ', y_train[300])"
   ]
  },
  {
   "cell_type": "markdown",
   "id": "brazilian-industry",
   "metadata": {},
   "source": [
    "## 2. 딥러닝 네트워크 설계하기"
   ]
  },
  {
   "cell_type": "code",
   "execution_count": 6,
   "id": "otherwise-hurricane",
   "metadata": {},
   "outputs": [
    {
     "name": "stdout",
     "output_type": "stream",
     "text": [
      "Model: \"sequential\"\n",
      "_________________________________________________________________\n",
      "Layer (type)                 Output Shape              Param #   \n",
      "=================================================================\n",
      "conv2d (Conv2D)              (None, 26, 26, 16)        448       \n",
      "_________________________________________________________________\n",
      "max_pooling2d (MaxPooling2D) (None, 13, 13, 16)        0         \n",
      "_________________________________________________________________\n",
      "conv2d_1 (Conv2D)            (None, 11, 11, 32)        4640      \n",
      "_________________________________________________________________\n",
      "max_pooling2d_1 (MaxPooling2 (None, 5, 5, 32)          0         \n",
      "_________________________________________________________________\n",
      "flatten (Flatten)            (None, 800)               0         \n",
      "_________________________________________________________________\n",
      "dense (Dense)                (None, 32)                25632     \n",
      "_________________________________________________________________\n",
      "dense_1 (Dense)              (None, 3)                 99        \n",
      "=================================================================\n",
      "Total params: 30,819\n",
      "Trainable params: 30,819\n",
      "Non-trainable params: 0\n",
      "_________________________________________________________________\n"
     ]
    }
   ],
   "source": [
    "import tensorflow as tf\n",
    "from tensorflow import keras\n",
    "import numpy as np\n",
    "\n",
    "# 바꿔 볼 수 있는 하이퍼파라미터들\n",
    "n_channel_1=16 # 얼마나 다양한 이미지의 특징을 살펴볼지\n",
    "n_channel_2=32\n",
    "n_dense=32     # 분류기의 알고리즘을 얼마나 복잡하게 할지\n",
    "n_train_epoch=10\n",
    "\n",
    "model=keras.models.Sequential()\n",
    "model.add(keras.layers.Conv2D(n_channel_1, (3,3), activation='relu', input_shape=(28,28,3)))\n",
    "model.add(keras.layers.MaxPool2D(2,2))\n",
    "model.add(keras.layers.Conv2D(n_channel_2, (3,3), activation='relu'))\n",
    "model.add(keras.layers.MaxPooling2D((2,2)))\n",
    "model.add(keras.layers.Flatten())\n",
    "model.add(keras.layers.Dense(n_dense, activation='relu'))\n",
    "model.add(keras.layers.Dense(3, activation='softmax'))\n",
    "\n",
    "model.summary()"
   ]
  },
  {
   "cell_type": "markdown",
   "id": "parliamentary-wedding",
   "metadata": {},
   "source": [
    "## 3. 딥러닝 네트워크 학습시키기"
   ]
  },
  {
   "cell_type": "code",
   "execution_count": 7,
   "id": "supposed-banner",
   "metadata": {},
   "outputs": [
    {
     "name": "stdout",
     "output_type": "stream",
     "text": [
      "Epoch 1/10\n",
      "291/291 [==============================] - 6s 10ms/step - loss: 1.0643 - accuracy: 0.4175\n",
      "Epoch 2/10\n",
      "291/291 [==============================] - 1s 3ms/step - loss: 0.7783 - accuracy: 0.6445\n",
      "Epoch 3/10\n",
      "291/291 [==============================] - 1s 3ms/step - loss: 0.5108 - accuracy: 0.8077\n",
      "Epoch 4/10\n",
      "291/291 [==============================] - 1s 3ms/step - loss: 0.3560 - accuracy: 0.8766\n",
      "Epoch 5/10\n",
      "291/291 [==============================] - 1s 3ms/step - loss: 0.2658 - accuracy: 0.9083\n",
      "Epoch 6/10\n",
      "291/291 [==============================] - 1s 3ms/step - loss: 0.2000 - accuracy: 0.9326\n",
      "Epoch 7/10\n",
      "291/291 [==============================] - 1s 3ms/step - loss: 0.1478 - accuracy: 0.9526\n",
      "Epoch 8/10\n",
      "291/291 [==============================] - 1s 3ms/step - loss: 0.1228 - accuracy: 0.9624\n",
      "Epoch 9/10\n",
      "291/291 [==============================] - 1s 3ms/step - loss: 0.1059 - accuracy: 0.9648\n",
      "Epoch 10/10\n",
      "291/291 [==============================] - 1s 3ms/step - loss: 0.0705 - accuracy: 0.9797\n"
     ]
    },
    {
     "data": {
      "text/plain": [
       "<tensorflow.python.keras.callbacks.History at 0x7fc2c08a2210>"
      ]
     },
     "execution_count": 7,
     "metadata": {},
     "output_type": "execute_result"
    }
   ],
   "source": [
    "model.compile(optimizer='adam',\n",
    "             loss='sparse_categorical_crossentropy',\n",
    "             metrics=['accuracy'])\n",
    "\n",
    "# 모델 훈련\n",
    "model.fit(x_train_norm, y_train, epochs=n_train_epoch)"
   ]
  },
  {
   "cell_type": "markdown",
   "id": "innovative-protest",
   "metadata": {},
   "source": [
    "## 4. 얼마나 잘 만들었는지 확인하기(테스트)"
   ]
  },
  {
   "cell_type": "code",
   "execution_count": 8,
   "id": "violent-timing",
   "metadata": {},
   "outputs": [
    {
     "name": "stdout",
     "output_type": "stream",
     "text": [
      "데이터의 이미지 개수는 600 입니다.\n",
      "x_test shape: (600, 28, 28, 3)\n",
      "y_test shape: (600,)\n"
     ]
    }
   ],
   "source": [
    "# 테스트용 데이터인 x_test, y_test를 만들기\n",
    "# test data directory : /aiffel/Exploration/E1/rock_scissor_paper_test\n",
    "image_dir_path = os.getenv(\"HOME\") + \"/aiffel/Exploration/E1/rock_scissor_paper_test\"\n",
    "(x_test, y_test)=load_data(image_dir_path, 600)\n",
    "x_test_norm = x_test/255.0   # 입력은 0~1 사이의 값으로 정규화\n",
    "\n",
    "print(\"x_test shape: {}\".format(x_test_norm.shape))\n",
    "print(\"y_test shape: {}\".format(y_test.shape))"
   ]
  },
  {
   "cell_type": "markdown",
   "id": "armed-boards",
   "metadata": {},
   "source": [
    "### 위에서 훈련시킨 model을 사용하여 test_accuracy를 측정해보기"
   ]
  },
  {
   "cell_type": "code",
   "execution_count": 9,
   "id": "advisory-killer",
   "metadata": {},
   "outputs": [
    {
     "name": "stdout",
     "output_type": "stream",
     "text": [
      "19/19 - 1s - loss: 0.4626 - accuracy: 0.8450\n",
      "test_loss: 0.46257704496383667 \n",
      "test_accuracy: 0.8450000286102295\n"
     ]
    }
   ],
   "source": [
    "test_loss, test_accuracy = model.evaluate(x_test_norm,y_test, verbose=2)\n",
    "\n",
    "print(\"test_loss: {} \".format(test_loss))\n",
    "print(\"test_accuracy: {}\".format(test_accuracy))"
   ]
  },
  {
   "cell_type": "markdown",
   "id": "ethical-links",
   "metadata": {},
   "source": [
    "## 회고"
   ]
  },
  {
   "cell_type": "markdown",
   "id": "silent-arizona",
   "metadata": {},
   "source": [
    "- 이미지 분류기 모델이 성공적으로 만들어졌는가?    \n",
    "    keras의 Sequential 모델을 사용하여 순차적으로 총 7개의 레이어 층을 더해 주었습니다.    \n",
    "    다양한 파라미터 값을 변경해 주면서 모델을 학습시켰습니다.     \n",
    "    이 분류기 모델을 정확하게 이해하지는 못하여 관련 사항은 더 공부해야 할 것 같습니다.     \n",
    "              \n",
    "              \n",
    "- 오버 피팅을 극복하기 위한 적절한 시도가 있었는가?    \n",
    "    트레인 데이터셋을 가위, 바위, 보 각각 3200개씩, 테스트 데이터셋은 각각 200개씩 넣어 사용하였습니다.     \n",
    "    데이터는 Min-Max Normalization(최소-최대 정규화)를 사용하여 최대값-최소값(255-0)으로 나누어 0~1 사이의 값으로 정규화하였습니다.     \n",
    "     \n",
    "     \n",
    "- 분류 모델의 test accuracy가 기준 이상 높게 나왔는가?   \n",
    "    test accuracy 60% 이상 달성하기 위하여 \n",
    "    트레인 데이터셋을 900, 2100, 6792, 9300개 순으로 학습했을 때 점점 test accuracy 값이 오르긴 하였으나 여전히 낮게 나왔습니다.      \n",
    "    테스트 데이터셋의 문제라고 생각하여 변경해 주었습니다.     \n",
    "    최종 84.5%의 test accuracy에 도달하였습니다. \n",
    "    "
   ]
  }
 ],
 "metadata": {
  "kernelspec": {
   "display_name": "Python 3",
   "language": "python",
   "name": "python3"
  },
  "language_info": {
   "codemirror_mode": {
    "name": "ipython",
    "version": 3
   },
   "file_extension": ".py",
   "mimetype": "text/x-python",
   "name": "python",
   "nbconvert_exporter": "python",
   "pygments_lexer": "ipython3",
   "version": "3.7.9"
  }
 },
 "nbformat": 4,
 "nbformat_minor": 5
}
