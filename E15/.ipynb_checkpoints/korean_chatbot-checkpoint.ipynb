{
 "cells": [
  {
   "cell_type": "markdown",
   "id": "banner-movement",
   "metadata": {},
   "source": [
    "프로젝트: 한국어 데이터로 챗봇 만들기\n",
    "=======\n",
    "\n",
    "어텐션을 사용하는 트랜스포머의 인코더 디코더 구조를 한국어로 이루어진 챗봇 데이터에 적용해 본다.\n",
    "\n",
    "-21.11.23-"
   ]
  },
  {
   "cell_type": "code",
   "execution_count": 3,
   "id": "looking-daughter",
   "metadata": {},
   "outputs": [],
   "source": [
    "# 필요한 패키지 임포트\n",
    "import tensorflow as tf\n",
    "import tensorflow_datasets as tfds\n",
    "import os\n",
    "import re\n",
    "import numpy as np\n",
    "import matplotlib.pyplot as plt"
   ]
  },
  {
   "cell_type": "markdown",
   "id": "ambient-parker",
   "metadata": {},
   "source": [
    "# 1. 데이터 수집하기\n",
    "\n",
    "한국어 챗봇 데이터는 송영숙님이 공개한 챗봇 데이터를 사용합니다.    \n",
    "https://github.com/songys/Chatbot_data/blob/master/ChatbotData.csv"
   ]
  },
  {
   "cell_type": "code",
   "execution_count": 2,
   "id": "increased-novelty",
   "metadata": {},
   "outputs": [
    {
     "name": "stdout",
     "output_type": "stream",
     "text": [
      "'ChatbotData .csv'\r\n"
     ]
    }
   ],
   "source": [
    "!ls ~/aiffel/Exploration/E15/data"
   ]
  },
  {
   "cell_type": "code",
   "execution_count": null,
   "id": "appointed-desperate",
   "metadata": {},
   "outputs": [],
   "source": []
  }
 ],
 "metadata": {
  "kernelspec": {
   "display_name": "Python 3",
   "language": "python",
   "name": "python3"
  },
  "language_info": {
   "codemirror_mode": {
    "name": "ipython",
    "version": 3
   },
   "file_extension": ".py",
   "mimetype": "text/x-python",
   "name": "python",
   "nbconvert_exporter": "python",
   "pygments_lexer": "ipython3",
   "version": "3.7.9"
  }
 },
 "nbformat": 4,
 "nbformat_minor": 5
}
