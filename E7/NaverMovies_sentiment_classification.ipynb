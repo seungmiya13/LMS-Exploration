{
 "cells": [
  {
   "cell_type": "markdown",
   "id": "central-catering",
   "metadata": {},
   "source": [
    "네이버 영화리뷰 감성분석\n",
    "=======\n",
    "네이버 영화의 댓글을 모아 구성된 Naver sentiment movie corpus 데이터셋을 활용하여 한국어 텍스트의 감정분석을 진행해 보기    \n",
    "https://github.com/e9t/nsmc    \n",
    "\n",
    "< 프로젝트 진행 순서 >\n",
    "\n",
    "1. 데이터 준비와 확인\n",
    "2. 데이터로더 구성\n",
    "3. 모델구성을 위한 데이터 분석 및 가공\n",
    "4. 모델구성 및 validation set 구성\n",
    "5. 모델 훈련 개시\n",
    "6. Loss, Accuracy 그래프 시각화\n",
    "7. 학습된 Embedding 레이어 분석\n",
    "8. 한국어 Word2Vec 임베딩 활용하여 성능개선    \n",
    "    -한국어 Word2Vec : https://github.com/Kyubyong/wordvectors\n",
    "\n",
    "-21.10.28-"
   ]
  },
  {
   "cell_type": "markdown",
   "id": "friendly-keeping",
   "metadata": {},
   "source": [
    "# 1. 데이터 준비와 확인"
   ]
  },
  {
   "cell_type": "code",
   "execution_count": 1,
   "id": "unauthorized-center",
   "metadata": {},
   "outputs": [
    {
     "data": {
      "text/html": [
       "<div>\n",
       "<style scoped>\n",
       "    .dataframe tbody tr th:only-of-type {\n",
       "        vertical-align: middle;\n",
       "    }\n",
       "\n",
       "    .dataframe tbody tr th {\n",
       "        vertical-align: top;\n",
       "    }\n",
       "\n",
       "    .dataframe thead th {\n",
       "        text-align: right;\n",
       "    }\n",
       "</style>\n",
       "<table border=\"1\" class=\"dataframe\">\n",
       "  <thead>\n",
       "    <tr style=\"text-align: right;\">\n",
       "      <th></th>\n",
       "      <th>id</th>\n",
       "      <th>document</th>\n",
       "      <th>label</th>\n",
       "    </tr>\n",
       "  </thead>\n",
       "  <tbody>\n",
       "    <tr>\n",
       "      <th>0</th>\n",
       "      <td>9976970</td>\n",
       "      <td>아 더빙.. 진짜 짜증나네요 목소리</td>\n",
       "      <td>0</td>\n",
       "    </tr>\n",
       "    <tr>\n",
       "      <th>1</th>\n",
       "      <td>3819312</td>\n",
       "      <td>흠...포스터보고 초딩영화줄....오버연기조차 가볍지 않구나</td>\n",
       "      <td>1</td>\n",
       "    </tr>\n",
       "    <tr>\n",
       "      <th>2</th>\n",
       "      <td>10265843</td>\n",
       "      <td>너무재밓었다그래서보는것을추천한다</td>\n",
       "      <td>0</td>\n",
       "    </tr>\n",
       "    <tr>\n",
       "      <th>3</th>\n",
       "      <td>9045019</td>\n",
       "      <td>교도소 이야기구먼 ..솔직히 재미는 없다..평점 조정</td>\n",
       "      <td>0</td>\n",
       "    </tr>\n",
       "    <tr>\n",
       "      <th>4</th>\n",
       "      <td>6483659</td>\n",
       "      <td>사이몬페그의 익살스런 연기가 돋보였던 영화!스파이더맨에서 늙어보이기만 했던 커스틴 ...</td>\n",
       "      <td>1</td>\n",
       "    </tr>\n",
       "  </tbody>\n",
       "</table>\n",
       "</div>"
      ],
      "text/plain": [
       "         id                                           document  label\n",
       "0   9976970                                아 더빙.. 진짜 짜증나네요 목소리      0\n",
       "1   3819312                  흠...포스터보고 초딩영화줄....오버연기조차 가볍지 않구나      1\n",
       "2  10265843                                  너무재밓었다그래서보는것을추천한다      0\n",
       "3   9045019                      교도소 이야기구먼 ..솔직히 재미는 없다..평점 조정      0\n",
       "4   6483659  사이몬페그의 익살스런 연기가 돋보였던 영화!스파이더맨에서 늙어보이기만 했던 커스틴 ...      1"
      ]
     },
     "execution_count": 1,
     "metadata": {},
     "output_type": "execute_result"
    }
   ],
   "source": [
    "import pandas as pd\n",
    "import urllib.request\n",
    "%matplotlib inline\n",
    "import matplotlib.pyplot as plt\n",
    "import re\n",
    "from konlpy.tag import Okt\n",
    "from tensorflow import keras\n",
    "from tensorflow.keras.preprocessing.text import Tokenizer\n",
    "import numpy as np\n",
    "from tensorflow.keras.preprocessing.sequence import pad_sequences\n",
    "from collections import Counter\n",
    "\n",
    "# 데이터 읽어보기 \n",
    "train_data = pd.read_table('~/aiffel/Exploration/E7/data/ratings_train.txt')\n",
    "test_data = pd.read_table('~/aiffel/Exploration/E7/data/ratings_test.txt')\n",
    "\n",
    "train_data.head()"
   ]
  },
  {
   "cell_type": "code",
   "execution_count": 2,
   "id": "multiple-chess",
   "metadata": {},
   "outputs": [
    {
     "name": "stdout",
     "output_type": "stream",
     "text": [
      "(150000, 3)\n",
      "(50000, 3)\n"
     ]
    }
   ],
   "source": [
    "print(train_data.shape)\n",
    "print(test_data.shape)"
   ]
  },
  {
   "cell_type": "code",
   "execution_count": 3,
   "id": "original-insider",
   "metadata": {},
   "outputs": [
    {
     "data": {
      "text/plain": [
       "<AxesSubplot:>"
      ]
     },
     "execution_count": 3,
     "metadata": {},
     "output_type": "execute_result"
    },
    {
     "data": {
      "image/png": "[encoded data removed]",
      "text/plain": [
       "<Figure size 432x288 with 1 Axes>"
      ]
     },
     "metadata": {
      "needs_background": "light"
     },
     "output_type": "display_data"
    }
   ],
   "source": [
    "# train_data의 라벨 분포 확인\n",
    "train_data['label'].value_counts().plot(kind = 'bar')"
   ]
  },
  {
   "cell_type": "code",
   "execution_count": 4,
   "id": "indian-thread",
   "metadata": {},
   "outputs": [
    {
     "name": "stdout",
     "output_type": "stream",
     "text": [
      "   label  count\n",
      "0      0  75173\n",
      "1      1  74827\n"
     ]
    }
   ],
   "source": [
    "print(train_data.groupby('label').size().reset_index(name = 'count'))"
   ]
  },
  {
   "cell_type": "markdown",
   "id": "activated-issue",
   "metadata": {},
   "source": [
    "- 레이블이 비슷하지만 0인 리뷰가 근소하게 많습니다. "
   ]
  },
  {
   "cell_type": "code",
   "execution_count": 5,
   "id": "scenic-accent",
   "metadata": {},
   "outputs": [
    {
     "name": "stdout",
     "output_type": "stream",
     "text": [
      "id          0\n",
      "document    5\n",
      "label       0\n",
      "dtype: int64\n"
     ]
    }
   ],
   "source": [
    "# train_data의 NULL 개수 확인\n",
    "print(train_data.isnull().sum())"
   ]
  },
  {
   "cell_type": "markdown",
   "id": "abroad-celebration",
   "metadata": {},
   "source": [
    "- NULL 값은 데이터로더에서 처리해 줍니다. "
   ]
  },
  {
   "cell_type": "markdown",
   "id": "funded-convertible",
   "metadata": {},
   "source": [
    "# 2. 데이터로더 구성\n",
    "\n",
    "nsmc 데이터셋은 전혀 가공되지 않은 텍스트 파일로 이루어져 있습니다. data_loader 안에서는 다음을 수행해야 합니다.\n",
    "- 데이터의 중복 제거\n",
    "- NaN 결측치 제거\n",
    "- 한국어 토크나이저로 토큰화\n",
    "- 불용어(Stopwords) 제거\n",
    "- 사전word_to_index 구성\n",
    "- 텍스트 스트링을 사전 인덱스 스트링으로 변환\n",
    "- X_train, y_train, X_test, y_test, word_to_index 리턴\n"
   ]
  },
  {
   "cell_type": "code",
   "execution_count": 6,
   "id": "eligible-metro",
   "metadata": {},
   "outputs": [],
   "source": [
    "from konlpy.tag import Mecab\n",
    "tokenizer = Mecab()\n",
    "stopwords = ['의','가','이','은','들','는','좀','잘','걍','과','도','를','으로','자','에','와','한','하다']\n",
    "\n",
    "def load_data(train_data, test_data, num_words=10000):\n",
    "    ## 데이터의 중복 제거 & NaN 결측치 제거\n",
    "    train_data.drop_duplicates(subset=['document'], inplace=True)\n",
    "    train_data = train_data.dropna(how = 'any') \n",
    "    test_data.drop_duplicates(subset=['document'], inplace=True)\n",
    "    test_data = test_data.dropna(how = 'any') \n",
    "    \n",
    "    ## 한국어 토크나이저로 토큰화 & 불용어(Stopwords) 제거\n",
    "    X_train = []\n",
    "    for sentence in train_data['document']:\n",
    "        temp_X = tokenizer.morphs(sentence) # 토큰화\n",
    "        temp_X = [word for word in temp_X if not word in stopwords] # 불용어 제거\n",
    "        X_train.append(temp_X)\n",
    "\n",
    "    X_test = []\n",
    "    for sentence in test_data['document']:\n",
    "        temp_X = tokenizer.morphs(sentence) # 토큰화\n",
    "        temp_X = [word for word in temp_X if not word in stopwords] # 불용어 제거\n",
    "        X_test.append(temp_X)\n",
    "    \n",
    "    ## 사전word_to_index 구성\n",
    "    words = np.concatenate(X_train).tolist()\n",
    "    counter = Counter(words)\n",
    "    counter = counter.most_common(num_words-4)\n",
    "    vocab = ['', '', '', ''] + [key for key, _ in counter]\n",
    "    word_to_index = {word:index for index, word in enumerate(vocab)}\n",
    "    \n",
    "    ## 텍스트 스트링을 사전 인덱스 스트링으로 변환\n",
    "    def wordlist_to_indexlist(wordlist):\n",
    "        return [word_to_index[word] if word in word_to_index else word_to_index[''] for word in wordlist]\n",
    "        \n",
    "    X_train = list(map(wordlist_to_indexlist, X_train))\n",
    "    X_test = list(map(wordlist_to_indexlist, X_test))\n",
    "    \n",
    "    ## X_train, y_train, X_test, y_test, word_to_index 리턴\n",
    "    return X_train, np.array(list(train_data['label'])), X_test, np.array(list(test_data['label'])), word_to_index\n",
    "    \n",
    "X_train, y_train, X_test, y_test, word_to_index = load_data(train_data, test_data) \n",
    "print(len(X_train), len(X_test))"
   ]
  },
  {
   "cell_type": "markdown",
   "id": "artificial-manchester",
   "metadata": {},
   "source": [
    "단어사전에 등재할 단어의 개수(num_words)를 10000으로 지정하면, 그 개수만큼의 word_to_index 딕셔너리까지 생성된 형태로 데이터셋이 생성됩니다.\n",
    "\n",
    "- konlpy.tag 의 Mecab Class : MeCab-ko 형태학 분석기용 래퍼    \n",
    "    https://konlpy-ko.readthedocs.io/ko/v0.4.3/api/konlpy.tag/#mecab-class    \n",
    "    -morphs(phrase) : 구문을 형태소로 구문 분석\n",
    "- pandas.DataFrame.drop_duplicates() : subset으로 지정한 컬럼의 중복값 제거      \n",
    "    https://pandas.pydata.org/docs/reference/api/pandas.DataFrame.drop_duplicates.html\n",
    "- pandas.DataFrame.dropna(how='any') : NA 값이 있으면 해당 행이나 열을 삭제     \n",
    "    https://pandas.pydata.org/docs/reference/api/pandas.DataFrame.dropna.html\n",
    "- numpy.concatenate : 기존 축을 따라 배열 시퀀스를 결합    \n",
    "    https://numpy.org/doc/stable/reference/generated/numpy.concatenate.html\n",
    "- collections 의 Container datatypes : 해시 가능한 개체를 계산하기 위한 dict의 하위 클래스    \n",
    "    https://docs.python.org/3/library/collections.html#collections.Counter    \n",
    "    -counter.most_common(n) : n개의 가장 일반적인 요소 의 목록 과 가장 일반적인 것부터 가장 적은 것까지의 개수를 반환 \n",
    "    -word_to_index는 텍스트 데이터셋의 단어 출현 빈도 기준으로 내림차수 정렬되어 있습니다."
   ]
  },
  {
   "cell_type": "code",
   "execution_count": 7,
   "id": "reverse-tracy",
   "metadata": {},
   "outputs": [],
   "source": [
    "word_to_index[\"<PAD>\"] = 0\n",
    "word_to_index[\"<BOS>\"] = 1\n",
    "word_to_index[\"<UNK>\"] = 2  # unknown"
   ]
  },
  {
   "cell_type": "code",
   "execution_count": 8,
   "id": "still-niger",
   "metadata": {},
   "outputs": [],
   "source": [
    "index_to_word = {index:word for word, index in word_to_index.items()}"
   ]
  },
  {
   "cell_type": "code",
   "execution_count": 9,
   "id": "connected-nelson",
   "metadata": {},
   "outputs": [
    {
     "data": {
      "text/plain": [
       "'<PAD>'"
      ]
     },
     "execution_count": 9,
     "metadata": {},
     "output_type": "execute_result"
    }
   ],
   "source": [
    "index_to_word[0]"
   ]
  },
  {
   "cell_type": "code",
   "execution_count": 10,
   "id": "greek-azerbaijan",
   "metadata": {},
   "outputs": [],
   "source": [
    "# 문장 1개를 활용할 딕셔너리와 함께 주면, 단어 인덱스 리스트 벡터로 변환해 주는 함수\n",
    "# 단, 모든 문장은 <BOS>로 시작함\n",
    "def get_encoded_sentence(sentence, word_to_index):\n",
    "    return [word_to_index['<BOS>']]+[word_to_index[word] if word in word_to_index else word_to_index['<UNK>'] for word in sentence.split()]\n",
    "\n",
    "# 여러 개의 문장 리스트를 한꺼번에 단어 인덱스 리스트 벡터로 encode해 주는 함수입니다. \n",
    "def get_encoded_sentences(sentences, word_to_index):\n",
    "    return [get_encoded_sentence(sentence, word_to_index) for sentence in sentences]\n",
    "\n",
    "# 숫자 벡터로 encode된 문장을 원래대로 decode하는 함수입니다. \n",
    "def get_decoded_sentence(encoded_sentence, index_to_word):\n",
    "    return ' '.join(index_to_word[index] if index in index_to_word else '<UNK>' for index in encoded_sentence[1:])  #[1:]를 통해 <BOS>를 제외\n",
    "\n",
    "# 여러 개의 숫자 벡터로 encode된 문장을 한꺼번에 원래대로 decode하는 함수입니다. \n",
    "def get_decoded_sentences(encoded_sentences, index_to_word):\n",
    "    return [get_decoded_sentence(encoded_sentence, index_to_word) for encoded_sentence in encoded_sentences]"
   ]
  },
  {
   "cell_type": "code",
   "execution_count": 16,
   "id": "british-responsibility",
   "metadata": {},
   "outputs": [
    {
     "name": "stdout",
     "output_type": "stream",
     "text": [
      "아 더빙.. 진짜 짜증나네요 목소리\n",
      "[1, 32, 2, 39, 2, 748]\n",
      "아 <UNK> 진짜 <UNK> 목소리\n",
      "라벨:  0\n"
     ]
    }
   ],
   "source": [
    "# encode된 텍스트가 정상적으로 decode되는지 확인\n",
    "print(train_data['document'][0])\n",
    "print(get_encoded_sentence(train_data['document'][0],word_to_index))\n",
    "sentence = get_encoded_sentence(train_data['document'][0],word_to_index)\n",
    "print(get_decoded_sentence(sentence, index_to_word))\n",
    "print('라벨: ', y_train[0])  # 1번째 리뷰데이터의 라벨"
   ]
  },
  {
   "cell_type": "markdown",
   "id": "imposed-shape",
   "metadata": {},
   "source": [
    "# 3. 모델구성을 위한 데이터 분석 및 가공\n",
    "\n",
    "1) 데이터셋 내 문장 길이 분포    \n",
    "2) 적절한 최대 문장 길이 지정    \n",
    "3) keras.preprocessing.sequence.pad_sequences 을 활용한 패딩 추가    "
   ]
  },
  {
   "cell_type": "markdown",
   "id": "offshore-nebraska",
   "metadata": {},
   "source": [
    "## 1) 데이터셋 내 문장 길이 분포 확인"
   ]
  },
  {
   "cell_type": "code",
   "execution_count": 17,
   "id": "fixed-provider",
   "metadata": {},
   "outputs": [
    {
     "name": "stdout",
     "output_type": "stream",
     "text": [
      "문장길이 평균 :  15.96940191154864\n",
      "문장길이 최대 :  116\n",
      "문장길이 표준편차 :  12.843571191092\n"
     ]
    }
   ],
   "source": [
    "total_data_text = list(X_train) + list(X_test)\n",
    "# 텍스트데이터 문장길이의 리스트를 생성한 후\n",
    "num_tokens = [len(tokens) for tokens in total_data_text]\n",
    "num_tokens = np.array(num_tokens)\n",
    "# 문장길이의 평균값, 최대값, 표준편차를 계산해 본다. \n",
    "print('문장길이 평균 : ', np.mean(num_tokens))\n",
    "print('문장길이 최대 : ', np.max(num_tokens))\n",
    "print('문장길이 표준편차 : ', np.std(num_tokens))"
   ]
  },
  {
   "cell_type": "code",
   "execution_count": 18,
   "id": "animated-beast",
   "metadata": {},
   "outputs": [
    {
     "data": {
      "image/png": "[encoded data removed]",
      "text/plain": [
       "<Figure size 432x288 with 1 Axes>"
      ]
     },
     "metadata": {
      "needs_background": "light"
     },
     "output_type": "display_data"
    }
   ],
   "source": [
    "# 문장 길이 분포 확인\n",
    "plt.hist([len(tokens) for tokens in total_data_text], bins=50)\n",
    "plt.xlabel('length of samples')\n",
    "plt.ylabel('number of samples')\n",
    "plt.show()"
   ]
  },
  {
   "cell_type": "markdown",
   "id": "stylish-disposition",
   "metadata": {},
   "source": [
    "## 2) 적절한 최대 문장 길이 지정"
   ]
  },
  {
   "cell_type": "code",
   "execution_count": 21,
   "id": "smoking-forward",
   "metadata": {},
   "outputs": [
    {
     "name": "stdout",
     "output_type": "stream",
     "text": [
      "pad_sequences maxlen :  45\n",
      "전체 문장의 0.946190980807724%가 maxlen 설정값 이내에 포함됩니다. \n"
     ]
    }
   ],
   "source": [
    "# 최대 길이를 (평균 + 2.3*표준편차)로 지정한다면,  \n",
    "max_tokens = np.mean(num_tokens) + 2.3 * np.std(num_tokens)\n",
    "maxlen = int(max_tokens)\n",
    "print('pad_sequences maxlen : ', maxlen)\n",
    "print('전체 문장의 {}%가 maxlen 설정값 이내에 포함됩니다. '.format(np.sum(num_tokens < max_tokens) / len(num_tokens)))"
   ]
  },
  {
   "cell_type": "markdown",
   "id": "original-johnson",
   "metadata": {},
   "source": [
    "## 3) keras.preprocessing.sequence.pad_sequences 을 활용한 패딩 추가"
   ]
  },
  {
   "cell_type": "code",
   "execution_count": 22,
   "id": "grave-deviation",
   "metadata": {},
   "outputs": [
    {
     "name": "stdout",
     "output_type": "stream",
     "text": [
      "(146182, 45)\n",
      "(49157, 45)\n"
     ]
    }
   ],
   "source": [
    "## 패딩 적용\n",
    "X_train = keras.preprocessing.sequence.pad_sequences(X_train,\n",
    "                                                        value=word_to_index[\"<PAD>\"],\n",
    "                                                        padding='pre', # 혹은 'post'\n",
    "                                                        maxlen=maxlen)\n",
    "\n",
    "X_test = keras.preprocessing.sequence.pad_sequences(X_test,\n",
    "                                                       value=word_to_index[\"<PAD>\"],\n",
    "                                                       padding='pre', # 혹은 'post'\n",
    "                                                       maxlen=maxlen)\n",
    "\n",
    "print(X_train.shape)\n",
    "print(X_test.shape)"
   ]
  },
  {
   "cell_type": "markdown",
   "id": "educated-affiliation",
   "metadata": {},
   "source": [
    "- 위에서 구한 maxlen=45 을 적용해줍니다.\n",
    "- padding 방식을 문장 뒤쪽('post')과 앞쪽('pre') 중 어느쪽으로 하느냐에 따라 RNN을 이용한 딥러닝 적용 시 성능 차이가 발생합니다. "
   ]
  },
  {
   "cell_type": "markdown",
   "id": "going-nebraska",
   "metadata": {},
   "source": [
    "# 4. 딥러닝 모델 설계와 훈련 및 validation set 구성\n",
    "\n",
    "\n",
    "- validation set 구성    \n",
    "Validation set(검정 데이터)은 training set으로 만들어진 모델의 성능을 측정하기 위해 사용된다. 일반적으로 어떤 모델이 가장 데이터에 적합한지 찾아내기 위해서 다양한 파라미터와 모델을 사용해보게 되며, 그 중 validation set으로 가장 성능이 좋았던 모델을 선택한다.    \n",
    "(https://modern-manual.tistory.com/19)\n",
    "\n",
    "- train/validation loss, accuracy 확인    \n",
    "model.fit() 과정 중의 train/validation loss, accuracy 등이 매 epoch마다 history 변수에 저장되어 있습니다.\n",
    "이 데이터를 그래프로 그려 보면, 수행했던 딥러닝 학습이 잘 진행되었는지, 오버피팅 혹은 언더피팅하지 않았는지, 성능을 개선할 수 있는 다양한 아이디어를 얻을 수 있는 좋은 자료가 됩니다.\n",
    "     \n",
    "1) RNN 모델     \n",
    "2) 1-D CNN 모델    \n",
    "3) GlobalMaxPooling1D() 레이어 하나만 사용하는 모델    "
   ]
  },
  {
   "cell_type": "markdown",
   "id": "promotional-honolulu",
   "metadata": {},
   "source": [
    "## validation set 구성"
   ]
  },
  {
   "cell_type": "code",
   "execution_count": 23,
   "id": "controlled-ecuador",
   "metadata": {},
   "outputs": [
    {
     "name": "stdout",
     "output_type": "stream",
     "text": [
      "(100000, 45)\n",
      "(100000,)\n",
      "(46182, 45)\n",
      "(46182,)\n"
     ]
    }
   ],
   "source": [
    "# train set 100000건 분리\n",
    "partial_x_train = X_train[:100000]  \n",
    "partial_y_train = y_train[:100000]\n",
    "\n",
    "# train set을 제외한 나머지 validation set\n",
    "x_val = X_train[100000:]   \n",
    "y_val = y_train[100000:]\n",
    "\n",
    "print(partial_x_train.shape)\n",
    "print(partial_y_train.shape)\n",
    "print(x_val.shape)\n",
    "print(y_val.shape)"
   ]
  },
  {
   "cell_type": "markdown",
   "id": "productive-triangle",
   "metadata": {},
   "source": [
    "## 1) RNN 모델 \n",
    "\n",
    "텍스트 데이터를 다루는 데 주로 사용되는 딥러닝 모델은 바로 Recurrent Neural Network(RNN)입니다. RNN은 시퀀스(Sequence) 형태의 데이터를 처리하기에 최적인 모델로 알려져 있습니다."
   ]
  },
  {
   "cell_type": "markdown",
   "id": "alive-programming",
   "metadata": {},
   "source": [
    "### 모델 설계"
   ]
  },
  {
   "cell_type": "code",
   "execution_count": 58,
   "id": "increasing-falls",
   "metadata": {},
   "outputs": [
    {
     "name": "stdout",
     "output_type": "stream",
     "text": [
      "Model: \"sequential_3\"\n",
      "_________________________________________________________________\n",
      "Layer (type)                 Output Shape              Param #   \n",
      "=================================================================\n",
      "embedding_3 (Embedding)      (None, None, 16)          160000    \n",
      "_________________________________________________________________\n",
      "lstm_1 (LSTM)                (None, 8)                 800       \n",
      "_________________________________________________________________\n",
      "dense_6 (Dense)              (None, 8)                 72        \n",
      "_________________________________________________________________\n",
      "dense_7 (Dense)              (None, 1)                 9         \n",
      "=================================================================\n",
      "Total params: 160,881\n",
      "Trainable params: 160,881\n",
      "Non-trainable params: 0\n",
      "_________________________________________________________________\n"
     ]
    }
   ],
   "source": [
    "vocab_size = 10000    # 어휘 사전의 크기입니다(10,000개의 단어)\n",
    "word_vector_dim = 16  # 워드 벡터의 차원 수 (변경 가능한 하이퍼파라미터)\n",
    "\n",
    "# model 설계 \n",
    "rnn_model = keras.Sequential()\n",
    "rnn_model.add(keras.layers.Embedding(vocab_size, word_vector_dim, input_shape=(None,)))\n",
    "rnn_model.add(keras.layers.LSTM(8))   # 가장 널리 쓰이는 RNN인 LSTM 레이어를 사용, LSTM state 벡터의 차원수는 8로 \n",
    "rnn_model.add(keras.layers.Dense(8, activation='relu'))\n",
    "rnn_model.add(keras.layers.Dense(1, activation='sigmoid'))  # 최종 출력은 긍정/부정을 나타내는 1dim 입니다.\n",
    "\n",
    "rnn_model.summary()"
   ]
  },
  {
   "cell_type": "markdown",
   "id": "exact-leisure",
   "metadata": {},
   "source": [
    "### 모델 학습"
   ]
  },
  {
   "cell_type": "code",
   "execution_count": 59,
   "id": "agricultural-simple",
   "metadata": {},
   "outputs": [
    {
     "name": "stdout",
     "output_type": "stream",
     "text": [
      "Epoch 1/20\n",
      "196/196 [==============================] - 5s 14ms/step - loss: 0.6269 - accuracy: 0.6855 - val_loss: 0.3865 - val_accuracy: 0.8342\n",
      "Epoch 2/20\n",
      "196/196 [==============================] - 2s 12ms/step - loss: 0.3526 - accuracy: 0.8557 - val_loss: 0.3597 - val_accuracy: 0.8445\n",
      "Epoch 3/20\n",
      "196/196 [==============================] - 2s 12ms/step - loss: 0.3179 - accuracy: 0.8706 - val_loss: 0.3563 - val_accuracy: 0.8462\n",
      "Epoch 4/20\n",
      "196/196 [==============================] - 2s 12ms/step - loss: 0.3014 - accuracy: 0.8783 - val_loss: 0.3579 - val_accuracy: 0.8468\n",
      "Epoch 5/20\n",
      "196/196 [==============================] - 2s 12ms/step - loss: 0.2899 - accuracy: 0.8842 - val_loss: 0.3617 - val_accuracy: 0.8457\n",
      "Epoch 6/20\n",
      "196/196 [==============================] - 2s 12ms/step - loss: 0.2843 - accuracy: 0.8856 - val_loss: 0.3618 - val_accuracy: 0.8462\n",
      "Epoch 7/20\n",
      "196/196 [==============================] - 2s 12ms/step - loss: 0.2753 - accuracy: 0.8899 - val_loss: 0.3726 - val_accuracy: 0.8408\n",
      "Epoch 8/20\n",
      "196/196 [==============================] - 2s 12ms/step - loss: 0.2645 - accuracy: 0.8943 - val_loss: 0.3751 - val_accuracy: 0.8419\n",
      "Epoch 9/20\n",
      "196/196 [==============================] - 2s 12ms/step - loss: 0.2591 - accuracy: 0.8975 - val_loss: 0.3720 - val_accuracy: 0.8440\n",
      "Epoch 10/20\n",
      "196/196 [==============================] - 2s 12ms/step - loss: 0.2522 - accuracy: 0.9019 - val_loss: 0.3793 - val_accuracy: 0.8421\n",
      "Epoch 11/20\n",
      "196/196 [==============================] - 2s 12ms/step - loss: 0.2388 - accuracy: 0.9061 - val_loss: 0.3842 - val_accuracy: 0.8412\n",
      "Epoch 12/20\n",
      "196/196 [==============================] - 2s 12ms/step - loss: 0.2334 - accuracy: 0.9106 - val_loss: 0.3970 - val_accuracy: 0.8403\n",
      "Epoch 13/20\n",
      "196/196 [==============================] - 2s 12ms/step - loss: 0.2233 - accuracy: 0.9141 - val_loss: 0.4012 - val_accuracy: 0.8395\n",
      "Epoch 14/20\n",
      "196/196 [==============================] - 2s 12ms/step - loss: 0.2166 - accuracy: 0.9168 - val_loss: 0.4101 - val_accuracy: 0.8397\n",
      "Epoch 15/20\n",
      "196/196 [==============================] - 2s 12ms/step - loss: 0.2068 - accuracy: 0.9218 - val_loss: 0.4293 - val_accuracy: 0.8381\n",
      "Epoch 16/20\n",
      "196/196 [==============================] - 2s 12ms/step - loss: 0.2025 - accuracy: 0.9227 - val_loss: 0.4365 - val_accuracy: 0.8389\n",
      "Epoch 17/20\n",
      "196/196 [==============================] - 2s 12ms/step - loss: 0.1990 - accuracy: 0.9236 - val_loss: 0.4528 - val_accuracy: 0.8371\n",
      "Epoch 18/20\n",
      "196/196 [==============================] - 2s 12ms/step - loss: 0.1880 - accuracy: 0.9273 - val_loss: 0.4586 - val_accuracy: 0.8362\n",
      "Epoch 19/20\n",
      "196/196 [==============================] - 2s 12ms/step - loss: 0.1823 - accuracy: 0.9304 - val_loss: 0.4883 - val_accuracy: 0.8363\n",
      "Epoch 20/20\n",
      "196/196 [==============================] - 2s 12ms/step - loss: 0.1762 - accuracy: 0.9317 - val_loss: 0.4963 - val_accuracy: 0.8352\n"
     ]
    }
   ],
   "source": [
    "rnn_model.compile(optimizer='adam',\n",
    "              loss='binary_crossentropy',\n",
    "              metrics=['accuracy'])\n",
    "              \n",
    "epochs=20  # 몇 epoch를 훈련하면 좋을지 결과를 보면서 바꾸어 보기\n",
    "\n",
    "rnn_history = rnn_model.fit(partial_x_train,\n",
    "                    partial_y_train,\n",
    "                    epochs=epochs,\n",
    "                    batch_size=512,\n",
    "                    validation_data=(x_val, y_val),\n",
    "                    verbose=1)"
   ]
  },
  {
   "cell_type": "markdown",
   "id": "everyday-baseline",
   "metadata": {},
   "source": [
    "### train/validation loss, accuracy 확인"
   ]
  },
  {
   "cell_type": "code",
   "execution_count": 26,
   "id": "negative-garbage",
   "metadata": {},
   "outputs": [
    {
     "name": "stdout",
     "output_type": "stream",
     "text": [
      "dict_keys(['loss', 'accuracy', 'val_loss', 'val_accuracy'])\n"
     ]
    }
   ],
   "source": [
    "rnn_history_dict = rnn_history.history\n",
    "print(rnn_history_dict.keys()) # epoch에 따른 그래프를 그려볼 수 있는 항목들"
   ]
  },
  {
   "cell_type": "code",
   "execution_count": 27,
   "id": "virtual-therapist",
   "metadata": {},
   "outputs": [
    {
     "data": {
      "image/png": "[encoded data removed]",
      "text/plain": [
       "<Figure size 432x288 with 1 Axes>"
      ]
     },
     "metadata": {
      "needs_background": "light"
     },
     "output_type": "display_data"
    }
   ],
   "source": [
    "rnn_acc = rnn_history_dict['accuracy']\n",
    "rnn_val_acc = rnn_history_dict['val_accuracy']\n",
    "rnn_loss = rnn_history_dict['loss']\n",
    "rnn_val_loss = rnn_history_dict['val_loss']\n",
    "\n",
    "## Training loss & Validation loss 그래프 \n",
    "epochs = range(1, len(rnn_acc) + 1)\n",
    "\n",
    "# \"bo\"는 \"파란색 점\"\n",
    "plt.plot(epochs, rnn_loss, 'bo', label='Training loss')\n",
    "# b는 \"파란 실선\"\n",
    "plt.plot(epochs, rnn_val_loss, 'b', label='Validation loss')\n",
    "plt.title('RNN Training and validation loss')\n",
    "plt.xlabel('Epochs')\n",
    "plt.ylabel('Loss')\n",
    "plt.legend()\n",
    "\n",
    "plt.show()"
   ]
  },
  {
   "cell_type": "code",
   "execution_count": 28,
   "id": "answering-bouquet",
   "metadata": {},
   "outputs": [
    {
     "data": {
      "image/png": "[encoded data removed]",
      "text/plain": [
       "<Figure size 432x288 with 1 Axes>"
      ]
     },
     "metadata": {
      "needs_background": "light"
     },
     "output_type": "display_data"
    }
   ],
   "source": [
    "## Training accuracy & validation accuracy 그래프\n",
    "\n",
    "plt.clf()   # 그림을 초기화합니다\n",
    "\n",
    "plt.plot(epochs, rnn_acc, 'bo', label='Training acc')\n",
    "plt.plot(epochs, rnn_val_acc, 'b', label='Validation acc')\n",
    "plt.title('RNN Training and validation accuracy')\n",
    "plt.xlabel('Epochs')\n",
    "plt.ylabel('Accuracy')\n",
    "plt.legend()\n",
    "\n",
    "plt.show()"
   ]
  },
  {
   "cell_type": "markdown",
   "id": "expensive-syndicate",
   "metadata": {},
   "source": [
    "### 모델 평가 "
   ]
  },
  {
   "cell_type": "code",
   "execution_count": 60,
   "id": "tight-jungle",
   "metadata": {},
   "outputs": [
    {
     "name": "stdout",
     "output_type": "stream",
     "text": [
      "1537/1537 - 5s - loss: 0.4888 - accuracy: 0.8346\n",
      "[0.4887874722480774, 0.8345912098884583]\n"
     ]
    }
   ],
   "source": [
    "# word_vector_dim = 16 \n",
    "rnn_results = rnn_model.evaluate(X_test,  y_test, verbose=2)\n",
    "\n",
    "print(rnn_results)"
   ]
  },
  {
   "cell_type": "code",
   "execution_count": 29,
   "id": "downtown-forty",
   "metadata": {},
   "outputs": [
    {
     "name": "stdout",
     "output_type": "stream",
     "text": [
      "1537/1537 - 5s - loss: 0.5042 - accuracy: 0.8382\n",
      "[0.5042113661766052, 0.838212251663208]\n"
     ]
    }
   ],
   "source": [
    "# word_vector_dim = 32 \n",
    "rnn_results = rnn_model.evaluate(X_test,  y_test, verbose=2)\n",
    "\n",
    "print(rnn_results)"
   ]
  },
  {
   "cell_type": "markdown",
   "id": "impossible-bailey",
   "metadata": {},
   "source": [
    "- word_vector_dim을 16 썼을때 보다 32 썼을 때 accuracy가 조금 올라간 것을 볼 수 있다. "
   ]
  },
  {
   "cell_type": "markdown",
   "id": "detected-lithuania",
   "metadata": {},
   "source": [
    "## 2) 1-D CNN 모델\n",
    "\n",
    "텍스트를 처리하기 위해 RNN이 아니라 1-D Convolution Neural Network(1-D CNN)를 사용할 수도 있습니다.    \n",
    "1-D CNN은 문장 전체를 한꺼번에 한 방향으로 길이 7짜리 필터로 스캐닝 하면서 7단어 이내에서 발견되는 특징을 추출하여 그것으로 문장을 분류하는 방식으로 사용됩니다. 이 방식도 텍스트를 처리하는 데 RNN 못지않은 효율을 보여줍니다.    \n",
    "그리고 CNN 계열은 RNN 계열보다 병렬처리가 효율적이기 때문에 학습 속도도 훨씬 빠르게 진행된다는 장점이 있습니다."
   ]
  },
  {
   "cell_type": "markdown",
   "id": "latest-chemistry",
   "metadata": {},
   "source": [
    "### 모델 설계"
   ]
  },
  {
   "cell_type": "code",
   "execution_count": 61,
   "id": "banned-hudson",
   "metadata": {},
   "outputs": [
    {
     "name": "stdout",
     "output_type": "stream",
     "text": [
      "Model: \"sequential_4\"\n",
      "_________________________________________________________________\n",
      "Layer (type)                 Output Shape              Param #   \n",
      "=================================================================\n",
      "embedding_4 (Embedding)      (None, None, 16)          160000    \n",
      "_________________________________________________________________\n",
      "conv1d_2 (Conv1D)            (None, None, 16)          1808      \n",
      "_________________________________________________________________\n",
      "max_pooling1d_1 (MaxPooling1 (None, None, 16)          0         \n",
      "_________________________________________________________________\n",
      "conv1d_3 (Conv1D)            (None, None, 16)          1808      \n",
      "_________________________________________________________________\n",
      "global_max_pooling1d_2 (Glob (None, 16)                0         \n",
      "_________________________________________________________________\n",
      "dense_8 (Dense)              (None, 8)                 136       \n",
      "_________________________________________________________________\n",
      "dense_9 (Dense)              (None, 1)                 9         \n",
      "=================================================================\n",
      "Total params: 163,761\n",
      "Trainable params: 163,761\n",
      "Non-trainable params: 0\n",
      "_________________________________________________________________\n"
     ]
    }
   ],
   "source": [
    "vocab_size = 10000    # 어휘 사전의 크기입니다(10,000개의 단어)\n",
    "word_vector_dim = 16  # 워드 벡터의 차원 수 (변경 가능한 하이퍼파라미터)\n",
    "\n",
    "cnn1d_model = keras.Sequential()\n",
    "cnn1d_model.add(keras.layers.Embedding(vocab_size, word_vector_dim, input_shape=(None,)))\n",
    "cnn1d_model.add(keras.layers.Conv1D(16, 7, activation='relu'))\n",
    "cnn1d_model.add(keras.layers.MaxPooling1D(5))\n",
    "cnn1d_model.add(keras.layers.Conv1D(16, 7, activation='relu'))\n",
    "cnn1d_model.add(keras.layers.GlobalMaxPooling1D())\n",
    "cnn1d_model.add(keras.layers.Dense(8, activation='relu'))\n",
    "cnn1d_model.add(keras.layers.Dense(1, activation='sigmoid'))  # 최종 출력은 긍정/부정을 나타내는 1dim \n",
    "\n",
    "cnn1d_model.summary()"
   ]
  },
  {
   "cell_type": "markdown",
   "id": "recent-single",
   "metadata": {},
   "source": [
    "### 모델 학습"
   ]
  },
  {
   "cell_type": "code",
   "execution_count": 62,
   "id": "western-morris",
   "metadata": {},
   "outputs": [
    {
     "name": "stdout",
     "output_type": "stream",
     "text": [
      "Epoch 1/20\n",
      "196/196 [==============================] - 6s 19ms/step - loss: 0.6530 - accuracy: 0.5906 - val_loss: 0.4833 - val_accuracy: 0.7546\n",
      "Epoch 2/20\n",
      "196/196 [==============================] - 2s 9ms/step - loss: 0.4450 - accuracy: 0.7797 - val_loss: 0.4670 - val_accuracy: 0.7656\n",
      "Epoch 3/20\n",
      "196/196 [==============================] - 2s 9ms/step - loss: 0.4108 - accuracy: 0.7987 - val_loss: 0.4649 - val_accuracy: 0.7692\n",
      "Epoch 4/20\n",
      "196/196 [==============================] - 2s 9ms/step - loss: 0.3850 - accuracy: 0.8151 - val_loss: 0.4755 - val_accuracy: 0.7649\n",
      "Epoch 5/20\n",
      "196/196 [==============================] - 2s 9ms/step - loss: 0.3554 - accuracy: 0.8308 - val_loss: 0.4850 - val_accuracy: 0.7667\n",
      "Epoch 6/20\n",
      "196/196 [==============================] - 2s 9ms/step - loss: 0.3228 - accuracy: 0.8469 - val_loss: 0.5077 - val_accuracy: 0.7636\n",
      "Epoch 7/20\n",
      "196/196 [==============================] - 2s 9ms/step - loss: 0.2823 - accuracy: 0.8679 - val_loss: 0.5423 - val_accuracy: 0.7605\n",
      "Epoch 8/20\n",
      "196/196 [==============================] - 2s 9ms/step - loss: 0.2506 - accuracy: 0.8824 - val_loss: 0.5913 - val_accuracy: 0.7559\n",
      "Epoch 9/20\n",
      "196/196 [==============================] - 2s 9ms/step - loss: 0.2223 - accuracy: 0.8968 - val_loss: 0.6405 - val_accuracy: 0.7498\n",
      "Epoch 10/20\n",
      "196/196 [==============================] - 2s 9ms/step - loss: 0.2012 - accuracy: 0.9031 - val_loss: 0.6870 - val_accuracy: 0.7495\n",
      "Epoch 11/20\n",
      "196/196 [==============================] - 2s 9ms/step - loss: 0.1834 - accuracy: 0.9107 - val_loss: 0.7403 - val_accuracy: 0.7473\n",
      "Epoch 12/20\n",
      "196/196 [==============================] - 2s 9ms/step - loss: 0.1716 - accuracy: 0.9153 - val_loss: 0.7927 - val_accuracy: 0.7432\n",
      "Epoch 13/20\n",
      "196/196 [==============================] - 2s 9ms/step - loss: 0.1623 - accuracy: 0.9181 - val_loss: 0.8439 - val_accuracy: 0.7446\n",
      "Epoch 14/20\n",
      "196/196 [==============================] - 2s 9ms/step - loss: 0.1542 - accuracy: 0.9214 - val_loss: 0.8950 - val_accuracy: 0.7417\n",
      "Epoch 15/20\n",
      "196/196 [==============================] - 2s 9ms/step - loss: 0.1454 - accuracy: 0.9240 - val_loss: 0.9494 - val_accuracy: 0.7370\n",
      "Epoch 16/20\n",
      "196/196 [==============================] - 2s 9ms/step - loss: 0.1421 - accuracy: 0.9259 - val_loss: 0.9998 - val_accuracy: 0.7381\n",
      "Epoch 17/20\n",
      "196/196 [==============================] - 2s 9ms/step - loss: 0.1376 - accuracy: 0.9263 - val_loss: 1.0533 - val_accuracy: 0.7354\n",
      "Epoch 18/20\n",
      "196/196 [==============================] - 2s 9ms/step - loss: 0.1347 - accuracy: 0.9276 - val_loss: 1.0889 - val_accuracy: 0.7372\n",
      "Epoch 19/20\n",
      "196/196 [==============================] - 2s 9ms/step - loss: 0.1303 - accuracy: 0.9289 - val_loss: 1.1162 - val_accuracy: 0.7333\n",
      "Epoch 20/20\n",
      "196/196 [==============================] - 2s 9ms/step - loss: 0.1273 - accuracy: 0.9315 - val_loss: 1.1808 - val_accuracy: 0.7319\n"
     ]
    }
   ],
   "source": [
    "cnn1d_model.compile(optimizer='adam',\n",
    "              loss='binary_crossentropy',\n",
    "              metrics=['accuracy'])\n",
    "              \n",
    "epochs=20  # 몇 epoch를 훈련하면 좋을지 결과를 보면서 바꾸어 보기\n",
    "\n",
    "cnn1d_history = cnn1d_model.fit(partial_x_train,\n",
    "                    partial_y_train,\n",
    "                    epochs=epochs,\n",
    "                    batch_size=512,\n",
    "                    validation_data=(x_val, y_val),\n",
    "                    verbose=1)"
   ]
  },
  {
   "cell_type": "markdown",
   "id": "aboriginal-television",
   "metadata": {},
   "source": [
    "### train/validation loss, accuracy 확인"
   ]
  },
  {
   "cell_type": "code",
   "execution_count": 32,
   "id": "median-premises",
   "metadata": {},
   "outputs": [
    {
     "name": "stdout",
     "output_type": "stream",
     "text": [
      "dict_keys(['loss', 'accuracy', 'val_loss', 'val_accuracy'])\n"
     ]
    }
   ],
   "source": [
    "cnn1d_history_dict = cnn1d_history.history\n",
    "print(cnn1d_history_dict.keys()) # epoch에 따른 그래프를 그려볼 수 있는 항목들"
   ]
  },
  {
   "cell_type": "code",
   "execution_count": 33,
   "id": "offensive-notebook",
   "metadata": {},
   "outputs": [
    {
     "data": {
      "image/png": "[encoded data removed]",
      "text/plain": [
       "<Figure size 432x288 with 1 Axes>"
      ]
     },
     "metadata": {
      "needs_background": "light"
     },
     "output_type": "display_data"
    }
   ],
   "source": [
    "cnn1d_acc = cnn1d_history_dict['accuracy']\n",
    "cnn1d_val_acc = cnn1d_history_dict['val_accuracy']\n",
    "cnn1d_loss = cnn1d_history_dict['loss']\n",
    "cnn1d_val_loss = cnn1d_history_dict['val_loss']\n",
    "\n",
    "## Training loss & Validation loss 그래프 \n",
    "epochs = range(1, len(cnn1d_acc) + 1)\n",
    "\n",
    "# \"bo\"는 \"파란색 점\"\n",
    "plt.plot(epochs, cnn1d_loss, 'bo', label='Training loss')\n",
    "# b는 \"파란 실선\"\n",
    "plt.plot(epochs, cnn1d_val_loss, 'b', label='Validation loss')\n",
    "plt.title('1-D CNN Training and validation loss')\n",
    "plt.xlabel('Epochs')\n",
    "plt.ylabel('Loss')\n",
    "plt.legend()\n",
    "\n",
    "plt.show()"
   ]
  },
  {
   "cell_type": "code",
   "execution_count": 34,
   "id": "executed-calibration",
   "metadata": {},
   "outputs": [
    {
     "data": {
      "image/png": "[encoded data removed]",
      "text/plain": [
       "<Figure size 432x288 with 1 Axes>"
      ]
     },
     "metadata": {
      "needs_background": "light"
     },
     "output_type": "display_data"
    }
   ],
   "source": [
    "## Training accuracy & validation accuracy 그래프\n",
    "\n",
    "plt.clf()   # 그림을 초기화합니다\n",
    "\n",
    "plt.plot(epochs, cnn1d_acc, 'bo', label='Training acc')\n",
    "plt.plot(epochs, cnn1d_val_acc, 'b', label='Validation acc')\n",
    "plt.title('1-D CNN Training and validation accuracy')\n",
    "plt.xlabel('Epochs')\n",
    "plt.ylabel('Accuracy')\n",
    "plt.legend()\n",
    "\n",
    "plt.show()"
   ]
  },
  {
   "cell_type": "markdown",
   "id": "challenging-privacy",
   "metadata": {},
   "source": [
    "### 모델 평가 "
   ]
  },
  {
   "cell_type": "code",
   "execution_count": 63,
   "id": "weekly-services",
   "metadata": {},
   "outputs": [
    {
     "name": "stdout",
     "output_type": "stream",
     "text": [
      "1537/1537 - 4s - loss: 1.1901 - accuracy: 0.7271\n",
      "[1.1901416778564453, 0.7270988821983337]\n"
     ]
    }
   ],
   "source": [
    "# word_vector_dim = 16\n",
    "cnn1d_results = cnn1d_model.evaluate(X_test,  y_test, verbose=2)\n",
    "\n",
    "print(cnn1d_results)"
   ]
  },
  {
   "cell_type": "code",
   "execution_count": 36,
   "id": "representative-installation",
   "metadata": {},
   "outputs": [
    {
     "name": "stdout",
     "output_type": "stream",
     "text": [
      "1537/1537 - 3s - loss: 1.3464 - accuracy: 0.7288\n",
      "[1.34640634059906, 0.728787362575531]\n"
     ]
    }
   ],
   "source": [
    "# word_vector_dim = 32\n",
    "cnn1d_results = cnn1d_model.evaluate(X_test,  y_test, verbose=2)\n",
    "\n",
    "print(cnn1d_results)"
   ]
  },
  {
   "cell_type": "markdown",
   "id": "focused-token",
   "metadata": {},
   "source": [
    "- word_vector_dim을 16 썼을때 보다 32 썼을 때 accuracy가 조금 올라간 것을 볼 수 있다. \n",
    "- 하지만 애초에 loss가 너무 큰 모델인 것 같다. "
   ]
  },
  {
   "cell_type": "markdown",
   "id": "exotic-glasgow",
   "metadata": {},
   "source": [
    "## 3) GlobalMaxPooling1D() 레이어 하나만 사용하는 모델 \n",
    "\n",
    "이 방식은 전체 문장 중에서 단 하나의 가장 중요한 단어만 피처로 추출하여 그것으로 문장의 긍정/부정을 평가하는 방식이라고 생각할 수 있는데, 의외로 성능이 잘 나올 수도 있습니다."
   ]
  },
  {
   "cell_type": "markdown",
   "id": "little-surveillance",
   "metadata": {},
   "source": [
    "### 모델 설계"
   ]
  },
  {
   "cell_type": "code",
   "execution_count": 64,
   "id": "accompanied-scheduling",
   "metadata": {},
   "outputs": [
    {
     "name": "stdout",
     "output_type": "stream",
     "text": [
      "Model: \"sequential_5\"\n",
      "_________________________________________________________________\n",
      "Layer (type)                 Output Shape              Param #   \n",
      "=================================================================\n",
      "embedding_5 (Embedding)      (None, None, 16)          160000    \n",
      "_________________________________________________________________\n",
      "global_max_pooling1d_3 (Glob (None, 16)                0         \n",
      "_________________________________________________________________\n",
      "dense_10 (Dense)             (None, 8)                 136       \n",
      "_________________________________________________________________\n",
      "dense_11 (Dense)             (None, 1)                 9         \n",
      "=================================================================\n",
      "Total params: 160,145\n",
      "Trainable params: 160,145\n",
      "Non-trainable params: 0\n",
      "_________________________________________________________________\n"
     ]
    }
   ],
   "source": [
    "vocab_size = 10000    # 어휘 사전의 크기입니다(10,000개의 단어)\n",
    "word_vector_dim = 16  # 워드 벡터의 차원 수 (변경 가능한 하이퍼파라미터)\n",
    "\n",
    "gmp1d_model = keras.Sequential()\n",
    "gmp1d_model.add(keras.layers.Embedding(vocab_size, word_vector_dim, input_shape=(None,)))\n",
    "gmp1d_model.add(keras.layers.GlobalMaxPooling1D())\n",
    "gmp1d_model.add(keras.layers.Dense(8, activation='relu'))\n",
    "gmp1d_model.add(keras.layers.Dense(1, activation='sigmoid'))  # 최종 출력은 긍정/부정을 나타내는 1dim \n",
    "\n",
    "gmp1d_model.summary()"
   ]
  },
  {
   "cell_type": "markdown",
   "id": "acute-transfer",
   "metadata": {},
   "source": [
    "### 모델 학습"
   ]
  },
  {
   "cell_type": "code",
   "execution_count": 65,
   "id": "skilled-pregnancy",
   "metadata": {},
   "outputs": [
    {
     "name": "stdout",
     "output_type": "stream",
     "text": [
      "Epoch 1/20\n",
      "196/196 [==============================] - 2s 7ms/step - loss: 0.6662 - accuracy: 0.6826 - val_loss: 0.4911 - val_accuracy: 0.8006\n",
      "Epoch 2/20\n",
      "196/196 [==============================] - 1s 7ms/step - loss: 0.4332 - accuracy: 0.8267 - val_loss: 0.3821 - val_accuracy: 0.8305\n",
      "Epoch 3/20\n",
      "196/196 [==============================] - 1s 6ms/step - loss: 0.3438 - accuracy: 0.8554 - val_loss: 0.3649 - val_accuracy: 0.8397\n",
      "Epoch 4/20\n",
      "196/196 [==============================] - 1s 7ms/step - loss: 0.3081 - accuracy: 0.8712 - val_loss: 0.3610 - val_accuracy: 0.8425\n",
      "Epoch 5/20\n",
      "196/196 [==============================] - 1s 6ms/step - loss: 0.2820 - accuracy: 0.8839 - val_loss: 0.3630 - val_accuracy: 0.8442\n",
      "Epoch 6/20\n",
      "196/196 [==============================] - 1s 7ms/step - loss: 0.2631 - accuracy: 0.8923 - val_loss: 0.3685 - val_accuracy: 0.8436\n",
      "Epoch 7/20\n",
      "196/196 [==============================] - 1s 7ms/step - loss: 0.2459 - accuracy: 0.9017 - val_loss: 0.3759 - val_accuracy: 0.8434\n",
      "Epoch 8/20\n",
      "196/196 [==============================] - 1s 6ms/step - loss: 0.2318 - accuracy: 0.9087 - val_loss: 0.3855 - val_accuracy: 0.8421\n",
      "Epoch 9/20\n",
      "196/196 [==============================] - 1s 6ms/step - loss: 0.2201 - accuracy: 0.9145 - val_loss: 0.3969 - val_accuracy: 0.8408\n",
      "Epoch 10/20\n",
      "196/196 [==============================] - 1s 7ms/step - loss: 0.2045 - accuracy: 0.9222 - val_loss: 0.4081 - val_accuracy: 0.8394\n",
      "Epoch 11/20\n",
      "196/196 [==============================] - 1s 7ms/step - loss: 0.1970 - accuracy: 0.9251 - val_loss: 0.4204 - val_accuracy: 0.8367\n",
      "Epoch 12/20\n",
      "196/196 [==============================] - 1s 7ms/step - loss: 0.1863 - accuracy: 0.9303 - val_loss: 0.4329 - val_accuracy: 0.8359\n",
      "Epoch 13/20\n",
      "196/196 [==============================] - 1s 7ms/step - loss: 0.1758 - accuracy: 0.9362 - val_loss: 0.4450 - val_accuracy: 0.8344\n",
      "Epoch 14/20\n",
      "196/196 [==============================] - 1s 6ms/step - loss: 0.1708 - accuracy: 0.9372 - val_loss: 0.4593 - val_accuracy: 0.8331\n",
      "Epoch 15/20\n",
      "196/196 [==============================] - 1s 7ms/step - loss: 0.1639 - accuracy: 0.9412 - val_loss: 0.4730 - val_accuracy: 0.8326\n",
      "Epoch 16/20\n",
      "196/196 [==============================] - 1s 6ms/step - loss: 0.1562 - accuracy: 0.9452 - val_loss: 0.4843 - val_accuracy: 0.8305\n",
      "Epoch 17/20\n",
      "196/196 [==============================] - 1s 6ms/step - loss: 0.1481 - accuracy: 0.9481 - val_loss: 0.4985 - val_accuracy: 0.8290\n",
      "Epoch 18/20\n",
      "196/196 [==============================] - 1s 6ms/step - loss: 0.1450 - accuracy: 0.9505 - val_loss: 0.5120 - val_accuracy: 0.8292\n",
      "Epoch 19/20\n",
      "196/196 [==============================] - 1s 6ms/step - loss: 0.1385 - accuracy: 0.9529 - val_loss: 0.5238 - val_accuracy: 0.8273\n",
      "Epoch 20/20\n",
      "196/196 [==============================] - 1s 6ms/step - loss: 0.1354 - accuracy: 0.9542 - val_loss: 0.5367 - val_accuracy: 0.8266\n"
     ]
    }
   ],
   "source": [
    "gmp1d_model.compile(optimizer='adam',\n",
    "              loss='binary_crossentropy',\n",
    "              metrics=['accuracy'])\n",
    "              \n",
    "epochs=20  # 몇 epoch를 훈련하면 좋을지 결과를 보면서 바꾸어 봅시다. \n",
    "\n",
    "gmp1d_history = gmp1d_model.fit(partial_x_train,\n",
    "                    partial_y_train,\n",
    "                    epochs=epochs,\n",
    "                    batch_size=512,\n",
    "                    validation_data=(x_val, y_val),\n",
    "                    verbose=1)"
   ]
  },
  {
   "cell_type": "markdown",
   "id": "fundamental-photograph",
   "metadata": {},
   "source": [
    "### train/validation loss, accuracy 확인"
   ]
  },
  {
   "cell_type": "code",
   "execution_count": 66,
   "id": "floating-nancy",
   "metadata": {},
   "outputs": [
    {
     "name": "stdout",
     "output_type": "stream",
     "text": [
      "dict_keys(['loss', 'accuracy', 'val_loss', 'val_accuracy'])\n"
     ]
    }
   ],
   "source": [
    "gmp1d_history_dict = gmp1d_history.history\n",
    "print(gmp1d_history_dict.keys()) # epoch에 따른 그래프를 그려볼 수 있는 항목들"
   ]
  },
  {
   "cell_type": "code",
   "execution_count": 67,
   "id": "criminal-springfield",
   "metadata": {},
   "outputs": [
    {
     "data": {
      "image/png": "[encoded data removed]",
      "text/plain": [
       "<Figure size 432x288 with 1 Axes>"
      ]
     },
     "metadata": {
      "needs_background": "light"
     },
     "output_type": "display_data"
    }
   ],
   "source": [
    "gmp1d_acc = gmp1d_history_dict['accuracy']\n",
    "gmp1d_val_acc = gmp1d_history_dict['val_accuracy']\n",
    "gmp1d_loss = gmp1d_history_dict['loss']\n",
    "gmp1d_val_loss = gmp1d_history_dict['val_loss']\n",
    "\n",
    "## Training loss & Validation loss 그래프 \n",
    "epochs = range(1, len(gmp1d_acc) + 1)\n",
    "\n",
    "# \"bo\"는 \"파란색 점\"\n",
    "plt.plot(epochs, gmp1d_loss, 'bo', label='Training loss')\n",
    "# b는 \"파란 실선\"\n",
    "plt.plot(epochs, gmp1d_val_loss, 'b', label='Validation loss')\n",
    "plt.title('GlobalMaxPooling-1D Training and validation loss')\n",
    "plt.xlabel('Epochs')\n",
    "plt.ylabel('Loss')\n",
    "plt.legend()\n",
    "\n",
    "plt.show()"
   ]
  },
  {
   "cell_type": "code",
   "execution_count": 68,
   "id": "fuzzy-detector",
   "metadata": {},
   "outputs": [
    {
     "data": {
      "image/png": "[encoded data removed]",
      "text/plain": [
       "<Figure size 432x288 with 1 Axes>"
      ]
     },
     "metadata": {
      "needs_background": "light"
     },
     "output_type": "display_data"
    }
   ],
   "source": [
    "plt.clf()   # 그림을 초기화합니다\n",
    "\n",
    "plt.plot(epochs, gmp1d_acc, 'bo', label='Training acc')\n",
    "plt.plot(epochs, gmp1d_val_acc, 'b', label='Validation acc')\n",
    "plt.title('GlobalMaxPooling-1D Training and validation accuracy')\n",
    "plt.xlabel('Epochs')\n",
    "plt.ylabel('Accuracy')\n",
    "plt.legend()\n",
    "\n",
    "plt.show()"
   ]
  },
  {
   "cell_type": "markdown",
   "id": "empty-small",
   "metadata": {},
   "source": [
    "### 모델 평가"
   ]
  },
  {
   "cell_type": "code",
   "execution_count": 69,
   "id": "underlying-filling",
   "metadata": {},
   "outputs": [
    {
     "name": "stdout",
     "output_type": "stream",
     "text": [
      "1537/1537 - 2s - loss: 0.5445 - accuracy: 0.8218\n",
      "[0.5445311665534973, 0.8217548131942749]\n"
     ]
    }
   ],
   "source": [
    "# word_vector_dim = 16\n",
    "results = gmp1d_model.evaluate(X_test,  y_test, verbose=2)\n",
    "\n",
    "print(results)"
   ]
  },
  {
   "cell_type": "code",
   "execution_count": 43,
   "id": "defensive-myanmar",
   "metadata": {},
   "outputs": [
    {
     "name": "stdout",
     "output_type": "stream",
     "text": [
      "1537/1537 - 2s - loss: 0.7180 - accuracy: 0.8205\n",
      "[0.7180452942848206, 0.8204935193061829]\n"
     ]
    }
   ],
   "source": [
    "# word_vector_dim = 32\n",
    "results = gmp1d_model.evaluate(X_test,  y_test, verbose=2)\n",
    "\n",
    "print(results)"
   ]
  },
  {
   "cell_type": "markdown",
   "id": "moving-attachment",
   "metadata": {},
   "source": [
    "- word_vector_dim을 16 썼을때 보다 32 썼을 때 accuracy가 더 떨어지고 loss도 많이 커진 것을 볼 수 있다. "
   ]
  },
  {
   "cell_type": "markdown",
   "id": "institutional-immigration",
   "metadata": {},
   "source": [
    "# 5. 학습된 Embedding 레이어 분석\n",
    "\n",
    "gensim을 활용하여 자체학습된 임베딩 레이어를 분석해본다. "
   ]
  },
  {
   "cell_type": "markdown",
   "id": "indie-nation",
   "metadata": {},
   "source": [
    "## 1) RNN "
   ]
  },
  {
   "cell_type": "code",
   "execution_count": 44,
   "id": "touched-accommodation",
   "metadata": {},
   "outputs": [
    {
     "name": "stdout",
     "output_type": "stream",
     "text": [
      "(10000, 32)\n"
     ]
    }
   ],
   "source": [
    "rnn_embedding_layer = rnn_model.layers[0]\n",
    "rnn_weights = rnn_embedding_layer.get_weights()[0]\n",
    "print(rnn_weights.shape)    # shape: (vocab_size, embedding_dim)"
   ]
  },
  {
   "cell_type": "code",
   "execution_count": 45,
   "id": "beginning-documentary",
   "metadata": {},
   "outputs": [],
   "source": [
    "import os\n",
    "\n",
    "# 학습한 Embedding 파라미터를 파일에 써서 저장합니다. \n",
    "rnn_word2vec_file_path = os.getenv('HOME')+'/aiffel/Exploration/E7/data/rnn_word2vec.txt'\n",
    "f = open(rnn_word2vec_file_path, 'w')\n",
    "f.write('{} {}\\n'.format(vocab_size-4, word_vector_dim))  # 몇개의 벡터를 얼마 사이즈로 기재할지 타이틀을 씁니다.\n",
    "\n",
    "# 단어 개수(에서 특수문자 4개는 제외하고)만큼의 워드 벡터를 파일에 기록합니다. \n",
    "rnn_vectors = rnn_model.get_weights()[0]\n",
    "for i in range(4,vocab_size):\n",
    "    f.write('{} {}\\n'.format(index_to_word[i], ' '.join(map(str, list(rnn_vectors[i, :])))))\n",
    "f.close()"
   ]
  },
  {
   "cell_type": "code",
   "execution_count": 46,
   "id": "acceptable-mattress",
   "metadata": {},
   "outputs": [
    {
     "name": "stderr",
     "output_type": "stream",
     "text": [
      "/opt/conda/lib/python3.7/site-packages/gensim/similarities/__init__.py:15: UserWarning: The gensim.similarities.levenshtein submodule is disabled, because the optional Levenshtein package <https://pypi.org/project/python-Levenshtein/> is unavailable. Install Levenhstein (e.g. `pip install python-Levenshtein`) to suppress this warning.\n",
      "  warnings.warn(msg)\n"
     ]
    },
    {
     "data": {
      "text/plain": [
       "array([-0.06678939,  0.13236834, -0.15419503,  0.14574748, -0.08810258,\n",
       "       -0.04910444, -0.20529374, -0.07102077,  0.19097614,  0.03787336,\n",
       "       -0.1555728 ,  0.20897174,  0.02597507,  0.27731884, -0.10851872,\n",
       "        0.07266102,  0.09065792, -0.04030541,  0.09827105,  0.19364063,\n",
       "        0.04615596, -0.24710336, -0.07784062, -0.18978855, -0.0763343 ,\n",
       "        0.31283435, -0.07756382, -0.0618914 , -0.16501717,  0.12769033,\n",
       "        0.14998756,  0.0016737 ], dtype=float32)"
      ]
     },
     "execution_count": 46,
     "metadata": {},
     "output_type": "execute_result"
    }
   ],
   "source": [
    "from gensim.models.keyedvectors import Word2VecKeyedVectors\n",
    "\n",
    "rnn_word_vectors = Word2VecKeyedVectors.load_word2vec_format(rnn_word2vec_file_path, binary=False)\n",
    "vector = rnn_word_vectors['사랑']\n",
    "vector"
   ]
  },
  {
   "cell_type": "markdown",
   "id": "filled-craft",
   "metadata": {},
   "source": [
    "- gensim에서 제공하는 패키지를 이용해, 위에 남긴 임베딩 파라미터를 읽어서 word vector로 활용할 수 있습니다."
   ]
  },
  {
   "cell_type": "code",
   "execution_count": 47,
   "id": "secondary-namibia",
   "metadata": {},
   "outputs": [
    {
     "data": {
      "text/plain": [
       "[('깨끗', 0.9375412464141846),\n",
       " ('갑옷', 0.9263908267021179),\n",
       " ('밋', 0.9229751825332642),\n",
       " ('졌으면', 0.9189354181289673),\n",
       " ('재미있', 0.913223922252655),\n",
       " ('즐겁', 0.9128591418266296),\n",
       " ('재밌', 0.9053227305412292),\n",
       " ('률', 0.9004949927330017),\n",
       " ('아파', 0.8978623747825623),\n",
       " ('명작', 0.8970028162002563)]"
      ]
     },
     "execution_count": 47,
     "metadata": {},
     "output_type": "execute_result"
    }
   ],
   "source": [
    "# 단어를 하나 주고 그와 가장 유사한 단어와 그 유사도를 확인하기\n",
    "rnn_word_vectors.similar_by_word(\"사랑\")"
   ]
  },
  {
   "cell_type": "markdown",
   "id": "yellow-commodity",
   "metadata": {},
   "source": [
    "## 2) 1-D CNN"
   ]
  },
  {
   "cell_type": "code",
   "execution_count": 48,
   "id": "engaging-purple",
   "metadata": {},
   "outputs": [
    {
     "name": "stdout",
     "output_type": "stream",
     "text": [
      "(10000, 32)\n"
     ]
    }
   ],
   "source": [
    "cnn1d_embedding_layer = cnn1d_model.layers[0]\n",
    "cnn1d_weights = cnn1d_embedding_layer.get_weights()[0]\n",
    "print(cnn1d_weights.shape)    # shape: (vocab_size, embedding_dim)"
   ]
  },
  {
   "cell_type": "code",
   "execution_count": 49,
   "id": "lonely-ozone",
   "metadata": {},
   "outputs": [],
   "source": [
    "# 학습한 Embedding 파라미터를 파일에 써서 저장합니다. \n",
    "cnn1d_word2vec_file_path = os.getenv('HOME')+'/aiffel/Exploration/E7/data/cnn1d_word2vec.txt'\n",
    "f = open(cnn1d_word2vec_file_path, 'w')\n",
    "f.write('{} {}\\n'.format(vocab_size-4, word_vector_dim))  # 몇개의 벡터를 얼마 사이즈로 기재할지 타이틀을 씁니다.\n",
    "\n",
    "# 단어 개수(에서 특수문자 4개는 제외하고)만큼의 워드 벡터를 파일에 기록합니다. \n",
    "cnn1d_vectors = cnn1d_model.get_weights()[0]\n",
    "for i in range(4,vocab_size):\n",
    "    f.write('{} {}\\n'.format(index_to_word[i], ' '.join(map(str, list(cnn1d_vectors[i, :])))))\n",
    "f.close()"
   ]
  },
  {
   "cell_type": "code",
   "execution_count": 50,
   "id": "gross-content",
   "metadata": {},
   "outputs": [
    {
     "data": {
      "text/plain": [
       "array([ 0.01489828, -0.07304773, -0.09796191,  0.0496802 ,  0.07193971,\n",
       "        0.03551134,  0.02534965, -0.15432781,  0.03836785, -0.0881504 ,\n",
       "        0.00579021, -0.0695053 , -0.00055073, -0.12415516, -0.05962562,\n",
       "        0.08752721, -0.00483787, -0.08407322,  0.04397834,  0.04210342,\n",
       "        0.11492377,  0.00684064, -0.0956311 ,  0.07370058, -0.00887471,\n",
       "        0.04621385,  0.02258993, -0.00990182,  0.09820917,  0.06224319,\n",
       "        0.01945491,  0.07048359], dtype=float32)"
      ]
     },
     "execution_count": 50,
     "metadata": {},
     "output_type": "execute_result"
    }
   ],
   "source": [
    "cnn1d_word_vectors = Word2VecKeyedVectors.load_word2vec_format(cnn1d_word2vec_file_path, binary=False)\n",
    "vector = cnn1d_word_vectors['사랑']\n",
    "vector"
   ]
  },
  {
   "cell_type": "code",
   "execution_count": 51,
   "id": "negative-deviation",
   "metadata": {},
   "outputs": [
    {
     "data": {
      "text/plain": [
       "[('온전히', 0.7341041564941406),\n",
       " ('샤', 0.7270454168319702),\n",
       " ('오싹', 0.7248449921607971),\n",
       " ('알차', 0.7161033153533936),\n",
       " ('감자', 0.7104562520980835),\n",
       " ('진가', 0.7082674503326416),\n",
       " ('스무', 0.7058520913124084),\n",
       " ('주몽', 0.7047841548919678),\n",
       " ('모처럼', 0.7043222784996033),\n",
       " ('시린', 0.7033970355987549)]"
      ]
     },
     "execution_count": 51,
     "metadata": {},
     "output_type": "execute_result"
    }
   ],
   "source": [
    "# 단어를 하나 주고 그와 가장 유사한 단어와 그 유사도를 확인하기\n",
    "cnn1d_word_vectors.similar_by_word(\"사랑\")"
   ]
  },
  {
   "cell_type": "markdown",
   "id": "skilled-hostel",
   "metadata": {},
   "source": [
    "## 3) GlobalMaxPooling1D() "
   ]
  },
  {
   "cell_type": "code",
   "execution_count": 52,
   "id": "altered-favorite",
   "metadata": {},
   "outputs": [
    {
     "name": "stdout",
     "output_type": "stream",
     "text": [
      "(10000, 32)\n"
     ]
    }
   ],
   "source": [
    "gmp1d_embedding_layer = gmp1d_model.layers[0]\n",
    "gmp1d_weights = gmp1d_embedding_layer.get_weights()[0]\n",
    "print(gmp1d_weights.shape)    # shape: (vocab_size, embedding_dim)"
   ]
  },
  {
   "cell_type": "code",
   "execution_count": 53,
   "id": "strong-astronomy",
   "metadata": {},
   "outputs": [],
   "source": [
    "# 학습한 Embedding 파라미터를 파일에 써서 저장합니다. \n",
    "gmp1d_word2vec_file_path = os.getenv('HOME')+'/aiffel/Exploration/E7/data/gmp1d_word2vec.txt'\n",
    "f = open(gmp1d_word2vec_file_path, 'w')\n",
    "f.write('{} {}\\n'.format(vocab_size-4, word_vector_dim))  # 몇개의 벡터를 얼마 사이즈로 기재할지 타이틀을 씁니다.\n",
    "\n",
    "# 단어 개수(에서 특수문자 4개는 제외하고)만큼의 워드 벡터를 파일에 기록합니다. \n",
    "gmp1d_vectors = gmp1d_model.get_weights()[0]\n",
    "for i in range(4,vocab_size):\n",
    "    f.write('{} {}\\n'.format(index_to_word[i], ' '.join(map(str, list(gmp1d_vectors[i, :])))))\n",
    "f.close()"
   ]
  },
  {
   "cell_type": "code",
   "execution_count": 54,
   "id": "endless-guitar",
   "metadata": {},
   "outputs": [
    {
     "data": {
      "text/plain": [
       "array([ 0.10343802, -0.03453527, -0.02031648, -0.1540111 ,  0.07651448,\n",
       "       -0.02064647, -0.17408194,  0.06167801,  0.06492566,  0.01853982,\n",
       "       -0.20873782,  0.10677142, -0.0580065 ,  0.07432534, -0.21562982,\n",
       "       -0.19893126,  0.09369016, -0.19799136, -0.20002355, -0.19939853,\n",
       "        0.14311278, -0.06098884, -0.07469507, -0.19478165, -0.1671773 ,\n",
       "        0.09293634, -0.21164992, -0.18419792, -0.09357188,  0.03162838,\n",
       "        0.01553064, -0.17931332], dtype=float32)"
      ]
     },
     "execution_count": 54,
     "metadata": {},
     "output_type": "execute_result"
    }
   ],
   "source": [
    "gmp1d_word_vectors = Word2VecKeyedVectors.load_word2vec_format(gmp1d_word2vec_file_path, binary=False)\n",
    "vector = gmp1d_word_vectors['사랑']\n",
    "vector"
   ]
  },
  {
   "cell_type": "code",
   "execution_count": 55,
   "id": "ongoing-shaft",
   "metadata": {},
   "outputs": [
    {
     "data": {
      "text/plain": [
       "[('몇', 0.7287728786468506),\n",
       " ('라면', 0.6559146046638489),\n",
       " ('정신없이', 0.6502580046653748),\n",
       " ('죽이', 0.6416970491409302),\n",
       " ('김상경', 0.6382197737693787),\n",
       " ('스릴', 0.6368194818496704),\n",
       " ('픈', 0.6348060369491577),\n",
       " ('나중', 0.6286488771438599),\n",
       " ('엘리베이터', 0.6270647644996643),\n",
       " ('영화제', 0.6265848875045776)]"
      ]
     },
     "execution_count": 55,
     "metadata": {},
     "output_type": "execute_result"
    }
   ],
   "source": [
    "# 단어를 하나 주고 그와 가장 유사한 단어와 그 유사도를 확인하기\n",
    "gmp1d_word_vectors.similar_by_word(\"사랑\")"
   ]
  },
  {
   "cell_type": "markdown",
   "id": "injured-acceptance",
   "metadata": {},
   "source": [
    "- 세가지 모델 모두 사랑이라는 단어와 유사한 다른 단어를 그리 잘 찾았다고 느껴지지 않습니다. 감성분류 태스크를 잠깐 학습한 것만으로 워드 벡터가 유의미하게 학습되기는 어려운 것 같습니다. 우리가 다룬 정도의 훈련데이터로는 워드 벡터를 정교하게 학습시키기 어렵습니다."
   ]
  },
  {
   "cell_type": "markdown",
   "id": "weird-intervention",
   "metadata": {},
   "source": [
    "# 5. Word2Vec\n",
    "\n",
    "https://radimrehurek.com/gensim/models/word2vec.html"
   ]
  },
  {
   "cell_type": "code",
   "execution_count": 56,
   "id": "smaller-baseball",
   "metadata": {},
   "outputs": [
    {
     "name": "stderr",
     "output_type": "stream",
     "text": [
      "Exception in thread Thread-5:\n",
      "Traceback (most recent call last):\n",
      "  File \"/opt/conda/lib/python3.7/threading.py\", line 926, in _bootstrap_inner\n",
      "    self.run()\n",
      "  File \"/opt/conda/lib/python3.7/threading.py\", line 870, in run\n",
      "    self._target(*self._args, **self._kwargs)\n",
      "  File \"/opt/conda/lib/python3.7/site-packages/gensim/models/word2vec.py\", line 1155, in _worker_loop\n",
      "    tally, raw_tally = self._do_train_job(data_iterable, alpha, thread_private_mem)\n",
      "  File \"/opt/conda/lib/python3.7/site-packages/gensim/models/word2vec.py\", line 946, in _do_train_job\n",
      "    tally += train_batch_cbow(self, sentences, alpha, work, neu1, self.compute_loss)\n",
      "  File \"gensim/models/word2vec_inner.pyx\", line 638, in gensim.models.word2vec_inner.train_batch_cbow\n",
      "ValueError: The truth value of an array with more than one element is ambiguous. Use a.any() or a.all()\n",
      "\n",
      "Exception in thread Thread-7:\n",
      "Traceback (most recent call last):\n",
      "  File \"/opt/conda/lib/python3.7/threading.py\", line 926, in _bootstrap_inner\n",
      "    self.run()\n",
      "  File \"/opt/conda/lib/python3.7/threading.py\", line 870, in run\n",
      "    self._target(*self._args, **self._kwargs)\n",
      "  File \"/opt/conda/lib/python3.7/site-packages/gensim/models/word2vec.py\", line 1155, in _worker_loop\n",
      "    tally, raw_tally = self._do_train_job(data_iterable, alpha, thread_private_mem)\n",
      "  File \"/opt/conda/lib/python3.7/site-packages/gensim/models/word2vec.py\", line 946, in _do_train_job\n",
      "    tally += train_batch_cbow(self, sentences, alpha, work, neu1, self.compute_loss)\n",
      "  File \"gensim/models/word2vec_inner.pyx\", line 638, in gensim.models.word2vec_inner.train_batch_cbow\n",
      "ValueError: The truth value of an array with more than one element is ambiguous. Use a.any() or a.all()\n",
      "\n",
      "Exception in thread Thread-4:\n",
      "Traceback (most recent call last):\n",
      "  File \"/opt/conda/lib/python3.7/threading.py\", line 926, in _bootstrap_inner\n",
      "    self.run()\n",
      "  File \"/opt/conda/lib/python3.7/threading.py\", line 870, in run\n",
      "    self._target(*self._args, **self._kwargs)\n",
      "  File \"/opt/conda/lib/python3.7/site-packages/gensim/models/word2vec.py\", line 1155, in _worker_loop\n",
      "    tally, raw_tally = self._do_train_job(data_iterable, alpha, thread_private_mem)\n",
      "  File \"/opt/conda/lib/python3.7/site-packages/gensim/models/word2vec.py\", line 946, in _do_train_job\n",
      "    tally += train_batch_cbow(self, sentences, alpha, work, neu1, self.compute_loss)\n",
      "  File \"gensim/models/word2vec_inner.pyx\", line 638, in gensim.models.word2vec_inner.train_batch_cbow\n",
      "ValueError: The truth value of an array with more than one element is ambiguous. Use a.any() or a.all()\n",
      "\n",
      "Exception in thread Thread-6:\n",
      "Traceback (most recent call last):\n",
      "  File \"/opt/conda/lib/python3.7/threading.py\", line 926, in _bootstrap_inner\n",
      "    self.run()\n",
      "  File \"/opt/conda/lib/python3.7/threading.py\", line 870, in run\n",
      "    self._target(*self._args, **self._kwargs)\n",
      "  File \"/opt/conda/lib/python3.7/site-packages/gensim/models/word2vec.py\", line 1155, in _worker_loop\n",
      "    tally, raw_tally = self._do_train_job(data_iterable, alpha, thread_private_mem)\n",
      "  File \"/opt/conda/lib/python3.7/site-packages/gensim/models/word2vec.py\", line 946, in _do_train_job\n",
      "    tally += train_batch_cbow(self, sentences, alpha, work, neu1, self.compute_loss)\n",
      "  File \"gensim/models/word2vec_inner.pyx\", line 638, in gensim.models.word2vec_inner.train_batch_cbow\n",
      "ValueError: The truth value of an array with more than one element is ambiguous. Use a.any() or a.all()\n",
      "\n"
     ]
    },
    {
     "ename": "KeyboardInterrupt",
     "evalue": "",
     "output_type": "error",
     "traceback": [
      "\u001b[0;31m---------------------------------------------------------------------------\u001b[0m",
      "\u001b[0;31mKeyboardInterrupt\u001b[0m                         Traceback (most recent call last)",
      "\u001b[0;32m<ipython-input-56-163de1dddd5d>\u001b[0m in \u001b[0;36m<module>\u001b[0;34m\u001b[0m\n\u001b[1;32m      1\u001b[0m \u001b[0;32mfrom\u001b[0m \u001b[0mgensim\u001b[0m\u001b[0;34m.\u001b[0m\u001b[0mmodels\u001b[0m \u001b[0;32mimport\u001b[0m \u001b[0mWord2Vec\u001b[0m\u001b[0;34m\u001b[0m\u001b[0;34m\u001b[0m\u001b[0m\n\u001b[0;32m----> 2\u001b[0;31m \u001b[0mmodel\u001b[0m \u001b[0;34m=\u001b[0m \u001b[0mWord2Vec\u001b[0m\u001b[0;34m(\u001b[0m\u001b[0msentences\u001b[0m \u001b[0;34m=\u001b[0m \u001b[0mX_train\u001b[0m\u001b[0;34m,\u001b[0m \u001b[0mvector_size\u001b[0m \u001b[0;34m=\u001b[0m \u001b[0;36m100\u001b[0m\u001b[0;34m,\u001b[0m \u001b[0mwindow\u001b[0m \u001b[0;34m=\u001b[0m \u001b[0;36m5\u001b[0m\u001b[0;34m,\u001b[0m \u001b[0mmin_count\u001b[0m \u001b[0;34m=\u001b[0m \u001b[0;36m5\u001b[0m\u001b[0;34m,\u001b[0m \u001b[0mworkers\u001b[0m \u001b[0;34m=\u001b[0m \u001b[0;36m4\u001b[0m\u001b[0;34m,\u001b[0m \u001b[0msg\u001b[0m \u001b[0;34m=\u001b[0m \u001b[0;36m0\u001b[0m\u001b[0;34m)\u001b[0m\u001b[0;34m\u001b[0m\u001b[0;34m\u001b[0m\u001b[0m\n\u001b[0m",
      "\u001b[0;32m/opt/conda/lib/python3.7/site-packages/gensim/models/word2vec.py\u001b[0m in \u001b[0;36m__init__\u001b[0;34m(self, sentences, corpus_file, vector_size, alpha, window, min_count, max_vocab_size, sample, seed, workers, min_alpha, sg, hs, negative, ns_exponent, cbow_mean, hashfxn, epochs, null_word, trim_rule, sorted_vocab, batch_words, compute_loss, callbacks, comment, max_final_vocab)\u001b[0m\n\u001b[1;32m    420\u001b[0m                 \u001b[0mcorpus_iterable\u001b[0m\u001b[0;34m=\u001b[0m\u001b[0mcorpus_iterable\u001b[0m\u001b[0;34m,\u001b[0m \u001b[0mcorpus_file\u001b[0m\u001b[0;34m=\u001b[0m\u001b[0mcorpus_file\u001b[0m\u001b[0;34m,\u001b[0m \u001b[0mtotal_examples\u001b[0m\u001b[0;34m=\u001b[0m\u001b[0mself\u001b[0m\u001b[0;34m.\u001b[0m\u001b[0mcorpus_count\u001b[0m\u001b[0;34m,\u001b[0m\u001b[0;34m\u001b[0m\u001b[0;34m\u001b[0m\u001b[0m\n\u001b[1;32m    421\u001b[0m                 \u001b[0mtotal_words\u001b[0m\u001b[0;34m=\u001b[0m\u001b[0mself\u001b[0m\u001b[0;34m.\u001b[0m\u001b[0mcorpus_total_words\u001b[0m\u001b[0;34m,\u001b[0m \u001b[0mepochs\u001b[0m\u001b[0;34m=\u001b[0m\u001b[0mself\u001b[0m\u001b[0;34m.\u001b[0m\u001b[0mepochs\u001b[0m\u001b[0;34m,\u001b[0m \u001b[0mstart_alpha\u001b[0m\u001b[0;34m=\u001b[0m\u001b[0mself\u001b[0m\u001b[0;34m.\u001b[0m\u001b[0malpha\u001b[0m\u001b[0;34m,\u001b[0m\u001b[0;34m\u001b[0m\u001b[0;34m\u001b[0m\u001b[0m\n\u001b[0;32m--> 422\u001b[0;31m                 end_alpha=self.min_alpha, compute_loss=self.compute_loss, callbacks=callbacks)\n\u001b[0m\u001b[1;32m    423\u001b[0m         \u001b[0;32melse\u001b[0m\u001b[0;34m:\u001b[0m\u001b[0;34m\u001b[0m\u001b[0;34m\u001b[0m\u001b[0m\n\u001b[1;32m    424\u001b[0m             \u001b[0;32mif\u001b[0m \u001b[0mtrim_rule\u001b[0m \u001b[0;32mis\u001b[0m \u001b[0;32mnot\u001b[0m \u001b[0;32mNone\u001b[0m\u001b[0;34m:\u001b[0m\u001b[0;34m\u001b[0m\u001b[0;34m\u001b[0m\u001b[0m\n",
      "\u001b[0;32m/opt/conda/lib/python3.7/site-packages/gensim/models/word2vec.py\u001b[0m in \u001b[0;36mtrain\u001b[0;34m(self, corpus_iterable, corpus_file, total_examples, total_words, epochs, start_alpha, end_alpha, word_count, queue_factor, report_delay, compute_loss, callbacks, **kwargs)\u001b[0m\n\u001b[1;32m   1063\u001b[0m                     \u001b[0mcorpus_iterable\u001b[0m\u001b[0;34m,\u001b[0m \u001b[0mcur_epoch\u001b[0m\u001b[0;34m=\u001b[0m\u001b[0mcur_epoch\u001b[0m\u001b[0;34m,\u001b[0m \u001b[0mtotal_examples\u001b[0m\u001b[0;34m=\u001b[0m\u001b[0mtotal_examples\u001b[0m\u001b[0;34m,\u001b[0m\u001b[0;34m\u001b[0m\u001b[0;34m\u001b[0m\u001b[0m\n\u001b[1;32m   1064\u001b[0m                     \u001b[0mtotal_words\u001b[0m\u001b[0;34m=\u001b[0m\u001b[0mtotal_words\u001b[0m\u001b[0;34m,\u001b[0m \u001b[0mqueue_factor\u001b[0m\u001b[0;34m=\u001b[0m\u001b[0mqueue_factor\u001b[0m\u001b[0;34m,\u001b[0m \u001b[0mreport_delay\u001b[0m\u001b[0;34m=\u001b[0m\u001b[0mreport_delay\u001b[0m\u001b[0;34m,\u001b[0m\u001b[0;34m\u001b[0m\u001b[0;34m\u001b[0m\u001b[0m\n\u001b[0;32m-> 1065\u001b[0;31m                     callbacks=callbacks, **kwargs)\n\u001b[0m\u001b[1;32m   1066\u001b[0m             \u001b[0;32melse\u001b[0m\u001b[0;34m:\u001b[0m\u001b[0;34m\u001b[0m\u001b[0;34m\u001b[0m\u001b[0m\n\u001b[1;32m   1067\u001b[0m                 trained_word_count_epoch, raw_word_count_epoch, job_tally_epoch = self._train_epoch_corpusfile(\n",
      "\u001b[0;32m/opt/conda/lib/python3.7/site-packages/gensim/models/word2vec.py\u001b[0m in \u001b[0;36m_train_epoch\u001b[0;34m(self, data_iterable, cur_epoch, total_examples, total_words, queue_factor, report_delay, callbacks)\u001b[0m\n\u001b[1;32m   1423\u001b[0m         trained_word_count, raw_word_count, job_tally = self._log_epoch_progress(\n\u001b[1;32m   1424\u001b[0m             \u001b[0mprogress_queue\u001b[0m\u001b[0;34m,\u001b[0m \u001b[0mjob_queue\u001b[0m\u001b[0;34m,\u001b[0m \u001b[0mcur_epoch\u001b[0m\u001b[0;34m=\u001b[0m\u001b[0mcur_epoch\u001b[0m\u001b[0;34m,\u001b[0m \u001b[0mtotal_examples\u001b[0m\u001b[0;34m=\u001b[0m\u001b[0mtotal_examples\u001b[0m\u001b[0;34m,\u001b[0m\u001b[0;34m\u001b[0m\u001b[0;34m\u001b[0m\u001b[0m\n\u001b[0;32m-> 1425\u001b[0;31m             \u001b[0mtotal_words\u001b[0m\u001b[0;34m=\u001b[0m\u001b[0mtotal_words\u001b[0m\u001b[0;34m,\u001b[0m \u001b[0mreport_delay\u001b[0m\u001b[0;34m=\u001b[0m\u001b[0mreport_delay\u001b[0m\u001b[0;34m,\u001b[0m \u001b[0mis_corpus_file_mode\u001b[0m\u001b[0;34m=\u001b[0m\u001b[0;32mFalse\u001b[0m\u001b[0;34m,\u001b[0m\u001b[0;34m\u001b[0m\u001b[0;34m\u001b[0m\u001b[0m\n\u001b[0m\u001b[1;32m   1426\u001b[0m         )\n\u001b[1;32m   1427\u001b[0m \u001b[0;34m\u001b[0m\u001b[0m\n",
      "\u001b[0;32m/opt/conda/lib/python3.7/site-packages/gensim/models/word2vec.py\u001b[0m in \u001b[0;36m_log_epoch_progress\u001b[0;34m(self, progress_queue, job_queue, cur_epoch, total_examples, total_words, report_delay, is_corpus_file_mode)\u001b[0m\n\u001b[1;32m   1276\u001b[0m \u001b[0;34m\u001b[0m\u001b[0m\n\u001b[1;32m   1277\u001b[0m         \u001b[0;32mwhile\u001b[0m \u001b[0munfinished_worker_count\u001b[0m \u001b[0;34m>\u001b[0m \u001b[0;36m0\u001b[0m\u001b[0;34m:\u001b[0m\u001b[0;34m\u001b[0m\u001b[0;34m\u001b[0m\u001b[0m\n\u001b[0;32m-> 1278\u001b[0;31m             \u001b[0mreport\u001b[0m \u001b[0;34m=\u001b[0m \u001b[0mprogress_queue\u001b[0m\u001b[0;34m.\u001b[0m\u001b[0mget\u001b[0m\u001b[0;34m(\u001b[0m\u001b[0;34m)\u001b[0m  \u001b[0;31m# blocks if workers too slow\u001b[0m\u001b[0;34m\u001b[0m\u001b[0;34m\u001b[0m\u001b[0m\n\u001b[0m\u001b[1;32m   1279\u001b[0m             \u001b[0;32mif\u001b[0m \u001b[0mreport\u001b[0m \u001b[0;32mis\u001b[0m \u001b[0;32mNone\u001b[0m\u001b[0;34m:\u001b[0m  \u001b[0;31m# a thread reporting that it finished\u001b[0m\u001b[0;34m\u001b[0m\u001b[0;34m\u001b[0m\u001b[0m\n\u001b[1;32m   1280\u001b[0m                 \u001b[0munfinished_worker_count\u001b[0m \u001b[0;34m-=\u001b[0m \u001b[0;36m1\u001b[0m\u001b[0;34m\u001b[0m\u001b[0;34m\u001b[0m\u001b[0m\n",
      "\u001b[0;32m/opt/conda/lib/python3.7/queue.py\u001b[0m in \u001b[0;36mget\u001b[0;34m(self, block, timeout)\u001b[0m\n\u001b[1;32m    168\u001b[0m             \u001b[0;32melif\u001b[0m \u001b[0mtimeout\u001b[0m \u001b[0;32mis\u001b[0m \u001b[0;32mNone\u001b[0m\u001b[0;34m:\u001b[0m\u001b[0;34m\u001b[0m\u001b[0;34m\u001b[0m\u001b[0m\n\u001b[1;32m    169\u001b[0m                 \u001b[0;32mwhile\u001b[0m \u001b[0;32mnot\u001b[0m \u001b[0mself\u001b[0m\u001b[0;34m.\u001b[0m\u001b[0m_qsize\u001b[0m\u001b[0;34m(\u001b[0m\u001b[0;34m)\u001b[0m\u001b[0;34m:\u001b[0m\u001b[0;34m\u001b[0m\u001b[0;34m\u001b[0m\u001b[0m\n\u001b[0;32m--> 170\u001b[0;31m                     \u001b[0mself\u001b[0m\u001b[0;34m.\u001b[0m\u001b[0mnot_empty\u001b[0m\u001b[0;34m.\u001b[0m\u001b[0mwait\u001b[0m\u001b[0;34m(\u001b[0m\u001b[0;34m)\u001b[0m\u001b[0;34m\u001b[0m\u001b[0;34m\u001b[0m\u001b[0m\n\u001b[0m\u001b[1;32m    171\u001b[0m             \u001b[0;32melif\u001b[0m \u001b[0mtimeout\u001b[0m \u001b[0;34m<\u001b[0m \u001b[0;36m0\u001b[0m\u001b[0;34m:\u001b[0m\u001b[0;34m\u001b[0m\u001b[0;34m\u001b[0m\u001b[0m\n\u001b[1;32m    172\u001b[0m                 \u001b[0;32mraise\u001b[0m \u001b[0mValueError\u001b[0m\u001b[0;34m(\u001b[0m\u001b[0;34m\"'timeout' must be a non-negative number\"\u001b[0m\u001b[0;34m)\u001b[0m\u001b[0;34m\u001b[0m\u001b[0;34m\u001b[0m\u001b[0m\n",
      "\u001b[0;32m/opt/conda/lib/python3.7/threading.py\u001b[0m in \u001b[0;36mwait\u001b[0;34m(self, timeout)\u001b[0m\n\u001b[1;32m    294\u001b[0m         \u001b[0;32mtry\u001b[0m\u001b[0;34m:\u001b[0m    \u001b[0;31m# restore state no matter what (e.g., KeyboardInterrupt)\u001b[0m\u001b[0;34m\u001b[0m\u001b[0;34m\u001b[0m\u001b[0m\n\u001b[1;32m    295\u001b[0m             \u001b[0;32mif\u001b[0m \u001b[0mtimeout\u001b[0m \u001b[0;32mis\u001b[0m \u001b[0;32mNone\u001b[0m\u001b[0;34m:\u001b[0m\u001b[0;34m\u001b[0m\u001b[0;34m\u001b[0m\u001b[0m\n\u001b[0;32m--> 296\u001b[0;31m                 \u001b[0mwaiter\u001b[0m\u001b[0;34m.\u001b[0m\u001b[0macquire\u001b[0m\u001b[0;34m(\u001b[0m\u001b[0;34m)\u001b[0m\u001b[0;34m\u001b[0m\u001b[0;34m\u001b[0m\u001b[0m\n\u001b[0m\u001b[1;32m    297\u001b[0m                 \u001b[0mgotit\u001b[0m \u001b[0;34m=\u001b[0m \u001b[0;32mTrue\u001b[0m\u001b[0;34m\u001b[0m\u001b[0;34m\u001b[0m\u001b[0m\n\u001b[1;32m    298\u001b[0m             \u001b[0;32melse\u001b[0m\u001b[0;34m:\u001b[0m\u001b[0;34m\u001b[0m\u001b[0;34m\u001b[0m\u001b[0m\n",
      "\u001b[0;31mKeyboardInterrupt\u001b[0m: "
     ]
    }
   ],
   "source": [
    "from gensim.models import Word2Vec\n",
    "model = Word2Vec(sentences = X_train, vector_size = 100, window = 5, min_count = 5, workers = 4, sg = 0)"
   ]
  },
  {
   "cell_type": "code",
   "execution_count": null,
   "id": "lesbian-robert",
   "metadata": {},
   "outputs": [],
   "source": [
    "model.wv.vectors.shape"
   ]
  },
  {
   "cell_type": "markdown",
   "id": "major-brass",
   "metadata": {},
   "source": [
    "# 회고\n",
    "\n",
    "1. 다양한 방법으로 Text Classification 태스크를 성공적으로 구현하였다.    \n",
    "RNN, 1-D CNN, GlobalMaxPooling1D 세가지 모델로 감성분석 학습 및 평가를 진행하였습니다. 모두 같은 word_to_index 딕셔너리를 사용하고, train과 validation set을 약 2:1 비율로 사용하였습니다. 또한 워드 벡터의 차원 수를 16와 32 로, epoch는 20으로 각각 진행해 보았습니다.  \n",
    "\n",
    "\n",
    "2. gensim을 활용하여 자체학습된 혹은 사전학습된 임베딩 레이어를 분석하였다.     \n",
    "gensim의 유사단어 찾기를 활용하여 자체학습한 임베딩을 분석하였습니다. 하지만 세 모델 모두 성능이 그렇게 좋지 않음을 확인하였습니다. \n",
    "\n",
    "\n",
    "3. 한국어 Word2Vec을 활용하여 가시적인 성능향상을 달성했다.    \n",
    "네이버 영화리뷰 데이터에서 한국어 Word2Vec 을 활용하는 방법을 잘 몰라서 감성분석 정확도를 85% 이상 달성하지 못하였습니다. 이 부분을 좀 더 공부해야 할 것 같습니다. "
   ]
  }
 ],
 "metadata": {
  "kernelspec": {
   "display_name": "Python 3",
   "language": "python",
   "name": "python3"
  },
  "language_info": {
   "codemirror_mode": {
    "name": "ipython",
    "version": 3
   },
   "file_extension": ".py",
   "mimetype": "text/x-python",
   "name": "python",
   "nbconvert_exporter": "python",
   "pygments_lexer": "ipython3",
   "version": "3.7.9"
  }
 },
 "nbformat": 4,
 "nbformat_minor": 5
}
