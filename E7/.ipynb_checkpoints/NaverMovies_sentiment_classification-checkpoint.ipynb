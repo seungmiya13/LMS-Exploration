{
 "cells": [
  {
   "cell_type": "markdown",
   "id": "nonprofit-cassette",
   "metadata": {},
   "source": [
    "네이버 영화리뷰 감성분석\n",
    "======\n",
    "\n",
    "네이버 영화의 댓글을 모아 구성된 Naver sentiment movie corpus 데이터셋을 활용하여 한국어 텍스트의 감정분석을 진행해 보기    \n",
    "https://github.com/e9t/nsmc\n",
    "    \n",
    "< 프로젝트 진행 순서 >\n",
    "1. 데이터 준비와 확인\n",
    "2. 데이터로더 구성\n",
    "3. 모델구성을 위한 데이터 분석 및 가공\n",
    "4. 모델구성 및 validation set 구성\n",
    "5. 모델 훈련 개시\n",
    "6. Loss, Accuracy 그래프 시각화\n",
    "7. 학습된 Embedding 레이어 분석\n",
    "8. 한국어 Word2Vec 임베딩 활용하여 성능개선    \n",
    "    -한국어 Word2Vec : https://github.com/Kyubyong/wordvectors\n",
    "\n",
    "-21.10.28-"
   ]
  },
  {
   "cell_type": "markdown",
   "id": "alleged-armenia",
   "metadata": {},
   "source": [
    "# 1. 데이터 준비와 확인"
   ]
  },
  {
   "cell_type": "code",
   "execution_count": 1,
   "id": "hawaiian-spoke",
   "metadata": {},
   "outputs": [
    {
     "data": {
      "text/html": [
       "<div>\n",
       "<style scoped>\n",
       "    .dataframe tbody tr th:only-of-type {\n",
       "        vertical-align: middle;\n",
       "    }\n",
       "\n",
       "    .dataframe tbody tr th {\n",
       "        vertical-align: top;\n",
       "    }\n",
       "\n",
       "    .dataframe thead th {\n",
       "        text-align: right;\n",
       "    }\n",
       "</style>\n",
       "<table border=\"1\" class=\"dataframe\">\n",
       "  <thead>\n",
       "    <tr style=\"text-align: right;\">\n",
       "      <th></th>\n",
       "      <th>id</th>\n",
       "      <th>document</th>\n",
       "      <th>label</th>\n",
       "    </tr>\n",
       "  </thead>\n",
       "  <tbody>\n",
       "    <tr>\n",
       "      <th>0</th>\n",
       "      <td>9976970</td>\n",
       "      <td>아 더빙.. 진짜 짜증나네요 목소리</td>\n",
       "      <td>0</td>\n",
       "    </tr>\n",
       "    <tr>\n",
       "      <th>1</th>\n",
       "      <td>3819312</td>\n",
       "      <td>흠...포스터보고 초딩영화줄....오버연기조차 가볍지 않구나</td>\n",
       "      <td>1</td>\n",
       "    </tr>\n",
       "    <tr>\n",
       "      <th>2</th>\n",
       "      <td>10265843</td>\n",
       "      <td>너무재밓었다그래서보는것을추천한다</td>\n",
       "      <td>0</td>\n",
       "    </tr>\n",
       "    <tr>\n",
       "      <th>3</th>\n",
       "      <td>9045019</td>\n",
       "      <td>교도소 이야기구먼 ..솔직히 재미는 없다..평점 조정</td>\n",
       "      <td>0</td>\n",
       "    </tr>\n",
       "    <tr>\n",
       "      <th>4</th>\n",
       "      <td>6483659</td>\n",
       "      <td>사이몬페그의 익살스런 연기가 돋보였던 영화!스파이더맨에서 늙어보이기만 했던 커스틴 ...</td>\n",
       "      <td>1</td>\n",
       "    </tr>\n",
       "  </tbody>\n",
       "</table>\n",
       "</div>"
      ],
      "text/plain": [
       "         id                                           document  label\n",
       "0   9976970                                아 더빙.. 진짜 짜증나네요 목소리      0\n",
       "1   3819312                  흠...포스터보고 초딩영화줄....오버연기조차 가볍지 않구나      1\n",
       "2  10265843                                  너무재밓었다그래서보는것을추천한다      0\n",
       "3   9045019                      교도소 이야기구먼 ..솔직히 재미는 없다..평점 조정      0\n",
       "4   6483659  사이몬페그의 익살스런 연기가 돋보였던 영화!스파이더맨에서 늙어보이기만 했던 커스틴 ...      1"
      ]
     },
     "execution_count": 1,
     "metadata": {},
     "output_type": "execute_result"
    }
   ],
   "source": [
    "import pandas as pd\n",
    "import urllib.request\n",
    "%matplotlib inline\n",
    "import matplotlib.pyplot as plt\n",
    "import re\n",
    "from konlpy.tag import Okt\n",
    "from tensorflow import keras\n",
    "from tensorflow.keras.preprocessing.text import Tokenizer\n",
    "import numpy as np\n",
    "from tensorflow.keras.preprocessing.sequence import pad_sequences\n",
    "from collections import Counter\n",
    "\n",
    "# 데이터 읽어보기 \n",
    "train_data = pd.read_table('~/aiffel/Exploration/E7/data/ratings_train.txt')\n",
    "test_data = pd.read_table('~/aiffel/Exploration/E7/data/ratings_test.txt')\n",
    "\n",
    "train_data.head()"
   ]
  },
  {
   "cell_type": "code",
   "execution_count": 2,
   "id": "cathedral-islam",
   "metadata": {},
   "outputs": [
    {
     "name": "stdout",
     "output_type": "stream",
     "text": [
      "(150000, 3)\n",
      "(50000, 3)\n"
     ]
    }
   ],
   "source": [
    "print(train_data.shape)\n",
    "print(test_data.shape)"
   ]
  },
  {
   "cell_type": "markdown",
   "id": "refined-eleven",
   "metadata": {},
   "source": [
    "# 2. 데이터로더 구성\n",
    "\n",
    "nsmc 데이터셋은 전혀 가공되지 않은 텍스트 파일로 이루어져 있습니다. data_loader 안에서는 다음을 수행해야 합니다.\n",
    "- 데이터의 중복 제거\n",
    "- NaN 결측치 제거\n",
    "- 한국어 토크나이저로 토큰화\n",
    "- 불용어(Stopwords) 제거\n",
    "- 사전word_to_index 구성\n",
    "- 텍스트 스트링을 사전 인덱스 스트링으로 변환\n",
    "- X_train, y_train, X_test, y_test, word_to_index 리턴\n"
   ]
  },
  {
   "cell_type": "code",
   "execution_count": 3,
   "id": "following-slide",
   "metadata": {},
   "outputs": [],
   "source": [
    "from konlpy.tag import Mecab\n",
    "tokenizer = Mecab()\n",
    "stopwords = ['의','가','이','은','들','는','좀','잘','걍','과','도','를','으로','자','에','와','한','하다']\n",
    "\n",
    "def load_data(train_data, test_data, num_words=10000):\n",
    "    ## 데이터의 중복 제거 & NaN 결측치 제거\n",
    "    train_data.drop_duplicates(subset=['document'], inplace=True)\n",
    "    train_data = train_data.dropna(how = 'any') \n",
    "    test_data.drop_duplicates(subset=['document'], inplace=True)\n",
    "    test_data = test_data.dropna(how = 'any') \n",
    "    \n",
    "    ## 한국어 토크나이저로 토큰화 & 불용어(Stopwords) 제거\n",
    "    X_train = []\n",
    "    for sentence in train_data['document']:\n",
    "        temp_X = tokenizer.morphs(sentence) # 토큰화\n",
    "        temp_X = [word for word in temp_X if not word in stopwords] # 불용어 제거\n",
    "        X_train.append(temp_X)\n",
    "\n",
    "    X_test = []\n",
    "    for sentence in test_data['document']:\n",
    "        temp_X = tokenizer.morphs(sentence) # 토큰화\n",
    "        temp_X = [word for word in temp_X if not word in stopwords] # 불용어 제거\n",
    "        X_test.append(temp_X)\n",
    "    \n",
    "    ## 사전word_to_index 구성\n",
    "    words = np.concatenate(X_train).tolist()\n",
    "    counter = Counter(words)\n",
    "    counter = counter.most_common(num_words-4)\n",
    "    vocab = ['', '', '', ''] + [key for key, _ in counter]\n",
    "    word_to_index = {word:index for index, word in enumerate(vocab)}\n",
    "    \n",
    "    ## 텍스트 스트링을 사전 인덱스 스트링으로 변환\n",
    "    def wordlist_to_indexlist(wordlist):\n",
    "        return [word_to_index[word] if word in word_to_index else word_to_index[''] for word in wordlist]\n",
    "        \n",
    "    X_train = list(map(wordlist_to_indexlist, X_train))\n",
    "    X_test = list(map(wordlist_to_indexlist, X_test))\n",
    "    \n",
    "    ## X_train, y_train, X_test, y_test, word_to_index 리턴\n",
    "    return X_train, np.array(list(train_data['label'])), X_test, np.array(list(test_data['label'])), word_to_index\n",
    "    \n",
    "X_train, y_train, X_test, y_test, word_to_index = load_data(train_data, test_data) "
   ]
  },
  {
   "cell_type": "markdown",
   "id": "familiar-notification",
   "metadata": {},
   "source": [
    "단어사전에 등재할 단어의 개수(num_words)를 10000으로 지정하면, 그 개수만큼의 word_to_index 딕셔너리까지 생성된 형태로 데이터셋이 생성됩니다.\n",
    "\n",
    "- konlpy.tag 의 Mecab Class : MeCab-ko 형태학 분석기용 래퍼    \n",
    "    https://konlpy-ko.readthedocs.io/ko/v0.4.3/api/konlpy.tag/#mecab-class    \n",
    "    -morphs(phrase) : 구문을 형태소로 구문 분석\n",
    "- pandas.DataFrame.drop_duplicates() : subset으로 지정한 컬럼의 중복값 제거      \n",
    "    https://pandas.pydata.org/docs/reference/api/pandas.DataFrame.drop_duplicates.html\n",
    "- pandas.DataFrame.dropna(how='any') : NA 값이 있으면 해당 행이나 열을 삭제     \n",
    "    https://pandas.pydata.org/docs/reference/api/pandas.DataFrame.dropna.html\n",
    "- numpy.concatenate : 기존 축을 따라 배열 시퀀스를 결합    \n",
    "    https://numpy.org/doc/stable/reference/generated/numpy.concatenate.html\n",
    "- collections 의 Container datatypes : 해시 가능한 개체를 계산하기 위한 dict의 하위 클래스    \n",
    "    https://docs.python.org/3/library/collections.html#collections.Counter    \n",
    "    -counter.most_common(n) : n개의 가장 일반적인 요소 의 목록 과 가장 일반적인 것부터 가장 적은 것까지의 개수를 반환 \n",
    "    -word_to_index는 텍스트 데이터셋의 단어 출현 빈도 기준으로 내림차수 정렬되어 있습니다."
   ]
  },
  {
   "cell_type": "code",
   "execution_count": 4,
   "id": "joined-notice",
   "metadata": {},
   "outputs": [],
   "source": [
    "word_to_index[\"<PAD>\"] = 0\n",
    "word_to_index[\"<BOS>\"] = 1\n",
    "word_to_index[\"<UNK>\"] = 2  # unknown"
   ]
  },
  {
   "cell_type": "code",
   "execution_count": 5,
   "id": "printable-antenna",
   "metadata": {},
   "outputs": [],
   "source": [
    "index_to_word = {index:word for word, index in word_to_index.items()}"
   ]
  },
  {
   "cell_type": "code",
   "execution_count": 6,
   "id": "ambient-first",
   "metadata": {},
   "outputs": [
    {
     "data": {
      "text/plain": [
       "'<PAD>'"
      ]
     },
     "execution_count": 6,
     "metadata": {},
     "output_type": "execute_result"
    }
   ],
   "source": [
    "index_to_word[0]"
   ]
  },
  {
   "cell_type": "code",
   "execution_count": 7,
   "id": "cleared-machine",
   "metadata": {},
   "outputs": [],
   "source": [
    "# 문장 1개를 활용할 딕셔너리와 함께 주면, 단어 인덱스 리스트 벡터로 변환해 주는 함수\n",
    "# 단, 모든 문장은 <BOS>로 시작함\n",
    "def get_encoded_sentence(sentence, word_to_index):\n",
    "    return [word_to_index['<BOS>']]+[word_to_index[word] if word in word_to_index else word_to_index['<UNK>'] for word in sentence.split()]\n",
    "\n",
    "# 여러 개의 문장 리스트를 한꺼번에 단어 인덱스 리스트 벡터로 encode해 주는 함수입니다. \n",
    "def get_encoded_sentences(sentences, word_to_index):\n",
    "    return [get_encoded_sentence(sentence, word_to_index) for sentence in sentences]\n",
    "\n",
    "# 숫자 벡터로 encode된 문장을 원래대로 decode하는 함수입니다. \n",
    "def get_decoded_sentence(encoded_sentence, index_to_word):\n",
    "    return ' '.join(index_to_word[index] if index in index_to_word else '<UNK>' for index in encoded_sentence[1:])  #[1:]를 통해 <BOS>를 제외\n",
    "\n",
    "# 여러 개의 숫자 벡터로 encode된 문장을 한꺼번에 원래대로 decode하는 함수입니다. \n",
    "def get_decoded_sentences(encoded_sentences, index_to_word):\n",
    "    return [get_decoded_sentence(encoded_sentence, index_to_word) for encoded_sentence in encoded_sentences]"
   ]
  },
  {
   "cell_type": "code",
   "execution_count": 8,
   "id": "extensive-cylinder",
   "metadata": {},
   "outputs": [
    {
     "name": "stdout",
     "output_type": "stream",
     "text": [
      "아 더빙.. 진짜 짜증나네요 목소리\n",
      "[1, 32, 2, 39, 2, 748]\n",
      "아 <UNK> 진짜 <UNK> 목소리\n",
      "라벨:  0\n"
     ]
    }
   ],
   "source": [
    "# encode된 텍스트가 정상적으로 decode되는지 확인\n",
    "print(train_data['document'][0])\n",
    "print(get_encoded_sentence(train_data['document'][0],word_to_index))\n",
    "sentence = get_encoded_sentence(train_data['document'][0],word_to_index)\n",
    "print(get_decoded_sentence(sentence, index_to_word))\n",
    "print('라벨: ', y_train[0])  # 1번째 리뷰데이터의 라벨"
   ]
  },
  {
   "cell_type": "markdown",
   "id": "caroline-september",
   "metadata": {},
   "source": [
    "# 3. 모델구성을 위한 데이터 분석 및 가공\n",
    "\n",
    "1) 데이터셋 내 문장 길이 분포    \n",
    "2) 적절한 최대 문장 길이 지정    \n",
    "3) keras.preprocessing.sequence.pad_sequences 을 활용한 패딩 추가    "
   ]
  },
  {
   "cell_type": "markdown",
   "id": "copyrighted-courtesy",
   "metadata": {},
   "source": [
    "## 1) 데이터셋 내 문장 길이 분포 확인"
   ]
  },
  {
   "cell_type": "code",
   "execution_count": 9,
   "id": "exposed-technique",
   "metadata": {},
   "outputs": [
    {
     "name": "stdout",
     "output_type": "stream",
     "text": [
      "문장길이 평균 :  15.96940191154864\n",
      "문장길이 최대 :  116\n",
      "문장길이 표준편차 :  12.843571191092\n"
     ]
    }
   ],
   "source": [
    "total_data_text = list(X_train) + list(X_test)\n",
    "# 텍스트데이터 문장길이의 리스트를 생성한 후\n",
    "num_tokens = [len(tokens) for tokens in total_data_text]\n",
    "num_tokens = np.array(num_tokens)\n",
    "# 문장길이의 평균값, 최대값, 표준편차를 계산해 본다. \n",
    "print('문장길이 평균 : ', np.mean(num_tokens))\n",
    "print('문장길이 최대 : ', np.max(num_tokens))\n",
    "print('문장길이 표준편차 : ', np.std(num_tokens))"
   ]
  },
  {
   "cell_type": "markdown",
   "id": "natural-second",
   "metadata": {},
   "source": [
    "## 2) 적절한 최대 문장 길이 지정"
   ]
  },
  {
   "cell_type": "code",
   "execution_count": 10,
   "id": "floral-chain",
   "metadata": {},
   "outputs": [
    {
     "name": "stdout",
     "output_type": "stream",
     "text": [
      "pad_sequences maxlen :  48\n",
      "전체 문장의 0.9548784420929768%가 maxlen 설정값 이내에 포함됩니다. \n"
     ]
    }
   ],
   "source": [
    "# 최대 길이를 (평균 + 2.5*표준편차)로 지정한다면,  \n",
    "max_tokens = np.mean(num_tokens) + 2.5 * np.std(num_tokens)\n",
    "maxlen = int(max_tokens)\n",
    "print('pad_sequences maxlen : ', maxlen)\n",
    "print('전체 문장의 {}%가 maxlen 설정값 이내에 포함됩니다. '.format(np.sum(num_tokens < max_tokens) / len(num_tokens)))"
   ]
  },
  {
   "cell_type": "markdown",
   "id": "stainless-freeware",
   "metadata": {},
   "source": [
    "## 3) keras.preprocessing.sequence.pad_sequences 을 활용한 패딩 추가"
   ]
  },
  {
   "cell_type": "code",
   "execution_count": 11,
   "id": "heard-observation",
   "metadata": {},
   "outputs": [
    {
     "name": "stdout",
     "output_type": "stream",
     "text": [
      "(146182, 48)\n",
      "(49157, 48)\n"
     ]
    }
   ],
   "source": [
    "## 패딩 적용\n",
    "X_train = keras.preprocessing.sequence.pad_sequences(X_train,\n",
    "                                                        value=word_to_index[\"<PAD>\"],\n",
    "                                                        padding='pre', # 혹은 'post'\n",
    "                                                        maxlen=maxlen)\n",
    "\n",
    "X_test = keras.preprocessing.sequence.pad_sequences(X_test,\n",
    "                                                       value=word_to_index[\"<PAD>\"],\n",
    "                                                       padding='pre', # 혹은 'post'\n",
    "                                                       maxlen=maxlen)\n",
    "\n",
    "print(X_train.shape)\n",
    "print(X_test.shape)"
   ]
  },
  {
   "cell_type": "markdown",
   "id": "incorporated-aspect",
   "metadata": {},
   "source": [
    "- 위에서 구한 maxlen=48 을 적용해줍니다.\n",
    "- padding 방식을 문장 뒤쪽('post')과 앞쪽('pre') 중 어느쪽으로 하느냐에 따라 RNN을 이용한 딥러닝 적용 시 성능 차이가 발생합니다. "
   ]
  },
  {
   "cell_type": "markdown",
   "id": "touched-filename",
   "metadata": {},
   "source": [
    "# 4. 딥러닝 모델 설계와 훈련 및 validation set 구성\n",
    "\n",
    "\n",
    "- validation set 구성    \n",
    "Validation set(검정 데이터)은 training set으로 만들어진 모델의 성능을 측정하기 위해 사용된다. 일반적으로 어떤 모델이 가장 데이터에 적합한지 찾아내기 위해서 다양한 파라미터와 모델을 사용해보게 되며, 그 중 validation set으로 가장 성능이 좋았던 모델을 선택한다.    \n",
    "(https://modern-manual.tistory.com/19)\n",
    "\n",
    "- train/validation loss, accuracy 확인    \n",
    "model.fit() 과정 중의 train/validation loss, accuracy 등이 매 epoch마다 history 변수에 저장되어 있습니다.\n",
    "이 데이터를 그래프로 그려 보면, 수행했던 딥러닝 학습이 잘 진행되었는지, 오버피팅 혹은 언더피팅하지 않았는지, 성능을 개선할 수 있는 다양한 아이디어를 얻을 수 있는 좋은 자료가 됩니다.\n",
    "     \n",
    "1) RNN 모델     \n",
    "2) 1-D CNN 모델    \n",
    "3) GlobalMaxPooling1D() 레이어 하나만 사용하는 모델    "
   ]
  },
  {
   "cell_type": "markdown",
   "id": "productive-brother",
   "metadata": {},
   "source": [
    "## validation set 구성"
   ]
  },
  {
   "cell_type": "code",
   "execution_count": 12,
   "id": "chief-plain",
   "metadata": {},
   "outputs": [
    {
     "name": "stdout",
     "output_type": "stream",
     "text": [
      "(100000, 48)\n",
      "(100000,)\n",
      "(46182, 48)\n",
      "(46182,)\n"
     ]
    }
   ],
   "source": [
    "# train set 100000건 분리\n",
    "partial_x_train = X_train[:100000]  \n",
    "partial_y_train = y_train[:100000]\n",
    "\n",
    "# train set을 제외한 나머지 validation set\n",
    "x_val = X_train[100000:]   \n",
    "y_val = y_train[100000:]\n",
    "\n",
    "print(partial_x_train.shape)\n",
    "print(partial_y_train.shape)\n",
    "print(x_val.shape)\n",
    "print(y_val.shape)"
   ]
  },
  {
   "cell_type": "markdown",
   "id": "limiting-study",
   "metadata": {},
   "source": [
    "## 1) RNN 모델 \n",
    "\n",
    "텍스트 데이터를 다루는 데 주로 사용되는 딥러닝 모델은 바로 Recurrent Neural Network(RNN)입니다. RNN은 시퀀스(Sequence) 형태의 데이터를 처리하기에 최적인 모델로 알려져 있습니다."
   ]
  },
  {
   "cell_type": "markdown",
   "id": "polar-radius",
   "metadata": {},
   "source": [
    "### 모델 설계"
   ]
  },
  {
   "cell_type": "code",
   "execution_count": 13,
   "id": "nutritional-timothy",
   "metadata": {},
   "outputs": [
    {
     "name": "stdout",
     "output_type": "stream",
     "text": [
      "Model: \"sequential\"\n",
      "_________________________________________________________________\n",
      "Layer (type)                 Output Shape              Param #   \n",
      "=================================================================\n",
      "embedding (Embedding)        (None, None, 16)          160000    \n",
      "_________________________________________________________________\n",
      "lstm (LSTM)                  (None, 8)                 800       \n",
      "_________________________________________________________________\n",
      "dense (Dense)                (None, 8)                 72        \n",
      "_________________________________________________________________\n",
      "dense_1 (Dense)              (None, 1)                 9         \n",
      "=================================================================\n",
      "Total params: 160,881\n",
      "Trainable params: 160,881\n",
      "Non-trainable params: 0\n",
      "_________________________________________________________________\n"
     ]
    }
   ],
   "source": [
    "vocab_size = 10000    # 어휘 사전의 크기입니다(10,000개의 단어)\n",
    "word_vector_dim = 16  # 워드 벡터의 차원 수 (변경 가능한 하이퍼파라미터)\n",
    "\n",
    "# model 설계 \n",
    "rnn_model = keras.Sequential()\n",
    "rnn_model.add(keras.layers.Embedding(vocab_size, word_vector_dim, input_shape=(None,)))\n",
    "rnn_model.add(keras.layers.LSTM(8))   # 가장 널리 쓰이는 RNN인 LSTM 레이어를 사용, LSTM state 벡터의 차원수는 8로 \n",
    "rnn_model.add(keras.layers.Dense(8, activation='relu'))\n",
    "rnn_model.add(keras.layers.Dense(1, activation='sigmoid'))  # 최종 출력은 긍정/부정을 나타내는 1dim 입니다.\n",
    "\n",
    "rnn_model.summary()"
   ]
  },
  {
   "cell_type": "markdown",
   "id": "reduced-trial",
   "metadata": {},
   "source": [
    "### 모델 학습"
   ]
  },
  {
   "cell_type": "code",
   "execution_count": 14,
   "id": "standing-closure",
   "metadata": {},
   "outputs": [
    {
     "name": "stdout",
     "output_type": "stream",
     "text": [
      "Epoch 1/20\n",
      "196/196 [==============================] - 6s 16ms/step - loss: 0.6379 - accuracy: 0.6936 - val_loss: 0.3990 - val_accuracy: 0.8268\n",
      "Epoch 2/20\n",
      "196/196 [==============================] - 2s 12ms/step - loss: 0.3579 - accuracy: 0.8527 - val_loss: 0.3638 - val_accuracy: 0.8416\n",
      "Epoch 3/20\n",
      "196/196 [==============================] - 2s 12ms/step - loss: 0.3127 - accuracy: 0.8748 - val_loss: 0.3530 - val_accuracy: 0.8476\n",
      "Epoch 4/20\n",
      "196/196 [==============================] - 2s 12ms/step - loss: 0.2915 - accuracy: 0.8842 - val_loss: 0.3607 - val_accuracy: 0.8462\n",
      "Epoch 5/20\n",
      "196/196 [==============================] - 2s 12ms/step - loss: 0.2809 - accuracy: 0.8905 - val_loss: 0.3605 - val_accuracy: 0.8467\n",
      "Epoch 6/20\n",
      "196/196 [==============================] - 2s 12ms/step - loss: 0.2671 - accuracy: 0.8973 - val_loss: 0.3665 - val_accuracy: 0.8465\n",
      "Epoch 7/20\n",
      "196/196 [==============================] - 2s 12ms/step - loss: 0.2528 - accuracy: 0.9047 - val_loss: 0.3677 - val_accuracy: 0.8459\n",
      "Epoch 8/20\n",
      "196/196 [==============================] - 2s 12ms/step - loss: 0.2442 - accuracy: 0.9069 - val_loss: 0.3794 - val_accuracy: 0.8433\n",
      "Epoch 9/20\n",
      "196/196 [==============================] - 2s 12ms/step - loss: 0.2362 - accuracy: 0.9114 - val_loss: 0.3949 - val_accuracy: 0.8385\n",
      "Epoch 10/20\n",
      "196/196 [==============================] - 2s 12ms/step - loss: 0.2295 - accuracy: 0.9147 - val_loss: 0.3990 - val_accuracy: 0.8408\n",
      "Epoch 11/20\n",
      "196/196 [==============================] - 2s 12ms/step - loss: 0.2202 - accuracy: 0.9188 - val_loss: 0.4050 - val_accuracy: 0.8392\n",
      "Epoch 12/20\n",
      "196/196 [==============================] - 2s 12ms/step - loss: 0.2141 - accuracy: 0.9226 - val_loss: 0.4138 - val_accuracy: 0.8367\n",
      "Epoch 13/20\n",
      "196/196 [==============================] - 2s 12ms/step - loss: 0.2095 - accuracy: 0.9230 - val_loss: 0.4206 - val_accuracy: 0.8378\n",
      "Epoch 14/20\n",
      "196/196 [==============================] - 2s 12ms/step - loss: 0.1981 - accuracy: 0.9294 - val_loss: 0.4357 - val_accuracy: 0.8347\n",
      "Epoch 15/20\n",
      "196/196 [==============================] - 2s 12ms/step - loss: 0.1908 - accuracy: 0.9331 - val_loss: 0.4429 - val_accuracy: 0.8348\n",
      "Epoch 16/20\n",
      "196/196 [==============================] - 2s 12ms/step - loss: 0.1852 - accuracy: 0.9340 - val_loss: 0.4515 - val_accuracy: 0.8336\n",
      "Epoch 17/20\n",
      "196/196 [==============================] - 2s 12ms/step - loss: 0.1809 - accuracy: 0.9365 - val_loss: 0.4782 - val_accuracy: 0.8331\n",
      "Epoch 18/20\n",
      "196/196 [==============================] - 2s 12ms/step - loss: 0.1706 - accuracy: 0.9397 - val_loss: 0.4778 - val_accuracy: 0.8321\n",
      "Epoch 19/20\n",
      "196/196 [==============================] - 2s 12ms/step - loss: 0.1691 - accuracy: 0.9409 - val_loss: 0.5093 - val_accuracy: 0.8317\n",
      "Epoch 20/20\n",
      "196/196 [==============================] - 2s 12ms/step - loss: 0.1625 - accuracy: 0.9427 - val_loss: 0.5188 - val_accuracy: 0.8314\n"
     ]
    }
   ],
   "source": [
    "rnn_model.compile(optimizer='adam',\n",
    "              loss='binary_crossentropy',\n",
    "              metrics=['accuracy'])\n",
    "              \n",
    "epochs=20  # 몇 epoch를 훈련하면 좋을지 결과를 보면서 바꾸어 보기\n",
    "\n",
    "rnn_history = rnn_model.fit(partial_x_train,\n",
    "                    partial_y_train,\n",
    "                    epochs=epochs,\n",
    "                    batch_size=512,\n",
    "                    validation_data=(x_val, y_val),\n",
    "                    verbose=1)"
   ]
  },
  {
   "cell_type": "markdown",
   "id": "insured-lucas",
   "metadata": {},
   "source": [
    "### train/validation loss, accuracy 확인"
   ]
  },
  {
   "cell_type": "code",
   "execution_count": 15,
   "id": "institutional-weekend",
   "metadata": {},
   "outputs": [
    {
     "name": "stdout",
     "output_type": "stream",
     "text": [
      "dict_keys(['loss', 'accuracy', 'val_loss', 'val_accuracy'])\n"
     ]
    }
   ],
   "source": [
    "rnn_history_dict = rnn_history.history\n",
    "print(rnn_history_dict.keys()) # epoch에 따른 그래프를 그려볼 수 있는 항목들"
   ]
  },
  {
   "cell_type": "code",
   "execution_count": 16,
   "id": "responsible-richmond",
   "metadata": {},
   "outputs": [
    {
     "data": {
      "image/png": "[encoded data removed]",
      "text/plain": [
       "<Figure size 432x288 with 1 Axes>"
      ]
     },
     "metadata": {
      "needs_background": "light"
     },
     "output_type": "display_data"
    }
   ],
   "source": [
    "rnn_acc = rnn_history_dict['accuracy']\n",
    "rnn_val_acc = rnn_history_dict['val_accuracy']\n",
    "rnn_loss = rnn_history_dict['loss']\n",
    "rnn_val_loss = rnn_history_dict['val_loss']\n",
    "\n",
    "## Training loss & Validation loss 그래프 \n",
    "epochs = range(1, len(rnn_acc) + 1)\n",
    "\n",
    "# \"bo\"는 \"파란색 점\"\n",
    "plt.plot(epochs, rnn_loss, 'bo', label='Training loss')\n",
    "# b는 \"파란 실선\"\n",
    "plt.plot(epochs, rnn_val_loss, 'b', label='Validation loss')\n",
    "plt.title('RNN Training and validation loss')\n",
    "plt.xlabel('Epochs')\n",
    "plt.ylabel('Loss')\n",
    "plt.legend()\n",
    "\n",
    "plt.show()"
   ]
  },
  {
   "cell_type": "code",
   "execution_count": 17,
   "id": "increasing-monroe",
   "metadata": {},
   "outputs": [
    {
     "data": {
      "image/png": "[encoded data removed]",
      "text/plain": [
       "<Figure size 432x288 with 1 Axes>"
      ]
     },
     "metadata": {
      "needs_background": "light"
     },
     "output_type": "display_data"
    }
   ],
   "source": [
    "## Training accuracy & validation accuracy 그래프\n",
    "\n",
    "plt.clf()   # 그림을 초기화합니다\n",
    "\n",
    "plt.plot(epochs, rnn_acc, 'bo', label='Training acc')\n",
    "plt.plot(epochs, rnn_val_acc, 'b', label='Validation acc')\n",
    "plt.title('RNN Training and validation accuracy')\n",
    "plt.xlabel('Epochs')\n",
    "plt.ylabel('Accuracy')\n",
    "plt.legend()\n",
    "\n",
    "plt.show()"
   ]
  },
  {
   "cell_type": "markdown",
   "id": "excellent-grain",
   "metadata": {},
   "source": [
    "### 모델 평가 "
   ]
  },
  {
   "cell_type": "code",
   "execution_count": 18,
   "id": "devoted-manner",
   "metadata": {},
   "outputs": [
    {
     "name": "stdout",
     "output_type": "stream",
     "text": [
      "1537/1537 - 5s - loss: 0.5112 - accuracy: 0.8299\n",
      "[0.5111962556838989, 0.8299123048782349]\n"
     ]
    }
   ],
   "source": [
    "rnn_results = rnn_model.evaluate(X_test,  y_test, verbose=2)\n",
    "\n",
    "print(rnn_results)"
   ]
  },
  {
   "cell_type": "markdown",
   "id": "ruled-hampton",
   "metadata": {},
   "source": [
    "## 2) 1-D CNN 모델\n",
    "\n",
    "텍스트를 처리하기 위해 RNN이 아니라 1-D Convolution Neural Network(1-D CNN)를 사용할 수도 있습니다.    \n",
    "1-D CNN은 문장 전체를 한꺼번에 한 방향으로 길이 7짜리 필터로 스캐닝 하면서 7단어 이내에서 발견되는 특징을 추출하여 그것으로 문장을 분류하는 방식으로 사용됩니다. 이 방식도 텍스트를 처리하는 데 RNN 못지않은 효율을 보여줍니다.    \n",
    "그리고 CNN 계열은 RNN 계열보다 병렬처리가 효율적이기 때문에 학습 속도도 훨씬 빠르게 진행된다는 장점이 있습니다."
   ]
  },
  {
   "cell_type": "markdown",
   "id": "sought-tension",
   "metadata": {},
   "source": [
    "### 모델 설계"
   ]
  },
  {
   "cell_type": "code",
   "execution_count": 19,
   "id": "premier-brunei",
   "metadata": {},
   "outputs": [
    {
     "name": "stdout",
     "output_type": "stream",
     "text": [
      "Model: \"sequential_1\"\n",
      "_________________________________________________________________\n",
      "Layer (type)                 Output Shape              Param #   \n",
      "=================================================================\n",
      "embedding_1 (Embedding)      (None, None, 16)          160000    \n",
      "_________________________________________________________________\n",
      "conv1d (Conv1D)              (None, None, 16)          1808      \n",
      "_________________________________________________________________\n",
      "max_pooling1d (MaxPooling1D) (None, None, 16)          0         \n",
      "_________________________________________________________________\n",
      "conv1d_1 (Conv1D)            (None, None, 16)          1808      \n",
      "_________________________________________________________________\n",
      "global_max_pooling1d (Global (None, 16)                0         \n",
      "_________________________________________________________________\n",
      "dense_2 (Dense)              (None, 8)                 136       \n",
      "_________________________________________________________________\n",
      "dense_3 (Dense)              (None, 1)                 9         \n",
      "=================================================================\n",
      "Total params: 163,761\n",
      "Trainable params: 163,761\n",
      "Non-trainable params: 0\n",
      "_________________________________________________________________\n"
     ]
    }
   ],
   "source": [
    "vocab_size = 10000    # 어휘 사전의 크기입니다(10,000개의 단어)\n",
    "word_vector_dim = 16  # 워드 벡터의 차원 수 (변경 가능한 하이퍼파라미터)\n",
    "\n",
    "cnn1d_model = keras.Sequential()\n",
    "cnn1d_model.add(keras.layers.Embedding(vocab_size, word_vector_dim, input_shape=(None,)))\n",
    "cnn1d_model.add(keras.layers.Conv1D(16, 7, activation='relu'))\n",
    "cnn1d_model.add(keras.layers.MaxPooling1D(5))\n",
    "cnn1d_model.add(keras.layers.Conv1D(16, 7, activation='relu'))\n",
    "cnn1d_model.add(keras.layers.GlobalMaxPooling1D())\n",
    "cnn1d_model.add(keras.layers.Dense(8, activation='relu'))\n",
    "cnn1d_model.add(keras.layers.Dense(1, activation='sigmoid'))  # 최종 출력은 긍정/부정을 나타내는 1dim \n",
    "\n",
    "cnn1d_model.summary()"
   ]
  },
  {
   "cell_type": "markdown",
   "id": "authentic-limitation",
   "metadata": {},
   "source": [
    "### 모델 학습"
   ]
  },
  {
   "cell_type": "code",
   "execution_count": 20,
   "id": "lightweight-technical",
   "metadata": {},
   "outputs": [
    {
     "name": "stdout",
     "output_type": "stream",
     "text": [
      "Epoch 1/20\n",
      "196/196 [==============================] - 9s 29ms/step - loss: 0.6369 - accuracy: 0.6152 - val_loss: 0.4162 - val_accuracy: 0.8078\n",
      "Epoch 2/20\n",
      "196/196 [==============================] - 2s 9ms/step - loss: 0.3807 - accuracy: 0.8284 - val_loss: 0.3966 - val_accuracy: 0.8168\n",
      "Epoch 3/20\n",
      "196/196 [==============================] - 2s 9ms/step - loss: 0.3406 - accuracy: 0.8498 - val_loss: 0.3962 - val_accuracy: 0.8182\n",
      "Epoch 4/20\n",
      "196/196 [==============================] - 2s 9ms/step - loss: 0.3102 - accuracy: 0.8664 - val_loss: 0.4020 - val_accuracy: 0.8175\n",
      "Epoch 5/20\n",
      "196/196 [==============================] - 2s 9ms/step - loss: 0.2789 - accuracy: 0.8822 - val_loss: 0.4176 - val_accuracy: 0.8169\n",
      "Epoch 6/20\n",
      "196/196 [==============================] - 2s 9ms/step - loss: 0.2506 - accuracy: 0.8967 - val_loss: 0.4400 - val_accuracy: 0.8147\n",
      "Epoch 7/20\n",
      "196/196 [==============================] - 2s 9ms/step - loss: 0.2199 - accuracy: 0.9121 - val_loss: 0.4689 - val_accuracy: 0.8097\n",
      "Epoch 8/20\n",
      "196/196 [==============================] - 2s 9ms/step - loss: 0.1870 - accuracy: 0.9283 - val_loss: 0.5002 - val_accuracy: 0.8070\n",
      "Epoch 9/20\n",
      "196/196 [==============================] - 2s 9ms/step - loss: 0.1599 - accuracy: 0.9388 - val_loss: 0.5397 - val_accuracy: 0.8058\n",
      "Epoch 10/20\n",
      "196/196 [==============================] - 2s 9ms/step - loss: 0.1391 - accuracy: 0.9487 - val_loss: 0.5819 - val_accuracy: 0.8014\n",
      "Epoch 11/20\n",
      "196/196 [==============================] - 2s 9ms/step - loss: 0.1247 - accuracy: 0.9535 - val_loss: 0.6369 - val_accuracy: 0.8008\n",
      "Epoch 12/20\n",
      "196/196 [==============================] - 2s 9ms/step - loss: 0.1106 - accuracy: 0.9580 - val_loss: 0.6895 - val_accuracy: 0.7982\n",
      "Epoch 13/20\n",
      "196/196 [==============================] - 2s 9ms/step - loss: 0.1003 - accuracy: 0.9620 - val_loss: 0.7366 - val_accuracy: 0.7954\n",
      "Epoch 14/20\n",
      "196/196 [==============================] - 2s 9ms/step - loss: 0.0932 - accuracy: 0.9635 - val_loss: 0.7896 - val_accuracy: 0.7933\n",
      "Epoch 15/20\n",
      "196/196 [==============================] - 2s 9ms/step - loss: 0.0843 - accuracy: 0.9672 - val_loss: 0.8419 - val_accuracy: 0.7888\n",
      "Epoch 16/20\n",
      "196/196 [==============================] - 2s 9ms/step - loss: 0.0780 - accuracy: 0.9689 - val_loss: 0.8861 - val_accuracy: 0.7854\n",
      "Epoch 17/20\n",
      "196/196 [==============================] - 2s 9ms/step - loss: 0.0761 - accuracy: 0.9705 - val_loss: 0.9396 - val_accuracy: 0.7870\n",
      "Epoch 18/20\n",
      "196/196 [==============================] - 2s 9ms/step - loss: 0.0705 - accuracy: 0.9720 - val_loss: 0.9922 - val_accuracy: 0.7846\n",
      "Epoch 19/20\n",
      "196/196 [==============================] - 2s 9ms/step - loss: 0.0662 - accuracy: 0.9723 - val_loss: 1.0370 - val_accuracy: 0.7839\n",
      "Epoch 20/20\n",
      "196/196 [==============================] - 2s 9ms/step - loss: 0.0649 - accuracy: 0.9728 - val_loss: 1.0815 - val_accuracy: 0.7864\n"
     ]
    }
   ],
   "source": [
    "cnn1d_model.compile(optimizer='adam',\n",
    "              loss='binary_crossentropy',\n",
    "              metrics=['accuracy'])\n",
    "              \n",
    "epochs=20  # 몇 epoch를 훈련하면 좋을지 결과를 보면서 바꾸어 보기\n",
    "\n",
    "cnn1d_history = cnn1d_model.fit(partial_x_train,\n",
    "                    partial_y_train,\n",
    "                    epochs=epochs,\n",
    "                    batch_size=512,\n",
    "                    validation_data=(x_val, y_val),\n",
    "                    verbose=1)"
   ]
  },
  {
   "cell_type": "markdown",
   "id": "infinite-revolution",
   "metadata": {},
   "source": [
    "### train/validation loss, accuracy 확인"
   ]
  },
  {
   "cell_type": "code",
   "execution_count": 22,
   "id": "undefined-intent",
   "metadata": {},
   "outputs": [
    {
     "name": "stdout",
     "output_type": "stream",
     "text": [
      "dict_keys(['loss', 'accuracy', 'val_loss', 'val_accuracy'])\n"
     ]
    }
   ],
   "source": [
    "cnn1d_history_dict = cnn1d_history.history\n",
    "print(cnn1d_history_dict.keys()) # epoch에 따른 그래프를 그려볼 수 있는 항목들"
   ]
  },
  {
   "cell_type": "code",
   "execution_count": 23,
   "id": "floppy-bacteria",
   "metadata": {},
   "outputs": [
    {
     "data": {
      "image/png": "[encoded data removed]",
      "text/plain": [
       "<Figure size 432x288 with 1 Axes>"
      ]
     },
     "metadata": {
      "needs_background": "light"
     },
     "output_type": "display_data"
    }
   ],
   "source": [
    "cnn1d_acc = cnn1d_history_dict['accuracy']\n",
    "cnn1d_val_acc = cnn1d_history_dict['val_accuracy']\n",
    "cnn1d_loss = cnn1d_history_dict['loss']\n",
    "cnn1d_val_loss = cnn1d_history_dict['val_loss']\n",
    "\n",
    "## Training loss & Validation loss 그래프 \n",
    "epochs = range(1, len(cnn1d_acc) + 1)\n",
    "\n",
    "# \"bo\"는 \"파란색 점\"\n",
    "plt.plot(epochs, cnn1d_loss, 'bo', label='Training loss')\n",
    "# b는 \"파란 실선\"\n",
    "plt.plot(epochs, cnn1d_val_loss, 'b', label='Validation loss')\n",
    "plt.title('1-D CNN Training and validation loss')\n",
    "plt.xlabel('Epochs')\n",
    "plt.ylabel('Loss')\n",
    "plt.legend()\n",
    "\n",
    "plt.show()"
   ]
  },
  {
   "cell_type": "code",
   "execution_count": 24,
   "id": "armed-carroll",
   "metadata": {},
   "outputs": [
    {
     "data": {
      "image/png": "[encoded data removed]",
      "text/plain": [
       "<Figure size 432x288 with 1 Axes>"
      ]
     },
     "metadata": {
      "needs_background": "light"
     },
     "output_type": "display_data"
    }
   ],
   "source": [
    "## Training accuracy & validation accuracy 그래프\n",
    "\n",
    "plt.clf()   # 그림을 초기화합니다\n",
    "\n",
    "plt.plot(epochs, cnn1d_acc, 'bo', label='Training acc')\n",
    "plt.plot(epochs, cnn1d_val_acc, 'b', label='Validation acc')\n",
    "plt.title('1-D CNN Training and validation accuracy')\n",
    "plt.xlabel('Epochs')\n",
    "plt.ylabel('Accuracy')\n",
    "plt.legend()\n",
    "\n",
    "plt.show()"
   ]
  },
  {
   "cell_type": "markdown",
   "id": "deadly-hormone",
   "metadata": {},
   "source": [
    "### 모델 평가 "
   ]
  },
  {
   "cell_type": "code",
   "execution_count": 25,
   "id": "graphic-growing",
   "metadata": {},
   "outputs": [
    {
     "name": "stdout",
     "output_type": "stream",
     "text": [
      "1537/1537 - 5s - loss: 1.0744 - accuracy: 0.7809\n",
      "[1.0744256973266602, 0.7809467911720276]\n"
     ]
    }
   ],
   "source": [
    "cnn1d_results = cnn1d_model.evaluate(X_test,  y_test, verbose=2)\n",
    "\n",
    "print(cnn1d_results)"
   ]
  },
  {
   "cell_type": "markdown",
   "id": "institutional-reminder",
   "metadata": {},
   "source": [
    "## 3) GlobalMaxPooling1D() 레이어 하나만 사용하는 모델 \n",
    "\n",
    "이 방식은 전체 문장 중에서 단 하나의 가장 중요한 단어만 피처로 추출하여 그것으로 문장의 긍정/부정을 평가하는 방식이라고 생각할 수 있는데, 의외로 성능이 잘 나올 수도 있습니다."
   ]
  },
  {
   "cell_type": "markdown",
   "id": "descending-priority",
   "metadata": {},
   "source": [
    "### 모델 설계"
   ]
  },
  {
   "cell_type": "code",
   "execution_count": 26,
   "id": "green-cleveland",
   "metadata": {},
   "outputs": [
    {
     "name": "stdout",
     "output_type": "stream",
     "text": [
      "Model: \"sequential_2\"\n",
      "_________________________________________________________________\n",
      "Layer (type)                 Output Shape              Param #   \n",
      "=================================================================\n",
      "embedding_2 (Embedding)      (None, None, 16)          160000    \n",
      "_________________________________________________________________\n",
      "global_max_pooling1d_1 (Glob (None, 16)                0         \n",
      "_________________________________________________________________\n",
      "dense_4 (Dense)              (None, 8)                 136       \n",
      "_________________________________________________________________\n",
      "dense_5 (Dense)              (None, 1)                 9         \n",
      "=================================================================\n",
      "Total params: 160,145\n",
      "Trainable params: 160,145\n",
      "Non-trainable params: 0\n",
      "_________________________________________________________________\n"
     ]
    }
   ],
   "source": [
    "vocab_size = 10000    # 어휘 사전의 크기입니다(10,000개의 단어)\n",
    "word_vector_dim = 16  # 워드 벡터의 차원 수 (변경 가능한 하이퍼파라미터)\n",
    "\n",
    "gmp1d_model = keras.Sequential()\n",
    "gmp1d_model.add(keras.layers.Embedding(vocab_size, word_vector_dim, input_shape=(None,)))\n",
    "gmp1d_model.add(keras.layers.GlobalMaxPooling1D())\n",
    "gmp1d_model.add(keras.layers.Dense(8, activation='relu'))\n",
    "gmp1d_model.add(keras.layers.Dense(1, activation='sigmoid'))  # 최종 출력은 긍정/부정을 나타내는 1dim \n",
    "\n",
    "gmp1d_model.summary()"
   ]
  },
  {
   "cell_type": "markdown",
   "id": "floral-feelings",
   "metadata": {},
   "source": [
    "### 모델 학습"
   ]
  },
  {
   "cell_type": "code",
   "execution_count": 27,
   "id": "danish-swedish",
   "metadata": {},
   "outputs": [
    {
     "name": "stdout",
     "output_type": "stream",
     "text": [
      "Epoch 1/20\n",
      "196/196 [==============================] - 2s 7ms/step - loss: 0.6679 - accuracy: 0.5918 - val_loss: 0.5029 - val_accuracy: 0.8096\n",
      "Epoch 2/20\n",
      "196/196 [==============================] - 1s 6ms/step - loss: 0.4413 - accuracy: 0.8346 - val_loss: 0.3815 - val_accuracy: 0.8338\n",
      "Epoch 3/20\n",
      "196/196 [==============================] - 1s 6ms/step - loss: 0.3350 - accuracy: 0.8618 - val_loss: 0.3628 - val_accuracy: 0.8402\n",
      "Epoch 4/20\n",
      "196/196 [==============================] - 1s 6ms/step - loss: 0.2986 - accuracy: 0.8786 - val_loss: 0.3606 - val_accuracy: 0.8420\n",
      "Epoch 5/20\n",
      "196/196 [==============================] - 1s 6ms/step - loss: 0.2749 - accuracy: 0.8889 - val_loss: 0.3640 - val_accuracy: 0.8432\n",
      "Epoch 6/20\n",
      "196/196 [==============================] - 1s 6ms/step - loss: 0.2549 - accuracy: 0.8977 - val_loss: 0.3711 - val_accuracy: 0.8416\n",
      "Epoch 7/20\n",
      "196/196 [==============================] - 1s 6ms/step - loss: 0.2391 - accuracy: 0.9059 - val_loss: 0.3802 - val_accuracy: 0.8417\n",
      "Epoch 8/20\n",
      "196/196 [==============================] - 1s 6ms/step - loss: 0.2234 - accuracy: 0.9126 - val_loss: 0.3901 - val_accuracy: 0.8399\n",
      "Epoch 9/20\n",
      "196/196 [==============================] - 1s 6ms/step - loss: 0.2116 - accuracy: 0.9191 - val_loss: 0.4022 - val_accuracy: 0.8385\n",
      "Epoch 10/20\n",
      "196/196 [==============================] - 1s 6ms/step - loss: 0.2006 - accuracy: 0.9243 - val_loss: 0.4149 - val_accuracy: 0.8374\n",
      "Epoch 11/20\n",
      "196/196 [==============================] - 1s 6ms/step - loss: 0.1909 - accuracy: 0.9286 - val_loss: 0.4292 - val_accuracy: 0.8346\n",
      "Epoch 12/20\n",
      "196/196 [==============================] - 1s 6ms/step - loss: 0.1832 - accuracy: 0.9317 - val_loss: 0.4438 - val_accuracy: 0.8326\n",
      "Epoch 13/20\n",
      "196/196 [==============================] - 1s 6ms/step - loss: 0.1720 - accuracy: 0.9369 - val_loss: 0.4590 - val_accuracy: 0.8309\n",
      "Epoch 14/20\n",
      "196/196 [==============================] - 1s 6ms/step - loss: 0.1648 - accuracy: 0.9407 - val_loss: 0.4746 - val_accuracy: 0.8300\n",
      "Epoch 15/20\n",
      "196/196 [==============================] - 1s 6ms/step - loss: 0.1563 - accuracy: 0.9455 - val_loss: 0.4903 - val_accuracy: 0.8282\n",
      "Epoch 16/20\n",
      "196/196 [==============================] - 1s 6ms/step - loss: 0.1473 - accuracy: 0.9475 - val_loss: 0.5045 - val_accuracy: 0.8267\n",
      "Epoch 17/20\n",
      "196/196 [==============================] - 1s 6ms/step - loss: 0.1462 - accuracy: 0.9485 - val_loss: 0.5196 - val_accuracy: 0.8268\n",
      "Epoch 18/20\n",
      "196/196 [==============================] - 1s 6ms/step - loss: 0.1367 - accuracy: 0.9538 - val_loss: 0.5366 - val_accuracy: 0.8250\n",
      "Epoch 19/20\n",
      "196/196 [==============================] - 1s 6ms/step - loss: 0.1307 - accuracy: 0.9560 - val_loss: 0.5506 - val_accuracy: 0.8233\n",
      "Epoch 20/20\n",
      "196/196 [==============================] - 1s 6ms/step - loss: 0.1265 - accuracy: 0.9588 - val_loss: 0.5657 - val_accuracy: 0.8226\n"
     ]
    }
   ],
   "source": [
    "gmp1d_model.compile(optimizer='adam',\n",
    "              loss='binary_crossentropy',\n",
    "              metrics=['accuracy'])\n",
    "              \n",
    "epochs=20  # 몇 epoch를 훈련하면 좋을지 결과를 보면서 바꾸어 봅시다. \n",
    "\n",
    "gmp1d_history = gmp1d_model.fit(partial_x_train,\n",
    "                    partial_y_train,\n",
    "                    epochs=epochs,\n",
    "                    batch_size=512,\n",
    "                    validation_data=(x_val, y_val),\n",
    "                    verbose=1)"
   ]
  },
  {
   "cell_type": "markdown",
   "id": "successful-search",
   "metadata": {},
   "source": [
    "### train/validation loss, accuracy 확인"
   ]
  },
  {
   "cell_type": "code",
   "execution_count": 28,
   "id": "operating-sixth",
   "metadata": {},
   "outputs": [
    {
     "name": "stdout",
     "output_type": "stream",
     "text": [
      "dict_keys(['loss', 'accuracy', 'val_loss', 'val_accuracy'])\n"
     ]
    }
   ],
   "source": [
    "gmp1d_history_dict = gmp1d_history.history\n",
    "print(gmp1d_history_dict.keys()) # epoch에 따른 그래프를 그려볼 수 있는 항목들"
   ]
  },
  {
   "cell_type": "code",
   "execution_count": 29,
   "id": "corporate-kingdom",
   "metadata": {},
   "outputs": [
    {
     "data": {
      "image/png": "[encoded data removed]",
      "text/plain": [
       "<Figure size 432x288 with 1 Axes>"
      ]
     },
     "metadata": {
      "needs_background": "light"
     },
     "output_type": "display_data"
    }
   ],
   "source": [
    "gmp1d_acc = gmp1d_history_dict['accuracy']\n",
    "gmp1d_val_acc = gmp1d_history_dict['val_accuracy']\n",
    "gmp1d_loss = gmp1d_history_dict['loss']\n",
    "gmp1d_val_loss = gmp1d_history_dict['val_loss']\n",
    "\n",
    "## Training loss & Validation loss 그래프 \n",
    "epochs = range(1, len(gmp1d_acc) + 1)\n",
    "\n",
    "# \"bo\"는 \"파란색 점\"\n",
    "plt.plot(epochs, gmp1d_loss, 'bo', label='Training loss')\n",
    "# b는 \"파란 실선\"\n",
    "plt.plot(epochs, gmp1d_val_loss, 'b', label='Validation loss')\n",
    "plt.title('GlobalMaxPooling-1D Training and validation loss')\n",
    "plt.xlabel('Epochs')\n",
    "plt.ylabel('Loss')\n",
    "plt.legend()\n",
    "\n",
    "plt.show()"
   ]
  },
  {
   "cell_type": "code",
   "execution_count": 30,
   "id": "joined-recycling",
   "metadata": {},
   "outputs": [
    {
     "data": {
      "image/png": "[encoded data removed]",
      "text/plain": [
       "<Figure size 432x288 with 1 Axes>"
      ]
     },
     "metadata": {
      "needs_background": "light"
     },
     "output_type": "display_data"
    }
   ],
   "source": [
    "plt.clf()   # 그림을 초기화합니다\n",
    "\n",
    "plt.plot(epochs, gmp1d_acc, 'bo', label='Training acc')\n",
    "plt.plot(epochs, gmp1d_val_acc, 'b', label='Validation acc')\n",
    "plt.title('GlobalMaxPooling-1D Training and validation accuracy')\n",
    "plt.xlabel('Epochs')\n",
    "plt.ylabel('Accuracy')\n",
    "plt.legend()\n",
    "\n",
    "plt.show()"
   ]
  },
  {
   "cell_type": "markdown",
   "id": "radical-burton",
   "metadata": {},
   "source": [
    "### 모델 평가"
   ]
  },
  {
   "cell_type": "code",
   "execution_count": 31,
   "id": "accurate-venture",
   "metadata": {},
   "outputs": [
    {
     "name": "stdout",
     "output_type": "stream",
     "text": [
      "1537/1537 - 2s - loss: 0.5615 - accuracy: 0.8217\n",
      "[0.5614853501319885, 0.8217141032218933]\n"
     ]
    }
   ],
   "source": [
    "results = gmp1d_model.evaluate(X_test,  y_test, verbose=2)\n",
    "\n",
    "print(results)"
   ]
  },
  {
   "cell_type": "markdown",
   "id": "victorian-strategy",
   "metadata": {},
   "source": [
    "# 5. 학습된 Embedding 레이어 분석\n",
    "\n",
    "gensim을 활용하여 자체학습된 혹은 사전학습된 임베딩 레이어를 분석해본다. "
   ]
  },
  {
   "cell_type": "code",
   "execution_count": null,
   "id": "sweet-colorado",
   "metadata": {},
   "outputs": [],
   "source": []
  }
 ],
 "metadata": {
  "kernelspec": {
   "display_name": "Python 3",
   "language": "python",
   "name": "python3"
  },
  "language_info": {
   "codemirror_mode": {
    "name": "ipython",
    "version": 3
   },
   "file_extension": ".py",
   "mimetype": "text/x-python",
   "name": "python",
   "nbconvert_exporter": "python",
   "pygments_lexer": "ipython3",
   "version": "3.7.9"
  }
 },
 "nbformat": 4,
 "nbformat_minor": 5
}
