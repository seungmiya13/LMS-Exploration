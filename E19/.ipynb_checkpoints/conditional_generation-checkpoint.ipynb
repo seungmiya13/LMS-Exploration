{
 "cells": [
  {
   "cell_type": "markdown",
   "id": "arbitrary-flood",
   "metadata": {},
   "source": [
    "E19. 난 스케치를 할 테니 너는 채색을 하거라\n",
    "===\n",
    "    \n",
    "이미지 생성 모델로 사용되는 GAN 중에서 조건이 추가된 cGAN에 대해 알아보고 Pix2Pix를 배워봅니다. "
   ]
  },
  {
   "cell_type": "markdown",
   "id": "choice-joshua",
   "metadata": {},
   "source": [
    "# 19-4. 내가 원하는 숫자 이미지 만들기 (1) Generator 구성하기\n",
    "\n",
    "이제부터는 앞에서 계속 비교해온 GAN과 cGAN을 각각 간단하게 구현하고 실험해보겠습니다.    \n",
    "간단한 실험을 위해 MNIST 데이터셋을 이용합니다. \n",
    "- 실습 코드 참고 : https://github.com/thisisiron/TF2-GAN"
   ]
  },
  {
   "cell_type": "markdown",
   "id": "crude-sender",
   "metadata": {},
   "source": [
    "## 데이터 준비하기\n",
    "\n",
    "tensorflow-dataset 라이브러리를 통해 데이터를 불러옵니다."
   ]
  },
  {
   "cell_type": "code",
   "execution_count": 1,
   "id": "threatened-value",
   "metadata": {},
   "outputs": [
    {
     "name": "stdout",
     "output_type": "stream",
     "text": [
      "tensorflow-datasets           4.2.0\n",
      "\u001b[33mWARNING: You are using pip version 20.3.3; however, version 21.3.1 is available.\n",
      "You should consider upgrading via the '/opt/conda/bin/python3.7 -m pip install --upgrade pip' command.\u001b[0m\n"
     ]
    }
   ],
   "source": [
    "# !pip install tensorflow-dataset # 설치 \n",
    "!pip list | grep tensorflow-dataset # 버전 확인 "
   ]
  },
  {
   "cell_type": "code",
   "execution_count": 2,
   "id": "sought-piano",
   "metadata": {},
   "outputs": [
    {
     "name": "stdout",
     "output_type": "stream",
     "text": [
      "\u001b[1mDownloading and preparing dataset 11.06 MiB (download: 11.06 MiB, generated: 21.00 MiB, total: 32.06 MiB) to /aiffel/tensorflow_datasets/mnist/3.0.1...\u001b[0m\n"
     ]
    },
    {
     "data": {
      "application/vnd.jupyter.widget-view+json": {
       "model_id": "35225a9834e048c0b0eb95acd2aab9c0",
       "version_major": 2,
       "version_minor": 0
      },
      "text/plain": [
       "Dl Completed...:   0%|          | 0/4 [00:00<?, ? file/s]"
      ]
     },
     "metadata": {},
     "output_type": "display_data"
    },
    {
     "name": "stdout",
     "output_type": "stream",
     "text": [
      "\n",
      "\u001b[1mDataset mnist downloaded and prepared to /aiffel/tensorflow_datasets/mnist/3.0.1. Subsequent calls will reuse this data.\u001b[0m\n"
     ]
    },
    {
     "data": {
      "image/png": "[encoded data removed]",
      "text/plain": [
       "<Figure size 648x648 with 9 Axes>"
      ]
     },
     "metadata": {},
     "output_type": "display_data"
    }
   ],
   "source": [
    "# tensorflow-datasets 라이브러리에서 MNIST 데이터셋을 불러와 확인해봅시다.\n",
    "import tensorflow_datasets as tfds\n",
    "\n",
    "mnist, info =  tfds.load(\n",
    "    \"mnist\", split=\"train\", with_info=True\n",
    ")\n",
    "\n",
    "fig = tfds.show_examples(mnist, info)"
   ]
  },
  {
   "cell_type": "markdown",
   "id": "aggregate-lighting",
   "metadata": {},
   "source": [
    "- 여러 개의 숫자 이미지와 그에 알맞은 레이블이 출력됩니다.    \n",
    "- tfds.show_examples(ds: tf.data.Dataset, ds_info: tfds.core.DatasetInfo)     \n",
    "    : Visualize images (and labels) from an image classification dataset    \n",
    "    https://www.tensorflow.org/datasets/api_docs/python/tfds/visualization/show_examples\n",
    "\n",
    "    \n",
    "이어서 아래 코드를 실행해 학습 전에 필요한 몇 가지 처리를 수행하는 함수를 정의합니다. 이미지 픽셀 값을 -1~1 사이의 범위로 변경했고, 레이블 정보를 원-핫 인코딩(one-hot encoding)했습니다.\n",
    "    \n",
    "GAN과 cGAN 각각을 실험해 보기 위해 label 정보 사용 유무에 따라 gan_preprocessing()과 cgan_preprocessing() 두 가지 함수를 구성해 놓았습니다."
   ]
  },
  {
   "cell_type": "code",
   "execution_count": 3,
   "id": "amber-trunk",
   "metadata": {},
   "outputs": [
    {
     "name": "stdout",
     "output_type": "stream",
     "text": [
      "✅\n"
     ]
    }
   ],
   "source": [
    "import tensorflow as tf\n",
    "\n",
    "BATCH_SIZE = 128\n",
    "\n",
    "def gan_preprocessing(data):\n",
    "    image = data[\"image\"]\n",
    "    image = tf.cast(image, tf.float32)\n",
    "    image = (image / 127.5) - 1\n",
    "    return image\n",
    "\n",
    "def cgan_preprocessing(data):\n",
    "    image = data[\"image\"]\n",
    "    image = tf.cast(image, tf.float32)\n",
    "    image = (image / 127.5) - 1\n",
    "    \n",
    "    label = tf.one_hot(data[\"label\"], 10) # 레이블 정보(one-hot encoding) 사용 \n",
    "    return image, label\n",
    "\n",
    "gan_datasets = mnist.map(gan_preprocessing).shuffle(1000).batch(BATCH_SIZE)\n",
    "cgan_datasets = mnist.map(cgan_preprocessing).shuffle(100).batch(BATCH_SIZE)\n",
    "print(\"✅\")"
   ]
  },
  {
   "cell_type": "markdown",
   "id": "subject-optics",
   "metadata": {},
   "source": [
    "- tf.one_hot(indices, depth) : Returns a one-hot tensor.     \n",
    "    depth : A scalar defining the depth of the one hot dimension   \n",
    "    https://www.tensorflow.org/api_docs/python/tf/one_hot\n",
    "    \n",
    "원하는 대로 정확히 처리되었는지 한 개 데이터셋만 선택해 확인해봅시다.     \n",
    "이미지에 쓰인 숫자와 레이블이 일치해야 하고, 이미지 값의 범위가 -1~1 사이에 있어야 합니다."
   ]
  },
  {
   "cell_type": "code",
   "execution_count": 4,
   "id": "genuine-tomorrow",
   "metadata": {},
   "outputs": [
    {
     "name": "stdout",
     "output_type": "stream",
     "text": [
      "Label : tf.Tensor([0. 0. 0. 0. 1. 0. 0. 0. 0. 0.], shape=(10,), dtype=float32)\n",
      "Image Min/Max : -1.0 1.0\n"
     ]
    },
    {
     "data": {
      "text/plain": [
       "<matplotlib.image.AxesImage at 0x7fa766216590>"
      ]
     },
     "execution_count": 4,
     "metadata": {},
     "output_type": "execute_result"
    },
    {
     "data": {
      "image/png": "[encoded data removed]",
      "text/plain": [
       "<Figure size 432x288 with 1 Axes>"
      ]
     },
     "metadata": {
      "needs_background": "light"
     },
     "output_type": "display_data"
    }
   ],
   "source": [
    "import matplotlib.pyplot as plt\n",
    "\n",
    "for i,j in cgan_datasets : break\n",
    "\n",
    "# 이미지 i와 라벨 j가 일치하는지 확인해 봅니다.     \n",
    "print(\"Label :\", j[0])\n",
    "print(\"Image Min/Max :\", i.numpy().min(), i.numpy().max())\n",
    "plt.imshow(i.numpy()[0,...,0], plt.cm.gray)"
   ]
  },
  {
   "cell_type": "markdown",
   "id": "concerned-arrangement",
   "metadata": {},
   "source": [
    "- 원-핫 인코딩으로 표현된 Label과 출력된 이미지가 일치하는지 확인해 봅니다. 0과 1로 이루어진 원-핫 벡터에는 각자 고유의 인덱스가 있습니다. MNIST의 경우, 숫자 0은 [1. 0. 0. 0. 0. 0. 0. 0. 0. 0.], 숫자 6은 [0. 0. 0. 0. 0. 0. 1. 0. 0. 0.]의 값을 가집니다. output을 확인해 이미지 i와 라벨 j가 일치하는지 확인해 봅니다"
   ]
  },
  {
   "cell_type": "markdown",
   "id": "royal-retreat",
   "metadata": {},
   "source": [
    "## GAN Generator 구성하기\n",
    "\n",
    "이번 구현은 Tensorflow2의 Subclassing 방법을 이용하겠습니다. \n",
    "- Subclassing 방법은 tensorflow.keras.Model 을 상속받아 클래스를 만들며, 일반적으로 __init__() 메서드 안에서 레이어 구성을 정의하고, 구성된 레이어를 call() 메서드에서 사용해 forward propagation을 진행합니다. 이러한 Subclassing 방법은 Pytorch의 모델 구성 방법과도 매우 유사하므로 이에 익숙해진다면 Pytorch의 모델 구성 방법도 빠르게 습득할 수 있습니다.\n",
    "    \n",
    "먼저 GAN의 Generator를 아래와 같이 구현합니다."
   ]
  },
  {
   "cell_type": "code",
   "execution_count": 5,
   "id": "invalid-palestine",
   "metadata": {},
   "outputs": [
    {
     "name": "stdout",
     "output_type": "stream",
     "text": [
      "✅\n"
     ]
    }
   ],
   "source": [
    "from tensorflow.keras import layers, Input, Model\n",
    "\n",
    "class GeneratorGAN(Model):\n",
    "    def __init__(self):\n",
    "        super(GeneratorGAN, self).__init__()\n",
    "\n",
    "        self.dense_1 = layers.Dense(128, activation='relu')\n",
    "        self.dense_2 = layers.Dense(256, activation='relu')\n",
    "        self.dense_3 = layers.Dense(512, activation='relu')\n",
    "        self.dense_4 = layers.Dense(28*28*1, activation='tanh')\n",
    "\n",
    "        self.reshape = layers.Reshape((28, 28, 1))\n",
    "\n",
    "    def call(self, noise):\n",
    "        out = self.dense_1(noise)\n",
    "        out = self.dense_2(out)\n",
    "        out = self.dense_3(out)\n",
    "        out = self.dense_4(out)\n",
    "        return self.reshape(out)\n",
    "\n",
    "print(\"✅\")"
   ]
  },
  {
   "cell_type": "markdown",
   "id": "arbitrary-deficit",
   "metadata": {},
   "source": [
    "- \\__init\\__() 메서드 안에서 사용할 모든 레이어를 정의했습니다. 4개의 fully-connected 레이어 중 한 개를 제외하고 모두 ReLU 활성화를 사용하는 것으로 확인됩니다.\n",
    "- call() 메서드에서는 노이즈를 입력받아 __init__()에서 정의된 레이어들을 순서대로 통과합니다.\n",
    "- Generator는 숫자가 쓰인 이미지를 출력해야 하므로 마지막 출력은 layers.Reshape()을 이용해 (28,28,1) 크기로 변환됩니다."
   ]
  },
  {
   "cell_type": "markdown",
   "id": "terminal-differential",
   "metadata": {},
   "source": [
    "## cGAN Generator 구성하기\n",
    "\n",
    "이번에는 cGAN의 Generator를 살펴봅시다."
   ]
  },
  {
   "cell_type": "code",
   "execution_count": 6,
   "id": "dress-resource",
   "metadata": {},
   "outputs": [
    {
     "name": "stdout",
     "output_type": "stream",
     "text": [
      "✅\n"
     ]
    }
   ],
   "source": [
    "class GeneratorCGAN(Model):\n",
    "    def __init__(self):\n",
    "        super(GeneratorCGAN, self).__init__()\n",
    "        \n",
    "        self.dense_z = layers.Dense(256, activation='relu')\n",
    "        self.dense_y = layers.Dense(256, activation='relu')\n",
    "        self.combined_dense = layers.Dense(512, activation='relu')\n",
    "        self.final_dense = layers.Dense(28 * 28 * 1, activation='tanh')\n",
    "        self.reshape = layers.Reshape((28, 28, 1))\n",
    "\n",
    "    def call(self, noise, label):\n",
    "        noise = self.dense_z(noise)\n",
    "        label = self.dense_y(label)\n",
    "        out = self.combined_dense(tf.concat([noise, label], axis=-1))\n",
    "        out = self.final_dense(out)\n",
    "        return self.reshape(out)\n",
    "    \n",
    "print(\"✅\")"
   ]
  },
  {
   "cell_type": "markdown",
   "id": "worst-cancer",
   "metadata": {},
   "source": [
    "- cGAN의 입력은 2개(노이즈 및 레이블 정보)라는 점을 기억해주세요. (이전 GAN코드와 비교하여 잘 생각해 봅시다)\n",
    "1. 노이즈 입력 및 레이블 입력은 각각 1개의 fully-connected 레이어와 ReLU 활성화를 통과합니다. (dense_z, dense_y)\n",
    "2. 1번 문항의 각 결과가 서로 연결되어 다시 한번 1개의 fully-connected 레이어와 ReLU 활성화를 통과합니다 (tf.concat, conbined_dense)\n",
    "3. 2번 문항의 결과가 1개의 fully-connected 레이어 및 Hyperbolic tangent 활성화를 거쳐 28x28 차원의 결과가 생성되고 (28,28,1) 크기의 이미지 형태로 변환되어 출력됩니다 (final_dense, reshape)"
   ]
  },
  {
   "cell_type": "markdown",
   "id": "rational-voltage",
   "metadata": {},
   "source": [
    "# 19-5. 내가 원하는 숫자 이미지 만들기 (2) Discriminator 구성하기\n"
   ]
  },
  {
   "cell_type": "markdown",
   "id": "systematic-address",
   "metadata": {},
   "source": [
    "## GAN Discriminator 구성하기\n",
    "\n",
    "이전에 임의 노이즈 및 레이블 정보로부터 숫자 이미지를 생성하는 Generator를 구현했습니다. 이번에는 실제 이미지와 Generator가 생성한 이미지에 대해 진짜와 가짜를 식별하는 Discriminator를 구현해 보겠습니다.\n",
    "   \n",
    "먼저 GAN의 Discriminator를 아래와 같이 구현합니다."
   ]
  },
  {
   "cell_type": "code",
   "execution_count": 7,
   "id": "alpha-willow",
   "metadata": {},
   "outputs": [
    {
     "name": "stdout",
     "output_type": "stream",
     "text": [
      "✅\n"
     ]
    }
   ],
   "source": [
    "class DiscriminatorGAN(Model):\n",
    "    def __init__(self):\n",
    "        super(DiscriminatorGAN, self).__init__()\n",
    "        self.flatten = layers.Flatten()\n",
    "        \n",
    "        self.blocks = []\n",
    "        for f in [512, 256, 128, 1]:\n",
    "            self.blocks.append(\n",
    "                layers.Dense(f, activation=None if f==1 else \"relu\")\n",
    "            )\n",
    "        \n",
    "    def call(self, x):\n",
    "        x = self.flatten(x)\n",
    "        for block in self.blocks:\n",
    "            x = block(x)\n",
    "        return x\n",
    "    \n",
    "print(\"✅\")"
   ]
  },
  {
   "cell_type": "markdown",
   "id": "oriental-completion",
   "metadata": {},
   "source": [
    "- 여기에서는 \\__init\\__()에 blocks라는 리스트를 하나 만들어 놓고, for loop를 이용하여 필요한 레이어들을 차곡차곡 쌓아놓았습니다. 이러한 방식을 이용하면 각각의 fully-connected 레이어를 매번 정의하지 않아도 되므로 많은 레이어가 필요할 때 편리합니다. \n",
    "- Discriminator의 입력은 Generator가 생성한 (28,28,1) 크기의 이미지이며, 이를 fully-connected 레이어로 학습하기 위해 call()에서는 가장 먼저 layers.Flatten()이 적용됩니다. \n",
    "- 이어서 레이어들이 쌓여있는 blocks에 대해 for loop를 이용하여 레이어들을 순서대로 하나씩 꺼내 입력 데이터를 통과시킵니다. \n",
    "- 마지막 fully-connected 레이어를 통과하면 진짜 및 가짜 이미지를 나타내는 1개의 값이 출력됩니다."
   ]
  },
  {
   "cell_type": "markdown",
   "id": "streaming-andorra",
   "metadata": {},
   "source": [
    "## cGAN Discriminator 구성하기\n",
    "\n",
    "다음으로 구현할 cGAN의 Discriminator는 Maxout이라는 특별한 레이어가 사용됩니다. \n",
    "- Maxout은 간단히 설명하면 두 레이어 사이를 연결할 때, 여러 개의 fully-connected 레이어를 통과시켜 그 중 가장 큰 값을 가져오도록 합니다. 만약 2개의 fully-connected 레이어를 사용할 때 Maxout을 식으로 표현하면 아래와 같습니다.    \n",
    "    max(w1^Tx+b1, w2^Tx+b2)\n",
    "    \n",
    "    Maxout에 대한 자세한 정보 :\n",
    "    - Stochastic Pooling & Maxout : https://m.blog.naver.com/PostView.nhn?blogId=laonple&logNo=221259325819&proxyReferer=&proxyReferer=https:%2F%2Fwww.google.com%2F\n",
    "    - Maxout Networks : https://arxiv.org/pdf/1302.4389.pdf\n",
    "  \n",
    "  \n",
    "아래 코드와 같이 Maxout을 구성할 수 있습니다.    \n",
    "- tensorflow.keras.layers.Layer 를 상속받아 레이어를 정의했습니다.    \n",
    "- 이전에 모델을 정의한 것과 비슷하게 __init__(), call() 메서드를 구성합니다."
   ]
  },
  {
   "cell_type": "code",
   "execution_count": 8,
   "id": "national-neighborhood",
   "metadata": {},
   "outputs": [
    {
     "name": "stdout",
     "output_type": "stream",
     "text": [
      "✅\n"
     ]
    }
   ],
   "source": [
    "class Maxout(layers.Layer):\n",
    "    def __init__(self, units, pieces):\n",
    "        super(Maxout, self).__init__()\n",
    "        self.dense = layers.Dense(units*pieces, activation=\"relu\")\n",
    "        self.dropout = layers.Dropout(.5)    \n",
    "        self.reshape = layers.Reshape((-1, pieces, units))\n",
    "    \n",
    "    def call(self, x):\n",
    "        x = self.dense(x)\n",
    "        x = self.dropout(x)\n",
    "        x = self.reshape(x)\n",
    "        return tf.math.reduce_max(x, axis=2)\n",
    "\n",
    "print(\"✅\")"
   ]
  },
  {
   "cell_type": "markdown",
   "id": "coordinate-future",
   "metadata": {},
   "source": [
    "- tf.math.reduce_max(input_tensor, axis) : Computes tf.math.maximum of elements across dimensions of a tensor    \n",
    "    https://www.tensorflow.org/api_docs/python/tf/math/reduce_max\n",
    "- Maxout 레이어를 구성할 때 units과 pieces의 설정이 필요하며, units 차원 수를 가진 fully-connected 레이어를 pieces개 만큼 만들고 그 중 최대 값을 출력합니다.     \n",
    "    예를 들어, 사용할 Maxout 레이어가 units=100, pieces=10으로 설정 된다면 입력으로 부터 100차원의 representation을 10개 만들고, 10개 중에서 최대값을 가져와 최종 1개의 100차원 representation이 출력됩니다. 식으로 나타낸다면 아래와 같습니다. (위 예시에서는 각각의 wx+b가 모두 100차원 입니다)\n",
    "    - max(w_1^Tx+b_1, w_2^Tx+b_2, ..., w_9^Tx+b_9, w_{10}^Tx+b_{10})\n",
    "      \n",
    "위에서 정의한 Maxout 레이어를 3번만 사용하면 아래와 같이 쉽게 cGAN의 Discriminator를 구성할 수 있습니다."
   ]
  },
  {
   "cell_type": "code",
   "execution_count": 9,
   "id": "individual-nebraska",
   "metadata": {},
   "outputs": [
    {
     "name": "stdout",
     "output_type": "stream",
     "text": [
      "✅\n"
     ]
    }
   ],
   "source": [
    "class DiscriminatorCGAN(Model):\n",
    "    def __init__(self):\n",
    "        super(DiscriminatorCGAN, self).__init__()\n",
    "        self.flatten = layers.Flatten()\n",
    "        \n",
    "        self.image_block = Maxout(240, 5)\n",
    "        self.label_block = Maxout(50, 5)\n",
    "        self.combine_block = Maxout(240, 4)\n",
    "        \n",
    "        self.dense = layers.Dense(1, activation=None)\n",
    "    \n",
    "    def call(self, image, label):\n",
    "        image = self.flatten(image)\n",
    "        image = self.image_block(image)\n",
    "        label = self.label_block(label)\n",
    "        x = layers.Concatenate()([image, label])\n",
    "        x = self.combine_block(x)\n",
    "        return self.dense(x)\n",
    "    \n",
    "print(\"✅\")"
   ]
  },
  {
   "cell_type": "markdown",
   "id": "collective-fever",
   "metadata": {},
   "source": [
    "- tf.keras.layers.Concatenate() : Layer that concatenates a list of inputs    \n",
    "    https://www.tensorflow.org/api_docs/python/tf/keras/layers/Concatenate\n",
    "\n",
    "\n",
    "- GAN의 Discriminator와 마찬가지로 Generator가 생성한 (28,28,1) 크기의 이미지가 입력되므로, layers.Flatten()이 적용됩니다. \n",
    "- 그리고 이미지 입력 및 레이블 입력 각각은 Maxout 레이어를 한번씩 통과한 후 서로 결합되어 Maxout 레이어를 한번 더 통과합니다. \n",
    "- 마지막 fully-connected 레이어를 통과하면 진짜 및 가짜 이미지를 나타내는 1개의 값이 출력됩니다."
   ]
  },
  {
   "cell_type": "markdown",
   "id": "faced-portuguese",
   "metadata": {},
   "source": [
    "# 19-6. 내가 원하는 숫자 이미지 만들기 (3) 학습 및 테스트하기\n",
    "\n",
    "이전에 정의한 Generator 및 Discriminator를 이용해 MINST를 학습하고 각 모델로 직접 숫자 손글씨를 생성해봅시다.    \n",
    "    \n",
    "우선 GAN, cGAN 각각의 모델 학습에 공통적으로 필요한 loss function과 optimizer를 정의합니다.    \n",
    "진짜 및 가짜를 구별하기 위해 Binary Cross Entropy를 사용하고, Adam optimizer를 이용해 학습하겠습니다."
   ]
  },
  {
   "cell_type": "code",
   "execution_count": 10,
   "id": "biblical-consumer",
   "metadata": {},
   "outputs": [
    {
     "name": "stdout",
     "output_type": "stream",
     "text": [
      "✅\n"
     ]
    }
   ],
   "source": [
    "from tensorflow.keras import optimizers, losses\n",
    "\n",
    "bce = losses.BinaryCrossentropy(from_logits=True)\n",
    "\n",
    "def generator_loss(fake_output):\n",
    "    return bce(tf.ones_like(fake_output), fake_output)\n",
    "\n",
    "def discriminator_loss(real_output, fake_output):\n",
    "    return bce(tf.ones_like(real_output), real_output) + bce(tf.zeros_like(fake_output), fake_output)\n",
    "\n",
    "gene_opt = optimizers.Adam(1e-4)\n",
    "disc_opt = optimizers.Adam(1e-4)    \n",
    "\n",
    "print(\"✅\")"
   ]
  },
  {
   "cell_type": "markdown",
   "id": "vital-cincinnati",
   "metadata": {},
   "source": [
    "## GAN으로 MNIST 학습하기\n",
    "\n",
    "이전 단계에서 구성한 GeneratorGAN 및 DiscriminatorGAN 모델 클래스를 이용합니다.     \n",
    "여기서는 입력으로 사용되는 노이즈를 100차원으로 설정했으며, 하나의 배치 크기 데이터로 모델을 업데이트하는 함수를 아래와 같이 작성했습니다."
   ]
  },
  {
   "cell_type": "code",
   "execution_count": 11,
   "id": "basic-guyana",
   "metadata": {},
   "outputs": [
    {
     "name": "stdout",
     "output_type": "stream",
     "text": [
      "✅\n"
     ]
    }
   ],
   "source": [
    "gan_generator = GeneratorGAN()\n",
    "gan_discriminator = DiscriminatorGAN()\n",
    "\n",
    "@tf.function()\n",
    "def gan_step(real_images):\n",
    "    noise = tf.random.normal([real_images.shape[0], 100])\n",
    "    \n",
    "    with tf.GradientTape(persistent=True) as tape:\n",
    "        # Generator를 이용해 가짜 이미지 생성\n",
    "        fake_images = gan_generator(noise)\n",
    "        # Discriminator를 이용해 진짜 및 가짜이미지를 각각 판별\n",
    "        real_out = gan_discriminator(real_images)\n",
    "        fake_out = gan_discriminator(fake_images)\n",
    "        # 각 손실(loss)을 계산\n",
    "        gene_loss = generator_loss(fake_out)\n",
    "        disc_loss = discriminator_loss(real_out, fake_out)\n",
    "    # gradient 계산\n",
    "    gene_grad = tape.gradient(gene_loss, gan_generator.trainable_variables)\n",
    "    disc_grad = tape.gradient(disc_loss, gan_discriminator.trainable_variables)\n",
    "    # 모델 학습\n",
    "    gene_opt.apply_gradients(zip(gene_grad, gan_generator.trainable_variables))\n",
    "    disc_opt.apply_gradients(zip(disc_grad, gan_discriminator.trainable_variables))\n",
    "    return gene_loss, disc_loss\n",
    "\n",
    "print(\"✅\")"
   ]
  },
  {
   "cell_type": "markdown",
   "id": "fuzzy-anaheim",
   "metadata": {},
   "source": [
    "- apply_gradients() : Apply gradients to variables   \n",
    "    https://www.tensorflow.org/api_docs/python/tf/keras/optimizers/Optimizer#apply_gradients    \n",
    "    \n",
    "위 함수를 이용해 우선 10 epoch만큼 학습을 진행해 보겠습니다. 100번의 반복마다 각 손실(loss)을 출력하도록 했습니다."
   ]
  },
  {
   "cell_type": "code",
   "execution_count": 12,
   "id": "silver-monitor",
   "metadata": {},
   "outputs": [
    {
     "name": "stdout",
     "output_type": "stream",
     "text": [
      "[1/10 EPOCHS, 100 ITER] G:2.3546199798583984, D:0.11477372795343399\n",
      "[1/10 EPOCHS, 200 ITER] G:2.666862964630127, D:0.09094013273715973\n",
      "[1/10 EPOCHS, 300 ITER] G:2.3607378005981445, D:0.11730773001909256\n",
      "[1/10 EPOCHS, 400 ITER] G:3.2017946243286133, D:0.12772083282470703\n",
      "[2/10 EPOCHS, 100 ITER] G:3.302466869354248, D:0.08823978900909424\n",
      "[2/10 EPOCHS, 200 ITER] G:3.5325980186462402, D:0.14341849088668823\n",
      "[2/10 EPOCHS, 300 ITER] G:4.402651786804199, D:0.2905134856700897\n",
      "[2/10 EPOCHS, 400 ITER] G:3.714705228805542, D:0.10650268942117691\n",
      "[3/10 EPOCHS, 100 ITER] G:3.5978426933288574, D:0.08748635649681091\n",
      "[3/10 EPOCHS, 200 ITER] G:2.895885944366455, D:0.1758716106414795\n",
      "[3/10 EPOCHS, 300 ITER] G:3.677206039428711, D:0.10291624814271927\n",
      "[3/10 EPOCHS, 400 ITER] G:2.7435595989227295, D:0.21398362517356873\n",
      "[4/10 EPOCHS, 100 ITER] G:3.7583980560302734, D:0.14739979803562164\n",
      "[4/10 EPOCHS, 200 ITER] G:3.7773613929748535, D:0.07358358800411224\n",
      "[4/10 EPOCHS, 300 ITER] G:3.8208932876586914, D:0.08606532961130142\n",
      "[4/10 EPOCHS, 400 ITER] G:3.9870054721832275, D:0.10286221653223038\n",
      "[5/10 EPOCHS, 100 ITER] G:4.509034156799316, D:0.09367428719997406\n",
      "[5/10 EPOCHS, 200 ITER] G:5.070669174194336, D:0.1582901030778885\n",
      "[5/10 EPOCHS, 300 ITER] G:3.758768081665039, D:0.1468038260936737\n",
      "[5/10 EPOCHS, 400 ITER] G:3.8900277614593506, D:0.06315813958644867\n",
      "[6/10 EPOCHS, 100 ITER] G:4.614466667175293, D:0.16714905202388763\n",
      "[6/10 EPOCHS, 200 ITER] G:6.230602264404297, D:0.3138212561607361\n",
      "[6/10 EPOCHS, 300 ITER] G:4.917630672454834, D:0.1013050377368927\n",
      "[6/10 EPOCHS, 400 ITER] G:3.770388603210449, D:0.03853936865925789\n",
      "[7/10 EPOCHS, 100 ITER] G:3.821167469024658, D:0.06384918838739395\n",
      "[7/10 EPOCHS, 200 ITER] G:3.1775598526000977, D:0.06664206832647324\n",
      "[7/10 EPOCHS, 300 ITER] G:3.6446878910064697, D:0.1591082662343979\n",
      "[7/10 EPOCHS, 400 ITER] G:4.206466197967529, D:0.03416989743709564\n",
      "[8/10 EPOCHS, 100 ITER] G:3.258422374725342, D:0.07873132079839706\n",
      "[8/10 EPOCHS, 200 ITER] G:3.067936658859253, D:0.07556512951850891\n",
      "[8/10 EPOCHS, 300 ITER] G:3.7974565029144287, D:0.08878980576992035\n",
      "[8/10 EPOCHS, 400 ITER] G:2.651698112487793, D:0.225089430809021\n",
      "[9/10 EPOCHS, 100 ITER] G:4.008925437927246, D:0.03795218467712402\n",
      "[9/10 EPOCHS, 200 ITER] G:6.558687210083008, D:0.0018377460073679686\n",
      "[9/10 EPOCHS, 300 ITER] G:4.135749816894531, D:0.05240199342370033\n",
      "[9/10 EPOCHS, 400 ITER] G:3.0370469093322754, D:0.4703700542449951\n",
      "[10/10 EPOCHS, 100 ITER] G:4.024881362915039, D:0.05048380047082901\n",
      "[10/10 EPOCHS, 200 ITER] G:3.198990821838379, D:0.08472362905740738\n",
      "[10/10 EPOCHS, 300 ITER] G:4.347073554992676, D:0.169010728597641\n",
      "[10/10 EPOCHS, 400 ITER] G:4.20102596282959, D:0.06190215423703194\n"
     ]
    }
   ],
   "source": [
    "EPOCHS = 10\n",
    "for epoch in range(1, EPOCHS+1):\n",
    "    for i, images in enumerate(gan_datasets):\n",
    "        gene_loss, disc_loss = gan_step(images)\n",
    "\n",
    "        if (i+1) % 100 == 0:\n",
    "            print(f\"[{epoch}/{EPOCHS} EPOCHS, {i+1} ITER] G:{gene_loss}, D:{disc_loss}\")"
   ]
  },
  {
   "cell_type": "markdown",
   "id": "composed-alcohol",
   "metadata": {},
   "source": [
    "짧은 시간 학습된 모델을 테스트해 봅시다. 100차원 노이즈 입력을 10개 사용하여 10개의 숫자 손글씨 데이터를 생성해 시각화합니다.    \n",
    "경고메시지가 출력된다면 그냥 무시하셔도 됩니다."
   ]
  },
  {
   "cell_type": "code",
   "execution_count": 13,
   "id": "greatest-germany",
   "metadata": {},
   "outputs": [
    {
     "data": {
      "image/png": "[encoded data removed]",
      "text/plain": [
       "<Figure size 1080x432 with 10 Axes>"
      ]
     },
     "metadata": {
      "needs_background": "light"
     },
     "output_type": "display_data"
    }
   ],
   "source": [
    "import numpy as np\n",
    "\n",
    "noise = tf.random.normal([10, 100])\n",
    "\n",
    "output = gan_generator(noise)\n",
    "output = np.squeeze(output.numpy())\n",
    "\n",
    "plt.figure(figsize=(15,6))\n",
    "for i in range(1, 11):\n",
    "    plt.subplot(2,5,i)\n",
    "    plt.imshow(output[i-1])"
   ]
  },
  {
   "cell_type": "markdown",
   "id": "guilty-barbados",
   "metadata": {},
   "source": [
    "결과를 보니 아마도 10 epoch의 학습만으로는 좋은 결과를 기대할 수 없나 봅니다.     \n",
    "위 구현을 그대로 500 epoch 학습한 가중치를 아래에 첨부했으니 한번 사용해 봅시다."
   ]
  },
  {
   "cell_type": "code",
   "execution_count": 14,
   "id": "efficient-nebraska",
   "metadata": {},
   "outputs": [
    {
     "data": {
      "image/png": "[encoded data removed]",
      "text/plain": [
       "<Figure size 1080x432 with 10 Axes>"
      ]
     },
     "metadata": {
      "needs_background": "light"
     },
     "output_type": "display_data"
    }
   ],
   "source": [
    "import os\n",
    "weight_path = os.getenv('HOME')+'/aiffel/Exploration/E19/gan/GAN_500'\n",
    "\n",
    "noise = tf.random.normal([10, 100]) \n",
    "\n",
    "gan_generator = GeneratorGAN()\n",
    "gan_generator.load_weights(weight_path)\n",
    "\n",
    "output = gan_generator(noise)\n",
    "output = np.squeeze(output.numpy())\n",
    "\n",
    "plt.figure(figsize=(15,6))\n",
    "for i in range(1, 11):\n",
    "    plt.subplot(2,5,i)\n",
    "    plt.imshow(output[i-1])"
   ]
  },
  {
   "cell_type": "markdown",
   "id": "little-sharp",
   "metadata": {},
   "source": [
    "- load_weights : 저장한 체크포인트에서 가중치를 로드    \n",
    "    https://www.tensorflow.org/tutorials/keras/save_and_load?hl=ko\n",
    "    \n",
    "위에 보이는 10개의 결과 이미지는 서로 다른 숫자들이 시각화되었을 것입니다 (아닐 수도 있습니다).     \n",
    "이러한 방법으로는 내가 원하는 특정 숫자 하나를 출력하기 위해 수많은 입력을 넣어야 할 수 있습니다.     \n",
    "\n",
    "내가 원하는 숫자를 바로 얻어내기 위해 아래에서 cGAN을 학습 시켜 봅시다."
   ]
  },
  {
   "cell_type": "markdown",
   "id": "final-discretion",
   "metadata": {},
   "source": [
    "## cGAN으로 MNIST 학습하기\n",
    "\n",
    "이전 단계에서 구성한 GeneratorCGAN 및 DiscriminatorCGAN 모델 클래스를 이용합니다.    \n",
    "위에서 실행했던 GAN 학습처럼 약간의 학습으로는 제대로 된 생성 결과를 얻을 수 없을 테니 이번에는 연습 삼아 1 epoch만 학습 시켜 보겠습니다."
   ]
  },
  {
   "cell_type": "code",
   "execution_count": 15,
   "id": "bridal-activity",
   "metadata": {},
   "outputs": [
    {
     "name": "stdout",
     "output_type": "stream",
     "text": [
      "[1/1 EPOCHS, 99 ITER] G:5.946219444274902, D:0.003003576071932912\n",
      "[1/1 EPOCHS, 199 ITER] G:6.705445766448975, D:0.0076552750542759895\n",
      "[1/1 EPOCHS, 299 ITER] G:5.86486291885376, D:0.023781325668096542\n",
      "[1/1 EPOCHS, 399 ITER] G:4.09404182434082, D:0.02466343529522419\n"
     ]
    }
   ],
   "source": [
    "cgan_generator = GeneratorCGAN()\n",
    "cgan_discriminator = DiscriminatorCGAN()\n",
    "\n",
    "@tf.function()\n",
    "def cgan_step(real_images, labels):\n",
    "    noise = tf.random.normal([real_images.shape[0], 100])\n",
    "    \n",
    "    with tf.GradientTape(persistent=True) as tape:\n",
    "        fake_images = cgan_generator(noise, labels)\n",
    "        \n",
    "        real_out = cgan_discriminator(real_images, labels)\n",
    "        fake_out = cgan_discriminator(fake_images, labels)\n",
    "        \n",
    "        gene_loss = generator_loss(fake_out)\n",
    "        disc_loss = discriminator_loss(real_out, fake_out)\n",
    "    \n",
    "    gene_grad = tape.gradient(gene_loss, cgan_generator.trainable_variables)\n",
    "    disc_grad = tape.gradient(disc_loss, cgan_discriminator.trainable_variables)\n",
    "    \n",
    "    gene_opt.apply_gradients(zip(gene_grad, cgan_generator.trainable_variables))\n",
    "    disc_opt.apply_gradients(zip(disc_grad, cgan_discriminator.trainable_variables))\n",
    "    return gene_loss, disc_loss\n",
    "\n",
    "\n",
    "EPOCHS = 1\n",
    "for epoch in range(1, EPOCHS+1):\n",
    "    \n",
    "    for i, (images, labels) in enumerate(cgan_datasets):\n",
    "        gene_loss, disc_loss = cgan_step(images, labels)\n",
    "    \n",
    "        if (i+1) % 100 == 0:\n",
    "            print(f\"[{epoch}/{EPOCHS} EPOCHS, {i} ITER] G:{gene_loss}, D:{disc_loss}\")"
   ]
  },
  {
   "cell_type": "markdown",
   "id": "statistical-cycle",
   "metadata": {},
   "source": [
    "- 학습 과정에서 Generator 및 Discriminator에 레이블 정보만 추가로 입력했다는 점을 제외하면 위에서 학습한 GAN과 큰 차이는 없습니다.    \n",
    "- 위 코드로 짧게나마 학습시켜봤는데, 충분한 학습이 되기엔 더 많은 시간을 투자해야 합니다.\n",
    "   \n",
    "뒤에서 학습해야 할 것들이 많이 남아있으니, 시간을 아끼기 위해 위 코드로 500 epoch 학습한 가중치를 아래에 첨부했습니다."
   ]
  },
  {
   "cell_type": "code",
   "execution_count": 16,
   "id": "returning-transaction",
   "metadata": {},
   "outputs": [
    {
     "data": {
      "image/png": "[encoded data removed]",
      "text/plain": [
       "<Figure size 1080x432 with 10 Axes>"
      ]
     },
     "metadata": {
      "needs_background": "light"
     },
     "output_type": "display_data"
    }
   ],
   "source": [
    "number = 3  # TODO : 생성할 숫자(0~9)를 입력\n",
    "\n",
    "weight_path = os.getenv('HOME')+'/aiffel/Exploration/E19/cgan/CGAN_500'\n",
    "\n",
    "noise = tf.random.normal([10, 100])\n",
    "\n",
    "label = tf.one_hot(number, 10)\n",
    "label = tf.expand_dims(label, axis=0)\n",
    "label = tf.repeat(label, 10, axis=0)\n",
    "\n",
    "generator = GeneratorCGAN()\n",
    "generator.load_weights(weight_path)\n",
    "\n",
    "output = generator(noise, label)\n",
    "output = np.squeeze(output.numpy())\n",
    "\n",
    "plt.figure(figsize=(15,6))\n",
    "for i in range(1, 11):\n",
    "    plt.subplot(2,5,i)\n",
    "    plt.imshow(output[i-1])"
   ]
  },
  {
   "cell_type": "markdown",
   "id": "nervous-obligation",
   "metadata": {},
   "source": [
    "- 출력된 10개 시각화 결과는 어떤가요? 아마도 number에 입력한 숫자에 해당하는 손글씨가 시각화되었을 것입니다.\n",
    "    \n",
    "cGAN을 사용해 조건을 주고 학습하면 이렇게 특정한 숫자를 만들어내기가 훨씬 쉬워졌습니다."
   ]
  },
  {
   "cell_type": "code",
   "execution_count": null,
   "id": "liable-agenda",
   "metadata": {},
   "outputs": [],
   "source": []
  }
 ],
 "metadata": {
  "kernelspec": {
   "display_name": "Python 3",
   "language": "python",
   "name": "python3"
  },
  "language_info": {
   "codemirror_mode": {
    "name": "ipython",
    "version": 3
   },
   "file_extension": ".py",
   "mimetype": "text/x-python",
   "name": "python",
   "nbconvert_exporter": "python",
   "pygments_lexer": "ipython3",
   "version": "3.7.9"
  }
 },
 "nbformat": 4,
 "nbformat_minor": 5
}
