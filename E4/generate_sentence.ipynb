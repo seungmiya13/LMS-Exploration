{
 "cells": [
  {
   "cell_type": "markdown",
   "id": "textile-pioneer",
   "metadata": {},
   "source": [
    "문장 생성기 만들기\n",
    "========\n",
    "\n"
   ]
  },
  {
   "cell_type": "markdown",
   "id": "addressed-steps",
   "metadata": {},
   "source": [
    "## 1. 데이터 다듬기"
   ]
  },
  {
   "cell_type": "code",
   "execution_count": 1,
   "id": "proved-container",
   "metadata": {},
   "outputs": [
    {
     "name": "stdout",
     "output_type": "stream",
     "text": [
      "['First Citizen:', 'Before we proceed any further, hear me speak.', '', 'All:', 'Speak, speak.', '', 'First Citizen:', 'You are all resolved rather to die than to famish?', '']\n"
     ]
    }
   ],
   "source": [
    "# 사용할 라이브러리 불러오기\n",
    "import os, re \n",
    "import numpy as np\n",
    "import tensorflow as tf\n",
    "\n",
    "# 파일을 읽기모드로 열고\n",
    "# 라인 단위로 끊어서 list 형태로 읽어옵니다.\n",
    "file_path = os.getenv('HOME') + '/aiffel/Exploration/E4/lyricist/data/shakespeare.txt'\n",
    "with open(file_path, \"r\") as f:\n",
    "    raw_corpus = f.read().splitlines()\n",
    "\n",
    "# 앞에서부터 10라인만 화면에 출력\n",
    "print(raw_corpus[:9])"
   ]
  },
  {
   "cell_type": "markdown",
   "id": "annual-moore",
   "metadata": {},
   "source": [
    "### 데이터 전처리 "
   ]
  },
  {
   "cell_type": "code",
   "execution_count": 2,
   "id": "weekly-tournament",
   "metadata": {},
   "outputs": [
    {
     "name": "stdout",
     "output_type": "stream",
     "text": [
      "Before we proceed any further, hear me speak.\n",
      "Speak, speak.\n",
      "You are all resolved rather to die than to famish?\n"
     ]
    }
   ],
   "source": [
    "# 화자가 표기된 문장, 공백인 문장 제거\n",
    "for idx, sentence in enumerate(raw_corpus):\n",
    "    if len(sentence) == 0: continue   # 길이가 0인 문장은 건너뜁니다.\n",
    "    if sentence[-1] == \":\": continue  # 문장의 끝이 : 인 문장은 건너뜁니다.\n",
    "\n",
    "    if idx > 9: break   # 일단 문장 10개만 확인\n",
    "        \n",
    "    print(sentence)"
   ]
  },
  {
   "cell_type": "code",
   "execution_count": 3,
   "id": "thousand-cowboy",
   "metadata": {},
   "outputs": [
    {
     "name": "stdout",
     "output_type": "stream",
     "text": [
      "<start> this is sample sentence . <end>\n"
     ]
    }
   ],
   "source": [
    "## 토큰화 하기 위한 전처리\n",
    "\n",
    "def preprocess_sentence(sentence):\n",
    "    sentence = sentence.lower().strip() # 1\n",
    "    sentence = re.sub(r\"([?.!,¿])\", r\" \\1 \", sentence) # 2\n",
    "    sentence = re.sub(r'[\" \"]+', \" \", sentence) # 3\n",
    "    sentence = re.sub(r\"[^a-zA-Z?.!,¿]+\", \" \", sentence) # 4\n",
    "    sentence = sentence.strip() # 5\n",
    "    sentence = '<start> ' + sentence + ' <end>' # 6\n",
    "    return sentence\n",
    "\n",
    "# 이 문장이 어떻게 필터링되는지 확인\n",
    "print(preprocess_sentence(\"This @_is ;;;sample        sentence.\"))"
   ]
  },
  {
   "cell_type": "markdown",
   "id": "ongoing-cancellation",
   "metadata": {},
   "source": [
    "- 문장을 일정한 기준으로 쪼개는 과정 : 토큰화(Tokenize) \n",
    "           \n",
    "           \n",
    "- 입력된 문장을\n",
    "1. 소문자로 바꾸고, 양쪽 공백을 지웁니다\n",
    "2. 특수문자 양쪽에 공백을 넣고\n",
    "3. 여러개의 공백은 하나의 공백으로 바꿉니다\n",
    "4. a-zA-Z?.!,¿가 아닌 모든 문자를 하나의 공백으로 바꿉니다\n",
    "5. 다시 양쪽 공백을 지웁니다\n",
    "6. 문장 시작에는 \\<start>, 끝에는 \\<end>를 추가합니다     \n",
    "이 순서로 처리해주면 문제가 되는 상황을 방지할 수 있겠네요!"
   ]
  },
  {
   "cell_type": "markdown",
   "id": "blessed-render",
   "metadata": {},
   "source": [
    "### 정규표현식을 이용한 corpus 생성"
   ]
  },
  {
   "cell_type": "code",
   "execution_count": 4,
   "id": "capable-productivity",
   "metadata": {},
   "outputs": [
    {
     "data": {
      "text/plain": [
       "['<start> before we proceed any further , hear me speak . <end>',\n",
       " '<start> speak , speak . <end>',\n",
       " '<start> you are all resolved rather to die than to famish ? <end>',\n",
       " '<start> resolved . resolved . <end>',\n",
       " '<start> first , you know caius marcius is chief enemy to the people . <end>',\n",
       " '<start> we know t , we know t . <end>',\n",
       " '<start> let us kill him , and we ll have corn at our own price . <end>',\n",
       " '<start> is t a verdict ? <end>',\n",
       " '<start> no more talking on t let it be done away , away ! <end>',\n",
       " '<start> one word , good citizens . <end>']"
      ]
     },
     "execution_count": 4,
     "metadata": {},
     "output_type": "execute_result"
    }
   ],
   "source": [
    "## 정제 데이터 구축\n",
    "# 여기에 정제된 문장을 모을겁니다\n",
    "corpus = []\n",
    "\n",
    "for sentence in raw_corpus:\n",
    "    # 우리가 원하지 않는 문장은 건너뜁니다\n",
    "    if len(sentence) == 0: continue\n",
    "    if sentence[-1] == \":\": continue\n",
    "    \n",
    "    # 정제를 하고 담아주세요\n",
    "    preprocessed_sentence = preprocess_sentence(sentence)\n",
    "    corpus.append(preprocessed_sentence)\n",
    "        \n",
    "# 정제된 결과를 10개만 확인\n",
    "corpus[:10]"
   ]
  },
  {
   "cell_type": "markdown",
   "id": "silent-joshua",
   "metadata": {},
   "source": [
    "- 자연어처리 분야에서 모델의 입력이 되는 문장을 소스 문장(Source Sentence) , 정답 역할을 하게 될 모델의 출력 문장을 타겟 문장(Target Sentence) 라고 부릅니다. 각각 X_train, y_train 에 해당합니다.     \n",
    "    \n",
    "- 위에서 만든 정제 함수를 통해 만든 데이터셋에서 토큰화를 진행한 후 끝 단어 \\<end>를 없애면 소스 문장, 첫 단어 \\<start>를 없애면 타겟 문장이 됩니다.\n",
    "    "
   ]
  },
  {
   "cell_type": "markdown",
   "id": "alike-procedure",
   "metadata": {},
   "source": [
    "### 토큰화 "
   ]
  },
  {
   "cell_type": "code",
   "execution_count": 5,
   "id": "related-moisture",
   "metadata": {},
   "outputs": [
    {
     "name": "stdout",
     "output_type": "stream",
     "text": [
      "[[   2  143   40 ...    0    0    0]\n",
      " [   2  110    4 ...    0    0    0]\n",
      " [   2   11   50 ...    0    0    0]\n",
      " ...\n",
      " [   2  149 4553 ...    0    0    0]\n",
      " [   2   34   71 ...    0    0    0]\n",
      " [   2  945   34 ...    0    0    0]] <keras_preprocessing.text.Tokenizer object at 0x7f24de4310d0>\n"
     ]
    }
   ],
   "source": [
    "## 토큰화 하기\n",
    "# 토큰화 할 때 텐서플로우의 Tokenizer와 pad_sequences를 사용\n",
    "\n",
    "def tokenize(corpus):\n",
    "    # 7000단어를 기억할 수 있는 tokenizer를 만들겁니다\n",
    "    # 우리는 이미 문장을 정제했으니 filters가 필요없어요\n",
    "    # 7000단어에 포함되지 못한 단어는 '<unk>'로 바꿀거에요\n",
    "    tokenizer = tf.keras.preprocessing.text.Tokenizer(\n",
    "        num_words=7000, \n",
    "        filters=' ',\n",
    "        oov_token=\"<unk>\"\n",
    "    )\n",
    "    # corpus를 이용해 tokenizer 내부의 단어장을 완성합니다\n",
    "    tokenizer.fit_on_texts(corpus)\n",
    "    # 준비한 tokenizer를 이용해 corpus를 Tensor로 변환합니다\n",
    "    tensor = tokenizer.texts_to_sequences(corpus)   \n",
    "    # 입력 데이터의 시퀀스 길이를 일정하게 맞춰줍니다\n",
    "    # 만약 시퀀스가 짧다면 문장 뒤에 패딩을 붙여 길이를 맞춰줍니다.\n",
    "    # 문장 앞에 패딩을 붙여 길이를 맞추고 싶다면 padding='pre'를 사용합니다\n",
    "    tensor = tf.keras.preprocessing.sequence.pad_sequences(tensor, padding='post')  \n",
    "    \n",
    "    print(tensor,tokenizer)\n",
    "    return tensor, tokenizer\n",
    "\n",
    "tensor, tokenizer = tokenize(corpus)"
   ]
  },
  {
   "cell_type": "markdown",
   "id": "executed-style",
   "metadata": {},
   "source": [
    "- tf.keras.preprocessing.text.Tokenizer 패키지는 정제된 데이터를 토큰화하고, 단어 사전(vocabulary 또는 dictionary라고 칭함)을 만들어주며, 데이터를 숫자로 변환까지 한 방에 해줍니다. 이 과정을 벡터화(vectorize) 라 하며, 숫자로 변환된 데이터를 텐서(tensor) 라고 칭합니다. 우리가 사용하는 텐서플로우로 만든 모델의 입출력 데이터는 실제로는 모두 이런 텐서로 변환되어 처리되는 것입니다.\n",
    "\n",
    "\n",
    "- tf.keras.preprocessing.text.Tokenizer()    \n",
    "    https://www.tensorflow.org/api_docs/python/tf/keras/preprocessing/text/Tokenizer\n",
    "- tf.keras.preprocessing.sequence.pad_sequences()     \n",
    "    https://www.tensorflow.org/api_docs/python/tf/keras/preprocessing/sequence/pad_sequences"
   ]
  },
  {
   "cell_type": "code",
   "execution_count": 6,
   "id": "confident-madrid",
   "metadata": {},
   "outputs": [
    {
     "name": "stdout",
     "output_type": "stream",
     "text": [
      "[[   2  143   40  933  140  591    4  124   24  110]\n",
      " [   2  110    4  110    5    3    0    0    0    0]\n",
      " [   2   11   50   43 1201  316    9  201   74    9]]\n"
     ]
    }
   ],
   "source": [
    "# 생성된 텐서 데이터를 3번째 행, 10번째 열까지만 출력\n",
    "print(tensor[:3, :10])"
   ]
  },
  {
   "cell_type": "markdown",
   "id": "entire-auction",
   "metadata": {},
   "source": [
    "- 텐서 데이터는 모두 정수로 이루어져 있습니다. 이 숫자는 tokenizer에 구축된 단어 사전의 인덱스입니다. "
   ]
  },
  {
   "cell_type": "code",
   "execution_count": 7,
   "id": "stunning-responsibility",
   "metadata": {},
   "outputs": [
    {
     "name": "stdout",
     "output_type": "stream",
     "text": [
      "1 : <unk>\n",
      "2 : <start>\n",
      "3 : <end>\n",
      "4 : ,\n",
      "5 : .\n",
      "6 : the\n",
      "7 : and\n",
      "8 : i\n",
      "9 : to\n",
      "10 : of\n"
     ]
    }
   ],
   "source": [
    "# 단어 사전이 어떻게 구축되었는지 확인\n",
    "for idx in tokenizer.index_word:\n",
    "    print(idx, \":\", tokenizer.index_word[idx])\n",
    "\n",
    "    if idx >= 10: break"
   ]
  },
  {
   "cell_type": "code",
   "execution_count": 8,
   "id": "neural-estonia",
   "metadata": {},
   "outputs": [
    {
     "name": "stdout",
     "output_type": "stream",
     "text": [
      "[  2 143  40 933 140 591   4 124  24 110   5   3   0   0   0   0   0   0\n",
      "   0   0]\n",
      "[143  40 933 140 591   4 124  24 110   5   3   0   0   0   0   0   0   0\n",
      "   0   0]\n"
     ]
    }
   ],
   "source": [
    "## 생성된 텐서를 소스와 타겟으로 분리하여 모델이 학습할 수 있게 하기\n",
    "# tensor에서 마지막 토큰을 잘라내서 소스 문장을 생성합니다\n",
    "# 마지막 토큰은 <end>가 아니라 <pad>일 가능성이 높습니다.\n",
    "src_input = tensor[:, :-1]  \n",
    "# tensor에서 <start>를 잘라내서 타겟 문장을 생성합니다.\n",
    "tgt_input = tensor[:, 1:]    \n",
    "\n",
    "print(src_input[0])\n",
    "print(tgt_input[0])"
   ]
  },
  {
   "cell_type": "markdown",
   "id": "thermal-singapore",
   "metadata": {},
   "source": [
    "- 자연어처리 분야에서 모델의 입력이 되는 문장을 소스 문장(Source Sentence) , 정답 역할을 하게 될 모델의 출력 문장을 타겟 문장(Target Sentence) 라고 부릅니다. 각각 X_train, y_train 에 해당합니다.    \n",
    "    \n",
    "    언어 모델의 입력 문장 예시 :  \\<start> 나는 밥을 먹었다    \n",
    "    언어 모델의 출력 문장 예시 : 나는 밥을 먹었다 \\<end>\n",
    "    \n",
    "    \n",
    "- corpus 내의 첫 번째 문장에 대해 생성된 소스와 타겟 문장을 확인해 보았습니다. 예상대로 소스는 2(\\<start>)에서 시작해서 3(\\<end>)으로 끝난 후 0(\\<pad>)로 채워져 있습니다. 하지만 타겟은 2로 시작하지 않고 소스를 왼쪽으로 한 칸 시프트 한 형태를 가지고 있습니다."
   ]
  },
  {
   "cell_type": "markdown",
   "id": "regional-blues",
   "metadata": {},
   "source": [
    "### 데이터셋 객체 생성"
   ]
  },
  {
   "cell_type": "code",
   "execution_count": 9,
   "id": "handmade-cable",
   "metadata": {},
   "outputs": [
    {
     "data": {
      "text/plain": [
       "<BatchDataset shapes: ((256, 20), (256, 20)), types: (tf.int32, tf.int32)>"
      ]
     },
     "execution_count": 9,
     "metadata": {},
     "output_type": "execute_result"
    }
   ],
   "source": [
    "BUFFER_SIZE = len(src_input)\n",
    "BATCH_SIZE = 256\n",
    "steps_per_epoch = len(src_input) // BATCH_SIZE\n",
    "\n",
    " # tokenizer가 구축한 단어사전 내 7000개와, 여기 포함되지 않은 0:<pad>를 포함하여 7001개\n",
    "VOCAB_SIZE = tokenizer.num_words + 1   \n",
    "\n",
    "# 준비한 데이터 소스로부터 데이터셋을 만듭니다\n",
    "dataset = tf.data.Dataset.from_tensor_slices((src_input, tgt_input))\n",
    "dataset = dataset.shuffle(BUFFER_SIZE)\n",
    "dataset = dataset.batch(BATCH_SIZE, drop_remainder=True)\n",
    "dataset"
   ]
  },
  {
   "cell_type": "markdown",
   "id": "focused-python",
   "metadata": {},
   "source": [
    "- tf.data.Dataset    \n",
    "https://www.tensorflow.org/api_docs/python/tf/data/Dataset"
   ]
  },
  {
   "cell_type": "markdown",
   "id": "colored-rates",
   "metadata": {},
   "source": [
    "이번 스텝에서 데이터셋을 생성하기 위해 거쳐 온 과정\n",
    "    \n",
    "1. 정규표현식을 이용한 corpus 생성\n",
    "2. tf.keras.preprocessing.text.Tokenizer를 이용해 corpus를 텐서로 변환\n",
    "3. tf.data.Dataset.from_tensor_slices()를 이용해 corpus 텐서를 tf.data.Dataset객체로 변환\n",
    "     \n",
    "dataset을 얻음으로써 데이터 다듬기 과정은 끝났습니다. tf.data.Dataset에서 제공하는 shuffle(), batch() 등 다양한 데이터셋 관련 기능을 손쉽게 이용할 수 있게 되었군요.\n",
    "\n",
    "이 모든 일련의 과정을 텐서플로우에서의 데이터 전처리 라 칭합니다!"
   ]
  },
  {
   "cell_type": "markdown",
   "id": "honest-waste",
   "metadata": {},
   "source": [
    "## 2. 인공지능 학습시키기 "
   ]
  },
  {
   "cell_type": "markdown",
   "id": "liberal-sleeping",
   "metadata": {},
   "source": [
    "우리가 만들 모델은 tf.keras.Model을 Subclassing하는 방식으로 만들 것입니다.     \n",
    "모델에는 1개의 Embedding 레이어, 2개의 LSTM 레이어, 1개의 Dense 레이어로 구성되어 있습니다."
   ]
  },
  {
   "cell_type": "code",
   "execution_count": 10,
   "id": "expensive-november",
   "metadata": {},
   "outputs": [],
   "source": [
    "class TextGenerator(tf.keras.Model):\n",
    "    def __init__(self, vocab_size, embedding_size, hidden_size):\n",
    "        super().__init__()\n",
    "        \n",
    "        self.embedding = tf.keras.layers.Embedding(vocab_size, embedding_size)\n",
    "        self.rnn_1 = tf.keras.layers.LSTM(hidden_size, return_sequences=True)\n",
    "        self.rnn_2 = tf.keras.layers.LSTM(hidden_size, return_sequences=True)\n",
    "        self.linear = tf.keras.layers.Dense(vocab_size)\n",
    "        \n",
    "    def call(self, x):\n",
    "        out = self.embedding(x)\n",
    "        out = self.rnn_1(out)\n",
    "        out = self.rnn_2(out)\n",
    "        out = self.linear(out)\n",
    "        \n",
    "        return out\n",
    "    \n",
    "embedding_size = 256\n",
    "hidden_size = 1024\n",
    "model = TextGenerator(tokenizer.num_words + 1, embedding_size , hidden_size)"
   ]
  },
  {
   "cell_type": "markdown",
   "id": "waiting-creativity",
   "metadata": {},
   "source": [
    "- 우리 입력 텐서에는 단어 사전의 인덱스가 들어 있습니다.     \n",
    "    Embedding 레이어는 이 인덱스 값을 해당 인덱스 번째의 워드 벡터로 바꿔 줍니다. 이 워드 벡터는 의미 벡터 공간에서 단어의 추상적 표현(representation)으로 사용됩니다.\n",
    "    \n",
    "- embedding_size 는 워드 벡터의 차원수, 즉 단어가 추상적으로 표현되는 크기입니다.\n",
    "- LSTM 레이어의 hidden state 의 차원수인 hidden_size 도 같은 맥락입니다. hidden_size 는 모델에 얼마나 많은 일꾼을 둘 것인가? 로 이해해도 크게 엇나가지 않습니다. 그 일꾼들은 모두 같은 데이터를 보고 각자의 생각을 가지는데, 역시 충분한 데이터가 주어지면 올바른 결정을 내리겠지만 그렇지 않으면 배가 산으로 갈 뿐 입니다."
   ]
  },
  {
   "cell_type": "markdown",
   "id": "homeless-windows",
   "metadata": {},
   "source": [
    "우리의 model은 아직 제대로 build되지 않았습니다. model.compile()을 호출한 적도 없고, 아직 model의 입력 텐서가 무엇인지 제대로 지정해 주지도 않았기 때문입니다.    \n",
    "    \n",
    "그런 경우 아래와 같이 model에 데이터를 아주 조금 태워 보는 것도 방법입니다. model의 input shape가 결정되면서 model.build()가 자동으로 호출됩니다."
   ]
  },
  {
   "cell_type": "code",
   "execution_count": 11,
   "id": "related-photograph",
   "metadata": {},
   "outputs": [
    {
     "data": {
      "text/plain": [
       "<tf.Tensor: shape=(256, 20, 7001), dtype=float32, numpy=\n",
       "array([[[-1.43255616e-04, -1.04703417e-04, -2.75731581e-04, ...,\n",
       "         -1.82056654e-04, -3.65651576e-05,  3.57771438e-04],\n",
       "        [-2.34059771e-04, -3.10655538e-04, -1.97920526e-04, ...,\n",
       "         -1.87698824e-04,  3.96966207e-05,  4.41497163e-04],\n",
       "        [-2.62707763e-04, -5.41983172e-04, -4.06364125e-04, ...,\n",
       "          2.95480768e-05,  6.07027760e-05,  3.08594666e-04],\n",
       "        ...,\n",
       "        [-2.90165073e-03,  5.03968680e-04,  1.88231072e-03, ...,\n",
       "          1.11424725e-03, -1.03985879e-03,  3.41026578e-03],\n",
       "        [-3.02753574e-03,  5.02746669e-04,  1.90849020e-03, ...,\n",
       "          1.17868662e-03, -1.06070354e-03,  3.47213284e-03],\n",
       "        [-3.13144969e-03,  4.94688808e-04,  1.91745604e-03, ...,\n",
       "          1.23672187e-03, -1.07971253e-03,  3.51088424e-03]],\n",
       "\n",
       "       [[-1.43255616e-04, -1.04703417e-04, -2.75731581e-04, ...,\n",
       "         -1.82056654e-04, -3.65651576e-05,  3.57771438e-04],\n",
       "        [-7.43048440e-04, -2.87887873e-04, -4.65209858e-04, ...,\n",
       "         -1.70628860e-04, -8.12781436e-05,  8.13689083e-04],\n",
       "        [-9.94444359e-04, -3.06133530e-04, -5.56195213e-04, ...,\n",
       "         -1.27232823e-04, -2.30355494e-04,  7.68186525e-04],\n",
       "        ...,\n",
       "        [-2.48578168e-03,  6.16203644e-04,  1.60679698e-03, ...,\n",
       "          1.53654884e-03, -1.26803352e-03,  3.57713527e-03],\n",
       "        [-2.67378381e-03,  6.29981107e-04,  1.70533126e-03, ...,\n",
       "          1.54916744e-03, -1.25898235e-03,  3.62615241e-03],\n",
       "        [-2.83438386e-03,  6.31349802e-04,  1.77684508e-03, ...,\n",
       "          1.55611464e-03, -1.25072489e-03,  3.65129835e-03]],\n",
       "\n",
       "       [[-1.43255616e-04, -1.04703417e-04, -2.75731581e-04, ...,\n",
       "         -1.82056654e-04, -3.65651576e-05,  3.57771438e-04],\n",
       "        [-1.94213193e-04, -3.36249446e-04, -5.14045299e-04, ...,\n",
       "         -1.60947602e-04, -2.05706019e-05,  4.66201833e-04],\n",
       "        [-2.99245759e-04, -3.63054307e-04, -3.88737768e-04, ...,\n",
       "         -1.82508564e-04, -3.16419289e-04,  5.65200462e-04],\n",
       "        ...,\n",
       "        [-9.22200445e-04,  1.39005482e-03,  1.41702627e-03, ...,\n",
       "         -6.83793332e-04, -1.12352101e-03,  1.07781275e-03],\n",
       "        [-1.25619315e-03,  1.44418981e-03,  1.53971883e-03, ...,\n",
       "         -4.40943433e-04, -1.30528188e-03,  1.64756214e-03],\n",
       "        [-1.58527214e-03,  1.46743003e-03,  1.67574047e-03, ...,\n",
       "         -2.05764198e-04, -1.42897351e-03,  2.15295493e-03]],\n",
       "\n",
       "       ...,\n",
       "\n",
       "       [[-1.43255616e-04, -1.04703417e-04, -2.75731581e-04, ...,\n",
       "         -1.82056654e-04, -3.65651576e-05,  3.57771438e-04],\n",
       "        [-1.13683120e-04, -3.18304257e-04, -2.04686046e-04, ...,\n",
       "         -6.26312161e-04, -2.71695812e-04,  6.44848624e-04],\n",
       "        [ 2.78420368e-04, -2.71725701e-04,  2.96004364e-05, ...,\n",
       "         -8.90053343e-04, -2.65612354e-04,  8.08192941e-04],\n",
       "        ...,\n",
       "        [-1.99111016e-03,  7.10524095e-04,  1.23501348e-03, ...,\n",
       "          1.81880989e-03, -5.80926833e-04,  2.99592689e-03],\n",
       "        [-2.24455632e-03,  7.29282328e-04,  1.44347455e-03, ...,\n",
       "          1.87395280e-03, -6.79994235e-04,  3.30238347e-03],\n",
       "        [-2.46942556e-03,  7.31885026e-04,  1.62086810e-03, ...,\n",
       "          1.90617004e-03, -7.58567534e-04,  3.53102759e-03]],\n",
       "\n",
       "       [[-1.43255616e-04, -1.04703417e-04, -2.75731581e-04, ...,\n",
       "         -1.82056654e-04, -3.65651576e-05,  3.57771438e-04],\n",
       "        [-3.89298861e-04, -7.57954604e-06, -7.11248664e-04, ...,\n",
       "         -3.04571906e-04, -6.75062620e-05,  4.92849445e-04],\n",
       "        [-4.84031800e-04,  3.32463620e-04, -8.55730730e-04, ...,\n",
       "         -6.17238402e-04,  1.14784016e-04,  8.69212439e-04],\n",
       "        ...,\n",
       "        [-1.24816003e-03,  8.15184263e-04,  2.03310323e-04, ...,\n",
       "          1.09479937e-03, -4.88687074e-04,  3.02759558e-03],\n",
       "        [-1.54779758e-03,  8.45564704e-04,  5.04459138e-04, ...,\n",
       "          1.23061880e-03, -5.81337605e-04,  3.28986719e-03],\n",
       "        [-1.82795385e-03,  8.58014973e-04,  7.82847055e-04, ...,\n",
       "          1.33380073e-03, -6.56964839e-04,  3.49341123e-03]],\n",
       "\n",
       "       [[-1.43255616e-04, -1.04703417e-04, -2.75731581e-04, ...,\n",
       "         -1.82056654e-04, -3.65651576e-05,  3.57771438e-04],\n",
       "        [-3.57668032e-05, -2.80696695e-04, -8.65419919e-04, ...,\n",
       "         -1.59982577e-04, -1.03406446e-05,  4.17981122e-04],\n",
       "        [-5.30140751e-05, -5.45945019e-04, -1.13998237e-03, ...,\n",
       "         -4.14344919e-04,  1.23502701e-04,  3.27304122e-04],\n",
       "        ...,\n",
       "        [-6.62827457e-04,  1.73562684e-03,  1.15703454e-03, ...,\n",
       "          1.25637697e-03, -1.26445535e-04,  1.10134890e-03],\n",
       "        [-1.02485355e-03,  1.72361557e-03,  1.30048755e-03, ...,\n",
       "          1.39202108e-03, -2.90522934e-04,  1.66632351e-03],\n",
       "        [-1.37878093e-03,  1.67678262e-03,  1.45392120e-03, ...,\n",
       "          1.50476396e-03, -4.17564530e-04,  2.14905106e-03]]],\n",
       "      dtype=float32)>"
      ]
     },
     "execution_count": 11,
     "metadata": {},
     "output_type": "execute_result"
    }
   ],
   "source": [
    "# 데이터셋에서 데이터 한 배치만 불러오는 방법\n",
    "for src_sample, tgt_sample in dataset.take(1): break\n",
    "\n",
    "# 한 배치만 불러온 데이터를 모델에 넣어봅니다\n",
    "model(src_sample)"
   ]
  },
  {
   "cell_type": "markdown",
   "id": "operational-proposition",
   "metadata": {},
   "source": [
    "모델의 최종 출력 텐서 shape를 유심히 보면 shape=(256, 20, 7001)임을 알 수 있습니다. \n",
    "\n",
    "- 7001은 Dense 레이어의 출력 차원수입니다. 7001개의 단어 중 어느 단어의 확률이 가장 높을지를 모델링해야 하기 때문입니다.\n",
    "\n",
    "- 256은 이전 스텝에서 지정한 배치 사이즈입니다. dataset.take(1)를 통해서 1개의 배치, 즉 256개의 문장 데이터를 가져온 것입니다.\n",
    "\n",
    "- 그렇다면 20은 무엇을 의미할까요? tf.keras.layers.LSTM(hidden_size, return_sequences=True)로 호출한 LSTM 레이어에서 return_sequences=True이라고 지정한 부분에 있습니다. 즉, LSTM은 자신에게 입력된 시퀀스의 길이만큼 동일한 길이의 시퀀스를 출력한다는 의미입니다. 만약 return_sequences=False였다면 LSTM 레이어는 1개의 벡터만 출력했을 것입니다.    \n",
    "    그런데 문제는, 우리의 모델은 입력 데이터의 시퀀스 길이가 얼마인지 모른다는 점입니다. 모델을 만들면서 알려준 적도 없습니다. 그럼 20은 언제 알게된 것일까요? 네, 그렇습니다. 데이터를 입력받으면서 비로소 알게 된 것입니다. 우리 데이터셋의 max_len이 20으로 맞춰져 있었던 것입니다."
   ]
  },
  {
   "cell_type": "code",
   "execution_count": 12,
   "id": "received-therapist",
   "metadata": {},
   "outputs": [
    {
     "name": "stdout",
     "output_type": "stream",
     "text": [
      "Model: \"text_generator\"\n",
      "_________________________________________________________________\n",
      "Layer (type)                 Output Shape              Param #   \n",
      "=================================================================\n",
      "embedding (Embedding)        multiple                  1792256   \n",
      "_________________________________________________________________\n",
      "lstm (LSTM)                  multiple                  5246976   \n",
      "_________________________________________________________________\n",
      "lstm_1 (LSTM)                multiple                  8392704   \n",
      "_________________________________________________________________\n",
      "dense (Dense)                multiple                  7176025   \n",
      "=================================================================\n",
      "Total params: 22,607,961\n",
      "Trainable params: 22,607,961\n",
      "Non-trainable params: 0\n",
      "_________________________________________________________________\n"
     ]
    }
   ],
   "source": [
    "model.summary()"
   ]
  },
  {
   "cell_type": "markdown",
   "id": "metallic-imperial",
   "metadata": {},
   "source": [
    "- 우리가 궁금했던 Output Shape를 정확하게 알려주지 않습니다. 우리의 모델은 입력 시퀀스의 길이를 모르기 때문에 Output Shape를 특정할 수 없는 것입니다.\n",
    "- 하지만 모델의 파라미터 사이즈는 측정됩니다. 대략 22million 정도 됩니다. "
   ]
  },
  {
   "cell_type": "code",
   "execution_count": 13,
   "id": "chubby-mileage",
   "metadata": {},
   "outputs": [
    {
     "name": "stdout",
     "output_type": "stream",
     "text": [
      "Epoch 1/30\n",
      "93/93 [==============================] - 34s 337ms/step - loss: 4.3844\n",
      "Epoch 2/30\n",
      "93/93 [==============================] - 32s 341ms/step - loss: 2.8210\n",
      "Epoch 3/30\n",
      "93/93 [==============================] - 32s 342ms/step - loss: 2.7200\n",
      "Epoch 4/30\n",
      "93/93 [==============================] - 32s 344ms/step - loss: 2.6252\n",
      "Epoch 5/30\n",
      "93/93 [==============================] - 32s 344ms/step - loss: 2.5529\n",
      "Epoch 6/30\n",
      "93/93 [==============================] - 32s 344ms/step - loss: 2.4991\n",
      "Epoch 7/30\n",
      "93/93 [==============================] - 32s 344ms/step - loss: 2.4435\n",
      "Epoch 8/30\n",
      "93/93 [==============================] - 32s 345ms/step - loss: 2.3816\n",
      "Epoch 9/30\n",
      "93/93 [==============================] - 32s 345ms/step - loss: 2.3295\n",
      "Epoch 10/30\n",
      "93/93 [==============================] - 32s 345ms/step - loss: 2.3012\n",
      "Epoch 11/30\n",
      "93/93 [==============================] - 32s 345ms/step - loss: 2.2569\n",
      "Epoch 12/30\n",
      "93/93 [==============================] - 32s 345ms/step - loss: 2.2230\n",
      "Epoch 13/30\n",
      "93/93 [==============================] - 32s 345ms/step - loss: 2.1661\n",
      "Epoch 14/30\n",
      "93/93 [==============================] - 32s 345ms/step - loss: 2.1358\n",
      "Epoch 15/30\n",
      "93/93 [==============================] - 32s 345ms/step - loss: 2.0939\n",
      "Epoch 16/30\n",
      "93/93 [==============================] - 32s 345ms/step - loss: 2.0528\n",
      "Epoch 17/30\n",
      "93/93 [==============================] - 32s 345ms/step - loss: 2.0131\n",
      "Epoch 18/30\n",
      "93/93 [==============================] - 32s 345ms/step - loss: 1.9693\n",
      "Epoch 19/30\n",
      "93/93 [==============================] - 32s 345ms/step - loss: 1.9338\n",
      "Epoch 20/30\n",
      "93/93 [==============================] - 32s 345ms/step - loss: 1.8860\n",
      "Epoch 21/30\n",
      "93/93 [==============================] - 32s 345ms/step - loss: 1.8548\n",
      "Epoch 22/30\n",
      "93/93 [==============================] - 32s 344ms/step - loss: 1.8124\n",
      "Epoch 23/30\n",
      "93/93 [==============================] - 32s 345ms/step - loss: 1.7729\n",
      "Epoch 24/30\n",
      "93/93 [==============================] - 32s 344ms/step - loss: 1.7328\n",
      "Epoch 25/30\n",
      "93/93 [==============================] - 32s 345ms/step - loss: 1.6981\n",
      "Epoch 26/30\n",
      "93/93 [==============================] - 32s 344ms/step - loss: 1.6602\n",
      "Epoch 27/30\n",
      "93/93 [==============================] - 32s 345ms/step - loss: 1.6210\n",
      "Epoch 28/30\n",
      "93/93 [==============================] - 32s 345ms/step - loss: 1.5843\n",
      "Epoch 29/30\n",
      "93/93 [==============================] - 32s 344ms/step - loss: 1.5419\n",
      "Epoch 30/30\n",
      "93/93 [==============================] - 32s 344ms/step - loss: 1.5039\n"
     ]
    },
    {
     "data": {
      "text/plain": [
       "<tensorflow.python.keras.callbacks.History at 0x7f24de2992d0>"
      ]
     },
     "execution_count": 13,
     "metadata": {},
     "output_type": "execute_result"
    }
   ],
   "source": [
    "optimizer = tf.keras.optimizers.Adam()\n",
    "loss = tf.keras.losses.SparseCategoricalCrossentropy(\n",
    "    from_logits=True,\n",
    "    reduction='none'\n",
    ")\n",
    "\n",
    "model.compile(loss=loss, optimizer=optimizer)\n",
    "model.fit(dataset, epochs=30)"
   ]
  },
  {
   "cell_type": "markdown",
   "id": "conventional-comedy",
   "metadata": {},
   "source": [
    "- optimizer와 loss    \n",
    "    https://www.tensorflow.org/api_docs/python/tf/keras/optimizers\n",
    "    https://www.tensorflow.org/api_docs/python/tf/keras/losses\n",
    "- Loss는 모델이 오답을 만들고 있는 정도라고 생각하셔도 좋습니다(그렇다고 Loss가 1일 때 99%를 맞추고 있다는 의미는 아닙니다). 오답률이 감소하고 있으니 학습이 잘 진행되고 있다 고 해석할 수 있죠!"
   ]
  },
  {
   "cell_type": "code",
   "execution_count": null,
   "id": "acting-dollar",
   "metadata": {},
   "outputs": [],
   "source": [
    "# 텐서플로우가 GPU를 잘 사용하고 있는지 확인\n",
    "# tf.test.is_gpu_available()"
   ]
  },
  {
   "cell_type": "markdown",
   "id": "unlikely-salon",
   "metadata": {},
   "source": [
    "## 3. 잘 만들어졌는지 평가하기"
   ]
  },
  {
   "cell_type": "code",
   "execution_count": 14,
   "id": "abstract-bridge",
   "metadata": {},
   "outputs": [],
   "source": [
    "def generate_text(model, tokenizer, init_sentence=\"<start>\", max_len=20):\n",
    "    # 테스트를 위해서 입력받은 init_sentence도 텐서로 변환합니다\n",
    "    test_input = tokenizer.texts_to_sequences([init_sentence])\n",
    "    test_tensor = tf.convert_to_tensor(test_input, dtype=tf.int64)\n",
    "    end_token = tokenizer.word_index[\"<end>\"]\n",
    "\n",
    "    # 단어 하나씩 예측해 문장을 만듭니다\n",
    "    while True:\n",
    "        # 1\n",
    "        predict = model(test_tensor) \n",
    "        # 2\n",
    "        predict_word = tf.argmax(tf.nn.softmax(predict, axis=-1), axis=-1)[:, -1] \n",
    "        # 3 \n",
    "        test_tensor = tf.concat([test_tensor, tf.expand_dims(predict_word, axis=0)], axis=-1)\n",
    "        # 4\n",
    "        if predict_word.numpy()[0] == end_token: break\n",
    "        if test_tensor.shape[1] >= max_len: break\n",
    "\n",
    "    generated = \"\"\n",
    "    # tokenizer를 이용해 word index를 단어로 하나씩 변환합니다 \n",
    "    for word_index in test_tensor[0].numpy():\n",
    "        generated += tokenizer.index_word[word_index] + \" \"\n",
    "\n",
    "    return generated"
   ]
  },
  {
   "cell_type": "markdown",
   "id": "blind-voltage",
   "metadata": {},
   "source": [
    "- generate_text 함수는 모델에게 시작 문장을 전달하면 모델이 시작 문장을 바탕으로 작문을 진행\n",
    "1. 입력받은 문장의 텐서를 입력합니다\n",
    "2. 예측된 값 중 가장 높은 확률인 word index를 뽑아냅니다\n",
    "3. 2에서 예측된 word index를 문장 뒤에 붙입니다\n",
    "4. 모델이 \\<end>를 예측했거나, max_len에 도달했다면 문장 생성을 마칩니다"
   ]
  },
  {
   "cell_type": "code",
   "execution_count": 17,
   "id": "mineral-graphics",
   "metadata": {},
   "outputs": [
    {
     "data": {
      "text/plain": [
       "'<start> she is not fourteen , but , as thou art , <end> '"
      ]
     },
     "execution_count": 17,
     "metadata": {},
     "output_type": "execute_result"
    }
   ],
   "source": [
    "# 문장 생성 함수를 실행해 보기\n",
    "generate_text(model, tokenizer, init_sentence=\"<start> she\")"
   ]
  }
 ],
 "metadata": {
  "kernelspec": {
   "display_name": "Python 3",
   "language": "python",
   "name": "python3"
  },
  "language_info": {
   "codemirror_mode": {
    "name": "ipython",
    "version": 3
   },
   "file_extension": ".py",
   "mimetype": "text/x-python",
   "name": "python",
   "nbconvert_exporter": "python",
   "pygments_lexer": "ipython3",
   "version": "3.7.9"
  }
 },
 "nbformat": 4,
 "nbformat_minor": 5
}
