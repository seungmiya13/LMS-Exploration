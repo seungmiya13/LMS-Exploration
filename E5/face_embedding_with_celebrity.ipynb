{
 "cells": [
  {
   "cell_type": "markdown",
   "id": "quality-constraint",
   "metadata": {},
   "source": [
    "나랑 닮은 연예인을 찾아보기 프로젝트 \n",
    "======\n",
    "\n",
    "얼굴의 임베딩 벡터로 나와 가장 가까운(닮은 꼴인) 연예인을 찾아냅니다."
   ]
  },
  {
   "cell_type": "markdown",
   "id": "derived-roman",
   "metadata": {},
   "source": [
    "## 1. 사진 모으기"
   ]
  },
  {
   "cell_type": "code",
   "execution_count": null,
   "id": "initial-burst",
   "metadata": {},
   "outputs": [],
   "source": [
    "import os\n",
    "\n",
    "dir_path = os.getenv('HOME')+'/aiffel/Exploration/E5/face_embedding/images'\n",
    "file_list = os.listdir(dir_path)\n",
    "\n",
    "print (\"file_list: {}\".format(file_list))"
   ]
  },
  {
   "cell_type": "markdown",
   "id": "christian-crowd",
   "metadata": {},
   "source": [
    "## 2. 얼굴 영역 자르기"
   ]
  },
  {
   "cell_type": "markdown",
   "id": "wanted-liberal",
   "metadata": {},
   "source": [
    "임베딩 추출을 위해서는 얼굴 영역을 잘라줘야 합니다. \n",
    "위 Step1.에서 찾은 이미지들을 이전에 만들었던 get_cropped_face(image_file)을 통해서 잘라줍시다! \n",
    "\n",
    "자른 이미지는 PIL의 Image.fromarray를 통해서 PIL Image로 변환한 뒤에 저장을 해두면 다양한 재미있는 시각화를 시도해 보는 데 도움이 될 것입니다."
   ]
  },
  {
   "cell_type": "code",
   "execution_count": null,
   "id": "critical-greenhouse",
   "metadata": {},
   "outputs": [],
   "source": [
    "# 이미지 파일 경로를 파라미터로 넘기면 얼굴 영역만 잘라서 주는 함수\n",
    "import face_recognition\n",
    "\n",
    "def get_cropped_face(image_file):\n",
    "    image = face_recognition.load_image_file(image_file)\n",
    "    face_locations = face_recognition.face_locations(image)\n",
    "    a, b, c, d = face_locations[0]\n",
    "    cropped_face = image[a:c,d:b,:]\n",
    "    \n",
    "    return cropped_face"
   ]
  },
  {
   "cell_type": "code",
   "execution_count": null,
   "id": "julian-width",
   "metadata": {},
   "outputs": [],
   "source": [
    "#    힌트\n",
    "#    from PIL import Image\n",
    "#    face = get_cropped_face(image_path)\n",
    "#    pillow_image = Image.fromarray(face)\n",
    "#    pillow_image.save(path_to_save)"
   ]
  },
  {
   "cell_type": "markdown",
   "id": "functioning-winning",
   "metadata": {},
   "source": [
    "## 3. 얼굴 영역의 임베딩 추출하기\n",
    "\n",
    "얼굴 영역으로 잘린 이미지들을 face_recognition 을 사용해서 이미지를 불러오고 임베딩을 추출해 봅니다.     \n",
    "다른 사람의 임베딩은 구분할 수 있게 따로 저장합니다.     \n",
    "    \n",
    "- def get_face_embedding(face) : 얼굴영역으로부터 얼굴 임베딩 벡터를 구하는 함수   \n",
    "- def get_face_embedding_dict(dir_path) : 디렉토리 안에 있는 모든 이미지의 임베딩 딕셔너리를 구하는 함수"
   ]
  },
  {
   "cell_type": "code",
   "execution_count": null,
   "id": "respiratory-craft",
   "metadata": {},
   "outputs": [],
   "source": [
    "# 얼굴 영역을 가지고 얼굴 임베딩 벡터를 구하는 함수\n",
    "def get_face_embedding(face):\n",
    "    return face_recognition.face_encodings(face)\n",
    "\n",
    "# images 디렉토리 안에 모든 이미지 파일의 임베딩을 구해서 dict 구조에 담아 리턴하는 함수\n",
    "def get_face_embedding_dict(dir_path):\n",
    "    file_list = os.listdir(dir_path)\n",
    "    embedding_dict = {}\n",
    "    \n",
    "    for file in file_list:\n",
    "        img_path = os.path.join(dir_path, file)\n",
    "        face = get_cropped_face(img_path)\n",
    "        embedding = get_face_embedding(face)\n",
    "        if len(embedding) > 0:  \n",
    "        # 얼굴영역 face가 제대로 detect되지 않으면  len(embedding)==0인 경우가 발생하므로 \n",
    "        # os.path.splitext(file)[0]에는 이미지파일명에서 확장자를 제거한 이름이 담깁니다. \n",
    "            embedding_dict[os.path.splitext(file)[0]] = embedding[0]\n",
    "        \n",
    "    return embedding_dict"
   ]
  },
  {
   "cell_type": "markdown",
   "id": "indie-enforcement",
   "metadata": {},
   "source": [
    "## 4. 모은 연예인들과 비교하기\n",
    "\n",
    "모은 연예인 사진들과 자신의 얼굴 사진에서 추출한 임베딩 벡터들 간의 거리를 비교해 보고 가장 작은 연예인이 누구인지 찾아봅니다. \n",
    "\n",
    "이전 스텝에서 만들었던 get_nearest_face(name, top=5) 함수들을 응용하면 손쉽게 수행 가능합니다."
   ]
  },
  {
   "cell_type": "code",
   "execution_count": null,
   "id": "incredible-ebony",
   "metadata": {},
   "outputs": [],
   "source": []
  }
 ],
 "metadata": {
  "kernelspec": {
   "display_name": "Python 3",
   "language": "python",
   "name": "python3"
  },
  "language_info": {
   "codemirror_mode": {
    "name": "ipython",
    "version": 3
   },
   "file_extension": ".py",
   "mimetype": "text/x-python",
   "name": "python",
   "nbconvert_exporter": "python",
   "pygments_lexer": "ipython3",
   "version": "3.7.9"
  }
 },
 "nbformat": 4,
 "nbformat_minor": 5
}
