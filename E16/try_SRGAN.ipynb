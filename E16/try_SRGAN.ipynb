{
 "cells": [
  {
   "cell_type": "markdown",
   "id": "recorded-gateway",
   "metadata": {},
   "source": [
    "E16 프로젝트 : SRGAN 활용하기\n",
    "=====\n",
    "\n",
    "앞에서 사용했던 SRGAN 구조를 이용해 프로젝트를 수행해 봅시다.\n",
    "     \n",
    "-21.11.25.-"
   ]
  },
  {
   "cell_type": "code",
   "execution_count": null,
   "id": "metric-short",
   "metadata": {},
   "outputs": [],
   "source": []
  }
 ],
 "metadata": {
  "kernelspec": {
   "display_name": "Python 3",
   "language": "python",
   "name": "python3"
  },
  "language_info": {
   "codemirror_mode": {
    "name": "ipython",
    "version": 3
   },
   "file_extension": ".py",
   "mimetype": "text/x-python",
   "name": "python",
   "nbconvert_exporter": "python",
   "pygments_lexer": "ipython3",
   "version": "3.7.9"
  }
 },
 "nbformat": 4,
 "nbformat_minor": 5
}
