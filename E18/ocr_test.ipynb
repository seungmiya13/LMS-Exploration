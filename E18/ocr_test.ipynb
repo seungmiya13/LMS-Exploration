{
 "cells": [
  {
   "cell_type": "markdown",
   "id": "reasonable-tiger",
   "metadata": {},
   "source": [
    "프로젝트 : 다양한 OCR모델 비교하기\n",
    "======\n",
    "\n",
    "Google OCR API, keras-ocr, Tesseract 3가지의 OCR 모델을 비교해 봅니다. \n",
    "     \n",
    "1. 검증용 데이터셋 준비\n",
    "2. Google OCR API, keras-ocr, Tesseract로 테스트 진행\n",
    "3. 테스트 결과 정리\n",
    "4. 결과 분석과 결론 제시\n",
    "    \n",
    "-21.12.02-"
   ]
  },
  {
   "cell_type": "code",
   "execution_count": null,
   "id": "abandoned-animation",
   "metadata": {},
   "outputs": [],
   "source": []
  }
 ],
 "metadata": {
  "kernelspec": {
   "display_name": "Python 3",
   "language": "python",
   "name": "python3"
  },
  "language_info": {
   "codemirror_mode": {
    "name": "ipython",
    "version": 3
   },
   "file_extension": ".py",
   "mimetype": "text/x-python",
   "name": "python",
   "nbconvert_exporter": "python",
   "pygments_lexer": "ipython3",
   "version": "3.7.9"
  }
 },
 "nbformat": 4,
 "nbformat_minor": 5
}
