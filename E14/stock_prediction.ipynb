{
 "cells": [
  {
   "cell_type": "markdown",
   "id": "turkish-benchmark",
   "metadata": {},
   "source": [
    "프로젝트 : 주식 예측에 도전해 보자\n",
    "=======\n",
    "\n",
    "ARIMA를 통해 대한민국 대장주 삼성전자에 대한 주식 시세를 예측해보기\n",
    "\n",
    "- 데이터셋 : https://finance.yahoo.com/quote/005930.KS/history?p=005930.KS\n",
    "    \n",
    "-21.11.18-"
   ]
  },
  {
   "cell_type": "code",
   "execution_count": 1,
   "id": "expected-combine",
   "metadata": {},
   "outputs": [
    {
     "name": "stdout",
     "output_type": "stream",
     "text": [
      "005930.KS.csv  airline-passengers.csv  daily-min-temperatures.csv\r\n"
     ]
    }
   ],
   "source": [
    "!ls ~/aiffel/Exploration/E14/data"
   ]
  },
  {
   "cell_type": "markdown",
   "id": "herbal-brick",
   "metadata": {},
   "source": [
    "- 005930.KS.csv 파일 데이터를 사용하겠습니다. "
   ]
  },
  {
   "cell_type": "markdown",
   "id": "seasonal-container",
   "metadata": {},
   "source": [
    "# 1. 시계열 데이터 준비\n"
   ]
  },
  {
   "cell_type": "code",
   "execution_count": 2,
   "id": "altered-syndrome",
   "metadata": {},
   "outputs": [
    {
     "data": {
      "text/html": [
       "<div>\n",
       "<style scoped>\n",
       "    .dataframe tbody tr th:only-of-type {\n",
       "        vertical-align: middle;\n",
       "    }\n",
       "\n",
       "    .dataframe tbody tr th {\n",
       "        vertical-align: top;\n",
       "    }\n",
       "\n",
       "    .dataframe thead th {\n",
       "        text-align: right;\n",
       "    }\n",
       "</style>\n",
       "<table border=\"1\" class=\"dataframe\">\n",
       "  <thead>\n",
       "    <tr style=\"text-align: right;\">\n",
       "      <th></th>\n",
       "      <th>Open</th>\n",
       "      <th>High</th>\n",
       "      <th>Low</th>\n",
       "      <th>Close</th>\n",
       "      <th>Adj Close</th>\n",
       "      <th>Volume</th>\n",
       "    </tr>\n",
       "    <tr>\n",
       "      <th>Date</th>\n",
       "      <th></th>\n",
       "      <th></th>\n",
       "      <th></th>\n",
       "      <th></th>\n",
       "      <th></th>\n",
       "      <th></th>\n",
       "    </tr>\n",
       "  </thead>\n",
       "  <tbody>\n",
       "    <tr>\n",
       "      <th>2020-05-18</th>\n",
       "      <td>47950.0</td>\n",
       "      <td>49100.0</td>\n",
       "      <td>47600.0</td>\n",
       "      <td>48800.0</td>\n",
       "      <td>46788.835938</td>\n",
       "      <td>20481981</td>\n",
       "    </tr>\n",
       "    <tr>\n",
       "      <th>2020-05-19</th>\n",
       "      <td>50100.0</td>\n",
       "      <td>50500.0</td>\n",
       "      <td>49700.0</td>\n",
       "      <td>50300.0</td>\n",
       "      <td>48227.015625</td>\n",
       "      <td>25168295</td>\n",
       "    </tr>\n",
       "    <tr>\n",
       "      <th>2020-05-20</th>\n",
       "      <td>50000.0</td>\n",
       "      <td>50200.0</td>\n",
       "      <td>49800.0</td>\n",
       "      <td>50000.0</td>\n",
       "      <td>47939.382813</td>\n",
       "      <td>14896899</td>\n",
       "    </tr>\n",
       "    <tr>\n",
       "      <th>2020-05-21</th>\n",
       "      <td>50300.0</td>\n",
       "      <td>50400.0</td>\n",
       "      <td>49850.0</td>\n",
       "      <td>49950.0</td>\n",
       "      <td>47891.437500</td>\n",
       "      <td>14949266</td>\n",
       "    </tr>\n",
       "    <tr>\n",
       "      <th>2020-05-22</th>\n",
       "      <td>49600.0</td>\n",
       "      <td>49800.0</td>\n",
       "      <td>48600.0</td>\n",
       "      <td>48750.0</td>\n",
       "      <td>46740.894531</td>\n",
       "      <td>19706284</td>\n",
       "    </tr>\n",
       "  </tbody>\n",
       "</table>\n",
       "</div>"
      ],
      "text/plain": [
       "               Open     High      Low    Close     Adj Close    Volume\n",
       "Date                                                                  \n",
       "2020-05-18  47950.0  49100.0  47600.0  48800.0  46788.835938  20481981\n",
       "2020-05-19  50100.0  50500.0  49700.0  50300.0  48227.015625  25168295\n",
       "2020-05-20  50000.0  50200.0  49800.0  50000.0  47939.382813  14896899\n",
       "2020-05-21  50300.0  50400.0  49850.0  49950.0  47891.437500  14949266\n",
       "2020-05-22  49600.0  49800.0  48600.0  48750.0  46740.894531  19706284"
      ]
     },
     "execution_count": 2,
     "metadata": {},
     "output_type": "execute_result"
    }
   ],
   "source": [
    "import numpy as np\n",
    "import pandas as pd\n",
    "import matplotlib.pyplot as plt\n",
    "import os\n",
    "\n",
    "dataset_filepath = os.getenv('HOME') + '/aiffel/Exploration/E14/data/005930.KS.csv'\n",
    "df = pd.read_csv(dataset_filepath, index_col='Date', parse_dates=True)\n",
    "\n",
    "df.head()"
   ]
  },
  {
   "cell_type": "markdown",
   "id": "french-separation",
   "metadata": {},
   "source": [
    "- 칼럼 종류: Date, Open, High, Low, Close, Adj Close, Volume\n",
    "- 날짜별로 시작가(Open), 최고가(High), 최저가(Low), 종가(Close), 수정종가(Adj Close), 거래량(Volume)이 저장되어 있는 것을 확인할 수 있습니다.\n",
    "- 우리는 종가(Close)만 사용하겠습니다. (주식 시장은 정해진 시간 동안만 거래가 가능합니다. 종가란 하루의 장이 마감하였을 때의 가격입니다.)    \n",
    "    \n",
    "    \n",
    "- pd.read_csv() : parse_dates=True -> try parsing the index.    \n",
    "    https://pandas.pydata.org/docs/reference/api/pandas.read_csv.html"
   ]
  },
  {
   "cell_type": "code",
   "execution_count": 3,
   "id": "massive-franklin",
   "metadata": {},
   "outputs": [
    {
     "data": {
      "text/plain": [
       "Date\n",
       "2020-05-18    48800.0\n",
       "2020-05-19    50300.0\n",
       "2020-05-20    50000.0\n",
       "2020-05-21    49950.0\n",
       "2020-05-22    48750.0\n",
       "Name: Close, dtype: float64"
      ]
     },
     "execution_count": 3,
     "metadata": {},
     "output_type": "execute_result"
    }
   ],
   "source": [
    "ts = df['Close']\n",
    "\n",
    "ts.head()"
   ]
  },
  {
   "cell_type": "code",
   "execution_count": null,
   "id": "expected-rhythm",
   "metadata": {},
   "outputs": [],
   "source": []
  }
 ],
 "metadata": {
  "kernelspec": {
   "display_name": "Python 3",
   "language": "python",
   "name": "python3"
  },
  "language_info": {
   "codemirror_mode": {
    "name": "ipython",
    "version": 3
   },
   "file_extension": ".py",
   "mimetype": "text/x-python",
   "name": "python",
   "nbconvert_exporter": "python",
   "pygments_lexer": "ipython3",
   "version": "3.7.9"
  }
 },
 "nbformat": 4,
 "nbformat_minor": 5
}
