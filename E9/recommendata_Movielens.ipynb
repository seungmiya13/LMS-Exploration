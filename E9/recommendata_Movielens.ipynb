{
 "cells": [
  {
   "cell_type": "markdown",
   "id": "selected-issue",
   "metadata": {},
   "source": [
    "프로젝트 - Movielens 영화 추천 실습\n",
    "=======\n",
    "\n",
    "Matrix Factorization(MF) 모델 학습 방법을 토대로, 내가 좋아할 만한 영화 추천 시스템을 제작해 보기\n",
    "\n",
    "데이터셋은 추천시스템의 MNIST라고 부를만한 Movielens 데이터입니다.     \n",
    "https://www.kaggle.com/odedgolden/movielens-1m-dataset\n",
    "\n",
    "- 유저가 영화에 대해 평점을 매긴 데이터가 데이터 크기 별로 있습니다. MovieLens 1M Dataset 사용을 권장합니다.\n",
    "- 별점 데이터는 대표적인 explicit 데이터입니다. 하지만 implicit 데이터로 간주하고 테스트해볼 수 있습니다.\n",
    "- 별점을 시청횟수로 해석해서 생각하겠습니다.\n",
    "- 또한 유저가 3점 미만으로 준 데이터는 선호하지 않는다고 가정하고 제외하겠습니다.\n",
    "\n",
    "-21.11.02-"
   ]
  },
  {
   "cell_type": "markdown",
   "id": "annual-rainbow",
   "metadata": {},
   "source": [
    "# 1. 데이터 준비와 전처리\n"
   ]
  },
  {
   "cell_type": "markdown",
   "id": "bibliographic-cricket",
   "metadata": {},
   "source": [
    "## 평점 데이터 가져오기 \n",
    "\n",
    "평점 데이터 : ratings.dat 파일"
   ]
  },
  {
   "cell_type": "code",
   "execution_count": 1,
   "id": "plain-uncle",
   "metadata": {},
   "outputs": [
    {
     "name": "stdout",
     "output_type": "stream",
     "text": [
      "1::1193::5::978300760\n",
      "1::661::3::978302109\n",
      "1::914::3::978301968\n",
      "1::3408::4::978300275\n",
      "1::2355::5::978824291\n",
      "1::1197::3::978302268\n",
      "1::1287::5::978302039\n",
      "1::2804::5::978300719\n",
      "1::594::4::978302268\n",
      "1::919::4::978301368\n",
      "1::595::5::978824268\n",
      "1::938::4::978301752\n",
      "1::2398::4::978302281\n",
      "1::2918::4::978302124\n",
      "1::1035::5::978301753\n",
      "1::2791::4::978302188\n",
      "1::2687::3::978824268\n",
      "1::2018::4::978301777\n",
      "1::3105::5::978301713\n",
      "1::2797::4::978302039\n",
      "1::2321::3::978302205\n",
      "1::720::3::978300760\n",
      "1::1270::5::978300055\n",
      "\u001b[Km--More--(0%)\u001b[m"
     ]
    }
   ],
   "source": [
    "# 데이터 파일 확인\n",
    "!more ~/aiffel/Exploration/E9/data/ml-1m/ratings.dat"
   ]
  },
  {
   "cell_type": "markdown",
   "id": "every-imperial",
   "metadata": {},
   "source": [
    "- Movielens 데이터는 rating.dat 안에 이미 인덱싱까지 완료된 사용자-영화-평점 데이터가 깔끔하게 정리되어 있습니다."
   ]
  },
  {
   "cell_type": "code",
   "execution_count": 2,
   "id": "tender-validity",
   "metadata": {},
   "outputs": [
    {
     "data": {
      "text/html": [
       "<div>\n",
       "<style scoped>\n",
       "    .dataframe tbody tr th:only-of-type {\n",
       "        vertical-align: middle;\n",
       "    }\n",
       "\n",
       "    .dataframe tbody tr th {\n",
       "        vertical-align: top;\n",
       "    }\n",
       "\n",
       "    .dataframe thead th {\n",
       "        text-align: right;\n",
       "    }\n",
       "</style>\n",
       "<table border=\"1\" class=\"dataframe\">\n",
       "  <thead>\n",
       "    <tr style=\"text-align: right;\">\n",
       "      <th></th>\n",
       "      <th>user_id</th>\n",
       "      <th>movie_id</th>\n",
       "      <th>ratings</th>\n",
       "      <th>timestamp</th>\n",
       "    </tr>\n",
       "  </thead>\n",
       "  <tbody>\n",
       "    <tr>\n",
       "      <th>0</th>\n",
       "      <td>1</td>\n",
       "      <td>1193</td>\n",
       "      <td>5</td>\n",
       "      <td>978300760</td>\n",
       "    </tr>\n",
       "    <tr>\n",
       "      <th>1</th>\n",
       "      <td>1</td>\n",
       "      <td>661</td>\n",
       "      <td>3</td>\n",
       "      <td>978302109</td>\n",
       "    </tr>\n",
       "    <tr>\n",
       "      <th>2</th>\n",
       "      <td>1</td>\n",
       "      <td>914</td>\n",
       "      <td>3</td>\n",
       "      <td>978301968</td>\n",
       "    </tr>\n",
       "    <tr>\n",
       "      <th>3</th>\n",
       "      <td>1</td>\n",
       "      <td>3408</td>\n",
       "      <td>4</td>\n",
       "      <td>978300275</td>\n",
       "    </tr>\n",
       "    <tr>\n",
       "      <th>4</th>\n",
       "      <td>1</td>\n",
       "      <td>2355</td>\n",
       "      <td>5</td>\n",
       "      <td>978824291</td>\n",
       "    </tr>\n",
       "  </tbody>\n",
       "</table>\n",
       "</div>"
      ],
      "text/plain": [
       "   user_id  movie_id  ratings  timestamp\n",
       "0        1      1193        5  978300760\n",
       "1        1       661        3  978302109\n",
       "2        1       914        3  978301968\n",
       "3        1      3408        4  978300275\n",
       "4        1      2355        5  978824291"
      ]
     },
     "execution_count": 2,
     "metadata": {},
     "output_type": "execute_result"
    }
   ],
   "source": [
    "import pandas as pd\n",
    "import os\n",
    "\n",
    "rating_file_path=os.getenv('HOME') + '/aiffel/Exploration/E9/data/ml-1m/ratings.dat'\n",
    "ratings_cols = ['user_id', 'movie_id', 'ratings', 'timestamp']\n",
    "ratings = pd.read_csv(rating_file_path, sep='::', names=ratings_cols, engine='python', encoding = \"ISO-8859-1\")\n",
    "orginal_data_size = len(ratings)\n",
    "ratings.head()"
   ]
  },
  {
   "cell_type": "code",
   "execution_count": 3,
   "id": "disabled-terrorism",
   "metadata": {},
   "outputs": [
    {
     "name": "stdout",
     "output_type": "stream",
     "text": [
      "<class 'pandas.core.frame.DataFrame'>\n",
      "RangeIndex: 1000209 entries, 0 to 1000208\n",
      "Data columns (total 4 columns):\n",
      " #   Column     Non-Null Count    Dtype\n",
      "---  ------     --------------    -----\n",
      " 0   user_id    1000209 non-null  int64\n",
      " 1   movie_id   1000209 non-null  int64\n",
      " 2   ratings    1000209 non-null  int64\n",
      " 3   timestamp  1000209 non-null  int64\n",
      "dtypes: int64(4)\n",
      "memory usage: 30.5 MB\n"
     ]
    }
   ],
   "source": [
    "ratings.info()"
   ]
  },
  {
   "cell_type": "markdown",
   "id": "parliamentary-moral",
   "metadata": {},
   "source": [
    "- 결측치는 없는 것을 확인할 수 있다. "
   ]
  },
  {
   "cell_type": "code",
   "execution_count": 4,
   "id": "suspected-basin",
   "metadata": {},
   "outputs": [
    {
     "name": "stdout",
     "output_type": "stream",
     "text": [
      "orginal_data_size: 1000209, filtered_data_size: 836478\n",
      "Ratio of Remaining Data is 83.63%\n"
     ]
    }
   ],
   "source": [
    "# 3점 이상만 남깁니다.\n",
    "ratings = ratings[ratings['ratings']>=3]\n",
    "filtered_data_size = len(ratings)\n",
    "\n",
    "print(f'orginal_data_size: {orginal_data_size}, filtered_data_size: {filtered_data_size}')\n",
    "print(f'Ratio of Remaining Data is {filtered_data_size / orginal_data_size:.2%}')"
   ]
  },
  {
   "cell_type": "code",
   "execution_count": 5,
   "id": "conventional-ghana",
   "metadata": {},
   "outputs": [
    {
     "data": {
      "text/plain": [
       "0          5\n",
       "1          3\n",
       "2          3\n",
       "3          4\n",
       "4          5\n",
       "          ..\n",
       "1000203    3\n",
       "1000205    5\n",
       "1000206    5\n",
       "1000207    4\n",
       "1000208    4\n",
       "Name: counts, Length: 836478, dtype: int64"
      ]
     },
     "execution_count": 5,
     "metadata": {},
     "output_type": "execute_result"
    }
   ],
   "source": [
    "# ratings 컬럼의 이름을 counts로 바꿉니다.\n",
    "ratings.rename(columns={'ratings':'counts'}, inplace=True)\n",
    "\n",
    "ratings['counts']"
   ]
  },
  {
   "cell_type": "code",
   "execution_count": 6,
   "id": "electrical-edward",
   "metadata": {},
   "outputs": [
    {
     "data": {
      "text/html": [
       "<div>\n",
       "<style scoped>\n",
       "    .dataframe tbody tr th:only-of-type {\n",
       "        vertical-align: middle;\n",
       "    }\n",
       "\n",
       "    .dataframe tbody tr th {\n",
       "        vertical-align: top;\n",
       "    }\n",
       "\n",
       "    .dataframe thead th {\n",
       "        text-align: right;\n",
       "    }\n",
       "</style>\n",
       "<table border=\"1\" class=\"dataframe\">\n",
       "  <thead>\n",
       "    <tr style=\"text-align: right;\">\n",
       "      <th></th>\n",
       "      <th>user_id</th>\n",
       "      <th>movie_id</th>\n",
       "      <th>counts</th>\n",
       "    </tr>\n",
       "  </thead>\n",
       "  <tbody>\n",
       "    <tr>\n",
       "      <th>0</th>\n",
       "      <td>1</td>\n",
       "      <td>1193</td>\n",
       "      <td>5</td>\n",
       "    </tr>\n",
       "    <tr>\n",
       "      <th>1</th>\n",
       "      <td>1</td>\n",
       "      <td>661</td>\n",
       "      <td>3</td>\n",
       "    </tr>\n",
       "    <tr>\n",
       "      <th>2</th>\n",
       "      <td>1</td>\n",
       "      <td>914</td>\n",
       "      <td>3</td>\n",
       "    </tr>\n",
       "    <tr>\n",
       "      <th>3</th>\n",
       "      <td>1</td>\n",
       "      <td>3408</td>\n",
       "      <td>4</td>\n",
       "    </tr>\n",
       "    <tr>\n",
       "      <th>4</th>\n",
       "      <td>1</td>\n",
       "      <td>2355</td>\n",
       "      <td>5</td>\n",
       "    </tr>\n",
       "    <tr>\n",
       "      <th>5</th>\n",
       "      <td>1</td>\n",
       "      <td>1197</td>\n",
       "      <td>3</td>\n",
       "    </tr>\n",
       "    <tr>\n",
       "      <th>6</th>\n",
       "      <td>1</td>\n",
       "      <td>1287</td>\n",
       "      <td>5</td>\n",
       "    </tr>\n",
       "    <tr>\n",
       "      <th>7</th>\n",
       "      <td>1</td>\n",
       "      <td>2804</td>\n",
       "      <td>5</td>\n",
       "    </tr>\n",
       "    <tr>\n",
       "      <th>8</th>\n",
       "      <td>1</td>\n",
       "      <td>594</td>\n",
       "      <td>4</td>\n",
       "    </tr>\n",
       "    <tr>\n",
       "      <th>9</th>\n",
       "      <td>1</td>\n",
       "      <td>919</td>\n",
       "      <td>4</td>\n",
       "    </tr>\n",
       "  </tbody>\n",
       "</table>\n",
       "</div>"
      ],
      "text/plain": [
       "   user_id  movie_id  counts\n",
       "0        1      1193       5\n",
       "1        1       661       3\n",
       "2        1       914       3\n",
       "3        1      3408       4\n",
       "4        1      2355       5\n",
       "5        1      1197       3\n",
       "6        1      1287       5\n",
       "7        1      2804       5\n",
       "8        1       594       4\n",
       "9        1       919       4"
      ]
     },
     "execution_count": 6,
     "metadata": {},
     "output_type": "execute_result"
    }
   ],
   "source": [
    "# 사용하는 컬럼만 남겨줍니다.\n",
    "using_cols = ['user_id', 'movie_id', 'counts']\n",
    "ratings = ratings[using_cols]\n",
    "ratings.head(10)"
   ]
  },
  {
   "cell_type": "markdown",
   "id": "purple-suspect",
   "metadata": {},
   "source": [
    "## 영화 데이터 가져오기 \n",
    "\n",
    "영화 데이터 : movies.dat 파일"
   ]
  },
  {
   "cell_type": "code",
   "execution_count": 7,
   "id": "atlantic-organ",
   "metadata": {},
   "outputs": [
    {
     "name": "stdout",
     "output_type": "stream",
     "text": [
      "1::Toy Story (1995)::Animation|Children's|Comedy\n",
      "2::Jumanji (1995)::Adventure|Children's|Fantasy\n",
      "3::Grumpier Old Men (1995)::Comedy|Romance\n",
      "4::Waiting to Exhale (1995)::Comedy|Drama\n",
      "5::Father of the Bride Part II (1995)::Comedy\n",
      "6::Heat (1995)::Action|Crime|Thriller\n",
      "7::Sabrina (1995)::Comedy|Romance\n",
      "8::Tom and Huck (1995)::Adventure|Children's\n",
      "9::Sudden Death (1995)::Action\n",
      "10::GoldenEye (1995)::Action|Adventure|Thriller\n",
      "11::American President, The (1995)::Comedy|Drama|Romance\n",
      "12::Dracula: Dead and Loving It (1995)::Comedy|Horror\n",
      "13::Balto (1995)::Animation|Children's\n",
      "14::Nixon (1995)::Drama\n",
      "15::Cutthroat Island (1995)::Action|Adventure|Romance\n",
      "16::Casino (1995)::Drama|Thriller\n",
      "17::Sense and Sensibility (1995)::Drama|Romance\n",
      "18::Four Rooms (1995)::Thriller\n",
      "19::Ace Ventura: When Nature Calls (1995)::Comedy\n",
      "20::Money Train (1995)::Action\n",
      "21::Get Shorty (1995)::Action|Comedy|Drama\n",
      "22::Copycat (1995)::Crime|Drama|Thriller\n",
      "23::Assassins (1995)::Thriller\n",
      "\u001b[Km--More--(0%)\u001b[m"
     ]
    }
   ],
   "source": [
    "# 데이터 파일 확인\n",
    "!more ~/aiffel/Exploration/E9/data/ml-1m/movies.dat"
   ]
  },
  {
   "cell_type": "code",
   "execution_count": 8,
   "id": "sublime-constitution",
   "metadata": {},
   "outputs": [
    {
     "data": {
      "text/html": [
       "<div>\n",
       "<style scoped>\n",
       "    .dataframe tbody tr th:only-of-type {\n",
       "        vertical-align: middle;\n",
       "    }\n",
       "\n",
       "    .dataframe tbody tr th {\n",
       "        vertical-align: top;\n",
       "    }\n",
       "\n",
       "    .dataframe thead th {\n",
       "        text-align: right;\n",
       "    }\n",
       "</style>\n",
       "<table border=\"1\" class=\"dataframe\">\n",
       "  <thead>\n",
       "    <tr style=\"text-align: right;\">\n",
       "      <th></th>\n",
       "      <th>movie_id</th>\n",
       "      <th>title</th>\n",
       "      <th>genre</th>\n",
       "    </tr>\n",
       "  </thead>\n",
       "  <tbody>\n",
       "    <tr>\n",
       "      <th>0</th>\n",
       "      <td>1</td>\n",
       "      <td>Toy Story (1995)</td>\n",
       "      <td>Animation|Children's|Comedy</td>\n",
       "    </tr>\n",
       "    <tr>\n",
       "      <th>1</th>\n",
       "      <td>2</td>\n",
       "      <td>Jumanji (1995)</td>\n",
       "      <td>Adventure|Children's|Fantasy</td>\n",
       "    </tr>\n",
       "    <tr>\n",
       "      <th>2</th>\n",
       "      <td>3</td>\n",
       "      <td>Grumpier Old Men (1995)</td>\n",
       "      <td>Comedy|Romance</td>\n",
       "    </tr>\n",
       "    <tr>\n",
       "      <th>3</th>\n",
       "      <td>4</td>\n",
       "      <td>Waiting to Exhale (1995)</td>\n",
       "      <td>Comedy|Drama</td>\n",
       "    </tr>\n",
       "    <tr>\n",
       "      <th>4</th>\n",
       "      <td>5</td>\n",
       "      <td>Father of the Bride Part II (1995)</td>\n",
       "      <td>Comedy</td>\n",
       "    </tr>\n",
       "  </tbody>\n",
       "</table>\n",
       "</div>"
      ],
      "text/plain": [
       "   movie_id                               title                         genre\n",
       "0         1                    Toy Story (1995)   Animation|Children's|Comedy\n",
       "1         2                      Jumanji (1995)  Adventure|Children's|Fantasy\n",
       "2         3             Grumpier Old Men (1995)                Comedy|Romance\n",
       "3         4            Waiting to Exhale (1995)                  Comedy|Drama\n",
       "4         5  Father of the Bride Part II (1995)                        Comedy"
      ]
     },
     "execution_count": 8,
     "metadata": {},
     "output_type": "execute_result"
    }
   ],
   "source": [
    "# 영화 제목을 보기 위해 메타 데이터를 읽어옵니다.\n",
    "movie_file_path=os.getenv('HOME') + '/aiffel/Exploration/E9/data/ml-1m/movies.dat'\n",
    "cols = ['movie_id', 'title', 'genre'] \n",
    "movies = pd.read_csv(movie_file_path, sep='::', names=cols, engine='python', encoding='ISO-8859-1')\n",
    "movies.head()"
   ]
  },
  {
   "cell_type": "code",
   "execution_count": 9,
   "id": "romantic-macedonia",
   "metadata": {},
   "outputs": [
    {
     "name": "stdout",
     "output_type": "stream",
     "text": [
      "<class 'pandas.core.frame.DataFrame'>\n",
      "RangeIndex: 3883 entries, 0 to 3882\n",
      "Data columns (total 3 columns):\n",
      " #   Column    Non-Null Count  Dtype \n",
      "---  ------    --------------  ----- \n",
      " 0   movie_id  3883 non-null   int64 \n",
      " 1   title     3883 non-null   object\n",
      " 2   genre     3883 non-null   object\n",
      "dtypes: int64(1), object(2)\n",
      "memory usage: 91.1+ KB\n"
     ]
    }
   ],
   "source": [
    "movies.info()"
   ]
  },
  {
   "cell_type": "markdown",
   "id": "filled-writing",
   "metadata": {},
   "source": [
    "- 결측치는 없는 것을 확인할 수 있다."
   ]
  },
  {
   "cell_type": "code",
   "execution_count": 10,
   "id": "devoted-session",
   "metadata": {},
   "outputs": [
    {
     "data": {
      "text/html": [
       "<div>\n",
       "<style scoped>\n",
       "    .dataframe tbody tr th:only-of-type {\n",
       "        vertical-align: middle;\n",
       "    }\n",
       "\n",
       "    .dataframe tbody tr th {\n",
       "        vertical-align: top;\n",
       "    }\n",
       "\n",
       "    .dataframe thead th {\n",
       "        text-align: right;\n",
       "    }\n",
       "</style>\n",
       "<table border=\"1\" class=\"dataframe\">\n",
       "  <thead>\n",
       "    <tr style=\"text-align: right;\">\n",
       "      <th></th>\n",
       "      <th>user_id</th>\n",
       "      <th>movie_id</th>\n",
       "      <th>counts</th>\n",
       "      <th>title</th>\n",
       "      <th>genre</th>\n",
       "    </tr>\n",
       "  </thead>\n",
       "  <tbody>\n",
       "    <tr>\n",
       "      <th>0</th>\n",
       "      <td>1</td>\n",
       "      <td>1193</td>\n",
       "      <td>5</td>\n",
       "      <td>One Flew Over the Cuckoo's Nest (1975)</td>\n",
       "      <td>Drama</td>\n",
       "    </tr>\n",
       "    <tr>\n",
       "      <th>1</th>\n",
       "      <td>2</td>\n",
       "      <td>1193</td>\n",
       "      <td>5</td>\n",
       "      <td>One Flew Over the Cuckoo's Nest (1975)</td>\n",
       "      <td>Drama</td>\n",
       "    </tr>\n",
       "    <tr>\n",
       "      <th>2</th>\n",
       "      <td>12</td>\n",
       "      <td>1193</td>\n",
       "      <td>4</td>\n",
       "      <td>One Flew Over the Cuckoo's Nest (1975)</td>\n",
       "      <td>Drama</td>\n",
       "    </tr>\n",
       "    <tr>\n",
       "      <th>3</th>\n",
       "      <td>15</td>\n",
       "      <td>1193</td>\n",
       "      <td>4</td>\n",
       "      <td>One Flew Over the Cuckoo's Nest (1975)</td>\n",
       "      <td>Drama</td>\n",
       "    </tr>\n",
       "    <tr>\n",
       "      <th>4</th>\n",
       "      <td>17</td>\n",
       "      <td>1193</td>\n",
       "      <td>5</td>\n",
       "      <td>One Flew Over the Cuckoo's Nest (1975)</td>\n",
       "      <td>Drama</td>\n",
       "    </tr>\n",
       "  </tbody>\n",
       "</table>\n",
       "</div>"
      ],
      "text/plain": [
       "   user_id  movie_id  counts                                   title  genre\n",
       "0        1      1193       5  One Flew Over the Cuckoo's Nest (1975)  Drama\n",
       "1        2      1193       5  One Flew Over the Cuckoo's Nest (1975)  Drama\n",
       "2       12      1193       4  One Flew Over the Cuckoo's Nest (1975)  Drama\n",
       "3       15      1193       4  One Flew Over the Cuckoo's Nest (1975)  Drama\n",
       "4       17      1193       5  One Flew Over the Cuckoo's Nest (1975)  Drama"
      ]
     },
     "execution_count": 10,
     "metadata": {},
     "output_type": "execute_result"
    }
   ],
   "source": [
    "merged = pd.merge(ratings, movies, on='movie_id')\n",
    "merged.head()"
   ]
  },
  {
   "cell_type": "markdown",
   "id": "automated-tunisia",
   "metadata": {},
   "source": [
    "# 2. 데이터 분석\n",
    "\n",
    "추천 모델을 만들기 전에 데이터의 기본적인 정보를 보고 갑니다. 아래 항목들을 확인해 보고 싶습니다.\n",
    "\n",
    "- ratings에 있는 유니크한 영화 개수\n",
    "- ratings에 있는 유니크한 사용자 수\n",
    "- 가장 인기 있는 영화 30개(인기순)"
   ]
  },
  {
   "cell_type": "markdown",
   "id": "motivated-receptor",
   "metadata": {},
   "source": [
    "## ratings에 있는 유니크한 영화 개수"
   ]
  },
  {
   "cell_type": "code",
   "execution_count": 11,
   "id": "improved-gateway",
   "metadata": {},
   "outputs": [
    {
     "data": {
      "text/plain": [
       "3628"
      ]
     },
     "execution_count": 11,
     "metadata": {},
     "output_type": "execute_result"
    }
   ],
   "source": [
    "# 영화 수\n",
    "ratings['movie_id'].nunique()"
   ]
  },
  {
   "cell_type": "markdown",
   "id": "relative-institution",
   "metadata": {},
   "source": [
    "## ratings에 있는 유니크한 사용자 수"
   ]
  },
  {
   "cell_type": "code",
   "execution_count": 12,
   "id": "chinese-frank",
   "metadata": {},
   "outputs": [
    {
     "data": {
      "text/plain": [
       "6039"
      ]
     },
     "execution_count": 12,
     "metadata": {},
     "output_type": "execute_result"
    }
   ],
   "source": [
    "# 사용자 수\n",
    "ratings['user_id'].nunique()"
   ]
  },
  {
   "cell_type": "markdown",
   "id": "advisory-bacteria",
   "metadata": {},
   "source": [
    "- pandas.DataFrame.nunique() : 특정 컬럼에 포함된 유니크한 데이터의 개수"
   ]
  },
  {
   "cell_type": "markdown",
   "id": "legendary-creek",
   "metadata": {},
   "source": [
    "## 가장 인기 있는 영화 30개(인기순)"
   ]
  },
  {
   "cell_type": "code",
   "execution_count": 13,
   "id": "cloudy-compromise",
   "metadata": {},
   "outputs": [
    {
     "data": {
      "text/plain": [
       "title\n",
       "American Beauty (1999)                                   3211\n",
       "Star Wars: Episode IV - A New Hope (1977)                2910\n",
       "Star Wars: Episode V - The Empire Strikes Back (1980)    2885\n",
       "Star Wars: Episode VI - Return of the Jedi (1983)        2716\n",
       "Saving Private Ryan (1998)                               2561\n",
       "Terminator 2: Judgment Day (1991)                        2509\n",
       "Silence of the Lambs, The (1991)                         2498\n",
       "Raiders of the Lost Ark (1981)                           2473\n",
       "Back to the Future (1985)                                2460\n",
       "Matrix, The (1999)                                       2434\n",
       "Jurassic Park (1993)                                     2413\n",
       "Sixth Sense, The (1999)                                  2385\n",
       "Fargo (1996)                                             2371\n",
       "Braveheart (1995)                                        2314\n",
       "Men in Black (1997)                                      2297\n",
       "Schindler's List (1993)                                  2257\n",
       "Princess Bride, The (1987)                               2252\n",
       "Shakespeare in Love (1998)                               2213\n",
       "L.A. Confidential (1997)                                 2210\n",
       "Shawshank Redemption, The (1994)                         2194\n",
       "Godfather, The (1972)                                    2167\n",
       "Groundhog Day (1993)                                     2121\n",
       "E.T. the Extra-Terrestrial (1982)                        2102\n",
       "Being John Malkovich (1999)                              2066\n",
       "Ghostbusters (1984)                                      2051\n",
       "Pulp Fiction (1994)                                      2030\n",
       "Forrest Gump (1994)                                      2022\n",
       "Terminator, The (1984)                                   2019\n",
       "Toy Story (1995)                                         2000\n",
       "Fugitive, The (1993)                                     1941\n",
       "Name: user_id, dtype: int64"
      ]
     },
     "execution_count": 13,
     "metadata": {},
     "output_type": "execute_result"
    }
   ],
   "source": [
    "# 인기 많은 영화\n",
    "movie_count = merged.groupby('title')['user_id'].count()\n",
    "movie_count.sort_values(ascending=False).head(30) # 30개 출력"
   ]
  },
  {
   "cell_type": "markdown",
   "id": "closed-cinema",
   "metadata": {},
   "source": [
    "# 3. 모델 검증을 위한 사용자 초기 정보 세팅\n",
    "\n",
    "내가 선호하는 영화를 5가지 골라서 ratings에 추가해 줍니다."
   ]
  },
  {
   "cell_type": "code",
   "execution_count": 16,
   "id": "interior-aggregate",
   "metadata": {},
   "outputs": [
    {
     "name": "stdout",
     "output_type": "stream",
     "text": [
      "['Toy Story (1995)', 'Assassins (1995)', 'Tommy Boy (1995)', 'Sting, The (1973)', 'True Romance (1993)']\n"
     ]
    }
   ],
   "source": [
    "# 좋아하는 영화 이름은 꼭 데이터셋에 있는 것과 동일하게 맞춰주기\n",
    "my_favorite = [1, 23, 333, 1234, 555]\n",
    "\n",
    "print([merged[merged['movie_id']==i]['title'].unique()[0] for i in my_favorite])"
   ]
  },
  {
   "cell_type": "markdown",
   "id": "fancy-heritage",
   "metadata": {},
   "source": [
    "- movie1 : Toy Story (1995)\n",
    "- movie23 : Assassins (1995)\n",
    "- movie333 : Tommy Boy (1995)\n",
    "- movie1234 : Sting, The (1973)\n",
    "- movie555 : True Romance (1993)"
   ]
  },
  {
   "cell_type": "code",
   "execution_count": 17,
   "id": "ecological-spelling",
   "metadata": {},
   "outputs": [
    {
     "data": {
      "text/html": [
       "<div>\n",
       "<style scoped>\n",
       "    .dataframe tbody tr th:only-of-type {\n",
       "        vertical-align: middle;\n",
       "    }\n",
       "\n",
       "    .dataframe tbody tr th {\n",
       "        vertical-align: top;\n",
       "    }\n",
       "\n",
       "    .dataframe thead th {\n",
       "        text-align: right;\n",
       "    }\n",
       "</style>\n",
       "<table border=\"1\" class=\"dataframe\">\n",
       "  <thead>\n",
       "    <tr style=\"text-align: right;\">\n",
       "      <th></th>\n",
       "      <th>user_id</th>\n",
       "      <th>movie_id</th>\n",
       "      <th>counts</th>\n",
       "    </tr>\n",
       "  </thead>\n",
       "  <tbody>\n",
       "    <tr>\n",
       "      <th>1000203</th>\n",
       "      <td>6040</td>\n",
       "      <td>1090</td>\n",
       "      <td>3</td>\n",
       "    </tr>\n",
       "    <tr>\n",
       "      <th>1000205</th>\n",
       "      <td>6040</td>\n",
       "      <td>1094</td>\n",
       "      <td>5</td>\n",
       "    </tr>\n",
       "    <tr>\n",
       "      <th>1000206</th>\n",
       "      <td>6040</td>\n",
       "      <td>562</td>\n",
       "      <td>5</td>\n",
       "    </tr>\n",
       "    <tr>\n",
       "      <th>1000207</th>\n",
       "      <td>6040</td>\n",
       "      <td>1096</td>\n",
       "      <td>4</td>\n",
       "    </tr>\n",
       "    <tr>\n",
       "      <th>1000208</th>\n",
       "      <td>6040</td>\n",
       "      <td>1097</td>\n",
       "      <td>4</td>\n",
       "    </tr>\n",
       "    <tr>\n",
       "      <th>0</th>\n",
       "      <td>8888</td>\n",
       "      <td>1</td>\n",
       "      <td>4</td>\n",
       "    </tr>\n",
       "    <tr>\n",
       "      <th>1</th>\n",
       "      <td>8888</td>\n",
       "      <td>23</td>\n",
       "      <td>4</td>\n",
       "    </tr>\n",
       "    <tr>\n",
       "      <th>2</th>\n",
       "      <td>8888</td>\n",
       "      <td>333</td>\n",
       "      <td>4</td>\n",
       "    </tr>\n",
       "    <tr>\n",
       "      <th>3</th>\n",
       "      <td>8888</td>\n",
       "      <td>1234</td>\n",
       "      <td>4</td>\n",
       "    </tr>\n",
       "    <tr>\n",
       "      <th>4</th>\n",
       "      <td>8888</td>\n",
       "      <td>555</td>\n",
       "      <td>4</td>\n",
       "    </tr>\n",
       "  </tbody>\n",
       "</table>\n",
       "</div>"
      ],
      "text/plain": [
       "         user_id  movie_id  counts\n",
       "1000203     6040      1090       3\n",
       "1000205     6040      1094       5\n",
       "1000206     6040       562       5\n",
       "1000207     6040      1096       4\n",
       "1000208     6040      1097       4\n",
       "0           8888         1       4\n",
       "1           8888        23       4\n",
       "2           8888       333       4\n",
       "3           8888      1234       4\n",
       "4           8888       555       4"
      ]
     },
     "execution_count": 17,
     "metadata": {},
     "output_type": "execute_result"
    }
   ],
   "source": [
    "# '8888'라는 user_id가 위 영화를 봤었다고 가정하겠습니다.\n",
    "my_mvlist = pd.DataFrame({'user_id': [8888]*5, 'movie_id': my_favorite, 'counts':[4]*5})\n",
    "\n",
    "if not ratings.isin({'user_id':[8888]})['user_id'].any():  # user_id에 '8888'이라는 데이터가 없다면\n",
    "    ratings = ratings.append(my_mvlist)                           # 위에 임의로 만든 my_mvlist 데이터를 추가해 줍니다. \n",
    "\n",
    "ratings.tail(10)       # 잘 추가되었는지 확인"
   ]
  },
  {
   "cell_type": "markdown",
   "id": "structural-paint",
   "metadata": {},
   "source": [
    "## 모델에 활용하기 위한 전처리\n",
    "\n",
    "사람이 태어나면 주민등록번호가, 학교에 가면 출석번호가 있듯이 데이터의 관리를 쉽게 하기 위해 번호를 붙여주고 싶습니다. 우리가 다루는 데이터에서는 user와 movie에 각각에 새로운 번호를 붙이고 싶습니다. 보통 이런 작업을 indexing이라고 합니다. 추천시스템, 자연어처리에서 자주 하는 작업들입니다."
   ]
  },
  {
   "cell_type": "code",
   "execution_count": 18,
   "id": "prepared-circular",
   "metadata": {},
   "outputs": [
    {
     "data": {
      "text/html": [
       "<div>\n",
       "<style scoped>\n",
       "    .dataframe tbody tr th:only-of-type {\n",
       "        vertical-align: middle;\n",
       "    }\n",
       "\n",
       "    .dataframe tbody tr th {\n",
       "        vertical-align: top;\n",
       "    }\n",
       "\n",
       "    .dataframe thead th {\n",
       "        text-align: right;\n",
       "    }\n",
       "</style>\n",
       "<table border=\"1\" class=\"dataframe\">\n",
       "  <thead>\n",
       "    <tr style=\"text-align: right;\">\n",
       "      <th></th>\n",
       "      <th>user_id</th>\n",
       "      <th>movie_id</th>\n",
       "      <th>counts</th>\n",
       "      <th>title</th>\n",
       "      <th>genre</th>\n",
       "    </tr>\n",
       "  </thead>\n",
       "  <tbody>\n",
       "    <tr>\n",
       "      <th>0</th>\n",
       "      <td>1</td>\n",
       "      <td>1193</td>\n",
       "      <td>5</td>\n",
       "      <td>One Flew Over the Cuckoo's Nest (1975)</td>\n",
       "      <td>Drama</td>\n",
       "    </tr>\n",
       "    <tr>\n",
       "      <th>1</th>\n",
       "      <td>2</td>\n",
       "      <td>1193</td>\n",
       "      <td>5</td>\n",
       "      <td>One Flew Over the Cuckoo's Nest (1975)</td>\n",
       "      <td>Drama</td>\n",
       "    </tr>\n",
       "    <tr>\n",
       "      <th>2</th>\n",
       "      <td>12</td>\n",
       "      <td>1193</td>\n",
       "      <td>4</td>\n",
       "      <td>One Flew Over the Cuckoo's Nest (1975)</td>\n",
       "      <td>Drama</td>\n",
       "    </tr>\n",
       "    <tr>\n",
       "      <th>3</th>\n",
       "      <td>15</td>\n",
       "      <td>1193</td>\n",
       "      <td>4</td>\n",
       "      <td>One Flew Over the Cuckoo's Nest (1975)</td>\n",
       "      <td>Drama</td>\n",
       "    </tr>\n",
       "    <tr>\n",
       "      <th>4</th>\n",
       "      <td>17</td>\n",
       "      <td>1193</td>\n",
       "      <td>5</td>\n",
       "      <td>One Flew Over the Cuckoo's Nest (1975)</td>\n",
       "      <td>Drama</td>\n",
       "    </tr>\n",
       "  </tbody>\n",
       "</table>\n",
       "</div>"
      ],
      "text/plain": [
       "   user_id  movie_id  counts                                   title  genre\n",
       "0        1      1193       5  One Flew Over the Cuckoo's Nest (1975)  Drama\n",
       "1        2      1193       5  One Flew Over the Cuckoo's Nest (1975)  Drama\n",
       "2       12      1193       4  One Flew Over the Cuckoo's Nest (1975)  Drama\n",
       "3       15      1193       4  One Flew Over the Cuckoo's Nest (1975)  Drama\n",
       "4       17      1193       5  One Flew Over the Cuckoo's Nest (1975)  Drama"
      ]
     },
     "execution_count": 18,
     "metadata": {},
     "output_type": "execute_result"
    }
   ],
   "source": [
    "# 제목도 함께 보기 위해 합쳐줌 \n",
    "merged = pd.merge(ratings, movies, on='movie_id')\n",
    "merged.head()"
   ]
  },
  {
   "cell_type": "markdown",
   "id": "fifteen-melbourne",
   "metadata": {},
   "source": [
    "### user_id"
   ]
  },
  {
   "cell_type": "code",
   "execution_count": 19,
   "id": "inner-making",
   "metadata": {},
   "outputs": [],
   "source": [
    "# 고유한 유저 찾아내는 코드\n",
    "user_unique = merged['user_id'].unique()\n",
    "#print(user_unique)\n",
    "# 유저 indexing 하는 코드 \n",
    "user_to_idx = {v:k for k,v in enumerate(user_unique)}"
   ]
  },
  {
   "cell_type": "code",
   "execution_count": 20,
   "id": "liquid-relay",
   "metadata": {},
   "outputs": [
    {
     "name": "stdout",
     "output_type": "stream",
     "text": [
      "5677\n"
     ]
    }
   ],
   "source": [
    "# 인덱싱이 잘 되었는지 확인\n",
    "print(user_to_idx[8888])"
   ]
  },
  {
   "cell_type": "code",
   "execution_count": 21,
   "id": "economic-emperor",
   "metadata": {},
   "outputs": [
    {
     "name": "stdout",
     "output_type": "stream",
     "text": [
      "user_id column indexing OK!!\n"
     ]
    }
   ],
   "source": [
    "# indexing을 통해 데이터 컬럼 내 값을 다시 바꾸는 코드\n",
    "\n",
    "# user_to_idx.get을 통해 user_id 컬럼의 모든 값을 인덱싱한 Series를 구해 봅시다. \n",
    "# 혹시 정상적으로 인덱싱되지 않은 row가 있다면 인덱스가 NaN이 될 테니 dropna()로 제거합니다. \n",
    "temp_user_data = merged['user_id'].map(user_to_idx.get).dropna()\n",
    "if len(temp_user_data) == len(merged):   # 모든 row가 정상적으로 인덱싱되었다면\n",
    "    print('user_id column indexing OK!!')\n",
    "    merged['user_id'] = temp_user_data   # data['user_id']을 인덱싱된 Series로 교체해 줍니다. \n",
    "else:\n",
    "    print('user_id column indexing Fail!!')"
   ]
  },
  {
   "cell_type": "markdown",
   "id": "subtle-superior",
   "metadata": {},
   "source": [
    "### movie_id"
   ]
  },
  {
   "cell_type": "code",
   "execution_count": 22,
   "id": "uniform-diabetes",
   "metadata": {},
   "outputs": [],
   "source": [
    "# 고유한 영화 찾아내는 코드\n",
    "movie_unique = merged['movie_id'].unique()\n",
    "\n",
    "# 영화 indexing 하는 코드 \n",
    "movie_to_idx = {v:k for k,v in enumerate(movie_unique)}"
   ]
  },
  {
   "cell_type": "code",
   "execution_count": 23,
   "id": "organizational-threshold",
   "metadata": {},
   "outputs": [
    {
     "name": "stdout",
     "output_type": "stream",
     "text": [
      "40\n"
     ]
    }
   ],
   "source": [
    "# 인덱싱이 잘 되었는지 확인\n",
    "print(movie_to_idx[1])"
   ]
  },
  {
   "cell_type": "code",
   "execution_count": 24,
   "id": "varying-reputation",
   "metadata": {},
   "outputs": [
    {
     "name": "stdout",
     "output_type": "stream",
     "text": [
      "movie_id column indexing OK!!\n"
     ]
    }
   ],
   "source": [
    "# indexing을 통해 데이터 컬럼 내 값을 다시 바꾸는 코드\n",
    "\n",
    "# movie_to_idx.get을 통해 user_id 컬럼의 모든 값을 인덱싱한 Series를 구해 봅시다. \n",
    "# 혹시 정상적으로 인덱싱되지 않은 row가 있다면 인덱스가 NaN이 될 테니 dropna()로 제거합니다. \n",
    "temp_movie_data = merged['movie_id'].map(movie_to_idx.get).dropna()\n",
    "if len(temp_movie_data) == len(merged):   # 모든 row가 정상적으로 인덱싱되었다면\n",
    "    print('movie_id column indexing OK!!')\n",
    "    merged['movie_id'] = temp_movie_data   # data['movie_id']을 인덱싱된 Series로 교체해 줍니다. \n",
    "else:\n",
    "    print('movie_id column indexing Fail!!')"
   ]
  },
  {
   "cell_type": "code",
   "execution_count": 25,
   "id": "accompanied-universal",
   "metadata": {},
   "outputs": [
    {
     "data": {
      "text/html": [
       "<div>\n",
       "<style scoped>\n",
       "    .dataframe tbody tr th:only-of-type {\n",
       "        vertical-align: middle;\n",
       "    }\n",
       "\n",
       "    .dataframe tbody tr th {\n",
       "        vertical-align: top;\n",
       "    }\n",
       "\n",
       "    .dataframe thead th {\n",
       "        text-align: right;\n",
       "    }\n",
       "</style>\n",
       "<table border=\"1\" class=\"dataframe\">\n",
       "  <thead>\n",
       "    <tr style=\"text-align: right;\">\n",
       "      <th></th>\n",
       "      <th>user_id</th>\n",
       "      <th>movie_id</th>\n",
       "      <th>counts</th>\n",
       "      <th>title</th>\n",
       "      <th>genre</th>\n",
       "    </tr>\n",
       "  </thead>\n",
       "  <tbody>\n",
       "    <tr>\n",
       "      <th>0</th>\n",
       "      <td>0</td>\n",
       "      <td>0</td>\n",
       "      <td>5</td>\n",
       "      <td>One Flew Over the Cuckoo's Nest (1975)</td>\n",
       "      <td>Drama</td>\n",
       "    </tr>\n",
       "    <tr>\n",
       "      <th>1</th>\n",
       "      <td>1</td>\n",
       "      <td>0</td>\n",
       "      <td>5</td>\n",
       "      <td>One Flew Over the Cuckoo's Nest (1975)</td>\n",
       "      <td>Drama</td>\n",
       "    </tr>\n",
       "    <tr>\n",
       "      <th>2</th>\n",
       "      <td>2</td>\n",
       "      <td>0</td>\n",
       "      <td>4</td>\n",
       "      <td>One Flew Over the Cuckoo's Nest (1975)</td>\n",
       "      <td>Drama</td>\n",
       "    </tr>\n",
       "    <tr>\n",
       "      <th>3</th>\n",
       "      <td>3</td>\n",
       "      <td>0</td>\n",
       "      <td>4</td>\n",
       "      <td>One Flew Over the Cuckoo's Nest (1975)</td>\n",
       "      <td>Drama</td>\n",
       "    </tr>\n",
       "    <tr>\n",
       "      <th>4</th>\n",
       "      <td>4</td>\n",
       "      <td>0</td>\n",
       "      <td>5</td>\n",
       "      <td>One Flew Over the Cuckoo's Nest (1975)</td>\n",
       "      <td>Drama</td>\n",
       "    </tr>\n",
       "  </tbody>\n",
       "</table>\n",
       "</div>"
      ],
      "text/plain": [
       "   user_id  movie_id  counts                                   title  genre\n",
       "0        0         0       5  One Flew Over the Cuckoo's Nest (1975)  Drama\n",
       "1        1         0       5  One Flew Over the Cuckoo's Nest (1975)  Drama\n",
       "2        2         0       4  One Flew Over the Cuckoo's Nest (1975)  Drama\n",
       "3        3         0       4  One Flew Over the Cuckoo's Nest (1975)  Drama\n",
       "4        4         0       5  One Flew Over the Cuckoo's Nest (1975)  Drama"
      ]
     },
     "execution_count": 25,
     "metadata": {},
     "output_type": "execute_result"
    }
   ],
   "source": [
    "merged.head()"
   ]
  },
  {
   "cell_type": "markdown",
   "id": "sharing-glory",
   "metadata": {},
   "source": [
    "# 4. CSR(Compressed Sparse Row) matrix 만들기\n",
    "\n",
    "m명의 사용자들이 n개의 영화에 대해 평가한 데이터를 포함한 (m,n) 사이즈의 평가행렬(Rating Matrix)을 만들 것입니다. 행렬 중 일부는 데이터가 채워져 있지만, 나머지 부분은 데이터가 비어 있습니다.    \n",
    "\n",
    "추천 시스템의 다양한 모델 중 Matrix Factorization(MF, 행렬분해) 모델을 사용하겠습니다.    \n",
    "(m,n) 사이즈의 행렬 R을 (m,k) 사이즈의 행렬 P와 (k,n) 사이즈의 행렬 Q로 분해한다면 R이란 그저 P와 Q의 행렬곱으로 표현 가능할 수 있다는 간단한 아이디어입니다.    \n",
    "\n",
    "유저 X 아이템 평가행렬을 생각해 보면 거대한 행렬을 메모리에 올려놓고 작업한다는 것은 불가능할 것입니다. 이런 경우의 좋은 대안이 되는 것이 CSR(Compressed Sparse Row) Matrix입니다.    \n",
    "CSR Matrix는 Sparse한 matrix에서 0이 아닌 유효한 데이터로 채워지는 데이터의 값과 좌표 정보만으로 구성하여 메모리 사용량을 최소화하면서도 Sparse한 matrix와 동일한 행렬을 표현할 수 있도록 하는 데이터 구조입니다."
   ]
  },
  {
   "cell_type": "code",
   "execution_count": 26,
   "id": "regulation-native",
   "metadata": {},
   "outputs": [
    {
     "name": "stdout",
     "output_type": "stream",
     "text": [
      "6040 3628\n"
     ]
    },
    {
     "data": {
      "text/plain": [
       "<6040x3628 sparse matrix of type '<class 'numpy.longlong'>'\n",
       "\twith 836483 stored elements in Compressed Sparse Row format>"
      ]
     },
     "execution_count": 26,
     "metadata": {},
     "output_type": "execute_result"
    }
   ],
   "source": [
    "from scipy.sparse import csr_matrix\n",
    "\n",
    "num_user = merged['user_id'].nunique()\n",
    "num_movie = merged['movie_id'].nunique()\n",
    "print(num_user, num_movie)\n",
    "csr_data = csr_matrix((merged.counts, (merged.user_id, merged.movie_id)), shape= (num_user, num_movie))\n",
    "csr_data"
   ]
  },
  {
   "cell_type": "markdown",
   "id": "reflected-olympus",
   "metadata": {},
   "source": [
    "# 5. MF 모델 학습하기\n",
    "\n",
    "Matrix Factorization 모델을 implicit 패키지를 사용하여 학습해 봅니다.    \n",
    "implicit.als 중 AlternatingLeastSquares 모델을 직접 구성하여 훈련시켜 봅니다.\n",
    "    \n",
    "Matrix Factorization에서 쪼개진 두 Feature Matrix를 한꺼번에 훈련하는 것은 잘 수렴하지 않기 때문에, 한쪽을 고정시키고 다른 쪽을 학습하는 방식을 번갈아 수행하는 AlternatingLeastSquares 방식을 사용해 봅니다. "
   ]
  },
  {
   "cell_type": "code",
   "execution_count": 27,
   "id": "third-product",
   "metadata": {},
   "outputs": [],
   "source": [
    "from implicit.als import AlternatingLeastSquares\n",
    "import os\n",
    "import numpy as np\n",
    "\n",
    "# implicit 라이브러리에서 권장하고 있는 부분\n",
    "os.environ['OPENBLAS_NUM_THREADS']='1'\n",
    "os.environ['KMP_DUPLICATE_LIB_OK']='True'\n",
    "os.environ['MKL_NUM_THREADS']='1'"
   ]
  },
  {
   "cell_type": "markdown",
   "id": "acknowledged-thesis",
   "metadata": {},
   "source": [
    "AlternatingLeastSquares 클래스의 \\__init__ 파라미터    \n",
    "1. factors : 유저와 아이템의 벡터를 몇 차원으로 할 것인지 \n",
    "2. regularization : 과적합을 방지하기 위해 정규화 값을 얼마나 사용할 것인지 \n",
    "3. use_gpu : GPU를 사용할 것인지 \n",
    "4. iterations : epochs와 같은 의미입니다. 데이터를 몇 번 반복해서 학습할 것인지     \n",
    "\n",
    "1,4를 늘릴수록 학습데이터를 잘 학습하게 되지만 과적합의 우려가 있으니 좋은 값을 찾아야 합니다."
   ]
  },
  {
   "cell_type": "code",
   "execution_count": 60,
   "id": "tender-palace",
   "metadata": {},
   "outputs": [],
   "source": [
    "# Implicit AlternatingLeastSquares 모델의 선언\n",
    "als_model = AlternatingLeastSquares(factors=500, regularization=0.01, use_gpu=False, iterations=30, dtype=np.float32)"
   ]
  },
  {
   "cell_type": "code",
   "execution_count": 29,
   "id": "transparent-delaware",
   "metadata": {},
   "outputs": [
    {
     "data": {
      "text/plain": [
       "<3628x6040 sparse matrix of type '<class 'numpy.longlong'>'\n",
       "\twith 836483 stored elements in Compressed Sparse Column format>"
      ]
     },
     "execution_count": 29,
     "metadata": {},
     "output_type": "execute_result"
    }
   ],
   "source": [
    "# als 모델은 input으로 (item X user 꼴의 matrix를 받기 때문에 Transpose해줍니다.)\n",
    "csr_data_transpose = csr_data.T\n",
    "csr_data_transpose"
   ]
  },
  {
   "cell_type": "code",
   "execution_count": 61,
   "id": "frank-thriller",
   "metadata": {},
   "outputs": [
    {
     "data": {
      "application/vnd.jupyter.widget-view+json": {
       "model_id": "fcff4c4f8774419599537d2d6283d80f",
       "version_major": 2,
       "version_minor": 0
      },
      "text/plain": [
       "  0%|          | 0/30 [00:00<?, ?it/s]"
      ]
     },
     "metadata": {},
     "output_type": "display_data"
    }
   ],
   "source": [
    "# 모델 훈련\n",
    "als_model.fit(csr_data_transpose)"
   ]
  },
  {
   "cell_type": "markdown",
   "id": "plastic-sitting",
   "metadata": {},
   "source": [
    "# 6. 선호도 파악\n",
    "\n",
    "내가 선호하는 5가지 영화 중 하나와 그 외의 영화 하나를 골라 훈련된 모델이 예측한 나의 선호도를 파악해 봅니다.\n",
    "\n",
    "1. 마지막에 추가한 user_id 8888 벡터와 선호하는 영화들(movie_id = [1, 23, 333, 1234, 555])의 벡터 확인\n",
    "2. 두 벡터를 곱하면 어떤 값이 나오는지"
   ]
  },
  {
   "cell_type": "code",
   "execution_count": 62,
   "id": "naked-capacity",
   "metadata": {},
   "outputs": [],
   "source": [
    "#  user_id 8888 벡터와 movie_id 1 의 벡터 만들기\n",
    "user8888, movie1 = user_to_idx[8888], movie_to_idx[1]\n",
    "\n",
    "user8888_vector, movie1_vector = als_model.user_factors[user8888], als_model.item_factors[movie1]"
   ]
  },
  {
   "cell_type": "code",
   "execution_count": 63,
   "id": "revolutionary-florence",
   "metadata": {},
   "outputs": [
    {
     "data": {
      "text/plain": [
       "array([-0.18062374,  0.04594705, -0.1078848 ,  0.03553069,  0.20162371,\n",
       "       -0.6712623 ,  0.09027632,  0.03514321, -0.05671945,  0.29449365,\n",
       "        0.5565499 ,  0.0883837 ,  0.3033283 , -0.20240599,  0.05097035,\n",
       "        0.09105703,  0.48971316, -0.00735348,  0.00420664,  0.01683307,\n",
       "       -0.15690911, -0.47401172,  0.15381533, -0.32618332, -0.35564545,\n",
       "        0.25383502,  0.07692101,  0.01658425,  0.15967937, -0.07926121,\n",
       "       -0.42363584, -0.00361172, -0.34157512, -0.3026924 ,  0.20664753,\n",
       "        0.19888069, -0.20299642,  0.01794601,  0.2289282 ,  0.28167862,\n",
       "        0.13977517, -0.12362383,  0.09195082, -0.3996829 , -0.82339084,\n",
       "       -0.18338159,  0.4148206 , -0.00930166, -0.00791324, -0.14393446,\n",
       "        0.14162096, -0.29494265,  0.47155565, -0.05339973,  0.41652504,\n",
       "       -0.11432562, -0.5762772 , -0.07915893, -0.28202555,  0.22973768,\n",
       "        0.28233635,  0.10928643, -0.24443032,  0.00811201, -0.33269155,\n",
       "        0.01550758, -0.0664948 , -0.50057966,  0.0802799 ,  0.3385264 ,\n",
       "        0.14596218,  0.16502467,  0.07935064, -0.38437858,  0.14136194,\n",
       "        0.03757222, -0.34411442,  0.18709226,  0.3619423 , -0.38301948,\n",
       "        0.26441574,  0.3041739 ,  0.20976451, -0.37528998,  0.18225758,\n",
       "       -0.20386589,  0.4616287 , -0.10639189,  0.25591967,  0.24012488,\n",
       "        0.0588467 ,  0.16710116,  0.01022904, -0.00976379,  0.26748335,\n",
       "        0.21232118,  0.18847317,  0.24751711,  0.00265653, -0.46025947,\n",
       "        0.51954514,  0.17042065, -0.23422739, -0.38462842, -0.02309273,\n",
       "        0.38215157,  0.46834755, -0.11940456, -0.1731142 ,  0.20356852,\n",
       "       -0.13155317, -0.2318474 ,  0.48403496, -0.16498831, -0.03323125,\n",
       "        0.17513046,  0.253286  ,  0.01108305, -0.01554026, -0.4289143 ,\n",
       "        0.19821398,  0.14511454,  0.06985484,  0.395512  , -0.38097215,\n",
       "        0.4403002 , -0.668209  ,  0.22351085, -0.10471123, -0.28939828,\n",
       "       -0.31292164, -0.21990377,  0.1714818 ,  0.17059155,  0.15877265,\n",
       "        0.02224409, -0.02145804,  0.60596937,  0.0995988 ,  0.00393528,\n",
       "       -0.01120841,  0.3985394 ,  0.01932152, -0.09804677,  0.04414347,\n",
       "       -0.03032488,  0.53076375,  0.25701377, -0.26879466, -0.20691888,\n",
       "       -0.22973257,  0.20853637,  0.48904222,  0.35814312, -0.04729818,\n",
       "       -0.42839473, -0.08292081,  0.05024455, -0.20137191,  0.06788579,\n",
       "        0.04071316, -0.07688391,  0.45073986,  0.12030072, -0.02292168,\n",
       "       -0.06326468,  0.0896574 ,  0.03263121, -0.10033195, -0.04502606,\n",
       "       -0.48923415,  0.16058363,  0.04478518, -0.03093636, -0.24695268,\n",
       "        0.28141096, -0.14271218,  0.05435576,  0.16065495,  0.19424187,\n",
       "       -0.08603325,  0.09295601,  0.45418516, -0.50923246, -0.5246026 ,\n",
       "       -0.16558458,  0.04019752, -0.18244962,  0.03602846,  0.13914311,\n",
       "        0.2667813 , -0.024966  , -0.08915366, -0.18829024,  0.5128494 ,\n",
       "       -0.19178142,  0.16642661, -0.11809108, -0.13939036, -0.40968716,\n",
       "       -0.39151645, -0.16974643, -0.17745131, -0.1028409 ,  0.01640643,\n",
       "       -0.5967896 , -0.07154559,  0.15961659,  0.31437126, -0.0837341 ,\n",
       "       -0.14952593, -0.11707622, -0.18280561,  0.16001812,  0.12379748,\n",
       "        0.3556274 ,  0.11425001,  0.11660497,  0.01261009, -0.00395547,\n",
       "       -0.31139717, -0.26669806,  0.07893737,  0.16073279, -0.03889618,\n",
       "        0.18241954,  0.03946038,  0.17356135,  0.2745001 , -0.21786478,\n",
       "        0.46710804, -0.03335435, -0.17785057, -0.21598361, -0.31456724,\n",
       "       -0.13992698,  0.24032527,  0.39753526,  0.09515192,  0.10527188,\n",
       "        0.44095215,  0.22914019,  0.15051757,  0.5672564 , -0.2563745 ,\n",
       "       -0.1953752 , -0.26093403, -0.32988763,  0.22697747,  0.20020194,\n",
       "        0.1605379 , -0.24909262,  0.25179777, -0.3673777 ,  0.1378637 ,\n",
       "        0.24673261,  0.10928024, -0.17190577, -0.02817157, -0.02073099,\n",
       "        0.0514334 , -0.02579443, -0.23737311,  0.13823211,  0.15537731,\n",
       "        0.28722307, -0.04784062, -0.23798795, -0.0844178 , -0.0101404 ,\n",
       "        0.03896848, -0.18332434, -0.07567295, -0.4231306 , -0.06550501,\n",
       "       -0.1620533 , -0.14712478,  0.27551165, -0.20346147,  0.0382861 ,\n",
       "       -0.1597017 , -0.16137676,  0.5447191 ,  0.20526959, -0.1970133 ,\n",
       "        0.07489176, -0.43109885, -0.03358544, -0.12503019,  0.020569  ,\n",
       "        0.18131103,  0.00978075, -0.36827877,  0.04841802,  0.06384005,\n",
       "        0.2228456 , -0.06709576,  0.31020537,  0.4483396 ,  0.35335988,\n",
       "        0.10417394, -0.23751025,  0.04717408,  0.17997253, -0.0241232 ,\n",
       "       -0.44713023,  0.14040215, -0.30302113,  0.02692701,  0.5604497 ,\n",
       "       -0.07081202, -0.26084912, -0.19322857,  0.5696584 , -0.4121387 ,\n",
       "        0.16478202, -0.29110524, -0.5022459 , -0.36522645, -0.18458265,\n",
       "       -0.03879682,  0.0259091 ,  0.42075488, -0.29942837, -0.03392402,\n",
       "       -0.15659264, -0.3441237 ,  0.27723977,  0.19107682, -0.22633675,\n",
       "        0.10031923, -0.24256913,  0.4718144 , -0.02985322,  0.13458952,\n",
       "       -0.14019448, -0.20162511,  0.30462918,  0.07121386,  0.10238763,\n",
       "        0.13861851, -0.10215363,  0.11374382, -0.27405575,  0.15064758,\n",
       "        0.10653048,  0.11963534, -0.39722663, -0.24094583,  0.19865946,\n",
       "        0.06537693,  0.25687942,  0.3493191 ,  0.03693379, -0.25642264,\n",
       "        0.30786902,  0.22774123,  0.10676558,  0.0635042 , -0.2565687 ,\n",
       "        0.07752899,  0.0589122 ,  0.19208677, -0.16034119, -0.15222107,\n",
       "        0.47160217, -0.00461382, -0.44482675,  0.34188318,  0.20929381,\n",
       "       -0.10910814, -0.16749716, -0.27834514, -0.05459644, -0.0678236 ,\n",
       "        0.1139823 , -0.0327164 , -0.10337675,  0.12276012, -0.37865987,\n",
       "        0.15886393,  0.45238236, -0.5361143 , -0.13405208,  0.324095  ,\n",
       "       -0.15552191,  0.1185868 , -0.01587689, -0.06337649, -0.05178927,\n",
       "       -0.16233668, -0.23842463, -0.15322557, -0.08954975, -0.25479394,\n",
       "       -0.28277305, -0.11980962,  0.01084748, -0.20506012, -0.2027235 ,\n",
       "        0.00388949,  0.24757877, -0.46484065, -0.46009406, -0.00616344,\n",
       "       -0.05195622,  0.03680415, -0.01999122, -0.25032678, -0.01210283,\n",
       "        0.05159806,  0.27048045, -0.2981501 , -0.03007245, -0.3620701 ,\n",
       "        0.03781106, -0.06927891, -0.19310719, -0.20452793,  0.05783908,\n",
       "        0.04107942, -0.16540964,  0.05944841, -0.04712591, -0.04728097,\n",
       "        0.14654273, -0.16409804,  0.11681649,  0.36740717,  0.41656935,\n",
       "        0.25448006,  0.15856208, -0.07733316, -0.29107207, -0.12642024,\n",
       "        0.28758758, -0.18730658,  0.41188255, -0.11306383, -0.02210218,\n",
       "       -0.0599016 ,  0.05988101,  0.23118618, -0.17504378, -0.42333603,\n",
       "        0.30071387,  0.15547739, -0.3064219 , -0.02170852,  0.4120147 ,\n",
       "       -0.03824075, -0.04908587, -0.02466075,  0.09687354, -0.19274624,\n",
       "        0.56966907,  0.36931682, -0.13627355,  0.17469844,  0.05971519,\n",
       "        0.10150444,  0.23235384, -0.44028112,  0.14826246,  0.36117288,\n",
       "        0.18548329, -0.20625356,  0.14062083,  0.30053827,  0.10817323,\n",
       "        0.08530508, -0.3761472 , -0.07290094, -0.17310464, -0.02030313,\n",
       "       -0.36309856, -0.01738463, -0.05175492, -0.01512635,  0.34469262,\n",
       "        0.6230597 , -0.13861583, -0.22324082, -0.09496801,  0.11133877,\n",
       "        0.25545886, -0.35181195,  0.18634515,  0.31141922,  0.2515811 ,\n",
       "       -0.11737851,  0.18594584,  0.16969208, -0.3681008 , -0.3714481 ,\n",
       "       -0.01720474, -0.10360502,  0.03722065, -0.06660207, -0.0761236 ],\n",
       "      dtype=float32)"
      ]
     },
     "execution_count": 63,
     "metadata": {},
     "output_type": "execute_result"
    }
   ],
   "source": [
    "# user_id 8888 벡터 확인 \n",
    "user8888_vector"
   ]
  },
  {
   "cell_type": "code",
   "execution_count": 64,
   "id": "sorted-amount",
   "metadata": {},
   "outputs": [
    {
     "data": {
      "text/plain": [
       "array([-0.02751896, -0.00865638,  0.01535108,  0.00321305,  0.00950127,\n",
       "       -0.00351146,  0.02642276, -0.01986851,  0.00091059,  0.0083306 ,\n",
       "       -0.01474267,  0.01239264,  0.00626999,  0.00398124,  0.01525717,\n",
       "        0.0164193 ,  0.00281313,  0.012031  , -0.00170422, -0.00479028,\n",
       "        0.00645947, -0.01566906,  0.02002968, -0.00128882, -0.00370597,\n",
       "        0.00274341, -0.00072956,  0.02362448, -0.01647915, -0.00073943,\n",
       "        0.01202317,  0.00154696,  0.00638618,  0.03143961,  0.03134539,\n",
       "        0.00883585,  0.00395351, -0.01026191,  0.00616134,  0.02371066,\n",
       "        0.02670354, -0.0013579 ,  0.01743193, -0.02798623, -0.03660402,\n",
       "        0.00732849,  0.0182813 ,  0.01504335,  0.02064517, -0.01791587,\n",
       "        0.04026437,  0.004452  ,  0.02791325,  0.03589497,  0.01351396,\n",
       "       -0.01037181, -0.01181616,  0.01427894, -0.0125737 ,  0.02546543,\n",
       "        0.0188724 ,  0.02834044,  0.00990773, -0.01664959, -0.01176671,\n",
       "        0.00655285,  0.00595887, -0.00069968,  0.00865488,  0.01482353,\n",
       "        0.00011603,  0.02791162, -0.01167249, -0.01435148, -0.00550165,\n",
       "        0.00748695,  0.00402623, -0.01109411,  0.01718419,  0.00572542,\n",
       "        0.00416554,  0.01031091,  0.01063985, -0.01157407,  0.01636951,\n",
       "        0.00262572,  0.02559042,  0.00374546,  0.0118426 , -0.00448654,\n",
       "        0.01772214,  0.00043249, -0.01982345,  0.00965069,  0.02220882,\n",
       "        0.01133745,  0.01623566,  0.00964434, -0.01986657, -0.02452749,\n",
       "        0.03836242,  0.01281979, -0.02792343,  0.00682097,  0.00191279,\n",
       "        0.02135842,  0.0094683 ,  0.03081354,  0.01430028, -0.01617941,\n",
       "       -0.0081578 ,  0.03712287,  0.00704706, -0.00178136,  0.02202025,\n",
       "       -0.00845123,  0.02514022, -0.00209039, -0.00328365, -0.01849237,\n",
       "        0.01760197,  0.01461228,  0.01402246,  0.02386303,  0.00319992,\n",
       "        0.03799292, -0.02124092,  0.01757883,  0.01580441, -0.00283037,\n",
       "       -0.00717079, -0.00642498, -0.00276068,  0.01494905,  0.01797405,\n",
       "        0.0015073 , -0.00742286,  0.04067069,  0.00480826,  0.01281361,\n",
       "       -0.00639208,  0.01578148,  0.00088689, -0.00240201,  0.01991769,\n",
       "       -0.01532658,  0.02605662, -0.01257848, -0.0369707 , -0.0082123 ,\n",
       "       -0.01552664,  0.0099423 ,  0.01187352,  0.01044379,  0.00321042,\n",
       "       -0.01712756, -0.01363417,  0.02547353, -0.01078196,  0.02052957,\n",
       "        0.0385764 ,  0.02127862,  0.01933751, -0.01714968, -0.01432946,\n",
       "        0.0119535 ,  0.02027094,  0.03334584,  0.01792587, -0.00568801,\n",
       "       -0.00872079,  0.00185158, -0.02313432, -0.01737903, -0.0070425 ,\n",
       "        0.00544052,  0.02323585,  0.02731886,  0.01517381,  0.00933885,\n",
       "        0.01047669,  0.00977693,  0.02485212, -0.00586263, -0.00775143,\n",
       "        0.00556973,  0.00702871,  0.01405939, -0.00900721,  0.01102158,\n",
       "        0.00905551,  0.00211162, -0.02393244, -0.00835144,  0.02467351,\n",
       "       -0.01191114,  0.01666617, -0.00220111,  0.02339318,  0.00548236,\n",
       "       -0.01682151,  0.02246624, -0.02407538,  0.01422673,  0.00299336,\n",
       "        0.01528678, -0.02174454, -0.00014925,  0.02425541, -0.00062206,\n",
       "        0.00903033,  0.00692871,  0.00432067, -0.03350149,  0.02025152,\n",
       "        0.02110366,  0.02330531, -0.00451129,  0.00108711,  0.02116643,\n",
       "        0.01747092, -0.01292451, -0.00775764,  0.02385103, -0.01345613,\n",
       "        0.00064745,  0.01327134,  0.01667585,  0.00236591, -0.03119953,\n",
       "        0.02306384, -0.01116223, -0.03236761, -0.01342449, -0.0011014 ,\n",
       "       -0.01047564,  0.00760468,  0.02914259, -0.01096557,  0.01291835,\n",
       "        0.02632983,  0.03659918, -0.01410427,  0.01066139, -0.00175443,\n",
       "       -0.02115143, -0.00568152,  0.00611859, -0.01445063, -0.00210045,\n",
       "        0.01013539,  0.00218291,  0.02551253, -0.01455457, -0.00322789,\n",
       "        0.01930873,  0.01301627, -0.00525807, -0.0041768 , -0.00988493,\n",
       "        0.00164977, -0.02434226,  0.00393711,  0.02463973,  0.01152274,\n",
       "        0.02408046, -0.0113321 , -0.00779487,  0.00347792,  0.01335552,\n",
       "        0.02578622, -0.02020307,  0.00552228, -0.0014027 ,  0.00152142,\n",
       "        0.01788178,  0.01369762,  0.0120105 ,  0.01331765,  0.02472961,\n",
       "       -0.00305181, -0.0107365 ,  0.02338839,  0.00209208,  0.02427071,\n",
       "       -0.0163554 ,  0.00792508,  0.01139838, -0.01018547, -0.00461848,\n",
       "        0.02086998, -0.01581969, -0.02668093,  0.01887553,  0.0210774 ,\n",
       "       -0.01532878, -0.0065409 ,  0.02619542,  0.01549537,  0.033397  ,\n",
       "        0.02008437,  0.00429417,  0.00583978,  0.00514143,  0.01950817,\n",
       "       -0.01077987,  0.01242653,  0.01902517,  0.0149487 ,  0.02536778,\n",
       "        0.02886695,  0.0127229 , -0.00172582,  0.03164965, -0.03381469,\n",
       "       -0.00771437,  0.00516668, -0.02336951,  0.00421985,  0.01373733,\n",
       "       -0.03406602,  0.00294604,  0.02169133,  0.01595167,  0.02899032,\n",
       "       -0.00778688,  0.00159585,  0.03113774,  0.00341383, -0.00805686,\n",
       "        0.01172771,  0.00856224,  0.01712108,  0.00441839,  0.01025647,\n",
       "        0.01536489, -0.00874479,  0.00168437,  0.02231086,  0.02797382,\n",
       "        0.00709056, -0.00028332, -0.00247228, -0.02542439, -0.0129671 ,\n",
       "        0.02345687,  0.01925152, -0.01793238, -0.01403733,  0.01017807,\n",
       "        0.00764476,  0.01337166,  0.01780248,  0.01283735, -0.01620962,\n",
       "        0.01515391,  0.00680726,  0.01730854,  0.00945692, -0.00944703,\n",
       "       -0.00831414, -0.01072787,  0.01574736,  0.00143558,  0.01919666,\n",
       "        0.0038211 ,  0.01252278, -0.01654723,  0.01363687,  0.01122363,\n",
       "       -0.01009073,  0.00765378,  0.00060784,  0.0140018 ,  0.00560374,\n",
       "        0.00437382, -0.00898278, -0.02595913,  0.00957062, -0.02863168,\n",
       "        0.00135244,  0.04314098, -0.00023784,  0.00493674,  0.03410622,\n",
       "       -0.01846162,  0.0317729 ,  0.00693412,  0.0079848 ,  0.00276505,\n",
       "        0.02596345, -0.00279861,  0.0120474 , -0.01177155,  0.00426074,\n",
       "        0.00188337, -0.00482446,  0.01694306, -0.02724488, -0.00334708,\n",
       "       -0.00386951,  0.00539843, -0.01116505, -0.01032193, -0.0247076 ,\n",
       "       -0.01392405,  0.0228837 , -0.00108414,  0.00615749,  0.0262792 ,\n",
       "        0.02010718,  0.02102542, -0.02181973, -0.00928921, -0.00706903,\n",
       "        0.02070227,  0.00155131,  0.01590631, -0.00337997,  0.02221918,\n",
       "        0.00306519,  0.02347838,  0.01140627, -0.00696695,  0.00783292,\n",
       "        0.01858381,  0.00070048,  0.00805551,  0.03094953,  0.0174396 ,\n",
       "       -0.02464732,  0.00933832,  0.02439629,  0.00384882, -0.00475746,\n",
       "        0.02967948, -0.0064037 , -0.00984628, -0.01176913,  0.00201882,\n",
       "        0.01354914,  0.01995406,  0.0156798 , -0.00188278, -0.01039822,\n",
       "        0.00508953,  0.0237716 , -0.00438936,  0.01308041,  0.01179533,\n",
       "       -0.01108831, -0.01725872,  0.02068476,  0.01457834, -0.02699929,\n",
       "       -0.00297485,  0.01814796, -0.00598809,  0.01991693,  0.00208124,\n",
       "       -0.01185159,  0.02368077, -0.00657012, -0.0163044 , -0.01788016,\n",
       "        0.01280655,  0.01947482, -0.00645455,  0.00151637,  0.00268213,\n",
       "        0.006854  ,  0.02251565, -0.00776482,  0.01802745,  0.00634102,\n",
       "       -0.01280224,  0.02066738,  0.01675109,  0.02928625,  0.03867041,\n",
       "        0.04258318, -0.01762846, -0.0020289 ,  0.00519018, -0.00506483,\n",
       "       -0.00657991,  0.00497765,  0.00917141,  0.02235197, -0.00155916,\n",
       "       -0.0177971 ,  0.00234725,  0.00724171,  0.01446687,  0.00090791,\n",
       "        0.01252302,  0.00034411, -0.01574348,  0.0020232 ,  0.02528571],\n",
       "      dtype=float32)"
      ]
     },
     "execution_count": 64,
     "metadata": {},
     "output_type": "execute_result"
    }
   ],
   "source": [
    "# movie_id 1 벡터 확인 \n",
    "movie1_vector"
   ]
  },
  {
   "cell_type": "code",
   "execution_count": 53,
   "id": "incomplete-reverse",
   "metadata": {},
   "outputs": [
    {
     "data": {
      "text/plain": [
       "0.4327062"
      ]
     },
     "execution_count": 53,
     "metadata": {},
     "output_type": "execute_result"
    }
   ],
   "source": [
    "## als_model = AlternatingLeastSquares(factors=100, iterations=15)\n",
    "# user8888과 movie1을 내적하는 코드 : 선호도 확인\n",
    "np.dot(user8888_vector, movie1_vector)"
   ]
  },
  {
   "cell_type": "code",
   "execution_count": 59,
   "id": "unavailable-switzerland",
   "metadata": {},
   "outputs": [
    {
     "data": {
      "text/plain": [
       "0.65619546"
      ]
     },
     "execution_count": 59,
     "metadata": {},
     "output_type": "execute_result"
    }
   ],
   "source": [
    "## als_model = AlternatingLeastSquares(factors=200, iterations=20)\n",
    "# user8888과 movie1을 내적하는 코드 : 선호도 확인\n",
    "np.dot(user8888_vector, movie1_vector)"
   ]
  },
  {
   "cell_type": "code",
   "execution_count": 65,
   "id": "intensive-trout",
   "metadata": {},
   "outputs": [
    {
     "data": {
      "text/plain": [
       "0.88789874"
      ]
     },
     "execution_count": 65,
     "metadata": {},
     "output_type": "execute_result"
    }
   ],
   "source": [
    "## als_model = AlternatingLeastSquares(factors=500, iterations=30)\n",
    "# user8888과 movie1을 내적하는 코드 : 선호도 확인\n",
    "np.dot(user8888_vector, movie1_vector)"
   ]
  },
  {
   "cell_type": "markdown",
   "id": "aggregate-order",
   "metadata": {},
   "source": [
    "- factors, iterations 을 키워주니 학습이 더 잘 됨을 확인할 수 있습니다.      \n",
    "\n",
    "가장 학습이 잘된 (factors=500, iterations=30)의 als_model 모델을 사용하도록 하겠습니다. "
   ]
  },
  {
   "cell_type": "code",
   "execution_count": 38,
   "id": "thick-puppy",
   "metadata": {},
   "outputs": [],
   "source": [
    "#  movie_id = [23, 333, 1234, 555] 에 대한 벡터 만들기\n",
    "movie23_vector =  als_model.item_factors[movie_to_idx[23]]\n",
    "movie333_vector = als_model.item_factors[movie_to_idx[333]]\n",
    "movie1234_vector = als_model.item_factors[movie_to_idx[1234]]\n",
    "movie555_vector = als_model.item_factors[movie_to_idx[55]]"
   ]
  },
  {
   "cell_type": "code",
   "execution_count": 39,
   "id": "bizarre-scale",
   "metadata": {},
   "outputs": [
    {
     "name": "stdout",
     "output_type": "stream",
     "text": [
      "0.8896343\n",
      "0.24033943\n",
      "0.505095\n",
      "0.78696364\n",
      "0.03172739\n"
     ]
    }
   ],
   "source": [
    "print(np.dot(user8888_vector, movie1_vector))\n",
    "print(np.dot(user8888_vector, movie23_vector))\n",
    "print(np.dot(user8888_vector, movie333_vector))\n",
    "print(np.dot(user8888_vector, movie1234_vector))\n",
    "print(np.dot(user8888_vector, movie555_vector))"
   ]
  },
  {
   "cell_type": "markdown",
   "id": "three-tyler",
   "metadata": {},
   "source": [
    "# 7. 비슷한 영화 추천\n",
    "\n",
    "내가 좋아하는 영화와 비슷한 영화를 추천받아 봅시다.   \n",
    "AlternatingLeastSquares 클래스에 구현되어 있는 similar_items 메서드를 통하여 비슷한 영화를 찾습니다."
   ]
  },
  {
   "cell_type": "code",
   "execution_count": 40,
   "id": "light-consumer",
   "metadata": {},
   "outputs": [
    {
     "data": {
      "text/plain": [
       "[(40, 0.99999976),\n",
       " (2938, 0.29779732),\n",
       " (3266, 0.28593314),\n",
       " (3589, 0.2827054),\n",
       " (3260, 0.28150687),\n",
       " (2364, 0.28147665),\n",
       " (2608, 0.28098834),\n",
       " (2598, 0.28040516),\n",
       " (2144, 0.27949184),\n",
       " (2791, 0.27948555),\n",
       " (3475, 0.27924046),\n",
       " (3396, 0.27881777),\n",
       " (3299, 0.27865252),\n",
       " (3624, 0.27859455),\n",
       " (3617, 0.27842468)]"
      ]
     },
     "execution_count": 40,
     "metadata": {},
     "output_type": "execute_result"
    }
   ],
   "source": [
    "# 처음으로는 movie1 : Toy Story (1995) 로 찾아보겠습니다.\n",
    "favorite_movie = 1\n",
    "movie_id = movie_to_idx[favorite_movie]\n",
    "similar_movie = als_model.similar_items(movie_id, N=15)\n",
    "similar_movie"
   ]
  },
  {
   "cell_type": "markdown",
   "id": "asian-community",
   "metadata": {},
   "source": [
    "- (아티스트의 id, 유사도) Tuple 로 반환하고 있습니다."
   ]
  },
  {
   "cell_type": "code",
   "execution_count": 41,
   "id": "supposed-bangkok",
   "metadata": {},
   "outputs": [
    {
     "data": {
      "text/plain": [
       "[('Toy Story (1995)', \"Animation|Children's|Comedy\"),\n",
       " ('Nobody Loves Me (Keiner liebt mich) (1994)', 'Comedy|Drama'),\n",
       " ('Amityville: Dollhouse (1996)', 'Horror'),\n",
       " ('Soft Toilet Seats (1999)', 'Comedy'),\n",
       " ('Price of Glory (2000)', 'Drama'),\n",
       " ('Getting Even with Dad (1994)', 'Comedy'),\n",
       " ('Wisdom of Crocodiles, The (a.k.a. Immortality) (2000)', 'Romance|Thriller'),\n",
       " ('Babyfever (1994)', 'Comedy|Drama'),\n",
       " ('Amityville Curse, The (1990)', 'Horror'),\n",
       " ('Blood Beach (1981)', 'Action|Horror'),\n",
       " ('Walk in the Sun, A (1945)', 'Drama'),\n",
       " ('Black Tar Heroin: The Dark End of the Street (1999)', 'Documentary'),\n",
       " ('Institute Benjamenta, or This Dream People Call Human Life (1995)',\n",
       "  'Drama'),\n",
       " ('Slaughterhouse (1987)', 'Horror'),\n",
       " ('Slappy and the Stinkers (1998)', \"Children's|Comedy\")]"
      ]
     },
     "execution_count": 41,
     "metadata": {},
     "output_type": "execute_result"
    }
   ],
   "source": [
    "# 비슷한 영화 제목, 장르 출력 \n",
    "[(merged[merged['movie_id']==i[0]]['title'].unique()[0], merged[merged['movie_id']==i[0]]['genre'].unique()[0]) for i in similar_movie]"
   ]
  },
  {
   "cell_type": "markdown",
   "id": "harmful-remark",
   "metadata": {},
   "source": [
    "- 장르를 확인해보니 대부분 Toy Story (1995)의 장르인 comedy를 추천해 주고 있지만 아닌 영화도 많은 것 같다. "
   ]
  },
  {
   "cell_type": "markdown",
   "id": "boring-hands",
   "metadata": {},
   "source": [
    "# 8. 유저 맞춤 영화 추천 \n",
    "\n",
    "내가(user_id : 8888) 가장 좋아할 만한 영화들을 추천받아 봅니다.    \n",
    "AlternatingLeastSquares 클래스에 구현되어 있는 recommend 메서드를 통하여 제가 좋아할 만한 영화를 추천받습니다.   \n",
    "filter_already_liked_items 는 유저가 이미 평가한 아이템은 제외하는 Argument입니다."
   ]
  },
  {
   "cell_type": "code",
   "execution_count": 42,
   "id": "decreased-terrain",
   "metadata": {},
   "outputs": [
    {
     "data": {
      "text/plain": [
       "[(165, 0.19573247),\n",
       " (183, 0.15510938),\n",
       " (1353, 0.15058972),\n",
       " (127, 0.13944055),\n",
       " (1630, 0.1301288),\n",
       " (136, 0.12445325),\n",
       " (665, 0.122919045),\n",
       " (303, 0.12160915),\n",
       " (1258, 0.11953376),\n",
       " (104, 0.118996166),\n",
       " (190, 0.11893334),\n",
       " (729, 0.11511405),\n",
       " (18, 0.11499144),\n",
       " (1471, 0.11288802),\n",
       " (1051, 0.11245246),\n",
       " (503, 0.11115183),\n",
       " (1034, 0.1097365),\n",
       " (511, 0.108548164),\n",
       " (739, 0.107155815),\n",
       " (708, 0.10501094)]"
      ]
     },
     "execution_count": 42,
     "metadata": {},
     "output_type": "execute_result"
    }
   ],
   "source": [
    "user = user_to_idx[8888]\n",
    "# recommend에서는 user*item CSR Matrix를 받습니다.\n",
    "movie_recommended = als_model.recommend(user, csr_data, N=20, filter_already_liked_items=True)\n",
    "movie_recommended"
   ]
  },
  {
   "cell_type": "code",
   "execution_count": 46,
   "id": "advance-yorkshire",
   "metadata": {},
   "outputs": [
    {
     "data": {
      "text/plain": [
       "[('Happy Gilmore (1996)', 'Comedy'),\n",
       " ('Butch Cassidy and the Sundance Kid (1969)', 'Action|Comedy|Western'),\n",
       " ('Network (1976)', 'Comedy|Drama'),\n",
       " ('Serpico (1973)', 'Crime|Drama'),\n",
       " ('Last Man Standing (1996)', 'Action|Drama|Western'),\n",
       " ('Desperado (1995)', 'Action|Romance|Thriller'),\n",
       " ('From Russia with Love (1963)', 'Action'),\n",
       " ('Dick (1999)', 'Comedy'),\n",
       " ('Flatliners (1990)', 'Thriller'),\n",
       " ('Like Water for Chocolate (Como agua para chocolate) (1992)',\n",
       "  'Drama|Romance'),\n",
       " ('Monty Python and the Holy Grail (1974)', 'Comedy'),\n",
       " ('Dumb & Dumber (1994)', 'Comedy'),\n",
       " ('Awakenings (1990)', 'Drama'),\n",
       " ('Cinema Paradiso (1988)', 'Comedy|Drama|Romance'),\n",
       " ('Mallrats (1995)', 'Comedy'),\n",
       " ('Duck Soup (1933)', 'Comedy|War'),\n",
       " ('From Dusk Till Dawn (1996)', 'Action|Comedy|Crime|Horror|Thriller'),\n",
       " ('Blast from the Past (1999)', 'Comedy|Romance'),\n",
       " ('Waterboy, The (1998)', 'Comedy'),\n",
       " ('Jerk, The (1979)', 'Comedy')]"
      ]
     },
     "execution_count": 46,
     "metadata": {},
     "output_type": "execute_result"
    }
   ],
   "source": [
    "[(merged[merged['movie_id']==i[0]]['title'].unique()[0], merged[merged['movie_id']==i[0]]['genre'].unique()[0]) for i in movie_recommended]"
   ]
  },
  {
   "cell_type": "code",
   "execution_count": 67,
   "id": "supposed-talent",
   "metadata": {},
   "outputs": [
    {
     "name": "stdout",
     "output_type": "stream",
     "text": [
      "[('James and the Giant Peach (1996)', \"Animation|Children's|Musical\"), (\"Schindler's List (1993)\", 'Drama|War'), ('Jeremiah Johnson (1972)', 'Western'), ('Dave (1993)', 'Comedy|Romance'), ('Heart and Souls (1993)', 'Comedy|Fantasy')]\n"
     ]
    }
   ],
   "source": [
    "# 내가 좋아하는 영화와 장르 확인 \n",
    "print([(merged[merged['movie_id']==i]['title'].unique()[0], merged[merged['movie_id']==i]['genre'].unique()[0]) for i in my_favorite])"
   ]
  },
  {
   "cell_type": "markdown",
   "id": "humanitarian-courtesy",
   "metadata": {},
   "source": [
    "## 기여도 확인\n",
    "\n",
    "als_model.explain()은 추천한 콘텐츠의 점수에 기여한 다른 콘텐츠와 기여도(합이 콘텐츠의 점수)를 반환합니다. 어떤 영화들이 이 추천에 얼마나 기여하고 있는 지 확인해 봅니다. "
   ]
  },
  {
   "cell_type": "code",
   "execution_count": 44,
   "id": "sixth-congress",
   "metadata": {},
   "outputs": [],
   "source": [
    "# 처음으로 나온 Happy Gilmore (1996) 확인\n",
    "recommand_mv = merged[merged['title']=='Happy Gilmore (1996)']['movie_id'].unique()[0]\n",
    "explain = als_model.explain(user, csr_data, itemid=recommand_mv)"
   ]
  },
  {
   "cell_type": "code",
   "execution_count": 68,
   "id": "established-trinity",
   "metadata": {},
   "outputs": [
    {
     "data": {
      "text/plain": [
       "[('Tommy Boy (1995)', 'Comedy', 0.11386267126224645),\n",
       " ('Sting, The (1973)', 'Comedy|Crime', 0.03167182437279031),\n",
       " ('True Romance (1993)', 'Action|Crime|Romance', 0.028569007277977312),\n",
       " ('Assassins (1995)', 'Thriller', 0.020850113501616474),\n",
       " ('Toy Story (1995)', \"Animation|Children's|Comedy\", -0.0005416760877645691)]"
      ]
     },
     "execution_count": 68,
     "metadata": {},
     "output_type": "execute_result"
    }
   ],
   "source": [
    "[(merged[merged['movie_id']==i[0]]['title'].unique()[0], merged[merged['movie_id']==i[0]]['genre'].unique()[0], i[1]) for i in explain[1]]"
   ]
  },
  {
   "cell_type": "markdown",
   "id": "maritime-steering",
   "metadata": {},
   "source": [
    "- ['Happy Gilmore (1996)', 'Comedy'] 는      \n",
    "    ['Tommy Boy (1995)', 'Comedy'] 와 ['Sting, The (1973)', 'Comedy|Crime']의 영향을 많이 받아 comedy 장르의 영화를 추천 받은것 같다. "
   ]
  },
  {
   "cell_type": "markdown",
   "id": "passing-basketball",
   "metadata": {},
   "source": [
    "# 회고 \n",
    "\n",
    "1. CSR matrix가 정상적으로 만들어졌다.     \n",
    "    사용자와 아이템 개수를 바탕으로 정확한 사이즈로 만들었다.   \n",
    "    \n",
    "2. MF 모델이 정상적으로 훈련되어 그럴듯한 추천이 이루어졌다.     \n",
    "    사용자와 아이템 벡터 내적수치가 의미있게 형성된 것 같다.      \n",
    "    하지만 내적 수치의 정확한 의미를 더 공부할 것이다.      \n",
    "    \n",
    "3. 비슷한 영화 찾기와 유저에게 추천하기의 과정이 정상적으로 진행되었다.     \n",
    "    MF모델이 예측한 유저 선호도 및 아이템간 유사도, 기여도가 의미있게 측정되었다.     \n",
    "    하지만 데이터에 어떤 영화가 포함되어 있는지 잘 파악하지 못하여 임의의 영화로 추천 시스템을 만들어 보아 영화에 대한 정보는 정확하게 파악하기가 어려웠다. "
   ]
  }
 ],
 "metadata": {
  "kernelspec": {
   "display_name": "Python 3",
   "language": "python",
   "name": "python3"
  },
  "language_info": {
   "codemirror_mode": {
    "name": "ipython",
    "version": 3
   },
   "file_extension": ".py",
   "mimetype": "text/x-python",
   "name": "python",
   "nbconvert_exporter": "python",
   "pygments_lexer": "ipython3",
   "version": "3.7.9"
  }
 },
 "nbformat": 4,
 "nbformat_minor": 5
}
