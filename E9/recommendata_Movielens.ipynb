{
 "cells": [
  {
   "cell_type": "markdown",
   "id": "exciting-proxy",
   "metadata": {},
   "source": [
    "프로젝트 - Movielens 영화 추천 실습\n",
    "=======\n",
    "\n",
    "Matrix Factorization(MF) 모델 학습 방법을 토대로, 내가 좋아할 만한 영화 추천 시스템을 제작해 보기\n",
    "\n",
    "-21.11.02-"
   ]
  },
  {
   "cell_type": "code",
   "execution_count": null,
   "id": "opposite-forwarding",
   "metadata": {},
   "outputs": [],
   "source": []
  }
 ],
 "metadata": {
  "kernelspec": {
   "display_name": "Python 3",
   "language": "python",
   "name": "python3"
  },
  "language_info": {
   "codemirror_mode": {
    "name": "ipython",
    "version": 3
   },
   "file_extension": ".py",
   "mimetype": "text/x-python",
   "name": "python",
   "nbconvert_exporter": "python",
   "pygments_lexer": "ipython3",
   "version": "3.7.9"
  }
 },
 "nbformat": 4,
 "nbformat_minor": 5
}
